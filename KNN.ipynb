{
 "cells": [
  {
   "attachments": {},
   "cell_type": "markdown",
   "metadata": {},
   "source": [
    "# KNN - Defunciones Fetales"
   ]
  },
  {
   "attachments": {},
   "cell_type": "markdown",
   "metadata": {},
   "source": [
    "En este Jupyter Notebook, se busca crear un modelo de Defunciones Fetales para poder predecir el tipo de defunción fetal que se puede presentar en un embarazo, con base en las características de la madre y del embarazo."
   ]
  },
  {
   "attachments": {},
   "cell_type": "markdown",
   "metadata": {},
   "source": [
    "----------\n",
    "### 1. Importar librerías"
   ]
  },
  {
   "cell_type": "code",
   "execution_count": 2,
   "metadata": {},
   "outputs": [],
   "source": [
    "import pandas as pd\n",
    "import numpy as np\n",
    "import matplotlib.pyplot as plt\n",
    "from sklearn.cluster import KMeans\n",
    "from sklearn.preprocessing import StandardScaler\n",
    "import seaborn as sns\n",
    "from kneed import KneeLocator\n",
    "from sklearn.cluster import KMeans\n",
    "from sklearn.feature_selection import SelectKBest\n",
    "from sklearn.feature_selection import chi2\n",
    "from mlxtend.frequent_patterns import apriori\n",
    "from sklearn.neighbors import KNeighborsClassifier\n",
    "from sklearn.model_selection import train_test_split\n",
    "from sklearn.feature_selection import f_classif\n",
    "from prettytable import PrettyTable\n",
    "import itertools\n",
    "from sklearn.inspection import permutation_importance\n",
    "from imblearn.over_sampling import RandomOverSampler\n",
    "from sklearn.metrics import precision_score\n",
    "from sklearn.metrics import recall_score\n",
    "from sklearn.metrics import f1_score\n",
    "from sklearn.metrics import confusion_matrix\n",
    "from sklearn.model_selection import GridSearchCV"
   ]
  },
  {
   "attachments": {},
   "cell_type": "markdown",
   "metadata": {},
   "source": [
    "-----------\n",
    "### 2. Cargar datos\n",
    "Como primer paso, se cargan los datos ya explorados y limpios. Estos datos se encuentran en el archivo \"defunciones_clean.csv\".\n",
    "\n",
    "Las variables presentes son:\n",
    "\n",
    "    'Área_Geográfica',\n",
    "    'Asistencia_Recibida',\n",
    "    'Año_Ocurrencia',\n",
    "    'Año_Registro',\n",
    "    'Causa_Defunción',\n",
    "    'Clase_Parto',\n",
    "    'Departamento_Ocurrencia',\n",
    "    'Departamento_Registro',\n",
    "    'Día_Ocurrencia',\n",
    "    'Edad_Madre',\n",
    "    'Estado_Civil_Madre',\n",
    "    'Escolaridad_Madre',\n",
    "    'Mes_Ocurrencia',\n",
    "    'Mes_Registro',\n",
    "    'Municipio_Ocurrencia',\n",
    "    'Municipio_Registro',\n",
    "    'Municipio_Residencia_Madre',\n",
    "    'Ocupación_Madre',\n",
    "    'Semanas_Gestacion',\n",
    "    'Sexo',\n",
    "    'Sitio_Ocurrencia',\n",
    "    'Tipo_Atencion',\n",
    "    'Total_Hijos_Nacidos',\n",
    "    'Total_Hijos_Nacidos_Muertos',\n",
    "    'Total_Hijos_Vivos',\n",
    "    'Via_Parto',\n",
    "    'Nacionalidad_Madre',\n",
    "    'Grupo_Etnico_Madre',"
   ]
  },
  {
   "attachments": {},
   "cell_type": "markdown",
   "metadata": {},
   "source": [
    "En este caso, se determinó que las clases no estaban balanceadas. Por tal razón, se optó por un balanceo de datos a través de over sampling. Para esto, se utilizó la funcion RandomOverSampler."
   ]
  },
  {
   "cell_type": "code",
   "execution_count": 3,
   "metadata": {},
   "outputs": [
    {
     "data": {
      "text/plain": [
       "0    35271\n",
       "1    35271\n",
       "Name: Causa_Defunción, dtype: int64"
      ]
     },
     "execution_count": 3,
     "metadata": {},
     "output_type": "execute_result"
    }
   ],
   "source": [
    "# Cargar datos\n",
    "defunciones = pd.read_csv('defunciones_clean.csv').round(0)\n",
    "defunciones = defunciones[defunciones.Causa_Defunción != 99]\n",
    "\n",
    "X = defunciones.drop(['Causa_Defunción'], axis=1)\n",
    "y = defunciones['Causa_Defunción']\n",
    "oversample = RandomOverSampler(sampling_strategy='minority')\n",
    "X_over, y_over = oversample.fit_resample(X, y)\n",
    "\n",
    "defunciones = pd.concat([X_over, y_over], axis=1)\n",
    "\n",
    "defunciones['Causa_Defunción'].value_counts()\n"
   ]
  },
  {
   "cell_type": "code",
   "execution_count": 4,
   "metadata": {},
   "outputs": [
    {
     "data": {
      "text/html": [
       "<div>\n",
       "<style scoped>\n",
       "    .dataframe tbody tr th:only-of-type {\n",
       "        vertical-align: middle;\n",
       "    }\n",
       "\n",
       "    .dataframe tbody tr th {\n",
       "        vertical-align: top;\n",
       "    }\n",
       "\n",
       "    .dataframe thead th {\n",
       "        text-align: right;\n",
       "    }\n",
       "</style>\n",
       "<table border=\"1\" class=\"dataframe\">\n",
       "  <thead>\n",
       "    <tr style=\"text-align: right;\">\n",
       "      <th></th>\n",
       "      <th>Área_Geográfica</th>\n",
       "      <th>Asistencia_Recibida</th>\n",
       "      <th>Clase_Parto</th>\n",
       "      <th>Edad_Madre</th>\n",
       "      <th>Estado_Civil_Madre</th>\n",
       "      <th>Escolaridad_Madre</th>\n",
       "      <th>Ocupación_Madre</th>\n",
       "      <th>Semanas_Gestacion</th>\n",
       "      <th>Sexo</th>\n",
       "      <th>Sitio_Ocurrencia</th>\n",
       "      <th>Tipo_Atencion</th>\n",
       "      <th>Total_Hijos_Nacidos</th>\n",
       "      <th>Total_Hijos_Nacidos_Muertos</th>\n",
       "      <th>Total_Hijos_Vivos</th>\n",
       "      <th>Via_Parto</th>\n",
       "      <th>Nacionalidad_Madre</th>\n",
       "      <th>Grupo_Etnico_Madre</th>\n",
       "      <th>Causa_Defunción</th>\n",
       "    </tr>\n",
       "  </thead>\n",
       "  <tbody>\n",
       "    <tr>\n",
       "      <th>0</th>\n",
       "      <td>99</td>\n",
       "      <td>6</td>\n",
       "      <td>1</td>\n",
       "      <td>18.0</td>\n",
       "      <td>2</td>\n",
       "      <td>99</td>\n",
       "      <td>99</td>\n",
       "      <td>34.0</td>\n",
       "      <td>1</td>\n",
       "      <td>2</td>\n",
       "      <td>1</td>\n",
       "      <td>1.0</td>\n",
       "      <td>2.0</td>\n",
       "      <td>1.0</td>\n",
       "      <td>99</td>\n",
       "      <td>1</td>\n",
       "      <td>4</td>\n",
       "      <td>0</td>\n",
       "    </tr>\n",
       "    <tr>\n",
       "      <th>1</th>\n",
       "      <td>99</td>\n",
       "      <td>1</td>\n",
       "      <td>1</td>\n",
       "      <td>36.0</td>\n",
       "      <td>2</td>\n",
       "      <td>99</td>\n",
       "      <td>1</td>\n",
       "      <td>34.0</td>\n",
       "      <td>1</td>\n",
       "      <td>9</td>\n",
       "      <td>1</td>\n",
       "      <td>1.0</td>\n",
       "      <td>3.0</td>\n",
       "      <td>2.0</td>\n",
       "      <td>99</td>\n",
       "      <td>1</td>\n",
       "      <td>4</td>\n",
       "      <td>0</td>\n",
       "    </tr>\n",
       "    <tr>\n",
       "      <th>2</th>\n",
       "      <td>99</td>\n",
       "      <td>2</td>\n",
       "      <td>1</td>\n",
       "      <td>22.0</td>\n",
       "      <td>2</td>\n",
       "      <td>99</td>\n",
       "      <td>99</td>\n",
       "      <td>34.0</td>\n",
       "      <td>1</td>\n",
       "      <td>2</td>\n",
       "      <td>1</td>\n",
       "      <td>1.0</td>\n",
       "      <td>3.0</td>\n",
       "      <td>2.0</td>\n",
       "      <td>99</td>\n",
       "      <td>1</td>\n",
       "      <td>4</td>\n",
       "      <td>0</td>\n",
       "    </tr>\n",
       "    <tr>\n",
       "      <th>3</th>\n",
       "      <td>99</td>\n",
       "      <td>2</td>\n",
       "      <td>1</td>\n",
       "      <td>26.0</td>\n",
       "      <td>2</td>\n",
       "      <td>99</td>\n",
       "      <td>99</td>\n",
       "      <td>34.0</td>\n",
       "      <td>1</td>\n",
       "      <td>2</td>\n",
       "      <td>1</td>\n",
       "      <td>1.0</td>\n",
       "      <td>0.0</td>\n",
       "      <td>0.0</td>\n",
       "      <td>99</td>\n",
       "      <td>1</td>\n",
       "      <td>4</td>\n",
       "      <td>0</td>\n",
       "    </tr>\n",
       "    <tr>\n",
       "      <th>4</th>\n",
       "      <td>99</td>\n",
       "      <td>2</td>\n",
       "      <td>1</td>\n",
       "      <td>43.0</td>\n",
       "      <td>2</td>\n",
       "      <td>99</td>\n",
       "      <td>99</td>\n",
       "      <td>34.0</td>\n",
       "      <td>2</td>\n",
       "      <td>2</td>\n",
       "      <td>1</td>\n",
       "      <td>1.0</td>\n",
       "      <td>10.0</td>\n",
       "      <td>6.0</td>\n",
       "      <td>99</td>\n",
       "      <td>1</td>\n",
       "      <td>4</td>\n",
       "      <td>0</td>\n",
       "    </tr>\n",
       "  </tbody>\n",
       "</table>\n",
       "</div>"
      ],
      "text/plain": [
       "   Área_Geográfica  Asistencia_Recibida  Clase_Parto  Edad_Madre  \\\n",
       "0               99                    6            1        18.0   \n",
       "1               99                    1            1        36.0   \n",
       "2               99                    2            1        22.0   \n",
       "3               99                    2            1        26.0   \n",
       "4               99                    2            1        43.0   \n",
       "\n",
       "   Estado_Civil_Madre  Escolaridad_Madre  Ocupación_Madre  Semanas_Gestacion  \\\n",
       "0                   2                 99               99               34.0   \n",
       "1                   2                 99                1               34.0   \n",
       "2                   2                 99               99               34.0   \n",
       "3                   2                 99               99               34.0   \n",
       "4                   2                 99               99               34.0   \n",
       "\n",
       "   Sexo  Sitio_Ocurrencia  Tipo_Atencion  Total_Hijos_Nacidos  \\\n",
       "0     1                 2              1                  1.0   \n",
       "1     1                 9              1                  1.0   \n",
       "2     1                 2              1                  1.0   \n",
       "3     1                 2              1                  1.0   \n",
       "4     2                 2              1                  1.0   \n",
       "\n",
       "   Total_Hijos_Nacidos_Muertos  Total_Hijos_Vivos  Via_Parto  \\\n",
       "0                          2.0                1.0         99   \n",
       "1                          3.0                2.0         99   \n",
       "2                          3.0                2.0         99   \n",
       "3                          0.0                0.0         99   \n",
       "4                         10.0                6.0         99   \n",
       "\n",
       "   Nacionalidad_Madre  Grupo_Etnico_Madre  Causa_Defunción  \n",
       "0                   1                   4                0  \n",
       "1                   1                   4                0  \n",
       "2                   1                   4                0  \n",
       "3                   1                   4                0  \n",
       "4                   1                   4                0  "
      ]
     },
     "execution_count": 4,
     "metadata": {},
     "output_type": "execute_result"
    }
   ],
   "source": [
    "# Eliminar columnas no relevantes (segun analisis exploratorio anteriormente realizado)\n",
    "defunciones.drop('Departamento_Registro', axis=1, inplace=True)\n",
    "defunciones.drop('Municipio_Registro', axis=1, inplace=True)\n",
    "\n",
    "defunciones.drop('Municipio_Ocurrencia', axis=1, inplace=True)   \n",
    "defunciones.drop('Departamento_Residencia_Madre', axis=1, inplace=True) \n",
    "\n",
    "defunciones.drop('Municipio_Residencia_Madre', axis=1, inplace=True)\n",
    "defunciones.drop('Departamento_Ocurrencia', axis=1, inplace=True)\n",
    "\n",
    "defunciones.drop('Año_Ocurrencia', axis=1, inplace=True)\n",
    "defunciones.drop('Mes_Ocurrencia', axis=1, inplace=True)\n",
    "defunciones.drop('Día_Ocurrencia', axis=1, inplace=True)        # No se considera el día de ocurrencia\n",
    "\n",
    "defunciones.drop('Año_Registro', axis=1, inplace=True)\n",
    "defunciones.drop('Mes_Registro', axis=1, inplace=True)\n",
    "\n",
    "defunciones.head()"
   ]
  },
  {
   "attachments": {},
   "cell_type": "markdown",
   "metadata": {},
   "source": [
    "----------\n",
    "### 3. Selección de variables a utilizar en modelo\n",
    "\n",
    "En este caso, se busca determinar (a través de SelectKBest y Chi2) las mejores variables para utilizar en el modelo a realizar. Especificamente, se optó por utilizar las 20 variables que tienen una mayor correlación con la variable objetivo (Causa_Defunción).\n",
    "\n",
    "El código mostrado a continuación selecciona los mejores features del conjunto de datos utilizando la prueba chi-cuadrado (chi-squared test). En concreto, se utiliza la función \"SelectKBest\" para seleccionar el número \"k\" de features que se especifican (en este caso, solo el mejor feature) que tienen una mayor relación con la variable objetivo. \n",
    "\n",
    "> En otras palabras, se analiza la correlación entre las variables y la variable objetivo, y se seleccionan las variables que tienen una mayor correlación."
   ]
  },
  {
   "cell_type": "code",
   "execution_count": 5,
   "metadata": {},
   "outputs": [
    {
     "name": "stdout",
     "output_type": "stream",
     "text": [
      "['Área_Geográfica', 'Via_Parto', 'Escolaridad_Madre', 'Sitio_Ocurrencia', 'Nacionalidad_Madre', 'Estado_Civil_Madre', 'Tipo_Atencion', 'Clase_Parto', 'Grupo_Etnico_Madre', 'Sexo', 'Ocupación_Madre', 'Asistencia_Recibida', 'Semanas_Gestacion', 'Total_Hijos_Nacidos_Muertos', 'Edad_Madre', 'Total_Hijos_Nacidos', 'Total_Hijos_Vivos']\n"
     ]
    }
   ],
   "source": [
    "# Split the dataset into features (X) and target variable (y)\n",
    "X = defunciones.drop('Causa_Defunción', axis=1)\n",
    "y = defunciones['Causa_Defunción']\n",
    "\n",
    "# Apply feature selection using the chi-squared test\n",
    "selector = SelectKBest(chi2, k=1)\n",
    "X_new = selector.fit_transform(X, y)\n",
    "\n",
    "# Order X_new by feature importance\n",
    "order = np.argsort(selector.scores_)[::-1]\n",
    "\n",
    "# Create a list of sorted feature names\n",
    "feature_names = []\n",
    "for i in order:\n",
    "    feature_names.append(X.columns[i])\n",
    "\n",
    "    if len(feature_names) == 20:\n",
    "        break\n",
    "\n",
    "print(feature_names)\n",
    "\n",
    "X_new = X[feature_names]"
   ]
  },
  {
   "attachments": {},
   "cell_type": "markdown",
   "metadata": {},
   "source": [
    "----------\n",
    "### 4. Creación del modelo KNN\n",
    "\n",
    "A continuación se genera el modelo KNN con las variables seleccionadas que tienen mayor correlación con la variable objetivo. Asimismo, se presenta el accuracy del modelo; el cual es 0.93. Esto indica que el modelo es capaz de predecir 89 de 100 veces correctamente el tipo de muerte fetal."
   ]
  },
  {
   "cell_type": "code",
   "execution_count": 6,
   "metadata": {},
   "outputs": [
    {
     "name": "stdout",
     "output_type": "stream",
     "text": [
      "0    24723\n",
      "1    24656\n",
      "Name: Causa_Defunción, dtype: int64\n",
      "0    5373\n",
      "1    5208\n",
      "Name: Causa_Defunción, dtype: int64\n",
      "1    5407\n",
      "0    5175\n",
      "Name: Causa_Defunción, dtype: int64\n"
     ]
    }
   ],
   "source": [
    "# Separar en train, test y validation\n",
    "X_new = pd.DataFrame(X_new)\n",
    "X_train, X_test, y_train, y_test = train_test_split(X_new, y, test_size=0.3, random_state=42)\n",
    "X_test, X_val, y_test, y_val = train_test_split(X_test, y_test, test_size=0.5, random_state=42)\n",
    "\n",
    "print(y_train.value_counts())\n",
    "print(y_test.value_counts())\n",
    "print(y_val.value_counts())"
   ]
  },
  {
   "cell_type": "code",
   "execution_count": 7,
   "metadata": {},
   "outputs": [
    {
     "name": "stdout",
     "output_type": "stream",
     "text": [
      "{'n_neighbors': 10}\n"
     ]
    }
   ],
   "source": [
    "# GridSearchCV for the best number of neighbors\n",
    "grid_params = {'n_neighbors': [10, 25, 50, 100, 150, 200, 250]}\n",
    "\n",
    "knn = KNeighborsClassifier()\n",
    "knn_cv = GridSearchCV(knn, grid_params, cv=5)\n",
    "knn_cv.fit(X_val, y_val)\n",
    "\n",
    "print(knn_cv.best_params_)"
   ]
  },
  {
   "cell_type": "code",
   "execution_count": 8,
   "metadata": {},
   "outputs": [
    {
     "name": "stdout",
     "output_type": "stream",
     "text": [
      "Precision: 0.9391556831955533\n",
      "Recall: 0.9315754654569511\n",
      "F1 Score 0.9313535245726329\n",
      "Accuracy: 0.9315754654569511\n"
     ]
    },
    {
     "data": {
      "text/plain": [
       "array([[4666,  707],\n",
       "       [  17, 5191]])"
      ]
     },
     "execution_count": 8,
     "metadata": {},
     "output_type": "execute_result"
    }
   ],
   "source": [
    "# Create the KNN model\n",
    "knn = KNeighborsClassifier(n_neighbors=10)\n",
    "\n",
    "# Fit the model to the training data\n",
    "knn.fit(X_train, y_train)\n",
    "\n",
    "# Predict on the test set\n",
    "y_pred = knn.predict(X_test)\n",
    "\n",
    "# Precision del Modelo\n",
    "print(\"Precision:\",precision_score(y_test, y_pred, average='weighted'))\n",
    "\n",
    "# Recall del Modelo\n",
    "print(\"Recall:\",recall_score(y_test, y_pred, average='weighted'))\n",
    "\n",
    "# F1 Score del Modelo\n",
    "print(\"F1 Score\",f1_score(y_test, y_pred, average='weighted'))\n",
    "\n",
    "# Accuracy del Modelo\n",
    "print(\"Accuracy:\", knn.score(X_test, y_test))\n",
    "\n",
    "\n",
    "# Matriz de Confusion\n",
    "confusion_matrix(y_test, y_pred)"
   ]
  },
  {
   "attachments": {},
   "cell_type": "markdown",
   "metadata": {},
   "source": [
    "----------\n",
    "### 5. Proceso Investigativo\n",
    "\n",
    "En base al modelo generado, se pueden ir alterando ciertos datos para ver cómo se comporta el modelo. Por ejemplo, se puede cambiar la edad de la madre, la escolaridad, el estado civil, etc. y ver cómo se comporta el modelo. Esto con el fin de poder determinar qué características son las que más afectan el resultado de la predicción.\n",
    "\n",
    "Según las recomendaciones del experto (Dr. González), se analizó como las siguientes variables afectan la probabilidad de las causas de defunción fetal."
   ]
  },
  {
   "attachments": {},
   "cell_type": "markdown",
   "metadata": {},
   "source": [
    "#### 5.1 Escolaridad Madre"
   ]
  },
  {
   "cell_type": "code",
   "execution_count": 9,
   "metadata": {},
   "outputs": [
    {
     "data": {
      "text/plain": [
       "1     10999\n",
       "2     10369\n",
       "99     6113\n",
       "3      3991\n",
       "4      3303\n",
       "5       493\n",
       "6         3\n",
       "Name: Escolaridad_Madre, dtype: int64"
      ]
     },
     "execution_count": 9,
     "metadata": {},
     "output_type": "execute_result"
    }
   ],
   "source": [
    "# Cual es el nivel de educacion de las madres con Causa_Defunción = 0 = Parto\n",
    "defunciones_0 = defunciones[defunciones['Causa_Defunción'] == 0]\n",
    "defunciones_0['Escolaridad_Madre'].value_counts()"
   ]
  },
  {
   "cell_type": "code",
   "execution_count": 10,
   "metadata": {},
   "outputs": [
    {
     "data": {
      "text/plain": [
       "2     13233\n",
       "1      9833\n",
       "3      5185\n",
       "4      3122\n",
       "99     2923\n",
       "5       975\n",
       "Name: Escolaridad_Madre, dtype: int64"
      ]
     },
     "execution_count": 10,
     "metadata": {},
     "output_type": "execute_result"
    }
   ],
   "source": [
    "# Cual es el nivel de educacion de las madres con Causa_Defunción = 1 = Embarazo\n",
    "defunciones_1 = defunciones[defunciones['Causa_Defunción'] == 1]\n",
    "defunciones_1['Escolaridad_Madre'].value_counts()"
   ]
  },
  {
   "cell_type": "code",
   "execution_count": 11,
   "metadata": {},
   "outputs": [
    {
     "name": "stdout",
     "output_type": "stream",
     "text": [
      "ESCOLARIDAD: Básica - Embarazo\n",
      "% Cambio 25.741825741825743 %\n"
     ]
    }
   ],
   "source": [
    "# Generar nuevo dataset donde Causa_Defunción = 1 = Embarazo\n",
    "\n",
    "defunciones_1 = defunciones[defunciones['Causa_Defunción'] == 1]\n",
    "defunciones_1 = defunciones_1[feature_names+['Causa_Defunción']]\n",
    "\n",
    "defunciones_1['Escolaridad_Madre'] = 4  #Básica \n",
    "\n",
    "# Separar datos prueba y entrenamiento\n",
    "X_train, X_test, y_train, y_test = train_test_split(defunciones_1.drop('Causa_Defunción', axis=1), defunciones_1['Causa_Defunción'], test_size=0.3, random_state=42)\n",
    "\n",
    "# Pasar prueba a modelo KNN existente\n",
    "y_pred = knn.predict(X_test)\n",
    "\n",
    "# Porcentaje de cambio en la predicción\n",
    "print(\"ESCOLARIDAD: Básica - Embarazo\")\n",
    "print(\"% Cambio\", (y_pred != y_test).sum() / len(y_test)*100, \"%\")"
   ]
  },
  {
   "cell_type": "code",
   "execution_count": 12,
   "metadata": {},
   "outputs": [
    {
     "name": "stdout",
     "output_type": "stream",
     "text": [
      "ESCOLARIDAD: Universidad - Embarazo\n",
      "% Cambio 41.97694197694198 %\n"
     ]
    }
   ],
   "source": [
    "# Generar nuevo dataset donde Causa_Defunción = 1 = Embarazo\n",
    "\n",
    "defunciones_1 = defunciones[defunciones['Causa_Defunción'] == 1]\n",
    "defunciones_1 = defunciones_1[feature_names+['Causa_Defunción']]\n",
    "\n",
    "defunciones_1['Escolaridad_Madre'] = 5  #Universitaria \n",
    "\n",
    "# Separar datos prueba y entrenamiento\n",
    "X_train, X_test, y_train, y_test = train_test_split(defunciones_1.drop('Causa_Defunción', axis=1), defunciones_1['Causa_Defunción'], test_size=0.3, random_state=42)\n",
    "\n",
    "# Pasar prueba a modelo KNN existente\n",
    "y_pred = knn.predict(X_test)\n",
    "\n",
    "# Porcentaje de cambio en la predicción\n",
    "print(\"ESCOLARIDAD: Universidad - Embarazo\")\n",
    "print(\"% Cambio\", (y_pred != y_test).sum() / len(y_test)*100, \"%\")"
   ]
  },
  {
   "cell_type": "code",
   "execution_count": 13,
   "metadata": {},
   "outputs": [
    {
     "name": "stdout",
     "output_type": "stream",
     "text": [
      "ESCOLARIDAD: Postgrado - Embarazo\n",
      "% Cambio 52.069552069552074 %\n"
     ]
    }
   ],
   "source": [
    "# Generar nuevo dataset donde Causa_Defunción = 1 = Embarazo\n",
    "\n",
    "defunciones_1 = defunciones[defunciones['Causa_Defunción'] == 1]\n",
    "defunciones_1 = defunciones_1[feature_names+['Causa_Defunción']]\n",
    "\n",
    "defunciones_1['Escolaridad_Madre'] = 6  #Postgrado \n",
    "\n",
    "# Separar datos prueba y entrenamiento\n",
    "X_train, X_test, y_train, y_test = train_test_split(defunciones_1.drop('Causa_Defunción', axis=1), defunciones_1['Causa_Defunción'], test_size=0.3, random_state=42)\n",
    "\n",
    "# Pasar prueba a modelo KNN existente\n",
    "y_pred = knn.predict(X_test)\n",
    "\n",
    "# Porcentaje de cambio en la predicción\n",
    "print(\"ESCOLARIDAD: Postgrado - Embarazo\")\n",
    "print(\"% Cambio\", (y_pred != y_test).sum() / len(y_test)*100, \"%\")"
   ]
  },
  {
   "attachments": {},
   "cell_type": "markdown",
   "metadata": {},
   "source": [
    "#### 5.2 Via de Parto"
   ]
  },
  {
   "cell_type": "code",
   "execution_count": 14,
   "metadata": {},
   "outputs": [
    {
     "data": {
      "text/plain": [
       "1     24625\n",
       "2      7450\n",
       "99     3196\n",
       "Name: Via_Parto, dtype: int64"
      ]
     },
     "execution_count": 14,
     "metadata": {},
     "output_type": "execute_result"
    }
   ],
   "source": [
    "# Cual es tipo de parto mas comun con Causa_Defunción = 0 = Parto\n",
    "defunciones_0 = defunciones[defunciones['Causa_Defunción'] == 0]\n",
    "defunciones_0['Via_Parto'].value_counts()"
   ]
  },
  {
   "cell_type": "code",
   "execution_count": 15,
   "metadata": {},
   "outputs": [
    {
     "data": {
      "text/plain": [
       "1     24306\n",
       "2      9986\n",
       "99      979\n",
       "Name: Via_Parto, dtype: int64"
      ]
     },
     "execution_count": 15,
     "metadata": {},
     "output_type": "execute_result"
    }
   ],
   "source": [
    "# Cual es tipo de parto mas comun con Causa_Defunción = 1 = Embarazo\n",
    "defunciones_1 = defunciones[defunciones['Causa_Defunción'] == 1]\n",
    "defunciones_1['Via_Parto'].value_counts()"
   ]
  },
  {
   "cell_type": "code",
   "execution_count": 16,
   "metadata": {},
   "outputs": [
    {
     "name": "stdout",
     "output_type": "stream",
     "text": [
      "VIA PARTO: Vaginal - Embarazo\n",
      "% Cambio 0.8505008505008506 %\n"
     ]
    }
   ],
   "source": [
    "# Generar nuevo dataset donde Causa_Defunción = 1 = Embarazo\n",
    "\n",
    "defunciones_1 = defunciones[defunciones['Causa_Defunción'] == 1]\n",
    "defunciones_1 = defunciones_1[feature_names+['Causa_Defunción']]\n",
    "\n",
    "defunciones_1['Via_Parto'] = 1  #Vaginal \n",
    "\n",
    "# Separar datos prueba y entrenamiento\n",
    "X_train, X_test, y_train, y_test = train_test_split(defunciones_1.drop('Causa_Defunción', axis=1), defunciones_1['Causa_Defunción'], test_size=0.3, random_state=42)\n",
    "\n",
    "# Pasar prueba a modelo KNN existente\n",
    "y_pred = knn.predict(X_test)\n",
    "\n",
    "# Porcentaje de cambio en la predicción\n",
    "print(\"VIA PARTO: Vaginal - Embarazo\")\n",
    "print(\"% Cambio\", (y_pred != y_test).sum() / len(y_test)*100, \"%\")"
   ]
  },
  {
   "cell_type": "code",
   "execution_count": 17,
   "metadata": {},
   "outputs": [
    {
     "name": "stdout",
     "output_type": "stream",
     "text": [
      "VIA PARTO: Cesarea - Embarazo\n",
      "% Cambio 0.7087507087507088 %\n"
     ]
    }
   ],
   "source": [
    "# Generar nuevo dataset donde Causa_Defunción = 1 = Embarazo\n",
    "\n",
    "defunciones_1 = defunciones[defunciones['Causa_Defunción'] == 1]\n",
    "defunciones_1 = defunciones_1[feature_names+['Causa_Defunción']]\n",
    "\n",
    "defunciones_1['Via_Parto'] = 2  #Cesarea \n",
    "\n",
    "# Separar datos prueba y entrenamiento\n",
    "X_train, X_test, y_train, y_test = train_test_split(defunciones_1.drop('Causa_Defunción', axis=1), defunciones_1['Causa_Defunción'], test_size=0.3, random_state=42)\n",
    "\n",
    "# Pasar prueba a modelo KNN existente\n",
    "y_pred = knn.predict(X_test)\n",
    "\n",
    "# Porcentaje de cambio en la predicción\n",
    "print(\"VIA PARTO: Cesarea - Embarazo\")\n",
    "print(\"% Cambio\", (y_pred != y_test).sum() / len(y_test)*100, \"%\")"
   ]
  },
  {
   "attachments": {},
   "cell_type": "markdown",
   "metadata": {},
   "source": [
    "#### 5.3 Area Geografica"
   ]
  },
  {
   "cell_type": "code",
   "execution_count": 18,
   "metadata": {},
   "outputs": [
    {
     "data": {
      "text/plain": [
       "1     27744\n",
       "2      4526\n",
       "99     3001\n",
       "Name: Área_Geográfica, dtype: int64"
      ]
     },
     "execution_count": 18,
     "metadata": {},
     "output_type": "execute_result"
    }
   ],
   "source": [
    "# Cual es el area geografica mas comun con Causa_Defunción = 0 = Parto\n",
    "defunciones_0 = defunciones[defunciones['Causa_Defunción'] == 0]\n",
    "defunciones_0['Área_Geográfica'].value_counts()"
   ]
  },
  {
   "cell_type": "code",
   "execution_count": 19,
   "metadata": {},
   "outputs": [
    {
     "data": {
      "text/plain": [
       "1     30605\n",
       "2      3935\n",
       "99      731\n",
       "Name: Área_Geográfica, dtype: int64"
      ]
     },
     "execution_count": 19,
     "metadata": {},
     "output_type": "execute_result"
    }
   ],
   "source": [
    "# Cual es el area geografica mas comun con Causa_Defunción = 1 = Embarazo\n",
    "defunciones_1 = defunciones[defunciones['Causa_Defunción'] == 1]\n",
    "defunciones_1['Área_Geográfica'].value_counts()"
   ]
  },
  {
   "cell_type": "code",
   "execution_count": 20,
   "metadata": {},
   "outputs": [
    {
     "name": "stdout",
     "output_type": "stream",
     "text": [
      "AREA GEOGRAFICA: Urbano - Parto\n",
      "% Cambio 11.623511623511623 %\n"
     ]
    }
   ],
   "source": [
    "# Generar nuevo dataset donde Causa_Defunción = 0 = Parto\n",
    "\n",
    "defunciones_0 = defunciones[defunciones['Causa_Defunción'] == 0]\n",
    "defunciones_0 = defunciones_0[feature_names+['Causa_Defunción']]\n",
    "\n",
    "defunciones_0['Área_Geográfica'] = 1  #Urbano \n",
    "\n",
    "# Separar datos prueba y entrenamiento\n",
    "X_train, X_test, y_train, y_test = train_test_split(defunciones_0.drop('Causa_Defunción', axis=1), defunciones_0['Causa_Defunción'], test_size=0.3, random_state=42)\n",
    "\n",
    "# Pasar prueba a modelo KNN existente\n",
    "y_pred = knn.predict(X_test)\n",
    "\n",
    "# Porcentaje de cambio en la predicción\n",
    "print(\"AREA GEOGRAFICA: Urbano - Parto\")\n",
    "print(\"% Cambio\", (y_pred != y_test).sum() / len(y_test)*100, \"%\")"
   ]
  },
  {
   "attachments": {},
   "cell_type": "markdown",
   "metadata": {},
   "source": [
    "##### 5.4 Asistencia Recibida"
   ]
  },
  {
   "cell_type": "code",
   "execution_count": 21,
   "metadata": {},
   "outputs": [
    {
     "data": {
      "text/plain": [
       "1    24180\n",
       "2     5362\n",
       "3     3123\n",
       "4     2139\n",
       "5      246\n",
       "6      221\n",
       "Name: Asistencia_Recibida, dtype: int64"
      ]
     },
     "execution_count": 21,
     "metadata": {},
     "output_type": "execute_result"
    }
   ],
   "source": [
    "# Cual es la asistencia recibida mas comun con Causa_Defunción = 0 = Parto\n",
    "defunciones_0 = defunciones[defunciones['Causa_Defunción'] == 0]\n",
    "defunciones_0['Asistencia_Recibida'].value_counts()"
   ]
  },
  {
   "cell_type": "code",
   "execution_count": 22,
   "metadata": {},
   "outputs": [
    {
     "data": {
      "text/plain": [
       "1    27527\n",
       "2     4592\n",
       "3     2026\n",
       "4      737\n",
       "5      323\n",
       "6       66\n",
       "Name: Asistencia_Recibida, dtype: int64"
      ]
     },
     "execution_count": 22,
     "metadata": {},
     "output_type": "execute_result"
    }
   ],
   "source": [
    "# Cual es la asistencia recibida mas comun con Causa_Defunción = 1 = Embarazo\n",
    "defunciones_1 = defunciones[defunciones['Causa_Defunción'] == 1]\n",
    "defunciones_1['Asistencia_Recibida'].value_counts()"
   ]
  },
  {
   "cell_type": "code",
   "execution_count": 23,
   "metadata": {},
   "outputs": [
    {
     "name": "stdout",
     "output_type": "stream",
     "text": [
      "ASISTENCIA RECIBIDA: Medica - Embarazo\n",
      "% Cambio (Muerte Embarazo -> Muerte Parto) 11.812511812511813 %\n"
     ]
    }
   ],
   "source": [
    "# Generar nuevo dataset donde Causa_Defunción = 0 = Parto\n",
    "\n",
    "defunciones_0 = defunciones[defunciones['Causa_Defunción'] == 0]\n",
    "defunciones_0 = defunciones_0[feature_names+['Causa_Defunción']]\n",
    "\n",
    "defunciones_0['Asistencia_Recibida'] = 1  #Medico \n",
    "\n",
    "# Separar datos prueba y entrenamiento\n",
    "X_train, X_test, y_train, y_test = train_test_split(defunciones_0.drop('Causa_Defunción', axis=1), defunciones_0['Causa_Defunción'], test_size=0.3, random_state=42)\n",
    "\n",
    "# Pasar prueba a modelo KNN existente\n",
    "y_pred = knn.predict(X_test)\n",
    "\n",
    "# Porcentaje de cambio en la predicción\n",
    "print(\"ASISTENCIA RECIBIDA: Medica - Embarazo\")\n",
    "print(\"% Cambio (Muerte Embarazo -> Muerte Parto)\", (y_pred != y_test).sum() / len(y_test)*100, \"%\")"
   ]
  }
 ],
 "metadata": {
  "kernelspec": {
   "display_name": "Python 3 (ipykernel)",
   "language": "python",
   "name": "python3"
  },
  "language_info": {
   "codemirror_mode": {
    "name": "ipython",
    "version": 3
   },
   "file_extension": ".py",
   "mimetype": "text/x-python",
   "name": "python",
   "nbconvert_exporter": "python",
   "pygments_lexer": "ipython3",
   "version": "3.9.2"
  }
 },
 "nbformat": 4,
 "nbformat_minor": 4
}
