{
 "cells": [
  {
   "attachments": {},
   "cell_type": "markdown",
   "metadata": {},
   "source": [
    "# KNN - Defunciones Fetales"
   ]
  },
  {
   "attachments": {},
   "cell_type": "markdown",
   "metadata": {},
   "source": [
    "En este Jupyter Notebook, se busca crear un modelo de Defunciones Fetales para poder predecir el tipo de defunción fetal que se puede presentar en un embarazo, con base en las características de la madre y del embarazo."
   ]
  },
  {
   "attachments": {},
   "cell_type": "markdown",
   "metadata": {},
   "source": [
    "----------\n",
    "### 1. Importar librerías"
   ]
  },
  {
   "cell_type": "code",
   "execution_count": 230,
   "metadata": {},
   "outputs": [],
   "source": [
    "import pandas as pd\n",
    "import numpy as np\n",
    "import matplotlib.pyplot as plt\n",
    "from sklearn.cluster import KMeans\n",
    "from sklearn.preprocessing import StandardScaler\n",
    "import seaborn as sns\n",
    "from kneed import KneeLocator\n",
    "from sklearn.cluster import KMeans\n",
    "from sklearn.feature_selection import SelectKBest\n",
    "from sklearn.feature_selection import chi2\n",
    "from mlxtend.frequent_patterns import apriori\n",
    "from sklearn.neighbors import KNeighborsClassifier\n",
    "from sklearn.model_selection import train_test_split\n",
    "from sklearn.feature_selection import f_classif\n",
    "from prettytable import PrettyTable\n",
    "import itertools\n",
    "from sklearn.inspection import permutation_importance\n",
    "from imblearn.over_sampling import RandomOverSampler"
   ]
  },
  {
   "attachments": {},
   "cell_type": "markdown",
   "metadata": {},
   "source": [
    "-----------\n",
    "### 2. Cargar datos\n",
    "Como primer paso, se cargan los datos ya explorados y limpios. Estos datos se encuentran en el archivo \"defunciones_clean.csv\".\n",
    "\n",
    "Las variables presentes son:\n",
    "\n",
    "    'Área_Geográfica',\n",
    "    'Asistencia_Recibida',\n",
    "    'Año_Ocurrencia',\n",
    "    'Año_Registro',\n",
    "    'Causa_Defunción',\n",
    "    'Clase_Parto',\n",
    "    'Departamento_Ocurrencia',\n",
    "    'Departamento_Registro',\n",
    "    'Día_Ocurrencia',\n",
    "    'Edad_Madre',\n",
    "    'Estado_Civil_Madre',\n",
    "    'Escolaridad_Madre',\n",
    "    'Mes_Ocurrencia',\n",
    "    'Mes_Registro',\n",
    "    'Municipio_Ocurrencia',\n",
    "    'Municipio_Registro',\n",
    "    'Municipio_Residencia_Madre',\n",
    "    'Ocupación_Madre',\n",
    "    'Semanas_Gestacion',\n",
    "    'Sexo',\n",
    "    'Sitio_Ocurrencia',\n",
    "    'Tipo_Atencion',\n",
    "    'Total_Hijos_Nacidos',\n",
    "    'Total_Hijos_Nacidos_Muertos',\n",
    "    'Total_Hijos_Vivos',\n",
    "    'Via_Parto',\n",
    "    'Nacionalidad_Madre',\n",
    "    'Grupo_Etnico_Madre',"
   ]
  },
  {
   "cell_type": "code",
   "execution_count": 231,
   "metadata": {},
   "outputs": [],
   "source": [
    "# Cargar datos\n",
    "defunciones = pd.read_csv('defunciones_clean.csv').round(0)\n",
    "\n",
    "\n",
    "X = defunciones.drop(['Causa_Defunción'], axis=1)\n",
    "y = defunciones['Causa_Defunción']\n",
    "oversample = RandomOverSampler(sampling_strategy='minority')\n",
    "X_over, y_over = oversample.fit_resample(X, y)\n",
    "\n",
    "defunciones = pd.concat([X_over, y_over], axis=1)\n"
   ]
  },
  {
   "cell_type": "code",
   "execution_count": 232,
   "metadata": {},
   "outputs": [
    {
     "data": {
      "text/html": [
       "<div>\n",
       "<style scoped>\n",
       "    .dataframe tbody tr th:only-of-type {\n",
       "        vertical-align: middle;\n",
       "    }\n",
       "\n",
       "    .dataframe tbody tr th {\n",
       "        vertical-align: top;\n",
       "    }\n",
       "\n",
       "    .dataframe thead th {\n",
       "        text-align: right;\n",
       "    }\n",
       "</style>\n",
       "<table border=\"1\" class=\"dataframe\">\n",
       "  <thead>\n",
       "    <tr style=\"text-align: right;\">\n",
       "      <th></th>\n",
       "      <th>Área_Geográfica</th>\n",
       "      <th>Asistencia_Recibida</th>\n",
       "      <th>Año_Ocurrencia</th>\n",
       "      <th>Año_Registro</th>\n",
       "      <th>Clase_Parto</th>\n",
       "      <th>Departamento_Ocurrencia</th>\n",
       "      <th>Departamento_Registro</th>\n",
       "      <th>Departamento_Residencia_Madre</th>\n",
       "      <th>Edad_Madre</th>\n",
       "      <th>Estado_Civil_Madre</th>\n",
       "      <th>...</th>\n",
       "      <th>Sexo</th>\n",
       "      <th>Sitio_Ocurrencia</th>\n",
       "      <th>Tipo_Atencion</th>\n",
       "      <th>Total_Hijos_Nacidos</th>\n",
       "      <th>Total_Hijos_Nacidos_Muertos</th>\n",
       "      <th>Total_Hijos_Vivos</th>\n",
       "      <th>Via_Parto</th>\n",
       "      <th>Nacionalidad_Madre</th>\n",
       "      <th>Grupo_Etnico_Madre</th>\n",
       "      <th>Causa_Defunción</th>\n",
       "    </tr>\n",
       "  </thead>\n",
       "  <tbody>\n",
       "    <tr>\n",
       "      <th>0</th>\n",
       "      <td>99</td>\n",
       "      <td>6</td>\n",
       "      <td>2009</td>\n",
       "      <td>2009</td>\n",
       "      <td>1</td>\n",
       "      <td>7</td>\n",
       "      <td>7</td>\n",
       "      <td>7</td>\n",
       "      <td>18.0</td>\n",
       "      <td>2</td>\n",
       "      <td>...</td>\n",
       "      <td>1</td>\n",
       "      <td>2</td>\n",
       "      <td>1</td>\n",
       "      <td>1.0</td>\n",
       "      <td>2.0</td>\n",
       "      <td>1.0</td>\n",
       "      <td>99</td>\n",
       "      <td>1</td>\n",
       "      <td>4</td>\n",
       "      <td>0</td>\n",
       "    </tr>\n",
       "    <tr>\n",
       "      <th>1</th>\n",
       "      <td>99</td>\n",
       "      <td>1</td>\n",
       "      <td>2009</td>\n",
       "      <td>2009</td>\n",
       "      <td>1</td>\n",
       "      <td>13</td>\n",
       "      <td>13</td>\n",
       "      <td>13</td>\n",
       "      <td>36.0</td>\n",
       "      <td>2</td>\n",
       "      <td>...</td>\n",
       "      <td>1</td>\n",
       "      <td>9</td>\n",
       "      <td>1</td>\n",
       "      <td>1.0</td>\n",
       "      <td>3.0</td>\n",
       "      <td>2.0</td>\n",
       "      <td>99</td>\n",
       "      <td>1</td>\n",
       "      <td>4</td>\n",
       "      <td>0</td>\n",
       "    </tr>\n",
       "    <tr>\n",
       "      <th>2</th>\n",
       "      <td>99</td>\n",
       "      <td>2</td>\n",
       "      <td>2009</td>\n",
       "      <td>2009</td>\n",
       "      <td>1</td>\n",
       "      <td>2</td>\n",
       "      <td>2</td>\n",
       "      <td>2</td>\n",
       "      <td>22.0</td>\n",
       "      <td>2</td>\n",
       "      <td>...</td>\n",
       "      <td>1</td>\n",
       "      <td>2</td>\n",
       "      <td>1</td>\n",
       "      <td>1.0</td>\n",
       "      <td>3.0</td>\n",
       "      <td>2.0</td>\n",
       "      <td>99</td>\n",
       "      <td>1</td>\n",
       "      <td>4</td>\n",
       "      <td>0</td>\n",
       "    </tr>\n",
       "    <tr>\n",
       "      <th>3</th>\n",
       "      <td>99</td>\n",
       "      <td>2</td>\n",
       "      <td>2009</td>\n",
       "      <td>2009</td>\n",
       "      <td>1</td>\n",
       "      <td>5</td>\n",
       "      <td>5</td>\n",
       "      <td>5</td>\n",
       "      <td>26.0</td>\n",
       "      <td>2</td>\n",
       "      <td>...</td>\n",
       "      <td>1</td>\n",
       "      <td>2</td>\n",
       "      <td>1</td>\n",
       "      <td>1.0</td>\n",
       "      <td>0.0</td>\n",
       "      <td>0.0</td>\n",
       "      <td>99</td>\n",
       "      <td>1</td>\n",
       "      <td>4</td>\n",
       "      <td>0</td>\n",
       "    </tr>\n",
       "    <tr>\n",
       "      <th>4</th>\n",
       "      <td>99</td>\n",
       "      <td>2</td>\n",
       "      <td>2009</td>\n",
       "      <td>2009</td>\n",
       "      <td>1</td>\n",
       "      <td>7</td>\n",
       "      <td>7</td>\n",
       "      <td>7</td>\n",
       "      <td>43.0</td>\n",
       "      <td>2</td>\n",
       "      <td>...</td>\n",
       "      <td>2</td>\n",
       "      <td>2</td>\n",
       "      <td>1</td>\n",
       "      <td>1.0</td>\n",
       "      <td>10.0</td>\n",
       "      <td>6.0</td>\n",
       "      <td>99</td>\n",
       "      <td>1</td>\n",
       "      <td>4</td>\n",
       "      <td>0</td>\n",
       "    </tr>\n",
       "  </tbody>\n",
       "</table>\n",
       "<p>5 rows × 23 columns</p>\n",
       "</div>"
      ],
      "text/plain": [
       "   Área_Geográfica  Asistencia_Recibida  Año_Ocurrencia  Año_Registro  \\\n",
       "0               99                    6            2009          2009   \n",
       "1               99                    1            2009          2009   \n",
       "2               99                    2            2009          2009   \n",
       "3               99                    2            2009          2009   \n",
       "4               99                    2            2009          2009   \n",
       "\n",
       "   Clase_Parto  Departamento_Ocurrencia  Departamento_Registro  \\\n",
       "0            1                        7                      7   \n",
       "1            1                       13                     13   \n",
       "2            1                        2                      2   \n",
       "3            1                        5                      5   \n",
       "4            1                        7                      7   \n",
       "\n",
       "   Departamento_Residencia_Madre  Edad_Madre  Estado_Civil_Madre  ...  Sexo  \\\n",
       "0                              7        18.0                   2  ...     1   \n",
       "1                             13        36.0                   2  ...     1   \n",
       "2                              2        22.0                   2  ...     1   \n",
       "3                              5        26.0                   2  ...     1   \n",
       "4                              7        43.0                   2  ...     2   \n",
       "\n",
       "   Sitio_Ocurrencia  Tipo_Atencion  Total_Hijos_Nacidos  \\\n",
       "0                 2              1                  1.0   \n",
       "1                 9              1                  1.0   \n",
       "2                 2              1                  1.0   \n",
       "3                 2              1                  1.0   \n",
       "4                 2              1                  1.0   \n",
       "\n",
       "   Total_Hijos_Nacidos_Muertos  Total_Hijos_Vivos  Via_Parto  \\\n",
       "0                          2.0                1.0         99   \n",
       "1                          3.0                2.0         99   \n",
       "2                          3.0                2.0         99   \n",
       "3                          0.0                0.0         99   \n",
       "4                         10.0                6.0         99   \n",
       "\n",
       "   Nacionalidad_Madre  Grupo_Etnico_Madre  Causa_Defunción  \n",
       "0                   1                   4                0  \n",
       "1                   1                   4                0  \n",
       "2                   1                   4                0  \n",
       "3                   1                   4                0  \n",
       "4                   1                   4                0  \n",
       "\n",
       "[5 rows x 23 columns]"
      ]
     },
     "execution_count": 232,
     "metadata": {},
     "output_type": "execute_result"
    }
   ],
   "source": [
    "# Eliminar columnas no relevantes (segun analisis exploratorio anteriormente realizado)\n",
    "defunciones.drop('Municipio_Residencia_Madre', axis=1, inplace=True)\n",
    "\n",
    "defunciones.drop('Municipio_Registro', axis=1, inplace=True)\n",
    "\n",
    "defunciones.drop('Municipio_Ocurrencia', axis=1, inplace=True)          \n",
    "\n",
    "defunciones.drop('Mes_Registro', axis=1, inplace=True)\n",
    "defunciones.drop('Día_Ocurrencia', axis=1, inplace=True)\n",
    "defunciones.drop('Mes_Ocurrencia', axis=1, inplace=True)\n",
    "\n",
    "# Aproximar todos los valores de edad a un entero\n",
    "\n",
    "\n",
    "defunciones.head()"
   ]
  },
  {
   "attachments": {},
   "cell_type": "markdown",
   "metadata": {},
   "source": [
    "----------\n",
    "### 3. Selección de variables a utilizar en modelo\n",
    "\n",
    "En este caso, se busca determinar (a través de SelectKBest y Chi2) las mejores variables para utilizar en el modelo a realizar. Especificamente, se optó por utilizar las 20 variables que tienen una mayor correlación con la variable objetivo (Causa_Defunción).\n",
    "\n",
    "El código mostrado a continuación selecciona los mejores features del conjunto de datos utilizando la prueba chi-cuadrado (chi-squared test). En concreto, se utiliza la función \"SelectKBest\" para seleccionar el número \"k\" de features que se especifican (en este caso, solo el mejor feature) que tienen una mayor relación con la variable objetivo. \n",
    "\n",
    "> En otras palabras, se analiza la correlación entre las variables y la variable objetivo, y se seleccionan las variables que tienen una mayor correlación."
   ]
  },
  {
   "cell_type": "code",
   "execution_count": 233,
   "metadata": {},
   "outputs": [
    {
     "name": "stdout",
     "output_type": "stream",
     "text": [
      "['Área_Geográfica', 'Sitio_Ocurrencia', 'Via_Parto', 'Escolaridad_Madre', 'Nacionalidad_Madre', 'Estado_Civil_Madre', 'Tipo_Atencion', 'Clase_Parto', 'Departamento_Residencia_Madre', 'Grupo_Etnico_Madre', 'Sexo', 'Ocupación_Madre', 'Departamento_Registro', 'Departamento_Ocurrencia', 'Asistencia_Recibida', 'Edad_Madre', 'Semanas_Gestacion', 'Total_Hijos_Nacidos_Muertos', 'Total_Hijos_Nacidos', 'Año_Registro']\n"
     ]
    }
   ],
   "source": [
    "# Split the dataset into features (X) and target variable (y)\n",
    "X = defunciones.drop('Causa_Defunción', axis=1)\n",
    "y = defunciones['Causa_Defunción']\n",
    "\n",
    "# Apply feature selection using the chi-squared test\n",
    "selector = SelectKBest(chi2, k=1)\n",
    "X_new = selector.fit_transform(X, y)\n",
    "\n",
    "# Order X_new by feature importance\n",
    "order = np.argsort(selector.scores_)[::-1]\n",
    "\n",
    "# Create a list of sorted feature names\n",
    "feature_names = []\n",
    "for i in order:\n",
    "    feature_names.append(X.columns[i])\n",
    "\n",
    "    if len(feature_names) == 20:\n",
    "        break\n",
    "\n",
    "print(feature_names)\n",
    "\n",
    "X_new = X[feature_names]"
   ]
  },
  {
   "attachments": {},
   "cell_type": "markdown",
   "metadata": {},
   "source": [
    "----------\n",
    "### 4. Creación del modelo KNN\n",
    "\n",
    "A continuación se genera el modelo KNN con las variables seleccionadas que tienen mayor correlación con la variable objetivo. Asimismo, se presenta el accuracy del modelo; el cual es 0.89. Esto indica que el modelo es capaz de predecir 89 de 100 veces correctamente el tipo de muerte fetal."
   ]
  },
  {
   "cell_type": "code",
   "execution_count": 234,
   "metadata": {},
   "outputs": [
    {
     "name": "stdout",
     "output_type": "stream",
     "text": [
      "0.9224429131198487\n"
     ]
    }
   ],
   "source": [
    "# Split the dataset into training and testing sets\n",
    "X_new = pd.DataFrame(X_new)\n",
    "X_train, X_test, y_train, y_test = train_test_split(X_new, y, test_size=0.3, random_state=42)\n",
    "\n",
    "# Create the KNN model\n",
    "knn = KNeighborsClassifier(n_neighbors=5)\n",
    "\n",
    "# Fit the model to the training data\n",
    "knn.fit(X_train, y_train)\n",
    "\n",
    "# Predict on the test set\n",
    "y_pred = knn.predict(X_test)\n",
    "\n",
    "# Accuracy del Modelo\n",
    "print(knn.score(X_test, y_test))"
   ]
  },
  {
   "attachments": {},
   "cell_type": "markdown",
   "metadata": {},
   "source": [
    "----------\n",
    "### 5. Proceso Investigativo\n",
    "\n",
    "En base al modelo generado, se pueden ir alterando ciertos datos para ver cómo se comporta el modelo. Por ejemplo, se puede cambiar la edad de la madre, la escolaridad, el estado civil, etc. y ver cómo se comporta el modelo. Esto con el fin de poder determinar qué características son las que más afectan el resultado de la predicción.\n",
    "\n",
    "\n",
    "^^^\n",
    "\n",
    "Como primer paso, se inició determinando qué features tenían más importancia e impacto en el modelo KNN generado. Según este procedimiento, se determinó que el tipo de educacion y via de parto eran los features más importantes. Por lo tanto, se procedió a analizar estos features, al igual que otros, con mayor detalle."
   ]
  },
  {
   "cell_type": "code",
   "execution_count": 235,
   "metadata": {},
   "outputs": [
    {
     "name": "stdout",
     "output_type": "stream",
     "text": [
      "+---------------------+--------------------+\n",
      "|       Feature       |     Importance     |\n",
      "+---------------------+--------------------+\n",
      "|  Escolaridad_Madre  | 1734.8480643425603 |\n",
      "|      Via_Parto      | 1704.5655494133814 |\n",
      "|   Área_Geográfica   | 867.3337036139071  |\n",
      "| Asistencia_Recibida | 765.8761945244026  |\n",
      "|     Año_Registro    | 716.9410407889744  |\n",
      "+---------------------+--------------------+\n"
     ]
    }
   ],
   "source": [
    "# Obtener la importancia de features\n",
    "importances, pvalues = f_classif(X, y)\n",
    "\n",
    "# Imprimir la importancia de cada feature por orden\n",
    "list_to_order = []\n",
    "for feature, importance in zip(feature_names, importances):\n",
    "    list_to_order.append((feature, importance))\n",
    "\n",
    "list_to_order.sort(key=lambda x: x[1], reverse=True)\n",
    "\n",
    "\n",
    "x, j = PrettyTable(), []\n",
    "x.field_names = [\"Feature\", \"Importance\"]\n",
    "for i in list_to_order:\n",
    "    x.add_row(i)\n",
    "    j.append(i[0])\n",
    "    if len(j) == 5:\n",
    "        break\n",
    "\n",
    "print(x)"
   ]
  },
  {
   "attachments": {},
   "cell_type": "markdown",
   "metadata": {},
   "source": [
    "#### 5.1 Escolaridad Madre"
   ]
  },
  {
   "cell_type": "code",
   "execution_count": 254,
   "metadata": {},
   "outputs": [
    {
     "data": {
      "text/plain": [
       "1     10999\n",
       "2     10369\n",
       "99     6113\n",
       "3      3991\n",
       "4      3303\n",
       "5       493\n",
       "6         3\n",
       "Name: Escolaridad_Madre, dtype: int64"
      ]
     },
     "execution_count": 254,
     "metadata": {},
     "output_type": "execute_result"
    }
   ],
   "source": [
    "# Cual es el nivel de educacion de las madres con Causa_Defunción = 0 = Parto\n",
    "defunciones_0 = defunciones[defunciones['Causa_Defunción'] == 0]\n",
    "defunciones_0['Escolaridad_Madre'].value_counts()"
   ]
  },
  {
   "cell_type": "code",
   "execution_count": 255,
   "metadata": {},
   "outputs": [
    {
     "data": {
      "text/plain": [
       "2     13337\n",
       "1      9779\n",
       "3      5064\n",
       "4      3116\n",
       "99     2979\n",
       "5       996\n",
       "Name: Escolaridad_Madre, dtype: int64"
      ]
     },
     "execution_count": 255,
     "metadata": {},
     "output_type": "execute_result"
    }
   ],
   "source": [
    "# Cual es el nivel de educacion de las madres con Causa_Defunción = 1 = Embarazo\n",
    "defunciones_1 = defunciones[defunciones['Causa_Defunción'] == 1]\n",
    "defunciones_1['Escolaridad_Madre'].value_counts()"
   ]
  },
  {
   "attachments": {},
   "cell_type": "markdown",
   "metadata": {},
   "source": [
    "##### Parto -> Embarazo"
   ]
  },
  {
   "cell_type": "code",
   "execution_count": 262,
   "metadata": {},
   "outputs": [
    {
     "name": "stdout",
     "output_type": "stream",
     "text": [
      "ESCOLARIDAD: Postgrado - Parto\n",
      "% Cambio 94.88754488754488 %\n"
     ]
    }
   ],
   "source": [
    "# Generar nuevo dataset donde Causa_Defunción = 0 = Parto\n",
    "\n",
    "defunciones_0 = defunciones[defunciones['Causa_Defunción'] == 0]\n",
    "defunciones_0 = defunciones_0[feature_names+['Causa_Defunción']]\n",
    "\n",
    "defunciones_0['Escolaridad_Madre'] = 6  #Ninguna Postgrado\n",
    "\n",
    "# Separar datos prueba y entrenamiento\n",
    "X_train, X_test, y_train, y_test = train_test_split(defunciones_0.drop('Causa_Defunción', axis=1), defunciones_1['Causa_Defunción'], test_size=0.3, random_state=42)\n",
    "\n",
    "# Pasar prueba a modelo KNN existente\n",
    "y_pred = knn.predict(X_test)\n",
    "\n",
    "# Porcentaje de cambio en la predicción\n",
    "print(\"ESCOLARIDAD: Postgrado - Parto\")\n",
    "print(\"% Cambio\", (y_pred != y_test).sum() / len(y_test)*100, \"%\")"
   ]
  }
 ],
 "metadata": {
  "kernelspec": {
   "display_name": "Python 3 (ipykernel)",
   "language": "python",
   "name": "python3"
  },
  "language_info": {
   "codemirror_mode": {
    "name": "ipython",
    "version": 3
   },
   "file_extension": ".py",
   "mimetype": "text/x-python",
   "name": "python",
   "nbconvert_exporter": "python",
   "pygments_lexer": "ipython3",
   "version": "3.9.2"
  }
 },
 "nbformat": 4,
 "nbformat_minor": 4
}
