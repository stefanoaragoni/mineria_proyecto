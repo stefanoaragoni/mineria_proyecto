{
 "cells": [
  {
   "attachments": {},
   "cell_type": "markdown",
   "metadata": {
    "colab_type": "text",
    "id": "0MRC0e0KhQ0S",
    "tags": []
   },
   "source": [
    "# Clasificación por Random Forest\n",
    "\n",
    "\n",
    "hacer el top 5 variables mas influyentes y en base a eso basicamente para ver si esto resplada lo que esta en el KNN"
   ]
  },
  {
   "attachments": {},
   "cell_type": "markdown",
   "metadata": {
    "colab_type": "text",
    "id": "LWd1UlMnhT2s"
   },
   "source": [
    "## Importar las librerías"
   ]
  },
  {
   "cell_type": "code",
   "execution_count": 10,
   "metadata": {
    "colab": {},
    "colab_type": "code",
    "id": "YvGPUQaHhXfL"
   },
   "outputs": [],
   "source": [
    "import numpy as np\n",
    "import pandas as pd\n",
    "from sklearn.preprocessing import StandardScaler\n",
    "from sklearn.ensemble import RandomForestClassifier\n",
    "from sklearn.model_selection import train_test_split, GridSearchCV\n",
    "from sklearn.metrics import confusion_matrix\n",
    "from sklearn.metrics import precision_score\n",
    "from sklearn.metrics import recall_score\n",
    "from sklearn.metrics import f1_score\n",
    "from imblearn.over_sampling import RandomOverSampler"
   ]
  },
  {
   "attachments": {},
   "cell_type": "markdown",
   "metadata": {
    "colab_type": "text",
    "id": "K1VMqkGvhc3-"
   },
   "source": [
    "## Importar el conjunto de datos"
   ]
  },
  {
   "cell_type": "code",
   "execution_count": 11,
   "metadata": {
    "colab": {},
    "colab_type": "code",
    "id": "M52QDmyzhh9s"
   },
   "outputs": [],
   "source": [
    "data = pd.read_csv('defunciones_clean.csv').round(0)\n",
    "data = data[data.Causa_Defunción != 99]\n",
    "\n",
    "X = data.drop(['Causa_Defunción'], axis=1)\n",
    "y = data['Causa_Defunción']\n",
    "oversample = RandomOverSampler(sampling_strategy='minority')\n",
    "X_over, y_over = oversample.fit_resample(X, y)\n",
    "\n",
    "data = pd.concat([X_over, y_over], axis=1)"
   ]
  },
  {
   "cell_type": "code",
   "execution_count": 12,
   "metadata": {},
   "outputs": [
    {
     "data": {
      "text/html": [
       "<div>\n",
       "<style scoped>\n",
       "    .dataframe tbody tr th:only-of-type {\n",
       "        vertical-align: middle;\n",
       "    }\n",
       "\n",
       "    .dataframe tbody tr th {\n",
       "        vertical-align: top;\n",
       "    }\n",
       "\n",
       "    .dataframe thead th {\n",
       "        text-align: right;\n",
       "    }\n",
       "</style>\n",
       "<table border=\"1\" class=\"dataframe\">\n",
       "  <thead>\n",
       "    <tr style=\"text-align: right;\">\n",
       "      <th></th>\n",
       "      <th>Área_Geográfica</th>\n",
       "      <th>Asistencia_Recibida</th>\n",
       "      <th>Clase_Parto</th>\n",
       "      <th>Edad_Madre</th>\n",
       "      <th>Estado_Civil_Madre</th>\n",
       "      <th>Escolaridad_Madre</th>\n",
       "      <th>Ocupación_Madre</th>\n",
       "      <th>Semanas_Gestacion</th>\n",
       "      <th>Sexo</th>\n",
       "      <th>Sitio_Ocurrencia</th>\n",
       "      <th>Tipo_Atencion</th>\n",
       "      <th>Total_Hijos_Nacidos</th>\n",
       "      <th>Total_Hijos_Nacidos_Muertos</th>\n",
       "      <th>Total_Hijos_Vivos</th>\n",
       "      <th>Via_Parto</th>\n",
       "      <th>Nacionalidad_Madre</th>\n",
       "      <th>Grupo_Etnico_Madre</th>\n",
       "      <th>Causa_Defunción</th>\n",
       "    </tr>\n",
       "  </thead>\n",
       "  <tbody>\n",
       "    <tr>\n",
       "      <th>0</th>\n",
       "      <td>99</td>\n",
       "      <td>6</td>\n",
       "      <td>1</td>\n",
       "      <td>18.0</td>\n",
       "      <td>2</td>\n",
       "      <td>99</td>\n",
       "      <td>99</td>\n",
       "      <td>34.0</td>\n",
       "      <td>1</td>\n",
       "      <td>2</td>\n",
       "      <td>1</td>\n",
       "      <td>1.0</td>\n",
       "      <td>2.0</td>\n",
       "      <td>1.0</td>\n",
       "      <td>99</td>\n",
       "      <td>1</td>\n",
       "      <td>4</td>\n",
       "      <td>0</td>\n",
       "    </tr>\n",
       "    <tr>\n",
       "      <th>1</th>\n",
       "      <td>99</td>\n",
       "      <td>1</td>\n",
       "      <td>1</td>\n",
       "      <td>36.0</td>\n",
       "      <td>2</td>\n",
       "      <td>99</td>\n",
       "      <td>1</td>\n",
       "      <td>34.0</td>\n",
       "      <td>1</td>\n",
       "      <td>9</td>\n",
       "      <td>1</td>\n",
       "      <td>1.0</td>\n",
       "      <td>3.0</td>\n",
       "      <td>2.0</td>\n",
       "      <td>99</td>\n",
       "      <td>1</td>\n",
       "      <td>4</td>\n",
       "      <td>0</td>\n",
       "    </tr>\n",
       "    <tr>\n",
       "      <th>2</th>\n",
       "      <td>99</td>\n",
       "      <td>2</td>\n",
       "      <td>1</td>\n",
       "      <td>22.0</td>\n",
       "      <td>2</td>\n",
       "      <td>99</td>\n",
       "      <td>99</td>\n",
       "      <td>34.0</td>\n",
       "      <td>1</td>\n",
       "      <td>2</td>\n",
       "      <td>1</td>\n",
       "      <td>1.0</td>\n",
       "      <td>3.0</td>\n",
       "      <td>2.0</td>\n",
       "      <td>99</td>\n",
       "      <td>1</td>\n",
       "      <td>4</td>\n",
       "      <td>0</td>\n",
       "    </tr>\n",
       "    <tr>\n",
       "      <th>3</th>\n",
       "      <td>99</td>\n",
       "      <td>2</td>\n",
       "      <td>1</td>\n",
       "      <td>26.0</td>\n",
       "      <td>2</td>\n",
       "      <td>99</td>\n",
       "      <td>99</td>\n",
       "      <td>34.0</td>\n",
       "      <td>1</td>\n",
       "      <td>2</td>\n",
       "      <td>1</td>\n",
       "      <td>1.0</td>\n",
       "      <td>0.0</td>\n",
       "      <td>0.0</td>\n",
       "      <td>99</td>\n",
       "      <td>1</td>\n",
       "      <td>4</td>\n",
       "      <td>0</td>\n",
       "    </tr>\n",
       "    <tr>\n",
       "      <th>4</th>\n",
       "      <td>99</td>\n",
       "      <td>2</td>\n",
       "      <td>1</td>\n",
       "      <td>43.0</td>\n",
       "      <td>2</td>\n",
       "      <td>99</td>\n",
       "      <td>99</td>\n",
       "      <td>34.0</td>\n",
       "      <td>2</td>\n",
       "      <td>2</td>\n",
       "      <td>1</td>\n",
       "      <td>1.0</td>\n",
       "      <td>10.0</td>\n",
       "      <td>6.0</td>\n",
       "      <td>99</td>\n",
       "      <td>1</td>\n",
       "      <td>4</td>\n",
       "      <td>0</td>\n",
       "    </tr>\n",
       "  </tbody>\n",
       "</table>\n",
       "</div>"
      ],
      "text/plain": [
       "   Área_Geográfica  Asistencia_Recibida  Clase_Parto  Edad_Madre  \\\n",
       "0               99                    6            1        18.0   \n",
       "1               99                    1            1        36.0   \n",
       "2               99                    2            1        22.0   \n",
       "3               99                    2            1        26.0   \n",
       "4               99                    2            1        43.0   \n",
       "\n",
       "   Estado_Civil_Madre  Escolaridad_Madre  Ocupación_Madre  Semanas_Gestacion  \\\n",
       "0                   2                 99               99               34.0   \n",
       "1                   2                 99                1               34.0   \n",
       "2                   2                 99               99               34.0   \n",
       "3                   2                 99               99               34.0   \n",
       "4                   2                 99               99               34.0   \n",
       "\n",
       "   Sexo  Sitio_Ocurrencia  Tipo_Atencion  Total_Hijos_Nacidos  \\\n",
       "0     1                 2              1                  1.0   \n",
       "1     1                 9              1                  1.0   \n",
       "2     1                 2              1                  1.0   \n",
       "3     1                 2              1                  1.0   \n",
       "4     2                 2              1                  1.0   \n",
       "\n",
       "   Total_Hijos_Nacidos_Muertos  Total_Hijos_Vivos  Via_Parto  \\\n",
       "0                          2.0                1.0         99   \n",
       "1                          3.0                2.0         99   \n",
       "2                          3.0                2.0         99   \n",
       "3                          0.0                0.0         99   \n",
       "4                         10.0                6.0         99   \n",
       "\n",
       "   Nacionalidad_Madre  Grupo_Etnico_Madre  Causa_Defunción  \n",
       "0                   1                   4                0  \n",
       "1                   1                   4                0  \n",
       "2                   1                   4                0  \n",
       "3                   1                   4                0  \n",
       "4                   1                   4                0  "
      ]
     },
     "execution_count": 12,
     "metadata": {},
     "output_type": "execute_result"
    }
   ],
   "source": [
    "# Eliminar columnas no relevantes (segun analisis exploratorio anteriormente realizado)\n",
    "data.drop('Departamento_Registro', axis=1, inplace=True)\n",
    "data.drop('Municipio_Registro', axis=1, inplace=True)\n",
    "\n",
    "data.drop('Municipio_Ocurrencia', axis=1, inplace=True)   \n",
    "data.drop('Departamento_Residencia_Madre', axis=1, inplace=True) \n",
    "\n",
    "data.drop('Municipio_Residencia_Madre', axis=1, inplace=True)\n",
    "data.drop('Departamento_Ocurrencia', axis=1, inplace=True)\n",
    "\n",
    "data.drop('Año_Ocurrencia', axis=1, inplace=True)\n",
    "data.drop('Mes_Ocurrencia', axis=1, inplace=True)\n",
    "data.drop('Día_Ocurrencia', axis=1, inplace=True)        # No se considera el día de ocurrencia\n",
    "\n",
    "data.drop('Año_Registro', axis=1, inplace=True)\n",
    "data.drop('Mes_Registro', axis=1, inplace=True)\n",
    "\n",
    "data.head()"
   ]
  },
  {
   "cell_type": "code",
   "execution_count": 13,
   "metadata": {},
   "outputs": [],
   "source": [
    "X = data.drop('Causa_Defunción', axis=1)\n",
    "y = data['Causa_Defunción']"
   ]
  },
  {
   "cell_type": "code",
   "execution_count": 14,
   "metadata": {},
   "outputs": [],
   "source": [
    "X_train, X_test, y_train, y_test = train_test_split(X, y, test_size=0.3, random_state=42)\n",
    "X_test, X_val, y_test, y_val = train_test_split(X_test, y_test, test_size=0.5, random_state=42)"
   ]
  },
  {
   "cell_type": "code",
   "execution_count": 15,
   "metadata": {},
   "outputs": [
    {
     "name": "stdout",
     "output_type": "stream",
     "text": [
      "{'criterion': 'gini', 'max_depth': None, 'min_samples_split': 2, 'n_estimators': 30}\n"
     ]
    }
   ],
   "source": [
    "param_grid = {\n",
    "    'n_estimators': [10, 20, 30],\n",
    "    'criterion': ['gini', 'entropy'],\n",
    "    'max_depth': [None, 5, 10],\n",
    "    'min_samples_split': [2, 5, 10]\n",
    "}\n",
    "\n",
    "classifier = RandomForestClassifier(random_state=0)\n",
    "grid_search = GridSearchCV(classifier, param_grid, cv=5)\n",
    "grid_search.fit(X_val, y_val)\n",
    "\n",
    "print(grid_search.best_params_)"
   ]
  },
  {
   "cell_type": "code",
   "execution_count": 16,
   "metadata": {},
   "outputs": [
    {
     "name": "stdout",
     "output_type": "stream",
     "text": [
      "Precision: 0.9936832714056989\n",
      "Recall: 0.9936678952839996\n",
      "F1 Score 0.9936681183859257\n",
      "Accuracy: 0.9936678952839996\n"
     ]
    },
    {
     "data": {
      "text/plain": [
       "array([[5325,   48],\n",
       "       [  19, 5189]])"
      ]
     },
     "execution_count": 16,
     "metadata": {},
     "output_type": "execute_result"
    }
   ],
   "source": [
    "# Crear el modelo con los mejores parametros\n",
    "classifier = RandomForestClassifier(criterion='gini', max_depth=None, min_samples_split=2, n_estimators=30)\n",
    "classifier.fit(X_train, y_train)\n",
    "\n",
    "# Predecir los valores del conjunto de validacion\n",
    "y_pred = classifier.predict(X_test)\n",
    "\n",
    "# Precision del Modelo\n",
    "print(\"Precision:\",precision_score(y_test, y_pred, average='weighted'))\n",
    "\n",
    "# Recall del Modelo\n",
    "print(\"Recall:\",recall_score(y_test, y_pred, average='weighted'))\n",
    "\n",
    "# F1 Score del Modelo\n",
    "print(\"F1 Score\",f1_score(y_test, y_pred, average='weighted'))\n",
    "\n",
    "# Accuracy del Modelo\n",
    "print(\"Accuracy:\", classifier.score(X_test, y_test))\n",
    "\n",
    "\n",
    "# Matriz de Confusion\n",
    "confusion_matrix(y_test, y_pred)"
   ]
  },
  {
   "cell_type": "code",
   "execution_count": 18,
   "metadata": {},
   "outputs": [
    {
     "name": "stdout",
     "output_type": "stream",
     "text": [
      "Top five variables:\n",
      " Index(['Edad_Madre', 'Semanas_Gestacion', 'Grupo_Etnico_Madre',\n",
      "       'Escolaridad_Madre', 'Total_Hijos_Vivos'],\n",
      "      dtype='object')\n"
     ]
    }
   ],
   "source": [
    "importance_scores = classifier.feature_importances_\n",
    "sorted_indices = importance_scores.argsort()[::-1]\n",
    "\n",
    "top_five_indices = sorted_indices[:5]\n",
    "top_five_variables = data.columns[top_five_indices]\n",
    "\n",
    "print(\"Top five variables:\\n\", top_five_variables)\n",
    " "
   ]
  }
 ],
 "metadata": {
  "colab": {
   "authorship_tag": "ABX9TyPA7K2PAkEFgaKFIvslUMEc",
   "collapsed_sections": [],
   "machine_shape": "hm",
   "name": "random_forest_classification.ipynb",
   "provenance": [],
   "toc_visible": true
  },
  "kernelspec": {
   "display_name": "Python 3 (ipykernel)",
   "language": "python",
   "name": "python3"
  },
  "language_info": {
   "codemirror_mode": {
    "name": "ipython",
    "version": 3
   },
   "file_extension": ".py",
   "mimetype": "text/x-python",
   "name": "python",
   "nbconvert_exporter": "python",
   "pygments_lexer": "ipython3",
   "version": "3.9.2"
  }
 },
 "nbformat": 4,
 "nbformat_minor": 4
}
