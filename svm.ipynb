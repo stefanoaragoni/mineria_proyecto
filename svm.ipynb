{
 "cells": [
  {
   "attachments": {},
   "cell_type": "markdown",
   "metadata": {},
   "source": [
    "# Modelado con SVM (Support Vector Machine)"
   ]
  },
  {
   "attachments": {},
   "cell_type": "markdown",
   "metadata": {},
   "source": [
    "## Preparación de información para el modelo"
   ]
  },
  {
   "cell_type": "code",
   "execution_count": 1,
   "metadata": {},
   "outputs": [],
   "source": [
    "import pandas as pd\n",
    "import numpy as np\n",
    "from collections import Counter\n",
    "import numpy as np \n",
    "from sklearn.model_selection import train_test_split\n",
    "from sklearn.utils import resample"
   ]
  },
  {
   "cell_type": "code",
   "execution_count": 2,
   "metadata": {},
   "outputs": [],
   "source": [
    "#leer csv\n",
    "df = pd.read_csv('defunciones_clean.csv')"
   ]
  },
  {
   "attachments": {},
   "cell_type": "markdown",
   "metadata": {},
   "source": [
    "### Manejo de columnas y balanceo en causas de defunción"
   ]
  },
  {
   "attachments": {},
   "cell_type": "markdown",
   "metadata": {},
   "source": [
    "- Eliminación de columnas irrelevantes para el modelo"
   ]
  },
  {
   "cell_type": "code",
   "execution_count": 3,
   "metadata": {},
   "outputs": [],
   "source": [
    "# drop columns no relevantes\n",
    "df.drop('Departamento_Residencia_Madre', axis=1, inplace=True)\n",
    "\n",
    "df.drop('Año_Registro', axis=1, inplace=True)\n",
    "df.drop('Mes_Registro', axis=1, inplace=True)\n",
    "\n",
    "df.drop('Mes_Ocurrencia', axis=1, inplace=True)\n",
    "df.drop('Día_Ocurrencia', axis=1, inplace=True)        # No se considera el día de ocurrencia\n",
    "\n",
    "df.drop('Departamento_Registro', axis=1, inplace=True)\n",
    "df.drop('Departamento_Ocurrencia', axis=1, inplace=True)        \n",
    "\n",
    "df.drop('Municipio_Registro', axis=1, inplace=True)\n",
    "df.drop('Municipio_Ocurrencia', axis=1, inplace=True)          \n",
    "df.drop('Municipio_Residencia_Madre', axis=1, inplace=True)\n",
    "\n",
    "df = df[df.Causa_Defunción != 99]"
   ]
  },
  {
   "attachments": {},
   "cell_type": "markdown",
   "metadata": {},
   "source": [
    "- Balanceo de clases en causas de defunción"
   ]
  },
  {
   "cell_type": "code",
   "execution_count": 4,
   "metadata": {},
   "outputs": [
    {
     "name": "stdout",
     "output_type": "stream",
     "text": [
      "Cantidad de registros:  39298\n",
      "Cantidad de registros por causa de defunción: \n",
      "0     35271\n",
      "99     3466\n",
      "1       561\n",
      "Name: Causa_Defunción, dtype: int64\n",
      "Cantidad de registros por causa de defunción: \n",
      "0     35271\n",
      "1     35271\n",
      "99     3466\n",
      "Name: Causa_Defunción, dtype: int64\n"
     ]
    }
   ],
   "source": [
    "from imblearn.over_sampling import RandomOverSampler\n",
    "\n",
    "print('Cantidad de registros: ', len(df))\n",
    "print('Cantidad de registros por causa de defunción: ')\n",
    "print(df['Causa_Defunción'].value_counts())\n",
    "\n",
    "x = df.drop('Causa_Defunción', axis=1)\n",
    "y = df['Causa_Defunción']\n",
    "\n",
    "balance = RandomOverSampler(sampling_strategy='minority')\n",
    "x_balance, y_balance = balance.fit_resample(x, y)\n",
    "\n",
    "df = pd.concat([x_balance, y_balance], axis=1)\n",
    "\n",
    "print('Cantidad de registros por causa de defunción: ')\n",
    "print(df['Causa_Defunción'].value_counts())"
   ]
  },
  {
   "attachments": {},
   "cell_type": "markdown",
   "metadata": {},
   "source": [
    "- Separar en entrenaminto y prueba"
   ]
  },
  {
   "cell_type": "code",
   "execution_count": 5,
   "metadata": {},
   "outputs": [
    {
     "name": "stdout",
     "output_type": "stream",
     "text": [
      "Cantidad de registros:  74008\n",
      "Cantidad de registros de entrenamiento:  37004\n",
      "Cantidad de registros de prueba:  37004\n"
     ]
    },
    {
     "data": {
      "text/html": [
       "<div>\n",
       "<style scoped>\n",
       "    .dataframe tbody tr th:only-of-type {\n",
       "        vertical-align: middle;\n",
       "    }\n",
       "\n",
       "    .dataframe tbody tr th {\n",
       "        vertical-align: top;\n",
       "    }\n",
       "\n",
       "    .dataframe thead th {\n",
       "        text-align: right;\n",
       "    }\n",
       "</style>\n",
       "<table border=\"1\" class=\"dataframe\">\n",
       "  <thead>\n",
       "    <tr style=\"text-align: right;\">\n",
       "      <th></th>\n",
       "      <th>Área_Geográfica</th>\n",
       "      <th>Asistencia_Recibida</th>\n",
       "      <th>Año_Ocurrencia</th>\n",
       "      <th>Clase_Parto</th>\n",
       "      <th>Edad_Madre</th>\n",
       "      <th>Estado_Civil_Madre</th>\n",
       "      <th>Escolaridad_Madre</th>\n",
       "      <th>Ocupación_Madre</th>\n",
       "      <th>Semanas_Gestacion</th>\n",
       "      <th>Sexo</th>\n",
       "      <th>Sitio_Ocurrencia</th>\n",
       "      <th>Tipo_Atencion</th>\n",
       "      <th>Total_Hijos_Nacidos</th>\n",
       "      <th>Total_Hijos_Nacidos_Muertos</th>\n",
       "      <th>Total_Hijos_Vivos</th>\n",
       "      <th>Via_Parto</th>\n",
       "      <th>Nacionalidad_Madre</th>\n",
       "      <th>Grupo_Etnico_Madre</th>\n",
       "      <th>Causa_Defunción</th>\n",
       "    </tr>\n",
       "  </thead>\n",
       "  <tbody>\n",
       "    <tr>\n",
       "      <th>0</th>\n",
       "      <td>99</td>\n",
       "      <td>6</td>\n",
       "      <td>2009</td>\n",
       "      <td>1</td>\n",
       "      <td>18.0</td>\n",
       "      <td>2</td>\n",
       "      <td>99</td>\n",
       "      <td>99</td>\n",
       "      <td>34.416349</td>\n",
       "      <td>1</td>\n",
       "      <td>2</td>\n",
       "      <td>1</td>\n",
       "      <td>1.269311</td>\n",
       "      <td>2.0</td>\n",
       "      <td>1.0</td>\n",
       "      <td>99</td>\n",
       "      <td>1</td>\n",
       "      <td>4</td>\n",
       "      <td>0</td>\n",
       "    </tr>\n",
       "    <tr>\n",
       "      <th>1</th>\n",
       "      <td>99</td>\n",
       "      <td>1</td>\n",
       "      <td>2009</td>\n",
       "      <td>1</td>\n",
       "      <td>36.0</td>\n",
       "      <td>2</td>\n",
       "      <td>99</td>\n",
       "      <td>1</td>\n",
       "      <td>34.416349</td>\n",
       "      <td>1</td>\n",
       "      <td>9</td>\n",
       "      <td>1</td>\n",
       "      <td>1.269311</td>\n",
       "      <td>3.0</td>\n",
       "      <td>2.0</td>\n",
       "      <td>99</td>\n",
       "      <td>1</td>\n",
       "      <td>4</td>\n",
       "      <td>0</td>\n",
       "    </tr>\n",
       "    <tr>\n",
       "      <th>2</th>\n",
       "      <td>99</td>\n",
       "      <td>2</td>\n",
       "      <td>2009</td>\n",
       "      <td>1</td>\n",
       "      <td>22.0</td>\n",
       "      <td>2</td>\n",
       "      <td>99</td>\n",
       "      <td>99</td>\n",
       "      <td>34.416349</td>\n",
       "      <td>1</td>\n",
       "      <td>2</td>\n",
       "      <td>1</td>\n",
       "      <td>1.269311</td>\n",
       "      <td>3.0</td>\n",
       "      <td>2.0</td>\n",
       "      <td>99</td>\n",
       "      <td>1</td>\n",
       "      <td>4</td>\n",
       "      <td>0</td>\n",
       "    </tr>\n",
       "    <tr>\n",
       "      <th>3</th>\n",
       "      <td>99</td>\n",
       "      <td>2</td>\n",
       "      <td>2009</td>\n",
       "      <td>1</td>\n",
       "      <td>26.0</td>\n",
       "      <td>2</td>\n",
       "      <td>99</td>\n",
       "      <td>99</td>\n",
       "      <td>34.416349</td>\n",
       "      <td>1</td>\n",
       "      <td>2</td>\n",
       "      <td>1</td>\n",
       "      <td>1.269311</td>\n",
       "      <td>0.0</td>\n",
       "      <td>0.0</td>\n",
       "      <td>99</td>\n",
       "      <td>1</td>\n",
       "      <td>4</td>\n",
       "      <td>0</td>\n",
       "    </tr>\n",
       "    <tr>\n",
       "      <th>4</th>\n",
       "      <td>99</td>\n",
       "      <td>2</td>\n",
       "      <td>2009</td>\n",
       "      <td>1</td>\n",
       "      <td>43.0</td>\n",
       "      <td>2</td>\n",
       "      <td>99</td>\n",
       "      <td>99</td>\n",
       "      <td>34.416349</td>\n",
       "      <td>2</td>\n",
       "      <td>2</td>\n",
       "      <td>1</td>\n",
       "      <td>1.269311</td>\n",
       "      <td>10.0</td>\n",
       "      <td>6.0</td>\n",
       "      <td>99</td>\n",
       "      <td>1</td>\n",
       "      <td>4</td>\n",
       "      <td>0</td>\n",
       "    </tr>\n",
       "  </tbody>\n",
       "</table>\n",
       "</div>"
      ],
      "text/plain": [
       "   Área_Geográfica  Asistencia_Recibida  Año_Ocurrencia  Clase_Parto  \\\n",
       "0               99                    6            2009            1   \n",
       "1               99                    1            2009            1   \n",
       "2               99                    2            2009            1   \n",
       "3               99                    2            2009            1   \n",
       "4               99                    2            2009            1   \n",
       "\n",
       "   Edad_Madre  Estado_Civil_Madre  Escolaridad_Madre  Ocupación_Madre  \\\n",
       "0        18.0                   2                 99               99   \n",
       "1        36.0                   2                 99                1   \n",
       "2        22.0                   2                 99               99   \n",
       "3        26.0                   2                 99               99   \n",
       "4        43.0                   2                 99               99   \n",
       "\n",
       "   Semanas_Gestacion  Sexo  Sitio_Ocurrencia  Tipo_Atencion  \\\n",
       "0          34.416349     1                 2              1   \n",
       "1          34.416349     1                 9              1   \n",
       "2          34.416349     1                 2              1   \n",
       "3          34.416349     1                 2              1   \n",
       "4          34.416349     2                 2              1   \n",
       "\n",
       "   Total_Hijos_Nacidos  Total_Hijos_Nacidos_Muertos  Total_Hijos_Vivos  \\\n",
       "0             1.269311                          2.0                1.0   \n",
       "1             1.269311                          3.0                2.0   \n",
       "2             1.269311                          3.0                2.0   \n",
       "3             1.269311                          0.0                0.0   \n",
       "4             1.269311                         10.0                6.0   \n",
       "\n",
       "   Via_Parto  Nacionalidad_Madre  Grupo_Etnico_Madre  Causa_Defunción  \n",
       "0         99                   1                   4                0  \n",
       "1         99                   1                   4                0  \n",
       "2         99                   1                   4                0  \n",
       "3         99                   1                   4                0  \n",
       "4         99                   1                   4                0  "
      ]
     },
     "execution_count": 5,
     "metadata": {},
     "output_type": "execute_result"
    }
   ],
   "source": [
    "print('Cantidad de registros: ', len(df))\n",
    "\n",
    "X = df.drop(\"Causa_Defunción\", axis=1)\n",
    "Y = df[\"Causa_Defunción\"]\n",
    "\n",
    "#dividir el dataset en conjunto de entrenamiento y conjunto de testing\n",
    "X_entreno, X_prueba, y_entreno, y_prueba = train_test_split(X, Y, test_size=0.5, random_state=100)\n",
    "\n",
    "print('Cantidad de registros de entrenamiento: ', len(X_entreno))\n",
    "print('Cantidad de registros de prueba: ', len(X_prueba))\n",
    "\n",
    "df.head()\n",
    "\n"
   ]
  },
  {
   "attachments": {},
   "cell_type": "markdown",
   "metadata": {},
   "source": [
    "## Creación del modelo SVM"
   ]
  },
  {
   "attachments": {},
   "cell_type": "markdown",
   "metadata": {},
   "source": [
    "Se utiiza GridSearchCV para determinar que hiperparámetros son los más óptimos para el respectivo modelo."
   ]
  },
  {
   "cell_type": "code",
   "execution_count": 6,
   "metadata": {},
   "outputs": [],
   "source": [
    "from sklearn.model_selection import GridSearchCV\n",
    "from sklearn import svm\n",
    "import matplotlib.pyplot as plt\n",
    "\n",
    "params = {\n",
    "    'C': [0.1, 1, 10, 100, 1000],\n",
    "    'gamma': [1, 0.1, 0.01, 0.001, 0.0001],\n",
    "    'kernel': ['rbf', 'linear', 'sigmoid', 'poly']\n",
    "}\n",
    "\n",
    "svm_dummy = svm.SVC()\n",
    "\n",
    "# smaller sample size for grid search, since it is an exhaustive process and it takes a lot of time\n",
    "X_entreno_sample = X_entreno.sample(frac=0.001, random_state=100)\n",
    "y_entreno_sample = y_entreno.sample(frac=0.001, random_state=100)\n",
    "\n",
    "svm_grid = GridSearchCV(svm_dummy, params, n_jobs=-1, verbose=2, cv=3)"
   ]
  },
  {
   "cell_type": "code",
   "execution_count": 7,
   "metadata": {},
   "outputs": [
    {
     "name": "stdout",
     "output_type": "stream",
     "text": [
      "Fitting 3 folds for each of 100 candidates, totalling 300 fits\n"
     ]
    },
    {
     "name": "stderr",
     "output_type": "stream",
     "text": [
      "c:\\Users\\DIEGO\\AppData\\Local\\Programs\\Python\\Python310\\lib\\site-packages\\sklearn\\model_selection\\_split.py:700: UserWarning: The least populated class in y has only 2 members, which is less than n_splits=3.\n",
      "  warnings.warn(\n"
     ]
    },
    {
     "name": "stdout",
     "output_type": "stream",
     "text": [
      "Grid search results:\n",
      "---------------------\n",
      "{'mean_fit_time': array([0.01871522, 0.00789714, 0.08594426, 0.01105269, 0.00702198,\n",
      "       0.00599925, 0.00554188, 0.00932852, 0.00582496, 0.0053343 ,\n",
      "       0.00533144, 0.00966549, 0.00640678, 0.00561659, 0.0051895 ,\n",
      "       0.00966668, 0.00511718, 0.00566061, 0.00475852, 0.0088927 ,\n",
      "       0.00599949, 0.00612402, 0.00513355, 0.00797995, 0.00666475,\n",
      "       0.0071067 , 0.00533406, 0.02005339, 0.00594036, 0.00520253,\n",
      "       0.00427945, 0.00964491, 0.00433493, 0.00706418, 0.0042932 ,\n",
      "       0.00833281, 0.01375469, 0.00932097, 0.00435193, 0.01224375,\n",
      "       0.00908502, 0.00743373, 0.00397174, 0.01099698, 0.00451907,\n",
      "       0.00781131, 0.00435662, 0.02041133, 0.00467014, 0.0066673 ,\n",
      "       0.00766532, 0.00966605, 0.00402689, 0.01089152, 0.00402315,\n",
      "       0.01650103, 0.00555595, 0.00647696, 0.00766397, 0.00998012,\n",
      "       0.00566657, 0.00926193, 0.00470297, 0.00826057, 0.00424433,\n",
      "       0.01013684, 0.004668  , 0.00967948, 0.00569065, 0.01157808,\n",
      "       0.00491937, 0.00800006, 0.00591532, 0.01470979, 0.00449061,\n",
      "       0.00894968, 0.00447663, 0.00933743, 0.00500115, 0.01243734,\n",
      "       0.00367045, 0.00946561, 0.00466696, 0.00966541, 0.01625141,\n",
      "       0.02233156, 0.00890938, 0.00824245, 0.00368309, 0.00968369,\n",
      "       0.00477489, 0.00924532, 0.00514118, 0.01010195, 0.00500536,\n",
      "       0.00840052, 0.00533255, 0.01300168, 0.00402689, 0.00999999]), 'std_fit_time': array([1.50698636e-02, 2.32916852e-04, 6.74533959e-02, 1.36277377e-03,\n",
      "       8.16748986e-04, 8.15758435e-04, 4.14677669e-04, 9.46056665e-04,\n",
      "       8.56199732e-04, 4.72777503e-04, 4.73955520e-04, 1.88430137e-03,\n",
      "       5.39747683e-04, 5.40099297e-04, 2.65132918e-04, 4.70696044e-04,\n",
      "       1.25301525e-03, 4.67106572e-04, 5.46273534e-04, 2.26278377e-03,\n",
      "       1.41349299e-03, 8.34529420e-04, 6.26431265e-04, 8.16079001e-04,\n",
      "       1.24725618e-03, 2.24940598e-04, 1.24574853e-03, 1.41041785e-02,\n",
      "       1.38396514e-03, 2.86599628e-04, 6.37814970e-04, 1.87155056e-03,\n",
      "       4.74742461e-04, 1.37197235e-03, 4.48899238e-04, 4.72342541e-04,\n",
      "       6.60207720e-03, 5.41899025e-03, 4.60081982e-04, 8.85558434e-04,\n",
      "       6.35655442e-03, 1.14016478e-03, 3.36963051e-05, 4.23851209e-03,\n",
      "       4.37793400e-04, 8.58456303e-04, 4.58148829e-04, 1.53801905e-02,\n",
      "       4.75772902e-04, 2.05464285e-03, 4.49589158e-03, 4.69572451e-04,\n",
      "       3.66125867e-05, 5.56362301e-03, 2.65729483e-05, 1.13205566e-02,\n",
      "       4.16947737e-04, 1.35459092e-03, 4.49862048e-03, 3.69388420e-03,\n",
      "       4.71764216e-04, 2.77385267e-03, 1.74731740e-03, 5.31925558e-04,\n",
      "       3.46454328e-04, 2.74433585e-03, 1.69786695e-03, 1.71866401e-03,\n",
      "       1.27372842e-03, 6.05807069e-03, 1.02934978e-03, 2.16056881e-03,\n",
      "       8.26314227e-04, 4.97514542e-03, 3.56083609e-04, 1.72374983e-03,\n",
      "       3.83337353e-04, 2.62070017e-03, 1.41388629e-03, 3.26295593e-03,\n",
      "       4.74103722e-04, 1.99527532e-03, 4.72326495e-04, 2.86728069e-03,\n",
      "       7.01913276e-03, 1.81920506e-02, 7.16474204e-03, 1.13771125e-03,\n",
      "       3.28829096e-04, 2.49064592e-03, 1.10378279e-03, 2.29937801e-03,\n",
      "       6.92503288e-04, 2.55562833e-03, 8.08767153e-04, 4.31985049e-04,\n",
      "       4.73508355e-04, 5.88976253e-03, 3.70973997e-05, 2.16145172e-03]), 'mean_score_time': array([0.00506751, 0.00490125, 0.00727805, 0.00527525, 0.00536569,\n",
      "       0.00459313, 0.00466498, 0.00403579, 0.00473595, 0.00405232,\n",
      "       0.00523305, 0.00333484, 0.00389115, 0.0041062 , 0.00347741,\n",
      "       0.00343283, 0.00421421, 0.00466498, 0.00614031, 0.00333293,\n",
      "       0.00367292, 0.00389552, 0.00485214, 0.00402077, 0.00510963,\n",
      "       0.00486453, 0.00366688, 0.00458654, 0.00333174, 0.00351787,\n",
      "       0.0029707 , 0.00377154, 0.00466506, 0.00693432, 0.00401696,\n",
      "       0.00333436, 0.00641139, 0.00448338, 0.00364717, 0.00833654,\n",
      "       0.00424806, 0.00481486, 0.00438054, 0.0036664 , 0.00430791,\n",
      "       0.00454823, 0.00466728, 0.00528248, 0.00343021, 0.00400003,\n",
      "       0.00333524, 0.0029796 , 0.00367427, 0.00300113, 0.0036428 ,\n",
      "       0.0113852 , 0.00333556, 0.00661564, 0.0036672 , 0.00319219,\n",
      "       0.00300026, 0.0034047 , 0.00729616, 0.00340621, 0.0031155 ,\n",
      "       0.00323192, 0.00536791, 0.00898981, 0.00330981, 0.00408808,\n",
      "       0.00325847, 0.00370455, 0.00766738, 0.00494877, 0.00751551,\n",
      "       0.00362062, 0.00321333, 0.00338475, 0.00866659, 0.00568803,\n",
      "       0.0043296 , 0.00316199, 0.00266695, 0.00400329, 0.00366728,\n",
      "       0.00400551, 0.00572713, 0.00342449, 0.00456127, 0.00364987,\n",
      "       0.00349847, 0.00366664, 0.00452439, 0.00398684, 0.00479309,\n",
      "       0.00326649, 0.00866747, 0.00333047, 0.00364518, 0.00347034]), 'std_score_time': array([8.14309256e-04, 1.35299189e-03, 2.11967067e-03, 9.00215199e-04,\n",
      "       4.03905812e-04, 3.02900898e-04, 9.44879035e-04, 7.73291107e-04,\n",
      "       5.27279420e-04, 7.57559377e-05, 1.28165291e-03, 4.72663669e-04,\n",
      "       1.20998362e-04, 7.65201903e-05, 4.10695701e-04, 5.55240454e-04,\n",
      "       2.39934578e-04, 9.44539475e-04, 2.36704076e-03, 4.71820081e-04,\n",
      "       9.40543241e-04, 6.71917560e-04, 1.20534434e-03, 8.40209857e-04,\n",
      "       2.11490662e-03, 2.22819730e-03, 4.71033541e-04, 1.72684676e-03,\n",
      "       4.67268071e-04, 4.08920045e-04, 4.28211981e-05, 9.15103577e-04,\n",
      "       4.74519275e-04, 3.76012950e-03, 8.18393165e-04, 4.72695417e-04,\n",
      "       3.28980775e-03, 1.09525323e-03, 4.59733520e-04, 6.12832038e-03,\n",
      "       4.88088790e-04, 5.48822100e-04, 5.27285182e-04, 4.70359836e-04,\n",
      "       4.39059075e-04, 7.20525149e-04, 1.19209367e-03, 1.86542481e-03,\n",
      "       4.11790338e-04, 1.51207428e-06, 4.71539032e-04, 2.91136150e-04,\n",
      "       4.75326808e-04, 1.12391596e-07, 4.56685918e-04, 7.66125869e-03,\n",
      "       4.71651343e-04, 3.23209499e-03, 4.72607664e-04, 5.94352062e-04,\n",
      "       7.78671819e-07, 4.27607309e-04, 4.81462513e-03, 5.76288903e-04,\n",
      "       1.12549452e-04, 3.26273732e-04, 2.59355734e-03, 8.46325662e-03,\n",
      "       4.36753916e-04, 9.25354595e-04, 3.66344144e-04, 4.98822152e-04,\n",
      "       5.18586065e-03, 8.99642853e-04, 6.00225929e-03, 4.39105796e-04,\n",
      "       5.07361658e-04, 4.31733339e-04, 8.01290265e-03, 2.01940861e-03,\n",
      "       9.38995612e-04, 6.31206823e-04, 4.71707569e-04, 8.18779041e-04,\n",
      "       4.72157135e-04, 4.15848905e-06, 2.31368704e-03, 4.20417182e-04,\n",
      "       1.15794973e-03, 4.97276702e-04, 3.91789866e-04, 4.73393402e-04,\n",
      "       4.36095686e-04, 2.13282532e-04, 2.44938435e-03, 3.72972134e-04,\n",
      "       5.24638438e-03, 4.72385127e-04, 4.45100903e-04, 6.63449419e-04]), 'param_C': masked_array(data=[0.1, 0.1, 0.1, 0.1, 0.1, 0.1, 0.1, 0.1, 0.1, 0.1, 0.1,\n",
      "                   0.1, 0.1, 0.1, 0.1, 0.1, 0.1, 0.1, 0.1, 0.1, 1, 1, 1,\n",
      "                   1, 1, 1, 1, 1, 1, 1, 1, 1, 1, 1, 1, 1, 1, 1, 1, 1, 10,\n",
      "                   10, 10, 10, 10, 10, 10, 10, 10, 10, 10, 10, 10, 10, 10,\n",
      "                   10, 10, 10, 10, 10, 100, 100, 100, 100, 100, 100, 100,\n",
      "                   100, 100, 100, 100, 100, 100, 100, 100, 100, 100, 100,\n",
      "                   100, 100, 1000, 1000, 1000, 1000, 1000, 1000, 1000,\n",
      "                   1000, 1000, 1000, 1000, 1000, 1000, 1000, 1000, 1000,\n",
      "                   1000, 1000, 1000, 1000],\n",
      "             mask=[False, False, False, False, False, False, False, False,\n",
      "                   False, False, False, False, False, False, False, False,\n",
      "                   False, False, False, False, False, False, False, False,\n",
      "                   False, False, False, False, False, False, False, False,\n",
      "                   False, False, False, False, False, False, False, False,\n",
      "                   False, False, False, False, False, False, False, False,\n",
      "                   False, False, False, False, False, False, False, False,\n",
      "                   False, False, False, False, False, False, False, False,\n",
      "                   False, False, False, False, False, False, False, False,\n",
      "                   False, False, False, False, False, False, False, False,\n",
      "                   False, False, False, False, False, False, False, False,\n",
      "                   False, False, False, False, False, False, False, False,\n",
      "                   False, False, False, False],\n",
      "       fill_value='?',\n",
      "            dtype=object), 'param_gamma': masked_array(data=[1, 1, 1, 1, 0.1, 0.1, 0.1, 0.1, 0.01, 0.01, 0.01, 0.01,\n",
      "                   0.001, 0.001, 0.001, 0.001, 0.0001, 0.0001, 0.0001,\n",
      "                   0.0001, 1, 1, 1, 1, 0.1, 0.1, 0.1, 0.1, 0.01, 0.01,\n",
      "                   0.01, 0.01, 0.001, 0.001, 0.001, 0.001, 0.0001, 0.0001,\n",
      "                   0.0001, 0.0001, 1, 1, 1, 1, 0.1, 0.1, 0.1, 0.1, 0.01,\n",
      "                   0.01, 0.01, 0.01, 0.001, 0.001, 0.001, 0.001, 0.0001,\n",
      "                   0.0001, 0.0001, 0.0001, 1, 1, 1, 1, 0.1, 0.1, 0.1, 0.1,\n",
      "                   0.01, 0.01, 0.01, 0.01, 0.001, 0.001, 0.001, 0.001,\n",
      "                   0.0001, 0.0001, 0.0001, 0.0001, 1, 1, 1, 1, 0.1, 0.1,\n",
      "                   0.1, 0.1, 0.01, 0.01, 0.01, 0.01, 0.001, 0.001, 0.001,\n",
      "                   0.001, 0.0001, 0.0001, 0.0001, 0.0001],\n",
      "             mask=[False, False, False, False, False, False, False, False,\n",
      "                   False, False, False, False, False, False, False, False,\n",
      "                   False, False, False, False, False, False, False, False,\n",
      "                   False, False, False, False, False, False, False, False,\n",
      "                   False, False, False, False, False, False, False, False,\n",
      "                   False, False, False, False, False, False, False, False,\n",
      "                   False, False, False, False, False, False, False, False,\n",
      "                   False, False, False, False, False, False, False, False,\n",
      "                   False, False, False, False, False, False, False, False,\n",
      "                   False, False, False, False, False, False, False, False,\n",
      "                   False, False, False, False, False, False, False, False,\n",
      "                   False, False, False, False, False, False, False, False,\n",
      "                   False, False, False, False],\n",
      "       fill_value='?',\n",
      "            dtype=object), 'param_kernel': masked_array(data=['rbf', 'linear', 'sigmoid', 'poly', 'rbf', 'linear',\n",
      "                   'sigmoid', 'poly', 'rbf', 'linear', 'sigmoid', 'poly',\n",
      "                   'rbf', 'linear', 'sigmoid', 'poly', 'rbf', 'linear',\n",
      "                   'sigmoid', 'poly', 'rbf', 'linear', 'sigmoid', 'poly',\n",
      "                   'rbf', 'linear', 'sigmoid', 'poly', 'rbf', 'linear',\n",
      "                   'sigmoid', 'poly', 'rbf', 'linear', 'sigmoid', 'poly',\n",
      "                   'rbf', 'linear', 'sigmoid', 'poly', 'rbf', 'linear',\n",
      "                   'sigmoid', 'poly', 'rbf', 'linear', 'sigmoid', 'poly',\n",
      "                   'rbf', 'linear', 'sigmoid', 'poly', 'rbf', 'linear',\n",
      "                   'sigmoid', 'poly', 'rbf', 'linear', 'sigmoid', 'poly',\n",
      "                   'rbf', 'linear', 'sigmoid', 'poly', 'rbf', 'linear',\n",
      "                   'sigmoid', 'poly', 'rbf', 'linear', 'sigmoid', 'poly',\n",
      "                   'rbf', 'linear', 'sigmoid', 'poly', 'rbf', 'linear',\n",
      "                   'sigmoid', 'poly', 'rbf', 'linear', 'sigmoid', 'poly',\n",
      "                   'rbf', 'linear', 'sigmoid', 'poly', 'rbf', 'linear',\n",
      "                   'sigmoid', 'poly', 'rbf', 'linear', 'sigmoid', 'poly',\n",
      "                   'rbf', 'linear', 'sigmoid', 'poly'],\n",
      "             mask=[False, False, False, False, False, False, False, False,\n",
      "                   False, False, False, False, False, False, False, False,\n",
      "                   False, False, False, False, False, False, False, False,\n",
      "                   False, False, False, False, False, False, False, False,\n",
      "                   False, False, False, False, False, False, False, False,\n",
      "                   False, False, False, False, False, False, False, False,\n",
      "                   False, False, False, False, False, False, False, False,\n",
      "                   False, False, False, False, False, False, False, False,\n",
      "                   False, False, False, False, False, False, False, False,\n",
      "                   False, False, False, False, False, False, False, False,\n",
      "                   False, False, False, False, False, False, False, False,\n",
      "                   False, False, False, False, False, False, False, False,\n",
      "                   False, False, False, False],\n",
      "       fill_value='?',\n",
      "            dtype=object), 'params': [{'C': 0.1, 'gamma': 1, 'kernel': 'rbf'}, {'C': 0.1, 'gamma': 1, 'kernel': 'linear'}, {'C': 0.1, 'gamma': 1, 'kernel': 'sigmoid'}, {'C': 0.1, 'gamma': 1, 'kernel': 'poly'}, {'C': 0.1, 'gamma': 0.1, 'kernel': 'rbf'}, {'C': 0.1, 'gamma': 0.1, 'kernel': 'linear'}, {'C': 0.1, 'gamma': 0.1, 'kernel': 'sigmoid'}, {'C': 0.1, 'gamma': 0.1, 'kernel': 'poly'}, {'C': 0.1, 'gamma': 0.01, 'kernel': 'rbf'}, {'C': 0.1, 'gamma': 0.01, 'kernel': 'linear'}, {'C': 0.1, 'gamma': 0.01, 'kernel': 'sigmoid'}, {'C': 0.1, 'gamma': 0.01, 'kernel': 'poly'}, {'C': 0.1, 'gamma': 0.001, 'kernel': 'rbf'}, {'C': 0.1, 'gamma': 0.001, 'kernel': 'linear'}, {'C': 0.1, 'gamma': 0.001, 'kernel': 'sigmoid'}, {'C': 0.1, 'gamma': 0.001, 'kernel': 'poly'}, {'C': 0.1, 'gamma': 0.0001, 'kernel': 'rbf'}, {'C': 0.1, 'gamma': 0.0001, 'kernel': 'linear'}, {'C': 0.1, 'gamma': 0.0001, 'kernel': 'sigmoid'}, {'C': 0.1, 'gamma': 0.0001, 'kernel': 'poly'}, {'C': 1, 'gamma': 1, 'kernel': 'rbf'}, {'C': 1, 'gamma': 1, 'kernel': 'linear'}, {'C': 1, 'gamma': 1, 'kernel': 'sigmoid'}, {'C': 1, 'gamma': 1, 'kernel': 'poly'}, {'C': 1, 'gamma': 0.1, 'kernel': 'rbf'}, {'C': 1, 'gamma': 0.1, 'kernel': 'linear'}, {'C': 1, 'gamma': 0.1, 'kernel': 'sigmoid'}, {'C': 1, 'gamma': 0.1, 'kernel': 'poly'}, {'C': 1, 'gamma': 0.01, 'kernel': 'rbf'}, {'C': 1, 'gamma': 0.01, 'kernel': 'linear'}, {'C': 1, 'gamma': 0.01, 'kernel': 'sigmoid'}, {'C': 1, 'gamma': 0.01, 'kernel': 'poly'}, {'C': 1, 'gamma': 0.001, 'kernel': 'rbf'}, {'C': 1, 'gamma': 0.001, 'kernel': 'linear'}, {'C': 1, 'gamma': 0.001, 'kernel': 'sigmoid'}, {'C': 1, 'gamma': 0.001, 'kernel': 'poly'}, {'C': 1, 'gamma': 0.0001, 'kernel': 'rbf'}, {'C': 1, 'gamma': 0.0001, 'kernel': 'linear'}, {'C': 1, 'gamma': 0.0001, 'kernel': 'sigmoid'}, {'C': 1, 'gamma': 0.0001, 'kernel': 'poly'}, {'C': 10, 'gamma': 1, 'kernel': 'rbf'}, {'C': 10, 'gamma': 1, 'kernel': 'linear'}, {'C': 10, 'gamma': 1, 'kernel': 'sigmoid'}, {'C': 10, 'gamma': 1, 'kernel': 'poly'}, {'C': 10, 'gamma': 0.1, 'kernel': 'rbf'}, {'C': 10, 'gamma': 0.1, 'kernel': 'linear'}, {'C': 10, 'gamma': 0.1, 'kernel': 'sigmoid'}, {'C': 10, 'gamma': 0.1, 'kernel': 'poly'}, {'C': 10, 'gamma': 0.01, 'kernel': 'rbf'}, {'C': 10, 'gamma': 0.01, 'kernel': 'linear'}, {'C': 10, 'gamma': 0.01, 'kernel': 'sigmoid'}, {'C': 10, 'gamma': 0.01, 'kernel': 'poly'}, {'C': 10, 'gamma': 0.001, 'kernel': 'rbf'}, {'C': 10, 'gamma': 0.001, 'kernel': 'linear'}, {'C': 10, 'gamma': 0.001, 'kernel': 'sigmoid'}, {'C': 10, 'gamma': 0.001, 'kernel': 'poly'}, {'C': 10, 'gamma': 0.0001, 'kernel': 'rbf'}, {'C': 10, 'gamma': 0.0001, 'kernel': 'linear'}, {'C': 10, 'gamma': 0.0001, 'kernel': 'sigmoid'}, {'C': 10, 'gamma': 0.0001, 'kernel': 'poly'}, {'C': 100, 'gamma': 1, 'kernel': 'rbf'}, {'C': 100, 'gamma': 1, 'kernel': 'linear'}, {'C': 100, 'gamma': 1, 'kernel': 'sigmoid'}, {'C': 100, 'gamma': 1, 'kernel': 'poly'}, {'C': 100, 'gamma': 0.1, 'kernel': 'rbf'}, {'C': 100, 'gamma': 0.1, 'kernel': 'linear'}, {'C': 100, 'gamma': 0.1, 'kernel': 'sigmoid'}, {'C': 100, 'gamma': 0.1, 'kernel': 'poly'}, {'C': 100, 'gamma': 0.01, 'kernel': 'rbf'}, {'C': 100, 'gamma': 0.01, 'kernel': 'linear'}, {'C': 100, 'gamma': 0.01, 'kernel': 'sigmoid'}, {'C': 100, 'gamma': 0.01, 'kernel': 'poly'}, {'C': 100, 'gamma': 0.001, 'kernel': 'rbf'}, {'C': 100, 'gamma': 0.001, 'kernel': 'linear'}, {'C': 100, 'gamma': 0.001, 'kernel': 'sigmoid'}, {'C': 100, 'gamma': 0.001, 'kernel': 'poly'}, {'C': 100, 'gamma': 0.0001, 'kernel': 'rbf'}, {'C': 100, 'gamma': 0.0001, 'kernel': 'linear'}, {'C': 100, 'gamma': 0.0001, 'kernel': 'sigmoid'}, {'C': 100, 'gamma': 0.0001, 'kernel': 'poly'}, {'C': 1000, 'gamma': 1, 'kernel': 'rbf'}, {'C': 1000, 'gamma': 1, 'kernel': 'linear'}, {'C': 1000, 'gamma': 1, 'kernel': 'sigmoid'}, {'C': 1000, 'gamma': 1, 'kernel': 'poly'}, {'C': 1000, 'gamma': 0.1, 'kernel': 'rbf'}, {'C': 1000, 'gamma': 0.1, 'kernel': 'linear'}, {'C': 1000, 'gamma': 0.1, 'kernel': 'sigmoid'}, {'C': 1000, 'gamma': 0.1, 'kernel': 'poly'}, {'C': 1000, 'gamma': 0.01, 'kernel': 'rbf'}, {'C': 1000, 'gamma': 0.01, 'kernel': 'linear'}, {'C': 1000, 'gamma': 0.01, 'kernel': 'sigmoid'}, {'C': 1000, 'gamma': 0.01, 'kernel': 'poly'}, {'C': 1000, 'gamma': 0.001, 'kernel': 'rbf'}, {'C': 1000, 'gamma': 0.001, 'kernel': 'linear'}, {'C': 1000, 'gamma': 0.001, 'kernel': 'sigmoid'}, {'C': 1000, 'gamma': 0.001, 'kernel': 'poly'}, {'C': 1000, 'gamma': 0.0001, 'kernel': 'rbf'}, {'C': 1000, 'gamma': 0.0001, 'kernel': 'linear'}, {'C': 1000, 'gamma': 0.0001, 'kernel': 'sigmoid'}, {'C': 1000, 'gamma': 0.0001, 'kernel': 'poly'}], 'split0_test_score': array([0.69230769, 0.69230769, 0.69230769, 0.53846154, 0.69230769,\n",
      "       0.69230769, 0.69230769, 0.53846154, 0.69230769, 0.69230769,\n",
      "       0.69230769, 0.61538462, 0.69230769, 0.69230769, 0.69230769,\n",
      "       0.61538462, 0.69230769, 0.69230769, 0.69230769, 0.61538462,\n",
      "       0.69230769, 0.53846154, 0.69230769, 0.53846154, 0.69230769,\n",
      "       0.53846154, 0.69230769, 0.53846154, 0.69230769, 0.53846154,\n",
      "       0.69230769, 0.61538462, 0.69230769, 0.53846154, 0.69230769,\n",
      "       0.61538462, 0.69230769, 0.53846154, 0.69230769, 0.61538462,\n",
      "       0.69230769, 0.53846154, 0.69230769, 0.53846154, 0.69230769,\n",
      "       0.53846154, 0.69230769, 0.53846154, 0.69230769, 0.53846154,\n",
      "       0.69230769, 0.61538462, 0.69230769, 0.53846154, 0.69230769,\n",
      "       0.61538462, 0.69230769, 0.53846154, 0.69230769, 0.61538462,\n",
      "       0.69230769, 0.53846154, 0.69230769, 0.53846154, 0.69230769,\n",
      "       0.53846154, 0.69230769, 0.53846154, 0.69230769, 0.53846154,\n",
      "       0.69230769, 0.61538462, 0.61538462, 0.53846154, 0.69230769,\n",
      "       0.61538462, 0.69230769, 0.53846154, 0.69230769, 0.61538462,\n",
      "       0.69230769, 0.53846154, 0.69230769, 0.53846154, 0.69230769,\n",
      "       0.53846154, 0.69230769, 0.53846154, 0.69230769, 0.53846154,\n",
      "       0.69230769, 0.61538462, 0.61538462, 0.53846154, 0.69230769,\n",
      "       0.61538462, 0.69230769, 0.53846154, 0.69230769, 0.61538462]), 'split1_test_score': array([0.66666667, 0.75      , 0.66666667, 0.41666667, 0.66666667,\n",
      "       0.75      , 0.66666667, 0.41666667, 0.66666667, 0.75      ,\n",
      "       0.66666667, 0.5       , 0.66666667, 0.75      , 0.66666667,\n",
      "       0.41666667, 0.66666667, 0.75      , 0.66666667, 0.41666667,\n",
      "       0.66666667, 0.75      , 0.66666667, 0.41666667, 0.66666667,\n",
      "       0.75      , 0.66666667, 0.41666667, 0.66666667, 0.75      ,\n",
      "       0.66666667, 0.5       , 0.66666667, 0.75      , 0.66666667,\n",
      "       0.41666667, 0.66666667, 0.75      , 0.66666667, 0.41666667,\n",
      "       0.66666667, 0.5       , 0.66666667, 0.41666667, 0.66666667,\n",
      "       0.5       , 0.66666667, 0.41666667, 0.5       , 0.5       ,\n",
      "       0.66666667, 0.5       , 0.66666667, 0.5       , 0.66666667,\n",
      "       0.41666667, 0.66666667, 0.5       , 0.66666667, 0.41666667,\n",
      "       0.66666667, 0.5       , 0.66666667, 0.41666667, 0.66666667,\n",
      "       0.5       , 0.66666667, 0.41666667, 0.5       , 0.5       ,\n",
      "       0.66666667, 0.5       , 0.5       , 0.5       , 0.66666667,\n",
      "       0.41666667, 0.75      , 0.5       , 0.66666667, 0.41666667,\n",
      "       0.66666667, 0.5       , 0.66666667, 0.41666667, 0.66666667,\n",
      "       0.5       , 0.66666667, 0.41666667, 0.5       , 0.5       ,\n",
      "       0.66666667, 0.5       , 0.41666667, 0.5       , 0.66666667,\n",
      "       0.41666667, 0.5       , 0.5       , 0.66666667, 0.41666667]), 'split2_test_score': array([0.66666667, 0.66666667, 0.66666667, 0.83333333, 0.66666667,\n",
      "       0.66666667, 0.66666667, 0.75      , 0.66666667, 0.66666667,\n",
      "       0.66666667, 0.75      , 0.66666667, 0.66666667, 0.66666667,\n",
      "       0.75      , 0.66666667, 0.66666667, 0.66666667, 0.75      ,\n",
      "       0.66666667, 0.66666667, 0.66666667, 0.83333333, 0.66666667,\n",
      "       0.66666667, 0.66666667, 0.75      , 0.66666667, 0.66666667,\n",
      "       0.66666667, 0.75      , 0.66666667, 0.66666667, 0.66666667,\n",
      "       0.75      , 0.66666667, 0.66666667, 0.66666667, 0.83333333,\n",
      "       0.66666667, 0.75      , 0.66666667, 0.83333333, 0.66666667,\n",
      "       0.75      , 0.66666667, 0.75      , 0.75      , 0.75      ,\n",
      "       0.66666667, 0.75      , 0.66666667, 0.75      , 0.66666667,\n",
      "       0.75      , 0.66666667, 0.75      , 0.66666667, 0.83333333,\n",
      "       0.66666667, 0.75      , 0.66666667, 0.83333333, 0.66666667,\n",
      "       0.75      , 0.66666667, 0.75      , 0.75      , 0.75      ,\n",
      "       0.66666667, 0.75      , 0.66666667, 0.75      , 0.66666667,\n",
      "       0.75      , 0.66666667, 0.75      , 0.66666667, 0.83333333,\n",
      "       0.66666667, 0.75      , 0.66666667, 0.83333333, 0.66666667,\n",
      "       0.75      , 0.66666667, 0.75      , 0.75      , 0.75      ,\n",
      "       0.66666667, 0.75      , 0.75      , 0.75      , 0.66666667,\n",
      "       0.75      , 0.5       , 0.75      , 0.66666667, 0.83333333]), 'mean_test_score': array([0.67521368, 0.70299145, 0.67521368, 0.59615385, 0.67521368,\n",
      "       0.70299145, 0.67521368, 0.56837607, 0.67521368, 0.70299145,\n",
      "       0.67521368, 0.62179487, 0.67521368, 0.70299145, 0.67521368,\n",
      "       0.59401709, 0.67521368, 0.70299145, 0.67521368, 0.59401709,\n",
      "       0.67521368, 0.6517094 , 0.67521368, 0.59615385, 0.67521368,\n",
      "       0.6517094 , 0.67521368, 0.56837607, 0.67521368, 0.6517094 ,\n",
      "       0.67521368, 0.62179487, 0.67521368, 0.6517094 , 0.67521368,\n",
      "       0.59401709, 0.67521368, 0.6517094 , 0.67521368, 0.62179487,\n",
      "       0.67521368, 0.59615385, 0.67521368, 0.59615385, 0.67521368,\n",
      "       0.59615385, 0.67521368, 0.56837607, 0.6474359 , 0.59615385,\n",
      "       0.67521368, 0.62179487, 0.67521368, 0.59615385, 0.67521368,\n",
      "       0.59401709, 0.67521368, 0.59615385, 0.67521368, 0.62179487,\n",
      "       0.67521368, 0.59615385, 0.67521368, 0.59615385, 0.67521368,\n",
      "       0.59615385, 0.67521368, 0.56837607, 0.6474359 , 0.59615385,\n",
      "       0.67521368, 0.62179487, 0.59401709, 0.59615385, 0.67521368,\n",
      "       0.59401709, 0.70299145, 0.59615385, 0.67521368, 0.62179487,\n",
      "       0.67521368, 0.59615385, 0.67521368, 0.59615385, 0.67521368,\n",
      "       0.59615385, 0.67521368, 0.56837607, 0.6474359 , 0.59615385,\n",
      "       0.67521368, 0.62179487, 0.59401709, 0.59615385, 0.67521368,\n",
      "       0.59401709, 0.56410256, 0.59615385, 0.67521368, 0.62179487]), 'std_test_score': array([0.0120873 , 0.03484937, 0.0120873 , 0.1749268 , 0.0120873 ,\n",
      "       0.03484937, 0.0120873 , 0.13771695, 0.0120873 , 0.03484937,\n",
      "       0.0120873 , 0.10216268, 0.0120873 , 0.03484937, 0.0120873 ,\n",
      "       0.13691897, 0.0120873 , 0.03484937, 0.0120873 , 0.13691897,\n",
      "       0.0120873 , 0.08700544, 0.0120873 , 0.1749268 , 0.0120873 ,\n",
      "       0.08700544, 0.0120873 , 0.13771695, 0.0120873 , 0.08700544,\n",
      "       0.0120873 , 0.10216268, 0.0120873 , 0.08700544, 0.0120873 ,\n",
      "       0.13691897, 0.0120873 , 0.08700544, 0.0120873 , 0.17016384,\n",
      "       0.0120873 , 0.109913  , 0.0120873 , 0.1749268 , 0.0120873 ,\n",
      "       0.109913  , 0.0120873 , 0.13771695, 0.10688033, 0.109913  ,\n",
      "       0.0120873 , 0.10216268, 0.0120873 , 0.109913  , 0.0120873 ,\n",
      "       0.13691897, 0.0120873 , 0.109913  , 0.0120873 , 0.17016384,\n",
      "       0.0120873 , 0.109913  , 0.0120873 , 0.1749268 , 0.0120873 ,\n",
      "       0.109913  , 0.0120873 , 0.13771695, 0.10688033, 0.109913  ,\n",
      "       0.0120873 , 0.10216268, 0.06969875, 0.109913  , 0.0120873 ,\n",
      "       0.13691897, 0.03484937, 0.109913  , 0.0120873 , 0.17016384,\n",
      "       0.0120873 , 0.109913  , 0.0120873 , 0.1749268 , 0.0120873 ,\n",
      "       0.109913  , 0.0120873 , 0.13771695, 0.10688033, 0.109913  ,\n",
      "       0.0120873 , 0.10216268, 0.13691897, 0.109913  , 0.0120873 ,\n",
      "       0.13691897, 0.09065472, 0.109913  , 0.0120873 , 0.17016384]), 'rank_test_score': array([  7,   1,   7,  67,   7,   1,   7,  95,   7,   1,   7,  58,   7,\n",
      "         1,   7,  87,   7,   1,   7,  87,   7,  50,   7,  67,   7,  50,\n",
      "         7,  95,   7,  50,   7,  58,   7,  50,   7,  87,   7,  50,   7,\n",
      "        58,   7,  67,   7,  67,   7,  67,   7,  95,  55,  67,   7,  58,\n",
      "         7,  67,   7,  87,   7,  67,   7,  58,   7,  67,   7,  67,   7,\n",
      "        67,   7,  95,  55,  67,   7,  58,  87,  67,   7,  87,   1,  67,\n",
      "         7,  58,   7,  67,   7,  67,   7,  67,   7,  95,  55,  67,   7,\n",
      "        58,  87,  67,   7,  87, 100,  67,   7,  58])}\n"
     ]
    }
   ],
   "source": [
    "svm_grid.fit(X_entreno_sample, y_entreno_sample) \n",
    "\n",
    "import matplotlib.pyplot as plt\n",
    "from mpl_toolkits.mplot3d import Axes3D\n",
    "\n",
    "print(\"Grid search results:\")\n",
    "print(\"---------------------\")\n",
    "results = svm_grid.cv_results_\n",
    "\n",
    "print(results)"
   ]
  },
  {
   "cell_type": "code",
   "execution_count": 8,
   "metadata": {},
   "outputs": [
    {
     "data": {
      "image/png": "[encoded data removed]",
      "text/plain": [
       "<Figure size 640x480 with 1 Axes>"
      ]
     },
     "metadata": {},
     "output_type": "display_data"
    },
    {
     "name": "stdout",
     "output_type": "stream",
     "text": [
      "Best parameters set found on development set:\n",
      "{'C': 0.1, 'gamma': 1, 'kernel': 'linear'}\n"
     ]
    }
   ],
   "source": [
    "mean_scores = results[\"mean_test_score\"]\n",
    "params = results[\"params\"]\n",
    "\n",
    "# Extract parameter values for each parameter\n",
    "param_C = [param['C'] for param in params]\n",
    "param_gamma = [param['gamma'] for param in params]\n",
    "param_kernel = [param['kernel'] for param in params]\n",
    "\n",
    "fig = plt.figure()\n",
    "ax = fig.add_subplot(111, projection='3d')\n",
    "\n",
    "# Mapping kernel names to integer values\n",
    "kernel_map = {'linear': 0, 'poly': 1, 'rbf': 2, 'sigmoid': 3}\n",
    "kernel_colors = [kernel_map[kernel] for kernel in param_kernel]\n",
    "\n",
    "# Plotting the mean scores with color-coded markers based on kernel\n",
    "scatter = ax.scatter(param_C, param_gamma, mean_scores, c=kernel_colors, cmap='viridis')\n",
    "\n",
    "ax.set_xlabel('C')\n",
    "ax.set_ylabel('Gamma')\n",
    "ax.set_zlabel('Mean Score')\n",
    "ax.set_title('Grid Search Results')\n",
    "ax.legend(handles=scatter.legend_elements()[0], labels=kernel_map.keys(), title='Kernel')\n",
    "\n",
    "plt.show()\n",
    "\n",
    "print(\"Best parameters set found on development set:\")\n",
    "print(svm_grid.best_params_)\n"
   ]
  },
  {
   "attachments": {},
   "cell_type": "markdown",
   "metadata": {},
   "source": [
    "* _Debido al gran tamaño del dataset y de la alta complejidad de ejeución del gridsearch, se decidió realizar el gridsearch en una muestra del 0.5% del dataset original._\n",
    "* _Existen múltiples hiper-parámetros que alcanzan el mismo score, por lo que se decidió escoger los que menos tiempo de ejecución requirieran._"
   ]
  },
  {
   "cell_type": "code",
   "execution_count": 9,
   "metadata": {},
   "outputs": [
    {
     "name": "stdout",
     "output_type": "stream",
     "text": [
      "Accuracy: 0.5371581450653984\n",
      "Recall: 0.5371581450653984\n"
     ]
    }
   ],
   "source": [
    "from sklearn.metrics import accuracy_score , recall_score, precision_score, f1_score\n",
    "\n",
    "# Crear el clasificador SVM\n",
    "clf = svm.SVC(kernel='linear')  # Puedes ajustar el kernel según tus necesidades (lineal, polinómico, RBF, etc.)\n",
    "\n",
    "# Entrenar el modelo utilizando los datos de entrenamiento\n",
    "clf.fit(X_entreno, y_entreno)\n",
    "\n",
    "# Realizar predicciones en el conjunto de prueba\n",
    "predicciones = clf.predict(X_prueba)\n",
    "\n",
    "# Calcular el accuracy\n",
    "accuracy = accuracy_score(y_prueba, predicciones)\n",
    "\n",
    "# Mostrar el accuracy\n",
    "print(\"Accuracy:\", accuracy)\n",
    "print(\"Recall:\", recall_score(y_prueba, predicciones, average='weighted'))\n",
    "#print(\"Precision:\", precision_score(y_prueba, predicciones, average='weighted'))\n",
    "#print(\"F1:\", f1_score(y_prueba, predicciones, average='weighted'))"
   ]
  },
  {
   "cell_type": "code",
   "execution_count": 10,
   "metadata": {},
   "outputs": [
    {
     "name": "stdout",
     "output_type": "stream",
     "text": [
      "Accuracy: 0.9385471840882067\n",
      "Recall: 0.9385471840882067\n"
     ]
    }
   ],
   "source": [
    "# Se utilizan los hipérparámetros obtenidos en la búsqueda de grilla\n",
    "clf = svm.SVC(kernel='rbf', C=1, gamma=0.1)  \n",
    "\n",
    "# Entrenar el modelo utilizando los datos de entrenamiento\n",
    "clf.fit(X_entreno, y_entreno)\n",
    "\n",
    "# Realizar predicciones en el conjunto de prueba\n",
    "predicciones = clf.predict(X_prueba)\n",
    "\n",
    "# Calcular el accuracy\n",
    "accuracy = accuracy_score(y_prueba, predicciones)\n",
    "\n",
    "# Mostrar el accuracy\n",
    "print(\"Accuracy:\", accuracy)\n",
    "print(\"Recall:\", recall_score(y_prueba, predicciones, average='weighted'))\n",
    "#print(\"Precision:\", precision_score(y_prueba, predicciones, average='weighted'))\n",
    "#print(\"F1:\", f1_score(y_prueba, predicciones, average='weighted'))"
   ]
  },
  {
   "attachments": {},
   "cell_type": "markdown",
   "metadata": {},
   "source": [
    "* _Podemos apreciar que el cambio a los hiperparámetros representa un gran cambio en el score del modelo, por lo que se confirma que los hiperparámetros escogidos son los más óptimos; el accuracy y el recall están por encima del 0.93, lo cual es un buen resultado._"
   ]
  },
  {
   "attachments": {},
   "cell_type": "markdown",
   "metadata": {},
   "source": [
    "## Impacto de las diferentes variables en el rendimiento del modelo"
   ]
  },
  {
   "attachments": {},
   "cell_type": "markdown",
   "metadata": {},
   "source": [
    "* _En este acercamiento, se busca observar las variables más implicadas en las condiciones de vida de la madre en vez del desarrollo del embarazo como tal. Con esto, buscamos encontrar el impacto que tienen las condiciones de vida de la madre en el resultado del embarazo._"
   ]
  },
  {
   "cell_type": "code",
   "execution_count": 11,
   "metadata": {},
   "outputs": [],
   "source": [
    "columnas = X.columns.tolist()\n",
    "causas = [0, 1]"
   ]
  },
  {
   "attachments": {},
   "cell_type": "markdown",
   "metadata": {},
   "source": [
    "### Escolaridad de la madre"
   ]
  },
  {
   "cell_type": "code",
   "execution_count": 12,
   "metadata": {},
   "outputs": [],
   "source": [
    "df0 = df[df['Causa_Defunción'] == 0]\n",
    "df1 = df[df['Causa_Defunción'] == 1]"
   ]
  },
  {
   "cell_type": "code",
   "execution_count": 13,
   "metadata": {},
   "outputs": [
    {
     "name": "stdout",
     "output_type": "stream",
     "text": [
      "35271\n"
     ]
    },
    {
     "data": {
      "text/plain": [
       "1     10999\n",
       "2     10369\n",
       "99     6113\n",
       "3      3991\n",
       "4      3303\n",
       "5       493\n",
       "6         3\n",
       "Name: Escolaridad_Madre, dtype: int64"
      ]
     },
     "execution_count": 13,
     "metadata": {},
     "output_type": "execute_result"
    }
   ],
   "source": [
    "# Causa de defunción = 0 = Parto\n",
    "print(len(df0['Escolaridad_Madre']))\n",
    "df0['Escolaridad_Madre'].value_counts()"
   ]
  },
  {
   "cell_type": "code",
   "execution_count": 14,
   "metadata": {},
   "outputs": [
    {
     "name": "stdout",
     "output_type": "stream",
     "text": [
      "35271\n"
     ]
    },
    {
     "data": {
      "text/plain": [
       "2     13408\n",
       "1      9995\n",
       "3      5075\n",
       "4      3003\n",
       "99     2818\n",
       "5       972\n",
       "Name: Escolaridad_Madre, dtype: int64"
      ]
     },
     "execution_count": 14,
     "metadata": {},
     "output_type": "execute_result"
    }
   ],
   "source": [
    "# Causa de defunción = 1 = Embarazo\n",
    "print(len(df1['Escolaridad_Madre']))\n",
    "df1['Escolaridad_Madre'].value_counts()"
   ]
  },
  {
   "attachments": {},
   "cell_type": "markdown",
   "metadata": {},
   "source": [
    "* _En relación a la escolaridad de la madre, hay una mayor persistencia de defunciones durante el parto en madres con ninguna educación o con educación primaria._\n",
    "* _Por otro lado, las defunciones fetales durante el embarazo son más persistentes en madres con primaria._\n",
    "* _Debido a esto, podemos ver una tendencia a mayor mortalidad en madres con menor nivel de educación._"
   ]
  },
  {
   "cell_type": "code",
   "execution_count": 15,
   "metadata": {},
   "outputs": [
    {
     "name": "stdout",
     "output_type": "stream",
     "text": [
      "---------------------------------------------------------------------------\n",
      "Causa de defunción:  Parto\n",
      "Nivel de educación de la madre:  Básico\n",
      "Predicción:  [0 0 0 ... 0 0 0]\n",
      "Realidad:  [0 0 0 ... 0 0 0]\n",
      "Cambio:  1.4553014553014554 %\n",
      "---------------------------------------------------------------------------\n",
      "Causa de defunción:  Embarazo\n",
      "Nivel de educación de la madre:  Básico\n",
      "Predicción:  [0 1 0 ... 0 0 1]\n",
      "Realidad:  [1 1 1 ... 1 1 1]\n",
      "Cambio:  46.16329616329617 %\n",
      "---------------------------------------------------------------------------\n",
      "Causa de defunción:  Parto\n",
      "Nivel de educación de la madre:  Universidad\n",
      "Predicción:  [0 0 0 ... 0 0 0]\n",
      "Realidad:  [0 0 0 ... 0 0 0]\n",
      "Cambio:  0.8221508221508222 %\n",
      "---------------------------------------------------------------------------\n",
      "Causa de defunción:  Embarazo\n",
      "Nivel de educación de la madre:  Universidad\n",
      "Predicción:  [0 1 0 ... 0 0 1]\n",
      "Realidad:  [1 1 1 ... 1 1 1]\n",
      "Cambio:  70.44037044037043 %\n",
      "---------------------------------------------------------------------------\n",
      "Causa de defunción:  Parto\n",
      "Nivel de educación de la madre:  Postgrado\n",
      "Predicción:  [0 0 0 ... 0 0 0]\n",
      "Realidad:  [0 0 0 ... 0 0 0]\n",
      "Cambio:  0.378000378000378 %\n",
      "---------------------------------------------------------------------------\n",
      "Causa de defunción:  Embarazo\n",
      "Nivel de educación de la madre:  Postgrado\n",
      "Predicción:  [0 0 0 ... 0 0 0]\n",
      "Realidad:  [1 1 1 ... 1 1 1]\n",
      "Cambio:  86.79833679833679 %\n"
     ]
    }
   ],
   "source": [
    "# Nivel de educación de la madre - Universidad\n",
    "\n",
    "niveles_edu = [4, 5, 6]\n",
    "\n",
    "for n in niveles_edu:\n",
    "    for c in causas:\n",
    "        df_1 = df[df['Causa_Defunción'] == c] # causa de defunción\n",
    "        df_1 = df_1[columnas + ['Causa_Defunción']]\n",
    "\n",
    "        df_1['Escolaridad_Madre'] = n # Universidad\n",
    "\n",
    "        x_train, x_test, y_train, y_test = train_test_split(df_1.drop('Causa_Defunción', axis=1), df_1['Causa_Defunción'], test_size=0.3, random_state=42)\n",
    "        y_correct = clf.predict(x_test)\n",
    "\n",
    "        print(\"---------------------------------------------------------------------------\")\n",
    "        causa = ''\n",
    "        if c == 0:\n",
    "            causa = 'Parto'\n",
    "        elif c == 1:\n",
    "            causa = 'Embarazo'\n",
    "\n",
    "        educacion = ''\n",
    "        if n == 4:\n",
    "            educacion = 'Básico'\n",
    "        elif n == 5:\n",
    "            educacion = 'Universidad'\n",
    "        elif n == 6:\n",
    "            educacion = 'Postgrado'\n",
    "\n",
    "        print(\"Causa de defunción: \", causa)\n",
    "        print(\"Nivel de educación de la madre: \", educacion)\n",
    "        \n",
    "        print('Predicción: ', y_correct)\n",
    "        print('Realidad: ', y_test.values)\n",
    "        print(\"Cambio: \", (y_correct != y_test).sum() / len(y_test) * 100, \"%\")\n",
    "\n"
   ]
  },
  {
   "attachments": {},
   "cell_type": "markdown",
   "metadata": {},
   "source": [
    "### Total de hijos de la madre"
   ]
  },
  {
   "cell_type": "code",
   "execution_count": 16,
   "metadata": {},
   "outputs": [
    {
     "name": "stderr",
     "output_type": "stream",
     "text": [
      "C:\\Users\\DIEGO\\AppData\\Local\\Temp\\ipykernel_13044\\2508835345.py:3: SettingWithCopyWarning: \n",
      "A value is trying to be set on a copy of a slice from a DataFrame.\n",
      "Try using .loc[row_indexer,col_indexer] = value instead\n",
      "\n",
      "See the caveats in the documentation: https://pandas.pydata.org/pandas-docs/stable/user_guide/indexing.html#returning-a-view-versus-a-copy\n",
      "  df0['Total_Hijos_Vivos'] = np.round(df0['Total_Hijos_Vivos'])\n",
      "C:\\Users\\DIEGO\\AppData\\Local\\Temp\\ipykernel_13044\\2508835345.py:4: SettingWithCopyWarning: \n",
      "A value is trying to be set on a copy of a slice from a DataFrame.\n",
      "Try using .loc[row_indexer,col_indexer] = value instead\n",
      "\n",
      "See the caveats in the documentation: https://pandas.pydata.org/pandas-docs/stable/user_guide/indexing.html#returning-a-view-versus-a-copy\n",
      "  df1['Total_Hijos_Vivos'] = np.round(df1['Total_Hijos_Vivos'])\n",
      "C:\\Users\\DIEGO\\AppData\\Local\\Temp\\ipykernel_13044\\2508835345.py:5: SettingWithCopyWarning: \n",
      "A value is trying to be set on a copy of a slice from a DataFrame.\n",
      "Try using .loc[row_indexer,col_indexer] = value instead\n",
      "\n",
      "See the caveats in the documentation: https://pandas.pydata.org/pandas-docs/stable/user_guide/indexing.html#returning-a-view-versus-a-copy\n",
      "  df0['Total_Hijos_Vivos'] = df0['Total_Hijos_Vivos'].astype(int)\n",
      "C:\\Users\\DIEGO\\AppData\\Local\\Temp\\ipykernel_13044\\2508835345.py:6: SettingWithCopyWarning: \n",
      "A value is trying to be set on a copy of a slice from a DataFrame.\n",
      "Try using .loc[row_indexer,col_indexer] = value instead\n",
      "\n",
      "See the caveats in the documentation: https://pandas.pydata.org/pandas-docs/stable/user_guide/indexing.html#returning-a-view-versus-a-copy\n",
      "  df1['Total_Hijos_Vivos'] = df1['Total_Hijos_Vivos'].astype(int)\n"
     ]
    }
   ],
   "source": [
    "df0 = df[df['Causa_Defunción'] == 0]\n",
    "df1 = df[df['Causa_Defunción'] == 1]\n",
    "df0['Total_Hijos_Vivos'] = np.round(df0['Total_Hijos_Vivos'])\n",
    "df1['Total_Hijos_Vivos'] = np.round(df1['Total_Hijos_Vivos'])\n",
    "df0['Total_Hijos_Vivos'] = df0['Total_Hijos_Vivos'].astype(int)\n",
    "df1['Total_Hijos_Vivos'] = df1['Total_Hijos_Vivos'].astype(int)"
   ]
  },
  {
   "attachments": {},
   "cell_type": "markdown",
   "metadata": {},
   "source": [
    "* _La cantidad de hijos vivos resulta más relevante que la cantidad de hijos difuntos._"
   ]
  },
  {
   "cell_type": "code",
   "execution_count": 17,
   "metadata": {},
   "outputs": [
    {
     "name": "stdout",
     "output_type": "stream",
     "text": [
      "35271\n"
     ]
    },
    {
     "data": {
      "text/plain": [
       "3     16616\n",
       "1      8049\n",
       "2      4270\n",
       "4      1748\n",
       "5      1286\n",
       "0       981\n",
       "6       917\n",
       "7       570\n",
       "8       365\n",
       "9       224\n",
       "10      139\n",
       "11       69\n",
       "12       24\n",
       "13       10\n",
       "16        1\n",
       "15        1\n",
       "14        1\n",
       "Name: Total_Hijos_Vivos, dtype: int64"
      ]
     },
     "execution_count": 17,
     "metadata": {},
     "output_type": "execute_result"
    }
   ],
   "source": [
    "# Causa de defunción = 0 = Parto\n",
    "print(len(df0['Total_Hijos_Vivos']))\n",
    "df0['Total_Hijos_Vivos'].value_counts()"
   ]
  },
  {
   "cell_type": "code",
   "execution_count": 18,
   "metadata": {},
   "outputs": [
    {
     "name": "stdout",
     "output_type": "stream",
     "text": [
      "35271\n"
     ]
    },
    {
     "data": {
      "text/plain": [
       "3     14692\n",
       "1      9188\n",
       "2      5512\n",
       "4      1615\n",
       "5      1405\n",
       "6       982\n",
       "7       522\n",
       "9       436\n",
       "8       352\n",
       "0       269\n",
       "10      185\n",
       "12       58\n",
       "11       55\n",
       "Name: Total_Hijos_Vivos, dtype: int64"
      ]
     },
     "execution_count": 18,
     "metadata": {},
     "output_type": "execute_result"
    }
   ],
   "source": [
    "# Causa de defunción = 1 = Embarazo\n",
    "print(len(df1['Total_Hijos_Vivos']))\n",
    "df1['Total_Hijos_Vivos'].value_counts()"
   ]
  },
  {
   "attachments": {},
   "cell_type": "markdown",
   "metadata": {},
   "source": [
    "* _El punto de cambio en la cantidad de hijos vivos se encuentra en 4 hijos vivos, donde se observa un cambio en la tendencia de la mortalidad._"
   ]
  },
  {
   "cell_type": "code",
   "execution_count": 19,
   "metadata": {},
   "outputs": [
    {
     "name": "stdout",
     "output_type": "stream",
     "text": [
      "---------------------------------------------------------------------------\n",
      "Causa de defunción:  Parto\n",
      "Cantidad de hijos vivos:  0\n",
      "Predicción:  [0 0 0 ... 0 0 0]\n",
      "Realidad:  [0 0 0 ... 0 0 0]\n",
      "Cambio:  1.2757512757512757 %\n",
      "---------------------------------------------------------------------------\n",
      "Causa de defunción:  Embarazo\n",
      "Cantidad de hijos vivos:  0\n",
      "Predicción:  [0 1 0 ... 0 1 1]\n",
      "Realidad:  [1 1 1 ... 1 1 1]\n",
      "Cambio:  54.15800415800416 %\n",
      "---------------------------------------------------------------------------\n",
      "Causa de defunción:  Parto\n",
      "Cantidad de hijos vivos:  0\n",
      "Predicción:  [0 0 0 ... 0 0 0]\n",
      "Realidad:  [0 0 0 ... 0 0 0]\n",
      "Cambio:  1.2757512757512757 %\n",
      "---------------------------------------------------------------------------\n",
      "Causa de defunción:  Embarazo\n",
      "Cantidad de hijos vivos:  1\n",
      "Predicción:  [1 1 1 ... 1 1 1]\n",
      "Realidad:  [1 1 1 ... 1 1 1]\n",
      "Cambio:  24.305424305424307 %\n",
      "---------------------------------------------------------------------------\n",
      "Causa de defunción:  Parto\n",
      "Cantidad de hijos vivos:  7\n",
      "Predicción:  [0 0 0 ... 0 0 0]\n",
      "Realidad:  [0 0 0 ... 0 0 0]\n",
      "Cambio:  0.2079002079002079 %\n",
      "---------------------------------------------------------------------------\n",
      "Causa de defunción:  Embarazo\n",
      "Cantidad de hijos vivos:  8\n",
      "Predicción:  [0 0 0 ... 0 0 0]\n",
      "Realidad:  [1 1 1 ... 1 1 1]\n",
      "Cambio:  91.53279153279153 %\n",
      "---------------------------------------------------------------------------\n",
      "Causa de defunción:  Parto\n",
      "Cantidad de hijos vivos:  8\n",
      "Predicción:  [0 0 0 ... 0 0 0]\n",
      "Realidad:  [0 0 0 ... 0 0 0]\n",
      "Cambio:  0.08505008505008506 %\n",
      "---------------------------------------------------------------------------\n",
      "Causa de defunción:  Embarazo\n",
      "Cantidad de hijos vivos:  10\n",
      "Predicción:  [0 0 0 ... 0 0 0]\n",
      "Realidad:  [1 1 1 ... 1 1 1]\n",
      "Cambio:  96.1916461916462 %\n"
     ]
    }
   ],
   "source": [
    "# Nivel de educación de la madre - Universidad\n",
    "from random import randint\n",
    "\n",
    "i = 0\n",
    "while i < 4:\n",
    "    for c in causas:\n",
    "        df_1 = df[df['Causa_Defunción'] == c] # causa de defunción\n",
    "        df_1 = df_1[columnas + ['Causa_Defunción']]\n",
    "\n",
    "        if i < 2:\n",
    "            # random upsample\n",
    "            n = randint(0, 4)\n",
    "            df_1['Total_Hijos_Vivos'] = n \n",
    "        else:\n",
    "            # random downsample\n",
    "            n = randint(5, 10)\n",
    "            df_1['Total_Hijos_Vivos'] = n\n",
    "\n",
    "        #df_1['Escolaridad_Madre'] = n # Universidad\n",
    "\n",
    "        x_train, x_test, y_train, y_test = train_test_split(df_1.drop('Causa_Defunción', axis=1), df_1['Causa_Defunción'], test_size=0.3, random_state=42)\n",
    "        y_correct = clf.predict(x_test)\n",
    "\n",
    "        print(\"---------------------------------------------------------------------------\")\n",
    "        causa = ''\n",
    "        if c == 0:\n",
    "            causa = 'Parto'\n",
    "        elif c == 1:\n",
    "            causa = 'Embarazo'\n",
    "\n",
    "\n",
    "        print(\"Causa de defunción: \", causa)\n",
    "        print(\"Cantidad de hijos vivos: \", n)\n",
    "        \n",
    "        print('Predicción: ', y_correct)\n",
    "        print('Realidad: ', y_test.values)\n",
    "        print(\"Cambio: \", (y_correct != y_test).sum() / len(y_test) * 100, \"%\")\n",
    "\n",
    "    i += 1\n",
    "\n"
   ]
  },
  {
   "attachments": {},
   "cell_type": "markdown",
   "metadata": {},
   "source": [
    "### Estado civil de la madre"
   ]
  },
  {
   "cell_type": "code",
   "execution_count": 20,
   "metadata": {},
   "outputs": [],
   "source": [
    "df0 = df[df['Causa_Defunción'] == 0] # Parto\n",
    "df1 = df[df['Causa_Defunción'] == 1] # Embarazo"
   ]
  },
  {
   "cell_type": "code",
   "execution_count": 21,
   "metadata": {},
   "outputs": [
    {
     "data": {
      "text/plain": [
       "1     18061\n",
       "2     14216\n",
       "99     2891\n",
       "3       103\n",
       "Name: Estado_Civil_Madre, dtype: int64"
      ]
     },
     "execution_count": 21,
     "metadata": {},
     "output_type": "execute_result"
    }
   ],
   "source": [
    "df0['Estado_Civil_Madre'].value_counts()"
   ]
  },
  {
   "cell_type": "code",
   "execution_count": 22,
   "metadata": {},
   "outputs": [
    {
     "data": {
      "text/plain": [
       "1     17224\n",
       "2     16647\n",
       "99     1006\n",
       "3       394\n",
       "Name: Estado_Civil_Madre, dtype: int64"
      ]
     },
     "execution_count": 22,
     "metadata": {},
     "output_type": "execute_result"
    }
   ],
   "source": [
    "df1['Estado_Civil_Madre'].value_counts()"
   ]
  },
  {
   "cell_type": "code",
   "execution_count": 23,
   "metadata": {},
   "outputs": [
    {
     "name": "stdout",
     "output_type": "stream",
     "text": [
      "---------------------------------------------------------------------------\n",
      "Causa de defunción:  Parto\n",
      "Estado civil de la madre:  Soltera\n",
      "Predicción:  [ 0  0  0 ...  0  0 99]\n",
      "Realidad:  [0 0 0 ... 0 0 0]\n",
      "Cambio:  2.1168021168021167 %\n",
      "---------------------------------------------------------------------------\n",
      "Causa de defunción:  Embarazo\n",
      "Estado civil de la madre:  Soltera\n",
      "Predicción:  [1 1 0 ... 1 1 1]\n",
      "Realidad:  [1 1 1 ... 1 1 1]\n",
      "Cambio:  3.4209034209034206 %\n",
      "---------------------------------------------------------------------------\n",
      "Causa de defunción:  Parto\n",
      "Estado civil de la madre:  Casada\n",
      "Predicción:  [ 0  0  0 ...  0  0 99]\n",
      "Realidad:  [0 0 0 ... 0 0 0]\n",
      "Cambio:  2.3625023625023625 %\n",
      "---------------------------------------------------------------------------\n",
      "Causa de defunción:  Embarazo\n",
      "Estado civil de la madre:  Casada\n",
      "Predicción:  [1 1 0 ... 1 1 1]\n",
      "Realidad:  [1 1 1 ... 1 1 1]\n",
      "Cambio:  3.298053298053298 %\n",
      "---------------------------------------------------------------------------\n",
      "Causa de defunción:  Parto\n",
      "Estado civil de la madre:  Unión Libre\n",
      "Predicción:  [ 0  0  0 ...  0  0 99]\n",
      "Realidad:  [0 0 0 ... 0 0 0]\n",
      "Cambio:  2.5137025137025137 %\n",
      "---------------------------------------------------------------------------\n",
      "Causa de defunción:  Embarazo\n",
      "Estado civil de la madre:  Unión Libre\n",
      "Predicción:  [0 1 0 ... 0 1 0]\n",
      "Realidad:  [1 1 1 ... 1 1 1]\n",
      "Cambio:  17.444717444717444 %\n"
     ]
    }
   ],
   "source": [
    "# Nivel de educación de la madre - Universidad\n",
    "\n",
    "estadoCivil = {1:'Soltera', 2:'Casada', 3:'Unión Libre'}\n",
    "\n",
    "for n in estadoCivil:\n",
    "    for c in causas:\n",
    "        df_1 = df[df['Causa_Defunción'] == c] # causa de defunción\n",
    "        df_1 = df_1[columnas + ['Causa_Defunción']]\n",
    "\n",
    "        df_1['Estado_Civil_Madre'] = n # Universidad\n",
    "\n",
    "        x_train, x_test, y_train, y_test = train_test_split(df_1.drop('Causa_Defunción', axis=1), df_1['Causa_Defunción'], test_size=0.3, random_state=42)\n",
    "        y_correct = clf.predict(x_test)\n",
    "\n",
    "        print(\"---------------------------------------------------------------------------\")\n",
    "        causa = ''\n",
    "        if c == 0:\n",
    "            causa = 'Parto'\n",
    "        elif c == 1:\n",
    "            causa = 'Embarazo'\n",
    "\n",
    "        print(\"Causa de defunción: \", causa)\n",
    "        print(\"Estado civil de la madre: \", estadoCivil[n])\n",
    "        \n",
    "        print('Predicción: ', y_correct)\n",
    "        print('Realidad: ', y_test.values)\n",
    "        print(\"Cambio: \", (y_correct != y_test).sum() / len(y_test) * 100, \"%\")\n",
    "\n"
   ]
  },
  {
   "attachments": {},
   "cell_type": "markdown",
   "metadata": {},
   "source": [
    "### Edad de la madre"
   ]
  },
  {
   "attachments": {},
   "cell_type": "markdown",
   "metadata": {},
   "source": [
    "#### Exploración de la variable de edad de la madre"
   ]
  },
  {
   "cell_type": "code",
   "execution_count": 24,
   "metadata": {},
   "outputs": [],
   "source": [
    "df0 = df[df['Causa_Defunción'] == 0]\n",
    "df1 = df[df['Causa_Defunción'] == 1]"
   ]
  },
  {
   "cell_type": "code",
   "execution_count": 26,
   "metadata": {},
   "outputs": [
    {
     "data": {
      "image/png": "[encoded data removed]",
      "text/plain": [
       "<Figure size 640x480 with 1 Axes>"
      ]
     },
     "metadata": {},
     "output_type": "display_data"
    }
   ],
   "source": [
    "df0['Edad_Madre'].value_counts()\n",
    "# diagrama de tendencia central\n",
    "import seaborn as sns\n",
    "sns.set(style=\"whitegrid\")\n",
    "ax = sns.boxplot(x=df0[\"Edad_Madre\"])"
   ]
  },
  {
   "cell_type": "code",
   "execution_count": 27,
   "metadata": {},
   "outputs": [
    {
     "data": {
      "image/png": "[encoded data removed]",
      "text/plain": [
       "<Figure size 640x480 with 1 Axes>"
      ]
     },
     "metadata": {},
     "output_type": "display_data"
    }
   ],
   "source": [
    "df1['Edad_Madre'].value_counts()\n",
    "# diagrama de tendencia central\n",
    "ax = sns.boxplot(x=df1[\"Edad_Madre\"])\n",
    "\n"
   ]
  },
  {
   "attachments": {},
   "cell_type": "markdown",
   "metadata": {},
   "source": [
    "#### Comparación de rangos en la edad de la madre"
   ]
  },
  {
   "cell_type": "code",
   "execution_count": 33,
   "metadata": {},
   "outputs": [
    {
     "name": "stdout",
     "output_type": "stream",
     "text": [
      "---------------------------------------------------------------------------\n",
      "Causa de defunción:  Parto\n",
      "Edad de la madre:  11-20\n",
      "Predicción:  [0 0 0 ... 0 0 0]\n",
      "Realidad:  [0 0 0 ... 0 0 0]\n",
      "Cambio:  2.5236593059936907 %\n",
      "---------------------------------------------------------------------------\n",
      "Causa de defunción:  Embarazo\n",
      "Edad de la madre:  11-20\n",
      "Predicción:  [1 1 1 ... 1 1 1]\n",
      "Realidad:  [1 1 1 ... 1 1 1]\n",
      "Cambio:  0.0 %\n",
      "---------------------------------------------------------------------------\n",
      "Causa de defunción:  Parto\n",
      "Edad de la madre:  21-30\n",
      "Predicción:  [0 0 0 ... 0 0 0]\n",
      "Realidad:  [0 0 0 ... 0 0 0]\n",
      "Cambio:  3.281519861830743 %\n",
      "---------------------------------------------------------------------------\n",
      "Causa de defunción:  Embarazo\n",
      "Edad de la madre:  21-30\n",
      "Predicción:  [1 1 1 ... 1 1 1]\n",
      "Realidad:  [1 1 1 ... 1 1 1]\n",
      "Cambio:  1.949748743718593 %\n",
      "---------------------------------------------------------------------------\n",
      "Causa de defunción:  Parto\n",
      "Edad de la madre:  31-40\n",
      "Predicción:  [0 0 0 ... 0 0 0]\n",
      "Realidad:  [0 0 0 ... 0 0 0]\n",
      "Cambio:  1.6042780748663104 %\n",
      "---------------------------------------------------------------------------\n",
      "Causa de defunción:  Embarazo\n",
      "Edad de la madre:  31-40\n",
      "Predicción:  [1 1 1 ... 1 1 1]\n",
      "Realidad:  [1 1 1 ... 1 1 1]\n",
      "Cambio:  0.0 %\n",
      "---------------------------------------------------------------------------\n",
      "Causa de defunción:  Parto\n",
      "Edad de la madre:  41-50\n",
      "Predicción:  [0 0 0 0 0 0 0 0 0 0 0 0 0 0 0 0 0 0 0 0 0 0 0 0 0 0 0 0 0 0 0 0 0 0 0 0 0\n",
      " 0 0 0 0 0 0 0 0 0 0 0 0 0 0 0 0 0 0 0 0 0 0 0 0 0 0 0 0 0 0 0 0 0 0 0 0 0\n",
      " 0 0 0 0 0 0 0 0 0 0 0 0 0 0 0 0 0 0 0 0 0 0 0 0 0 0 0 0 0 0 0 1 0 0 0 0 0\n",
      " 0 0 0 0 0 0 0 0 0 0 0 0 0 0 0 0 0 0 0 0 0 0 0 0 0 0 0 0 0 0 0 0 0 0 0 0 0\n",
      " 0 0 0 0 0 0 0 0 0 0 0 0 0 0 0 0 0 0 0 0 0 0 0 0 0 0 0 0 0 0 0 0 0 0 0 0 0\n",
      " 0 0 0 0 0 0 0 0 0 0 0 0 0 0 0 0 0 0 0 0 0 0 0 0 0 0 0 0 0 0 0 0 0 0 0 0 0\n",
      " 0 0 0 0 0 0 0 0 0 0 0 0 0 0 0 0 0 0 0 0 0 0 0 0 0 0 0 0 0 1 0 0 0 0 0 0 0\n",
      " 0 0 0 0 0 0 0 0 0 0 0 0 0 0 0 0 0 0 0 0 0 0 0 0 0 0 0 0 0 0 0 0 0 0 0 0 0\n",
      " 0 0 0 0 0 0 0 0 0 0 0 0 0 0 0 0 0 0 0 0 0 0 0 0 0 0 0 0 0 0 0 0 0 0 0 0 0\n",
      " 0 0 0 0 0 0 0 0 0 0 0 0 0 0 0 0 0 0 0 0 0 0 0 0 0 0 0 0 0 0 0 0 0 0 0 0 0\n",
      " 0 0 0 0 0 0 0 0 0 0 0 0 0 0 0 0 0 0 0 0 0 0 0 0 0 0 0 0 0 0 0 0 0 0 0 0 0\n",
      " 0 0 0 0 0 0 0 0 0 0 0 0 0 0 0 0 0 1 0 0 0 0 0 0 0 0 0 0 0 0 0 0 0 0 0 0 0\n",
      " 0 0 0 0 0 0 0 0 0 0 0 0 0 0 0 0 0 0 0 0 0 0 0 0 0 0 0 0 0 0 0 0]\n",
      "Realidad:  [0 0 0 0 0 0 0 0 0 0 0 0 0 0 0 0 0 0 0 0 0 0 0 0 0 0 0 0 0 0 0 0 0 0 0 0 0\n",
      " 0 0 0 0 0 0 0 0 0 0 0 0 0 0 0 0 0 0 0 0 0 0 0 0 0 0 0 0 0 0 0 0 0 0 0 0 0\n",
      " 0 0 0 0 0 0 0 0 0 0 0 0 0 0 0 0 0 0 0 0 0 0 0 0 0 0 0 0 0 0 0 0 0 0 0 0 0\n",
      " 0 0 0 0 0 0 0 0 0 0 0 0 0 0 0 0 0 0 0 0 0 0 0 0 0 0 0 0 0 0 0 0 0 0 0 0 0\n",
      " 0 0 0 0 0 0 0 0 0 0 0 0 0 0 0 0 0 0 0 0 0 0 0 0 0 0 0 0 0 0 0 0 0 0 0 0 0\n",
      " 0 0 0 0 0 0 0 0 0 0 0 0 0 0 0 0 0 0 0 0 0 0 0 0 0 0 0 0 0 0 0 0 0 0 0 0 0\n",
      " 0 0 0 0 0 0 0 0 0 0 0 0 0 0 0 0 0 0 0 0 0 0 0 0 0 0 0 0 0 0 0 0 0 0 0 0 0\n",
      " 0 0 0 0 0 0 0 0 0 0 0 0 0 0 0 0 0 0 0 0 0 0 0 0 0 0 0 0 0 0 0 0 0 0 0 0 0\n",
      " 0 0 0 0 0 0 0 0 0 0 0 0 0 0 0 0 0 0 0 0 0 0 0 0 0 0 0 0 0 0 0 0 0 0 0 0 0\n",
      " 0 0 0 0 0 0 0 0 0 0 0 0 0 0 0 0 0 0 0 0 0 0 0 0 0 0 0 0 0 0 0 0 0 0 0 0 0\n",
      " 0 0 0 0 0 0 0 0 0 0 0 0 0 0 0 0 0 0 0 0 0 0 0 0 0 0 0 0 0 0 0 0 0 0 0 0 0\n",
      " 0 0 0 0 0 0 0 0 0 0 0 0 0 0 0 0 0 0 0 0 0 0 0 0 0 0 0 0 0 0 0 0 0 0 0 0 0\n",
      " 0 0 0 0 0 0 0 0 0 0 0 0 0 0 0 0 0 0 0 0 0 0 0 0 0 0 0 0 0 0 0 0]\n",
      "Cambio:  0.6302521008403361 %\n",
      "---------------------------------------------------------------------------\n",
      "Causa de defunción:  Embarazo\n",
      "Edad de la madre:  41-50\n",
      "Predicción:  [1 1 1 1 1 1 1 1 1 1 1 1 1 1 1 1 1 1 1 1 1 1 1 1 1 1 1 1 1 1 1 1 1 1 1 1 1\n",
      " 1 1 1 1 1 1 1 1 1 1 1 1 1 1 1 1 1 1 1 1 1 1 1 1 1 1 1 1 1 1 1 1 1 1 1 1 1\n",
      " 1 1 1 1 1 1 1 1 1 1 1 1 1 1 1 1 1 1 1 1 1 1 1 1 1 1 1 1 1 1 1 1 1 1 1 1 1\n",
      " 1 1 1 1 1 1 1 1 1 1 1 1 1 1 1 1 1 1 1 1 1 1 1 1 1 1 1 1 1 1 1 1 1 1 1 1 1\n",
      " 1 1 1 1 1 1 1 1 1 1 1 1 1 1 1 1 1 1 1 1 1 1 1 1 1 1 1 1 1 1 1 1 1 1 1 1 1\n",
      " 1 1 1 1 1 1 1 1 1 1 1 1 1 1 1 1 1 1 1 1 1 1 1 1 1 1 1 1 1 1 1 1 1 1 1 1 1\n",
      " 1 1 1 1 1 1 1 1 1 1 1 1 1 1 1 1 1 1 1 1 1 1 1 1 1 1 1 1 1 1 1 1 1 1 1 1 1\n",
      " 1 1 1 1 1 1 1 1 1 1 1 1 1 1 1 1 1 1 1 1 1 1 1 1 1 1 1 1 1 1 1 1 1 1 1 1 1\n",
      " 1 1 1 1 1 1 1 1 1 1 1 1 1 1 1 1 1 1 1 1 1 1 1 1 1 1 1 1 1 1 1 1 1 1 1 1 1\n",
      " 1 1 1 1 1 1 1 1 1 1 1 1 1 1 1 1 1 1 1 1 1 1 1 1 1 1 1 1 1 1 1 1 1 1 1 1 1\n",
      " 1 1 1 1 1 1 1 1 1 1 1 1 1 1 1 1 1 1 1 1 1 1 1 1 1 1 1 1 1 1 1 1 1 1 1 1 1\n",
      " 1 1 1 1 1 1 1 1 1 1 1 1 1 1 1 1 1 1 1 1 1 1 1 1 1 1 1 1 1 1 1 1 1 1 1 1 1\n",
      " 1 1 1 1 1 1 1 1 1 1 1 1 1 1 1 1 1 1 1 1 1 1 1 1 1 1 1 1 1 1 1 1 1 1 1 1 1\n",
      " 1 1 1 1 1 1 1 1 1 1 1 1 1 1 1 1 1 1 1 1 1 1 1 1 1 1 1 1 1 1 1 1 1 1 1 1 1\n",
      " 1 1 1]\n",
      "Realidad:  [1 1 1 1 1 1 1 1 1 1 1 1 1 1 1 1 1 1 1 1 1 1 1 1 1 1 1 1 1 1 1 1 1 1 1 1 1\n",
      " 1 1 1 1 1 1 1 1 1 1 1 1 1 1 1 1 1 1 1 1 1 1 1 1 1 1 1 1 1 1 1 1 1 1 1 1 1\n",
      " 1 1 1 1 1 1 1 1 1 1 1 1 1 1 1 1 1 1 1 1 1 1 1 1 1 1 1 1 1 1 1 1 1 1 1 1 1\n",
      " 1 1 1 1 1 1 1 1 1 1 1 1 1 1 1 1 1 1 1 1 1 1 1 1 1 1 1 1 1 1 1 1 1 1 1 1 1\n",
      " 1 1 1 1 1 1 1 1 1 1 1 1 1 1 1 1 1 1 1 1 1 1 1 1 1 1 1 1 1 1 1 1 1 1 1 1 1\n",
      " 1 1 1 1 1 1 1 1 1 1 1 1 1 1 1 1 1 1 1 1 1 1 1 1 1 1 1 1 1 1 1 1 1 1 1 1 1\n",
      " 1 1 1 1 1 1 1 1 1 1 1 1 1 1 1 1 1 1 1 1 1 1 1 1 1 1 1 1 1 1 1 1 1 1 1 1 1\n",
      " 1 1 1 1 1 1 1 1 1 1 1 1 1 1 1 1 1 1 1 1 1 1 1 1 1 1 1 1 1 1 1 1 1 1 1 1 1\n",
      " 1 1 1 1 1 1 1 1 1 1 1 1 1 1 1 1 1 1 1 1 1 1 1 1 1 1 1 1 1 1 1 1 1 1 1 1 1\n",
      " 1 1 1 1 1 1 1 1 1 1 1 1 1 1 1 1 1 1 1 1 1 1 1 1 1 1 1 1 1 1 1 1 1 1 1 1 1\n",
      " 1 1 1 1 1 1 1 1 1 1 1 1 1 1 1 1 1 1 1 1 1 1 1 1 1 1 1 1 1 1 1 1 1 1 1 1 1\n",
      " 1 1 1 1 1 1 1 1 1 1 1 1 1 1 1 1 1 1 1 1 1 1 1 1 1 1 1 1 1 1 1 1 1 1 1 1 1\n",
      " 1 1 1 1 1 1 1 1 1 1 1 1 1 1 1 1 1 1 1 1 1 1 1 1 1 1 1 1 1 1 1 1 1 1 1 1 1\n",
      " 1 1 1 1 1 1 1 1 1 1 1 1 1 1 1 1 1 1 1 1 1 1 1 1 1 1 1 1 1 1 1 1 1 1 1 1 1\n",
      " 1 1 1]\n",
      "Cambio:  0.0 %\n",
      "---------------------------------------------------------------------------\n",
      "Causa de defunción:  Parto\n",
      "Edad de la madre:  51+\n",
      "Predicción:  [0 0 0]\n",
      "Realidad:  [0 0 0]\n",
      "Cambio:  0.0 %\n"
     ]
    }
   ],
   "source": [
    "edades = {\n",
    "    '11-20': (11, 20),\n",
    "    '21-30': (21, 30),\n",
    "    '31-40': (31, 40),\n",
    "    '41-50': (41, 50),\n",
    "    '51+': (51, float('inf'))\n",
    "}\n",
    "\n",
    "for n in edades:\n",
    "    ini, fin = edades[n]\n",
    "    for c in causas:\n",
    "        df_1 = df[df['Causa_Defunción'] == c]  # causa de defunción\n",
    "        df_1 = df_1[columnas + ['Causa_Defunción']]\n",
    "        df_1 = df_1[(df_1['Edad_Madre'] >= ini) & (df_1['Edad_Madre'] <= fin)]\n",
    "\n",
    "        if len(df_1) == 0:\n",
    "            continue  # Skip this iteration if there are no samples in the age range\n",
    "\n",
    "        x_train, x_test, y_train, y_test = train_test_split(df_1.drop('Causa_Defunción', axis=1), df_1['Causa_Defunción'], test_size=0.3, random_state=42)\n",
    "\n",
    "        if len(x_train) == 0 or len(x_test) == 0:\n",
    "            continue  # Skip this iteration if there are not enough samples for training or testing\n",
    "\n",
    "        y_correct = clf.predict(x_test)\n",
    "\n",
    "        print(\"---------------------------------------------------------------------------\")\n",
    "        causa = ''\n",
    "        if c == 0:\n",
    "            causa = 'Parto'\n",
    "        elif c == 1:\n",
    "            causa = 'Embarazo'\n",
    "\n",
    "        print(\"Causa de defunción: \", causa)\n",
    "        print(\"Edad de la madre: \", n)\n",
    "\n",
    "        print('Predicción: ', y_correct)\n",
    "        print('Realidad: ', y_test.values)\n",
    "        print(\"Cambio: \", (y_correct != y_test).sum() / len(y_test) * 100, \"%\")\n"
   ]
  },
  {
   "attachments": {},
   "cell_type": "markdown",
   "metadata": {},
   "source": [
    "### Etnia de la madre"
   ]
  },
  {
   "cell_type": "code",
   "execution_count": 28,
   "metadata": {},
   "outputs": [],
   "source": [
    "df0 = df[df['Causa_Defunción'] == 0]\n",
    "df1 = df[df['Causa_Defunción'] == 1]"
   ]
  },
  {
   "cell_type": "code",
   "execution_count": 29,
   "metadata": {},
   "outputs": [
    {
     "data": {
      "text/plain": [
       "1     12317\n",
       "2      8797\n",
       "99     7016\n",
       "3      3674\n",
       "4      3051\n",
       "5       383\n",
       "6        19\n",
       "7        14\n",
       "Name: Grupo_Etnico_Madre, dtype: int64"
      ]
     },
     "execution_count": 29,
     "metadata": {},
     "output_type": "execute_result"
    }
   ],
   "source": [
    "df0['Grupo_Etnico_Madre'].value_counts()"
   ]
  },
  {
   "cell_type": "code",
   "execution_count": 30,
   "metadata": {},
   "outputs": [
    {
     "data": {
      "text/plain": [
       "1     11050\n",
       "2      9069\n",
       "3      5564\n",
       "99     4812\n",
       "4      4337\n",
       "5       368\n",
       "6        71\n",
       "Name: Grupo_Etnico_Madre, dtype: int64"
      ]
     },
     "execution_count": 30,
     "metadata": {},
     "output_type": "execute_result"
    }
   ],
   "source": [
    "df1['Grupo_Etnico_Madre'].value_counts()"
   ]
  },
  {
   "cell_type": "code",
   "execution_count": 31,
   "metadata": {},
   "outputs": [
    {
     "name": "stdout",
     "output_type": "stream",
     "text": [
      "---------------------------------------------------------------------------\n",
      "Causa de defunción:  Parto\n",
      "Etnia de la madre:  Maya\n",
      "Predicción:  [ 0  0  0 ...  0  0 99]\n",
      "Realidad:  [0 0 0 ... 0 0 0]\n",
      "Cambio:  3.5721035721035723 %\n",
      "---------------------------------------------------------------------------\n",
      "Causa de defunción:  Embarazo\n",
      "Etnia de la madre:  Maya\n",
      "Predicción:  [1 1 0 ... 1 1 1]\n",
      "Realidad:  [1 1 1 ... 1 1 1]\n",
      "Cambio:  26.346626346626344 %\n",
      "---------------------------------------------------------------------------\n",
      "Causa de defunción:  Parto\n",
      "Etnia de la madre:  Ladina/Mestiza\n",
      "Predicción:  [ 0  0  0 ...  0  0 99]\n",
      "Realidad:  [0 0 0 ... 0 0 0]\n",
      "Cambio:  3.0712530712530715 %\n",
      "---------------------------------------------------------------------------\n",
      "Causa de defunción:  Embarazo\n",
      "Etnia de la madre:  Ladina/Mestiza\n",
      "Predicción:  [1 1 0 ... 1 1 1]\n",
      "Realidad:  [1 1 1 ... 1 1 1]\n",
      "Cambio:  15.77206577206577 %\n",
      "---------------------------------------------------------------------------\n",
      "Causa de defunción:  Parto\n",
      "Etnia de la madre:  Indígena\n",
      "Predicción:  [0 0 0 ... 0 0 1]\n",
      "Realidad:  [0 0 0 ... 0 0 0]\n",
      "Cambio:  3.5437535437535437 %\n",
      "---------------------------------------------------------------------------\n",
      "Causa de defunción:  Embarazo\n",
      "Etnia de la madre:  Indígena\n",
      "Predicción:  [1 1 0 ... 1 1 1]\n",
      "Realidad:  [1 1 1 ... 1 1 1]\n",
      "Cambio:  24.390474390474388 %\n",
      "---------------------------------------------------------------------------\n",
      "Causa de defunción:  Parto\n",
      "Etnia de la madre:  No Indígena\n",
      "Predicción:  [0 0 0 ... 0 0 1]\n",
      "Realidad:  [0 0 0 ... 0 0 0]\n",
      "Cambio:  4.261954261954262 %\n",
      "---------------------------------------------------------------------------\n",
      "Causa de defunción:  Embarazo\n",
      "Etnia de la madre:  No Indígena\n",
      "Predicción:  [1 0 0 ... 0 1 1]\n",
      "Realidad:  [1 1 1 ... 1 1 1]\n",
      "Cambio:  41.59894159894159 %\n",
      "---------------------------------------------------------------------------\n",
      "Causa de defunción:  Parto\n",
      "Etnia de la madre:  Otra\n",
      "Predicción:  [0 0 0 ... 0 0 1]\n",
      "Realidad:  [0 0 0 ... 0 0 0]\n",
      "Cambio:  4.110754110754111 %\n",
      "---------------------------------------------------------------------------\n",
      "Causa de defunción:  Embarazo\n",
      "Etnia de la madre:  Otra\n",
      "Predicción:  [0 0 0 ... 0 0 1]\n",
      "Realidad:  [1 1 1 ... 1 1 1]\n",
      "Cambio:  62.37951237951238 %\n",
      "---------------------------------------------------------------------------\n",
      "Causa de defunción:  Parto\n",
      "Etnia de la madre:  Garífuna\n",
      "Predicción:  [0 0 0 ... 0 0 0]\n",
      "Realidad:  [0 0 0 ... 0 0 0]\n",
      "Cambio:  2.797202797202797 %\n",
      "---------------------------------------------------------------------------\n",
      "Causa de defunción:  Embarazo\n",
      "Etnia de la madre:  Garífuna\n",
      "Predicción:  [0 0 0 ... 0 0 1]\n",
      "Realidad:  [1 1 1 ... 1 1 1]\n",
      "Cambio:  79.26667926667926 %\n",
      "---------------------------------------------------------------------------\n",
      "Causa de defunción:  Parto\n",
      "Etnia de la madre:  Xinca\n",
      "Predicción:  [0 0 0 ... 0 0 0]\n",
      "Realidad:  [0 0 0 ... 0 0 0]\n",
      "Cambio:  0.6615006615006614 %\n",
      "---------------------------------------------------------------------------\n",
      "Causa de defunción:  Embarazo\n",
      "Etnia de la madre:  Xinca\n",
      "Predicción:  [0 0 0 ... 0 0 0]\n",
      "Realidad:  [1 1 1 ... 1 1 1]\n",
      "Cambio:  93.78189378189377 %\n"
     ]
    }
   ],
   "source": [
    "\n",
    "etnias = {\n",
    "    1: 'Maya',\n",
    "    2: 'Ladina/Mestiza',\n",
    "    3: 'Indígena',\n",
    "    4: 'No Indígena',\n",
    "    5: 'Otra',\n",
    "    6: 'Garífuna',\n",
    "    7: 'Xinca'\n",
    "}\n",
    "\n",
    "for n in etnias:\n",
    "    for c in causas:\n",
    "        df_1 = df[df['Causa_Defunción'] == c] # causa de defunción\n",
    "        df_1 = df_1[columnas + ['Causa_Defunción']]\n",
    "\n",
    "        df_1['Grupo_Etnico_Madre'] = n # etnia\n",
    "\n",
    "        x_train, x_test, y_train, y_test = train_test_split(df_1.drop('Causa_Defunción', axis=1), df_1['Causa_Defunción'], test_size=0.3, random_state=42)\n",
    "        y_correct = clf.predict(x_test)\n",
    "\n",
    "        print(\"---------------------------------------------------------------------------\")\n",
    "        causa = ''\n",
    "        if c == 0:\n",
    "            causa = 'Parto'\n",
    "        elif c == 1:\n",
    "            causa = 'Embarazo'\n",
    "\n",
    "        print(\"Causa de defunción: \", causa)\n",
    "        print(\"Etnia de la madre: \", etnias[n])\n",
    "        \n",
    "        print('Predicción: ', y_correct)\n",
    "        print('Realidad: ', y_test.values)\n",
    "        print(\"Cambio: \", (y_correct != y_test).sum() / len(y_test) * 100, \"%\")"
   ]
  }
 ],
 "metadata": {
  "kernelspec": {
   "display_name": "Python 3",
   "language": "python",
   "name": "python3"
  },
  "language_info": {
   "codemirror_mode": {
    "name": "ipython",
    "version": 3
   },
   "file_extension": ".py",
   "mimetype": "text/x-python",
   "name": "python",
   "nbconvert_exporter": "python",
   "pygments_lexer": "ipython3",
   "version": "3.9.2"
  },
  "orig_nbformat": 4
 },
 "nbformat": 4,
 "nbformat_minor": 2
}
