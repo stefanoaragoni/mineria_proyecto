{
 "cells": [
  {
   "attachments": {},
   "cell_type": "markdown",
   "metadata": {},
   "source": [
    "# Modelado con SVM (Support Vector Machine)"
   ]
  },
  {
   "attachments": {},
   "cell_type": "markdown",
   "metadata": {},
   "source": [
    "## Preparación de información para el modelo"
   ]
  },
  {
   "cell_type": "code",
   "execution_count": 1,
   "metadata": {},
   "outputs": [],
   "source": [
    "import pandas as pd\n",
    "import numpy as np\n",
    "from collections import Counter\n",
    "import numpy as np \n",
    "from sklearn.model_selection import train_test_split\n",
    "from sklearn.utils import resample"
   ]
  },
  {
   "cell_type": "code",
   "execution_count": 2,
   "metadata": {},
   "outputs": [],
   "source": [
    "#leer csv\n",
    "df = pd.read_csv('defunciones_clean.csv')"
   ]
  },
  {
   "attachments": {},
   "cell_type": "markdown",
   "metadata": {},
   "source": [
    "### Manejo de columnas y balanceo en causas de defunción"
   ]
  },
  {
   "attachments": {},
   "cell_type": "markdown",
   "metadata": {},
   "source": [
    "- Eliminación de columnas irrelevantes para el modelo"
   ]
  },
  {
   "cell_type": "code",
   "execution_count": 3,
   "metadata": {},
   "outputs": [],
   "source": [
    "# Eliminar columnas no relevantes (segun analisis exploratorio anteriormente realizado)\n",
    "df.drop('Departamento_Registro', axis=1, inplace=True)\n",
    "df.drop('Municipio_Registro', axis=1, inplace=True)\n",
    "\n",
    "df.drop('Municipio_Ocurrencia', axis=1, inplace=True)   \n",
    "df.drop('Departamento_Residencia_Madre', axis=1, inplace=True) \n",
    "\n",
    "df.drop('Municipio_Residencia_Madre', axis=1, inplace=True)\n",
    "df.drop('Departamento_Ocurrencia', axis=1, inplace=True)\n",
    "\n",
    "df.drop('Año_Ocurrencia', axis=1, inplace=True)\n",
    "df.drop('Mes_Ocurrencia', axis=1, inplace=True)\n",
    "df.drop('Día_Ocurrencia', axis=1, inplace=True)        # No se considera el día de ocurrencia\n",
    "\n",
    "df.drop('Año_Registro', axis=1, inplace=True)\n",
    "df.drop('Mes_Registro', axis=1, inplace=True)\n",
    "\n",
    "df = df[df.Causa_Defunción != 99]\n",
    "\n",
    "df.head()"
   ]
  },
  {
   "attachments": {},
   "cell_type": "markdown",
   "metadata": {},
   "source": [
    "- Balanceo de clases en causas de defunción"
   ]
  },
  {
   "cell_type": "code",
   "execution_count": 4,
   "metadata": {},
   "outputs": [
    {
     "name": "stdout",
     "output_type": "stream",
     "text": [
      "Cantidad de registros:  35832\n",
      "Cantidad de registros por causa de defunción: \n",
      "0    35271\n",
      "1      561\n",
      "Name: Causa_Defunción, dtype: int64\n",
      "Cantidad de registros por causa de defunción: \n",
      "0    35271\n",
      "1    35271\n",
      "Name: Causa_Defunción, dtype: int64\n"
     ]
    }
   ],
   "source": [
    "from imblearn.over_sampling import RandomOverSampler\n",
    "\n",
    "print('Cantidad de registros: ', len(df))\n",
    "print('Cantidad de registros por causa de defunción: ')\n",
    "print(df['Causa_Defunción'].value_counts())\n",
    "\n",
    "x = df.drop('Causa_Defunción', axis=1)\n",
    "y = df['Causa_Defunción']\n",
    "\n",
    "balance = RandomOverSampler(sampling_strategy='minority')\n",
    "x_balance, y_balance = balance.fit_resample(x, y)\n",
    "\n",
    "df = pd.concat([x_balance, y_balance], axis=1)\n",
    "\n",
    "print('Cantidad de registros por causa de defunción: ')\n",
    "print(df['Causa_Defunción'].value_counts())"
   ]
  },
  {
   "attachments": {},
   "cell_type": "markdown",
   "metadata": {},
   "source": [
    "- Separar en entrenaminto y prueba"
   ]
  },
  {
   "cell_type": "code",
   "execution_count": 5,
   "metadata": {},
   "outputs": [
    {
     "name": "stdout",
     "output_type": "stream",
     "text": [
      "Cantidad de registros:  70542\n",
      "Cantidad de registros de entrenamiento:  35271\n",
      "Cantidad de registros de prueba:  35271\n"
     ]
    },
    {
     "data": {
      "text/html": [
       "<div>\n",
       "<style scoped>\n",
       "    .dataframe tbody tr th:only-of-type {\n",
       "        vertical-align: middle;\n",
       "    }\n",
       "\n",
       "    .dataframe tbody tr th {\n",
       "        vertical-align: top;\n",
       "    }\n",
       "\n",
       "    .dataframe thead th {\n",
       "        text-align: right;\n",
       "    }\n",
       "</style>\n",
       "<table border=\"1\" class=\"dataframe\">\n",
       "  <thead>\n",
       "    <tr style=\"text-align: right;\">\n",
       "      <th></th>\n",
       "      <th>Área_Geográfica</th>\n",
       "      <th>Asistencia_Recibida</th>\n",
       "      <th>Año_Ocurrencia</th>\n",
       "      <th>Clase_Parto</th>\n",
       "      <th>Edad_Madre</th>\n",
       "      <th>Estado_Civil_Madre</th>\n",
       "      <th>Escolaridad_Madre</th>\n",
       "      <th>Ocupación_Madre</th>\n",
       "      <th>Semanas_Gestacion</th>\n",
       "      <th>Sexo</th>\n",
       "      <th>Sitio_Ocurrencia</th>\n",
       "      <th>Tipo_Atencion</th>\n",
       "      <th>Total_Hijos_Nacidos</th>\n",
       "      <th>Total_Hijos_Nacidos_Muertos</th>\n",
       "      <th>Total_Hijos_Vivos</th>\n",
       "      <th>Via_Parto</th>\n",
       "      <th>Nacionalidad_Madre</th>\n",
       "      <th>Grupo_Etnico_Madre</th>\n",
       "      <th>Causa_Defunción</th>\n",
       "    </tr>\n",
       "  </thead>\n",
       "  <tbody>\n",
       "    <tr>\n",
       "      <th>0</th>\n",
       "      <td>99</td>\n",
       "      <td>6</td>\n",
       "      <td>2009</td>\n",
       "      <td>1</td>\n",
       "      <td>18.0</td>\n",
       "      <td>2</td>\n",
       "      <td>99</td>\n",
       "      <td>99</td>\n",
       "      <td>34.416349</td>\n",
       "      <td>1</td>\n",
       "      <td>2</td>\n",
       "      <td>1</td>\n",
       "      <td>1.269311</td>\n",
       "      <td>2.0</td>\n",
       "      <td>1.0</td>\n",
       "      <td>99</td>\n",
       "      <td>1</td>\n",
       "      <td>4</td>\n",
       "      <td>0</td>\n",
       "    </tr>\n",
       "    <tr>\n",
       "      <th>1</th>\n",
       "      <td>99</td>\n",
       "      <td>1</td>\n",
       "      <td>2009</td>\n",
       "      <td>1</td>\n",
       "      <td>36.0</td>\n",
       "      <td>2</td>\n",
       "      <td>99</td>\n",
       "      <td>1</td>\n",
       "      <td>34.416349</td>\n",
       "      <td>1</td>\n",
       "      <td>9</td>\n",
       "      <td>1</td>\n",
       "      <td>1.269311</td>\n",
       "      <td>3.0</td>\n",
       "      <td>2.0</td>\n",
       "      <td>99</td>\n",
       "      <td>1</td>\n",
       "      <td>4</td>\n",
       "      <td>0</td>\n",
       "    </tr>\n",
       "    <tr>\n",
       "      <th>2</th>\n",
       "      <td>99</td>\n",
       "      <td>2</td>\n",
       "      <td>2009</td>\n",
       "      <td>1</td>\n",
       "      <td>22.0</td>\n",
       "      <td>2</td>\n",
       "      <td>99</td>\n",
       "      <td>99</td>\n",
       "      <td>34.416349</td>\n",
       "      <td>1</td>\n",
       "      <td>2</td>\n",
       "      <td>1</td>\n",
       "      <td>1.269311</td>\n",
       "      <td>3.0</td>\n",
       "      <td>2.0</td>\n",
       "      <td>99</td>\n",
       "      <td>1</td>\n",
       "      <td>4</td>\n",
       "      <td>0</td>\n",
       "    </tr>\n",
       "    <tr>\n",
       "      <th>3</th>\n",
       "      <td>99</td>\n",
       "      <td>2</td>\n",
       "      <td>2009</td>\n",
       "      <td>1</td>\n",
       "      <td>26.0</td>\n",
       "      <td>2</td>\n",
       "      <td>99</td>\n",
       "      <td>99</td>\n",
       "      <td>34.416349</td>\n",
       "      <td>1</td>\n",
       "      <td>2</td>\n",
       "      <td>1</td>\n",
       "      <td>1.269311</td>\n",
       "      <td>0.0</td>\n",
       "      <td>0.0</td>\n",
       "      <td>99</td>\n",
       "      <td>1</td>\n",
       "      <td>4</td>\n",
       "      <td>0</td>\n",
       "    </tr>\n",
       "    <tr>\n",
       "      <th>4</th>\n",
       "      <td>99</td>\n",
       "      <td>2</td>\n",
       "      <td>2009</td>\n",
       "      <td>1</td>\n",
       "      <td>43.0</td>\n",
       "      <td>2</td>\n",
       "      <td>99</td>\n",
       "      <td>99</td>\n",
       "      <td>34.416349</td>\n",
       "      <td>2</td>\n",
       "      <td>2</td>\n",
       "      <td>1</td>\n",
       "      <td>1.269311</td>\n",
       "      <td>10.0</td>\n",
       "      <td>6.0</td>\n",
       "      <td>99</td>\n",
       "      <td>1</td>\n",
       "      <td>4</td>\n",
       "      <td>0</td>\n",
       "    </tr>\n",
       "  </tbody>\n",
       "</table>\n",
       "</div>"
      ],
      "text/plain": [
       "   Área_Geográfica  Asistencia_Recibida  Año_Ocurrencia  Clase_Parto  \\\n",
       "0               99                    6            2009            1   \n",
       "1               99                    1            2009            1   \n",
       "2               99                    2            2009            1   \n",
       "3               99                    2            2009            1   \n",
       "4               99                    2            2009            1   \n",
       "\n",
       "   Edad_Madre  Estado_Civil_Madre  Escolaridad_Madre  Ocupación_Madre  \\\n",
       "0        18.0                   2                 99               99   \n",
       "1        36.0                   2                 99                1   \n",
       "2        22.0                   2                 99               99   \n",
       "3        26.0                   2                 99               99   \n",
       "4        43.0                   2                 99               99   \n",
       "\n",
       "   Semanas_Gestacion  Sexo  Sitio_Ocurrencia  Tipo_Atencion  \\\n",
       "0          34.416349     1                 2              1   \n",
       "1          34.416349     1                 9              1   \n",
       "2          34.416349     1                 2              1   \n",
       "3          34.416349     1                 2              1   \n",
       "4          34.416349     2                 2              1   \n",
       "\n",
       "   Total_Hijos_Nacidos  Total_Hijos_Nacidos_Muertos  Total_Hijos_Vivos  \\\n",
       "0             1.269311                          2.0                1.0   \n",
       "1             1.269311                          3.0                2.0   \n",
       "2             1.269311                          3.0                2.0   \n",
       "3             1.269311                          0.0                0.0   \n",
       "4             1.269311                         10.0                6.0   \n",
       "\n",
       "   Via_Parto  Nacionalidad_Madre  Grupo_Etnico_Madre  Causa_Defunción  \n",
       "0         99                   1                   4                0  \n",
       "1         99                   1                   4                0  \n",
       "2         99                   1                   4                0  \n",
       "3         99                   1                   4                0  \n",
       "4         99                   1                   4                0  "
      ]
     },
     "execution_count": 5,
     "metadata": {},
     "output_type": "execute_result"
    }
   ],
   "source": [
    "print('Cantidad de registros: ', len(df))\n",
    "\n",
    "X = df.drop(\"Causa_Defunción\", axis=1)\n",
    "Y = df[\"Causa_Defunción\"]\n",
    "\n",
    "#dividir el dataset en conjunto de entrenamiento y conjunto de testing\n",
    "X_entreno, X_prueba, y_entreno, y_prueba = train_test_split(X, Y, test_size=0.5, random_state=100)\n",
    "\n",
    "print('Cantidad de registros de entrenamiento: ', len(X_entreno))\n",
    "print('Cantidad de registros de prueba: ', len(X_prueba))\n",
    "\n",
    "df.head()\n",
    "\n"
   ]
  },
  {
   "attachments": {},
   "cell_type": "markdown",
   "metadata": {},
   "source": [
    "## Creación del modelo SVM"
   ]
  },
  {
   "attachments": {},
   "cell_type": "markdown",
   "metadata": {},
   "source": [
    "Se utiiza GridSearchCV para determinar que hiperparámetros son los más óptimos para el respectivo modelo."
   ]
  },
  {
   "cell_type": "code",
   "execution_count": 6,
   "metadata": {},
   "outputs": [],
   "source": [
    "from sklearn.model_selection import GridSearchCV\n",
    "from sklearn import svm\n",
    "import matplotlib.pyplot as plt\n",
    "\n",
    "params = {\n",
    "    'C': [0.1, 1, 10, 100, 1000],\n",
    "    'gamma': [1, 0.1, 0.01, 0.001, 0.0001],\n",
    "    'kernel': ['rbf', 'linear', 'sigmoid', 'poly']\n",
    "}\n",
    "\n",
    "svm_dummy = svm.SVC()\n",
    "\n",
    "# smaller sample size for grid search, since it is an exhaustive process and it takes a lot of time\n",
    "X_entreno_sample = X_entreno.sample(frac=0.001, random_state=100)\n",
    "y_entreno_sample = y_entreno.sample(frac=0.001, random_state=100)\n",
    "\n",
    "svm_grid = GridSearchCV(svm_dummy, params, n_jobs=-1, verbose=2, cv=3)"
   ]
  },
  {
   "cell_type": "code",
   "execution_count": 7,
   "metadata": {},
   "outputs": [
    {
     "name": "stdout",
     "output_type": "stream",
     "text": [
      "Fitting 3 folds for each of 100 candidates, totalling 300 fits\n",
      "Grid search results:\n",
      "---------------------\n",
      "{'mean_fit_time': array([0.00798575, 0.00942318, 0.00659585, 0.01339976, 0.00767016,\n",
      "       0.00736451, 0.00637134, 0.01066232, 0.00574772, 0.00591667,\n",
      "       0.00566586, 0.01042851, 0.00532611, 0.00635997, 0.00601713,\n",
      "       0.00933274, 0.00531268, 0.00538564, 0.00588608, 0.00833368,\n",
      "       0.00563232, 0.00633272, 0.00727145, 0.01066653, 0.00532023,\n",
      "       0.00885272, 0.00530767, 0.01284568, 0.00532913, 0.00633621,\n",
      "       0.00506862, 0.01664178, 0.00518394, 0.00857353, 0.00646345,\n",
      "       0.01067519, 0.01031001, 0.00899259, 0.00599106, 0.01138028,\n",
      "       0.0052646 , 0.00867224, 0.00702993, 0.01270986, 0.00573309,\n",
      "       0.00798869, 0.00570226, 0.01855453, 0.00668788, 0.00966509,\n",
      "       0.00517948, 0.01919762, 0.00601935, 0.00766468, 0.00449705,\n",
      "       0.01099984, 0.00447019, 0.00833503, 0.00594552, 0.01134586,\n",
      "       0.00633526, 0.01066597, 0.00840735, 0.01004028, 0.00697796,\n",
      "       0.01963743, 0.00632437, 0.01166654, 0.00557383, 0.01098847,\n",
      "       0.00765944, 0.01167115, 0.00531586, 0.01131606, 0.01073885,\n",
      "       0.01801713, 0.00671967, 0.0133334 , 0.00460847, 0.0116748 ,\n",
      "       0.01200755, 0.01467093, 0.00466466, 0.01202559, 0.00501299,\n",
      "       0.01567125, 0.00519013, 0.01233284, 0.00521859, 0.02204092,\n",
      "       0.004035  , 0.01100532, 0.01699837, 0.03263545, 0.00548402,\n",
      "       0.01166447, 0.00472641, 0.01528144, 0.00533064, 0.00866532]), 'std_fit_time': array([1.40604784e-03, 2.17087008e-03, 8.23103535e-04, 3.49453873e-03,\n",
      "       2.48919748e-03, 1.86461796e-03, 4.24976701e-04, 1.23114305e-03,\n",
      "       3.56676974e-04, 1.15712102e-04, 9.42685120e-04, 7.95137991e-04,\n",
      "       4.79883332e-04, 4.96250478e-04, 7.96742106e-04, 2.05398594e-03,\n",
      "       1.22767114e-03, 4.33798439e-04, 1.50912679e-03, 2.62402497e-03,\n",
      "       9.73418929e-04, 3.59858936e-04, 1.41114307e-04, 3.09208023e-03,\n",
      "       1.25081234e-03, 2.89834264e-03, 2.70428124e-04, 2.25788004e-03,\n",
      "       4.73493456e-04, 4.70721163e-04, 9.60410356e-05, 8.05969863e-03,\n",
      "       6.05801890e-04, 2.16338253e-03, 1.51451770e-03, 9.55891238e-04,\n",
      "       4.79602778e-03, 3.54930024e-03, 1.43726374e-03, 2.92196671e-03,\n",
      "       3.70836390e-04, 1.73008206e-03, 2.80559297e-03, 2.87334188e-03,\n",
      "       5.21481782e-04, 8.28430495e-04, 1.66402163e-03, 9.83111235e-03,\n",
      "       1.48225735e-03, 9.09455482e-04, 1.66777900e-03, 5.54681485e-03,\n",
      "       1.28798255e-03, 4.71707689e-04, 4.30063281e-04, 8.15659226e-04,\n",
      "       4.08332280e-04, 4.70583975e-04, 1.45503271e-03, 4.44420034e-04,\n",
      "       4.72887891e-04, 3.77377287e-03, 3.32842272e-03, 2.80102062e-03,\n",
      "       7.45341891e-04, 1.36901477e-02, 1.28035454e-03, 1.24725695e-03,\n",
      "       8.10681424e-04, 1.64739662e-03, 3.09457261e-03, 4.76777404e-04,\n",
      "       4.87407910e-04, 2.86762767e-03, 4.57128475e-03, 5.33194262e-03,\n",
      "       1.77421229e-03, 5.43586935e-03, 5.56227678e-04, 4.76298717e-04,\n",
      "       8.53676900e-03, 7.41861841e-03, 4.65682694e-04, 4.04913592e-03,\n",
      "       7.17802705e-04, 7.39648921e-03, 1.82141441e-03, 2.62140109e-03,\n",
      "       7.53154752e-04, 1.76563704e-02, 8.17859898e-04, 8.24338741e-04,\n",
      "       8.98353732e-03, 2.51872595e-02, 7.32793439e-04, 3.08700574e-03,\n",
      "       1.02585430e-03, 1.18209804e-02, 9.46338860e-04, 2.49304719e-03]), 'mean_score_time': array([0.00573953, 0.00891709, 0.01231233, 0.00397388, 0.00613093,\n",
      "       0.00397023, 0.00584642, 0.00471226, 0.00458407, 0.00426014,\n",
      "       0.00438062, 0.00400154, 0.00466752, 0.00332801, 0.00464392,\n",
      "       0.00534391, 0.00630037, 0.00430719, 0.00387629, 0.0073355 ,\n",
      "       0.00471679, 0.00455999, 0.00452137, 0.00411765, 0.00463541,\n",
      "       0.00388304, 0.00419633, 0.00442934, 0.00410851, 0.00399661,\n",
      "       0.0039711 , 0.00662843, 0.0054245 , 0.00400114, 0.00753125,\n",
      "       0.0033253 , 0.00468985, 0.00468111, 0.00432793, 0.00429654,\n",
      "       0.00440327, 0.0056231 , 0.00663193, 0.00508467, 0.00401266,\n",
      "       0.00400996, 0.0053041 , 0.00509421, 0.00522709, 0.00533422,\n",
      "       0.00503874, 0.00446876, 0.00559362, 0.00500488, 0.00416915,\n",
      "       0.00476265, 0.00386095, 0.00414713, 0.00371655, 0.00866159,\n",
      "       0.00566514, 0.00702659, 0.00458161, 0.00395608, 0.00429384,\n",
      "       0.00534074, 0.00666356, 0.00333405, 0.00633486, 0.00867653,\n",
      "       0.00970546, 0.00799592, 0.00793481, 0.01532531, 0.00559862,\n",
      "       0.00408451, 0.01598326, 0.00566864, 0.00399963, 0.00399129,\n",
      "       0.00399741, 0.00566196, 0.00413569, 0.00371591, 0.0065817 ,\n",
      "       0.00432531, 0.00340637, 0.00367355, 0.00647982, 0.00429304,\n",
      "       0.0029792 , 0.00338896, 0.00567412, 0.00540193, 0.00431728,\n",
      "       0.00467078, 0.00460831, 0.00409921, 0.00633399, 0.00367252]), 'std_score_time': array([1.63251366e-03, 3.65001067e-03, 9.09373059e-03, 9.05909374e-04,\n",
      "       9.75618400e-04, 2.86422414e-04, 1.68805958e-03, 1.18048382e-03,\n",
      "       4.23129820e-04, 5.32672864e-04, 1.02841121e-03, 1.12391596e-07,\n",
      "       9.41055015e-04, 4.30036904e-04, 9.57439441e-04, 4.80811248e-04,\n",
      "       4.96598766e-04, 1.23900237e-03, 1.71247214e-04, 4.68120105e-04,\n",
      "       9.53878427e-04, 7.77392602e-04, 1.05252778e-03, 8.35000964e-04,\n",
      "       4.51187422e-04, 2.69611978e-04, 4.75188000e-04, 4.26228187e-04,\n",
      "       8.10869342e-05, 3.23992047e-06, 1.79423565e-04, 3.80047905e-03,\n",
      "       1.82612235e-03, 1.99589248e-05, 4.99552562e-03, 4.77833991e-04,\n",
      "       9.29103760e-04, 4.49623096e-04, 4.68235084e-04, 4.95832961e-04,\n",
      "       4.33710606e-04, 1.73434866e-03, 4.47856861e-04, 1.36972227e-03,\n",
      "       5.78122312e-05, 1.44487691e-05, 1.19688831e-03, 1.52437382e-03,\n",
      "       1.10581335e-03, 4.71146214e-04, 8.19861650e-04, 4.17946447e-04,\n",
      "       1.78009182e-03, 8.19261492e-04, 5.82244346e-04, 8.83681366e-04,\n",
      "       6.53267603e-04, 1.32377593e-03, 5.09189763e-04, 6.60349392e-03,\n",
      "       1.70064127e-03, 2.44426021e-03, 4.23365447e-04, 8.93517281e-04,\n",
      "       5.00071487e-04, 4.59776299e-04, 3.83737157e-03, 4.72550476e-04,\n",
      "       2.48835309e-03, 4.63444005e-03, 6.69154885e-03, 3.72983316e-03,\n",
      "       6.42739732e-03, 1.25576076e-02, 2.04880982e-03, 1.16240461e-04,\n",
      "       1.56406611e-02, 4.67661472e-04, 8.16155710e-04, 1.06772016e-05,\n",
      "       1.65379947e-05, 4.92644712e-04, 9.76350472e-04, 9.19112257e-04,\n",
      "       2.58372351e-03, 4.57434459e-04, 4.17054244e-04, 4.76948844e-04,\n",
      "       3.75557241e-03, 9.16063739e-04, 6.04463069e-05, 4.36289815e-04,\n",
      "       1.24854892e-03, 1.17465932e-03, 4.49623855e-04, 4.66425124e-04,\n",
      "       8.58335171e-04, 1.38865582e-04, 4.71241140e-03, 1.24890401e-03]), 'param_C': masked_array(data=[0.1, 0.1, 0.1, 0.1, 0.1, 0.1, 0.1, 0.1, 0.1, 0.1, 0.1,\n",
      "                   0.1, 0.1, 0.1, 0.1, 0.1, 0.1, 0.1, 0.1, 0.1, 1, 1, 1,\n",
      "                   1, 1, 1, 1, 1, 1, 1, 1, 1, 1, 1, 1, 1, 1, 1, 1, 1, 10,\n",
      "                   10, 10, 10, 10, 10, 10, 10, 10, 10, 10, 10, 10, 10, 10,\n",
      "                   10, 10, 10, 10, 10, 100, 100, 100, 100, 100, 100, 100,\n",
      "                   100, 100, 100, 100, 100, 100, 100, 100, 100, 100, 100,\n",
      "                   100, 100, 1000, 1000, 1000, 1000, 1000, 1000, 1000,\n",
      "                   1000, 1000, 1000, 1000, 1000, 1000, 1000, 1000, 1000,\n",
      "                   1000, 1000, 1000, 1000],\n",
      "             mask=[False, False, False, False, False, False, False, False,\n",
      "                   False, False, False, False, False, False, False, False,\n",
      "                   False, False, False, False, False, False, False, False,\n",
      "                   False, False, False, False, False, False, False, False,\n",
      "                   False, False, False, False, False, False, False, False,\n",
      "                   False, False, False, False, False, False, False, False,\n",
      "                   False, False, False, False, False, False, False, False,\n",
      "                   False, False, False, False, False, False, False, False,\n",
      "                   False, False, False, False, False, False, False, False,\n",
      "                   False, False, False, False, False, False, False, False,\n",
      "                   False, False, False, False, False, False, False, False,\n",
      "                   False, False, False, False, False, False, False, False,\n",
      "                   False, False, False, False],\n",
      "       fill_value='?',\n",
      "            dtype=object), 'param_gamma': masked_array(data=[1, 1, 1, 1, 0.1, 0.1, 0.1, 0.1, 0.01, 0.01, 0.01, 0.01,\n",
      "                   0.001, 0.001, 0.001, 0.001, 0.0001, 0.0001, 0.0001,\n",
      "                   0.0001, 1, 1, 1, 1, 0.1, 0.1, 0.1, 0.1, 0.01, 0.01,\n",
      "                   0.01, 0.01, 0.001, 0.001, 0.001, 0.001, 0.0001, 0.0001,\n",
      "                   0.0001, 0.0001, 1, 1, 1, 1, 0.1, 0.1, 0.1, 0.1, 0.01,\n",
      "                   0.01, 0.01, 0.01, 0.001, 0.001, 0.001, 0.001, 0.0001,\n",
      "                   0.0001, 0.0001, 0.0001, 1, 1, 1, 1, 0.1, 0.1, 0.1, 0.1,\n",
      "                   0.01, 0.01, 0.01, 0.01, 0.001, 0.001, 0.001, 0.001,\n",
      "                   0.0001, 0.0001, 0.0001, 0.0001, 1, 1, 1, 1, 0.1, 0.1,\n",
      "                   0.1, 0.1, 0.01, 0.01, 0.01, 0.01, 0.001, 0.001, 0.001,\n",
      "                   0.001, 0.0001, 0.0001, 0.0001, 0.0001],\n",
      "             mask=[False, False, False, False, False, False, False, False,\n",
      "                   False, False, False, False, False, False, False, False,\n",
      "                   False, False, False, False, False, False, False, False,\n",
      "                   False, False, False, False, False, False, False, False,\n",
      "                   False, False, False, False, False, False, False, False,\n",
      "                   False, False, False, False, False, False, False, False,\n",
      "                   False, False, False, False, False, False, False, False,\n",
      "                   False, False, False, False, False, False, False, False,\n",
      "                   False, False, False, False, False, False, False, False,\n",
      "                   False, False, False, False, False, False, False, False,\n",
      "                   False, False, False, False, False, False, False, False,\n",
      "                   False, False, False, False, False, False, False, False,\n",
      "                   False, False, False, False],\n",
      "       fill_value='?',\n",
      "            dtype=object), 'param_kernel': masked_array(data=['rbf', 'linear', 'sigmoid', 'poly', 'rbf', 'linear',\n",
      "                   'sigmoid', 'poly', 'rbf', 'linear', 'sigmoid', 'poly',\n",
      "                   'rbf', 'linear', 'sigmoid', 'poly', 'rbf', 'linear',\n",
      "                   'sigmoid', 'poly', 'rbf', 'linear', 'sigmoid', 'poly',\n",
      "                   'rbf', 'linear', 'sigmoid', 'poly', 'rbf', 'linear',\n",
      "                   'sigmoid', 'poly', 'rbf', 'linear', 'sigmoid', 'poly',\n",
      "                   'rbf', 'linear', 'sigmoid', 'poly', 'rbf', 'linear',\n",
      "                   'sigmoid', 'poly', 'rbf', 'linear', 'sigmoid', 'poly',\n",
      "                   'rbf', 'linear', 'sigmoid', 'poly', 'rbf', 'linear',\n",
      "                   'sigmoid', 'poly', 'rbf', 'linear', 'sigmoid', 'poly',\n",
      "                   'rbf', 'linear', 'sigmoid', 'poly', 'rbf', 'linear',\n",
      "                   'sigmoid', 'poly', 'rbf', 'linear', 'sigmoid', 'poly',\n",
      "                   'rbf', 'linear', 'sigmoid', 'poly', 'rbf', 'linear',\n",
      "                   'sigmoid', 'poly', 'rbf', 'linear', 'sigmoid', 'poly',\n",
      "                   'rbf', 'linear', 'sigmoid', 'poly', 'rbf', 'linear',\n",
      "                   'sigmoid', 'poly', 'rbf', 'linear', 'sigmoid', 'poly',\n",
      "                   'rbf', 'linear', 'sigmoid', 'poly'],\n",
      "             mask=[False, False, False, False, False, False, False, False,\n",
      "                   False, False, False, False, False, False, False, False,\n",
      "                   False, False, False, False, False, False, False, False,\n",
      "                   False, False, False, False, False, False, False, False,\n",
      "                   False, False, False, False, False, False, False, False,\n",
      "                   False, False, False, False, False, False, False, False,\n",
      "                   False, False, False, False, False, False, False, False,\n",
      "                   False, False, False, False, False, False, False, False,\n",
      "                   False, False, False, False, False, False, False, False,\n",
      "                   False, False, False, False, False, False, False, False,\n",
      "                   False, False, False, False, False, False, False, False,\n",
      "                   False, False, False, False, False, False, False, False,\n",
      "                   False, False, False, False],\n",
      "       fill_value='?',\n",
      "            dtype=object), 'params': [{'C': 0.1, 'gamma': 1, 'kernel': 'rbf'}, {'C': 0.1, 'gamma': 1, 'kernel': 'linear'}, {'C': 0.1, 'gamma': 1, 'kernel': 'sigmoid'}, {'C': 0.1, 'gamma': 1, 'kernel': 'poly'}, {'C': 0.1, 'gamma': 0.1, 'kernel': 'rbf'}, {'C': 0.1, 'gamma': 0.1, 'kernel': 'linear'}, {'C': 0.1, 'gamma': 0.1, 'kernel': 'sigmoid'}, {'C': 0.1, 'gamma': 0.1, 'kernel': 'poly'}, {'C': 0.1, 'gamma': 0.01, 'kernel': 'rbf'}, {'C': 0.1, 'gamma': 0.01, 'kernel': 'linear'}, {'C': 0.1, 'gamma': 0.01, 'kernel': 'sigmoid'}, {'C': 0.1, 'gamma': 0.01, 'kernel': 'poly'}, {'C': 0.1, 'gamma': 0.001, 'kernel': 'rbf'}, {'C': 0.1, 'gamma': 0.001, 'kernel': 'linear'}, {'C': 0.1, 'gamma': 0.001, 'kernel': 'sigmoid'}, {'C': 0.1, 'gamma': 0.001, 'kernel': 'poly'}, {'C': 0.1, 'gamma': 0.0001, 'kernel': 'rbf'}, {'C': 0.1, 'gamma': 0.0001, 'kernel': 'linear'}, {'C': 0.1, 'gamma': 0.0001, 'kernel': 'sigmoid'}, {'C': 0.1, 'gamma': 0.0001, 'kernel': 'poly'}, {'C': 1, 'gamma': 1, 'kernel': 'rbf'}, {'C': 1, 'gamma': 1, 'kernel': 'linear'}, {'C': 1, 'gamma': 1, 'kernel': 'sigmoid'}, {'C': 1, 'gamma': 1, 'kernel': 'poly'}, {'C': 1, 'gamma': 0.1, 'kernel': 'rbf'}, {'C': 1, 'gamma': 0.1, 'kernel': 'linear'}, {'C': 1, 'gamma': 0.1, 'kernel': 'sigmoid'}, {'C': 1, 'gamma': 0.1, 'kernel': 'poly'}, {'C': 1, 'gamma': 0.01, 'kernel': 'rbf'}, {'C': 1, 'gamma': 0.01, 'kernel': 'linear'}, {'C': 1, 'gamma': 0.01, 'kernel': 'sigmoid'}, {'C': 1, 'gamma': 0.01, 'kernel': 'poly'}, {'C': 1, 'gamma': 0.001, 'kernel': 'rbf'}, {'C': 1, 'gamma': 0.001, 'kernel': 'linear'}, {'C': 1, 'gamma': 0.001, 'kernel': 'sigmoid'}, {'C': 1, 'gamma': 0.001, 'kernel': 'poly'}, {'C': 1, 'gamma': 0.0001, 'kernel': 'rbf'}, {'C': 1, 'gamma': 0.0001, 'kernel': 'linear'}, {'C': 1, 'gamma': 0.0001, 'kernel': 'sigmoid'}, {'C': 1, 'gamma': 0.0001, 'kernel': 'poly'}, {'C': 10, 'gamma': 1, 'kernel': 'rbf'}, {'C': 10, 'gamma': 1, 'kernel': 'linear'}, {'C': 10, 'gamma': 1, 'kernel': 'sigmoid'}, {'C': 10, 'gamma': 1, 'kernel': 'poly'}, {'C': 10, 'gamma': 0.1, 'kernel': 'rbf'}, {'C': 10, 'gamma': 0.1, 'kernel': 'linear'}, {'C': 10, 'gamma': 0.1, 'kernel': 'sigmoid'}, {'C': 10, 'gamma': 0.1, 'kernel': 'poly'}, {'C': 10, 'gamma': 0.01, 'kernel': 'rbf'}, {'C': 10, 'gamma': 0.01, 'kernel': 'linear'}, {'C': 10, 'gamma': 0.01, 'kernel': 'sigmoid'}, {'C': 10, 'gamma': 0.01, 'kernel': 'poly'}, {'C': 10, 'gamma': 0.001, 'kernel': 'rbf'}, {'C': 10, 'gamma': 0.001, 'kernel': 'linear'}, {'C': 10, 'gamma': 0.001, 'kernel': 'sigmoid'}, {'C': 10, 'gamma': 0.001, 'kernel': 'poly'}, {'C': 10, 'gamma': 0.0001, 'kernel': 'rbf'}, {'C': 10, 'gamma': 0.0001, 'kernel': 'linear'}, {'C': 10, 'gamma': 0.0001, 'kernel': 'sigmoid'}, {'C': 10, 'gamma': 0.0001, 'kernel': 'poly'}, {'C': 100, 'gamma': 1, 'kernel': 'rbf'}, {'C': 100, 'gamma': 1, 'kernel': 'linear'}, {'C': 100, 'gamma': 1, 'kernel': 'sigmoid'}, {'C': 100, 'gamma': 1, 'kernel': 'poly'}, {'C': 100, 'gamma': 0.1, 'kernel': 'rbf'}, {'C': 100, 'gamma': 0.1, 'kernel': 'linear'}, {'C': 100, 'gamma': 0.1, 'kernel': 'sigmoid'}, {'C': 100, 'gamma': 0.1, 'kernel': 'poly'}, {'C': 100, 'gamma': 0.01, 'kernel': 'rbf'}, {'C': 100, 'gamma': 0.01, 'kernel': 'linear'}, {'C': 100, 'gamma': 0.01, 'kernel': 'sigmoid'}, {'C': 100, 'gamma': 0.01, 'kernel': 'poly'}, {'C': 100, 'gamma': 0.001, 'kernel': 'rbf'}, {'C': 100, 'gamma': 0.001, 'kernel': 'linear'}, {'C': 100, 'gamma': 0.001, 'kernel': 'sigmoid'}, {'C': 100, 'gamma': 0.001, 'kernel': 'poly'}, {'C': 100, 'gamma': 0.0001, 'kernel': 'rbf'}, {'C': 100, 'gamma': 0.0001, 'kernel': 'linear'}, {'C': 100, 'gamma': 0.0001, 'kernel': 'sigmoid'}, {'C': 100, 'gamma': 0.0001, 'kernel': 'poly'}, {'C': 1000, 'gamma': 1, 'kernel': 'rbf'}, {'C': 1000, 'gamma': 1, 'kernel': 'linear'}, {'C': 1000, 'gamma': 1, 'kernel': 'sigmoid'}, {'C': 1000, 'gamma': 1, 'kernel': 'poly'}, {'C': 1000, 'gamma': 0.1, 'kernel': 'rbf'}, {'C': 1000, 'gamma': 0.1, 'kernel': 'linear'}, {'C': 1000, 'gamma': 0.1, 'kernel': 'sigmoid'}, {'C': 1000, 'gamma': 0.1, 'kernel': 'poly'}, {'C': 1000, 'gamma': 0.01, 'kernel': 'rbf'}, {'C': 1000, 'gamma': 0.01, 'kernel': 'linear'}, {'C': 1000, 'gamma': 0.01, 'kernel': 'sigmoid'}, {'C': 1000, 'gamma': 0.01, 'kernel': 'poly'}, {'C': 1000, 'gamma': 0.001, 'kernel': 'rbf'}, {'C': 1000, 'gamma': 0.001, 'kernel': 'linear'}, {'C': 1000, 'gamma': 0.001, 'kernel': 'sigmoid'}, {'C': 1000, 'gamma': 0.001, 'kernel': 'poly'}, {'C': 1000, 'gamma': 0.0001, 'kernel': 'rbf'}, {'C': 1000, 'gamma': 0.0001, 'kernel': 'linear'}, {'C': 1000, 'gamma': 0.0001, 'kernel': 'sigmoid'}, {'C': 1000, 'gamma': 0.0001, 'kernel': 'poly'}], 'split0_test_score': array([0.5       , 0.66666667, 0.5       , 0.66666667, 0.5       ,\n",
      "       0.66666667, 0.5       , 0.75      , 0.5       , 0.66666667,\n",
      "       0.5       , 0.75      , 0.5       , 0.66666667, 0.5       ,\n",
      "       0.66666667, 0.5       , 0.66666667, 0.5       , 0.66666667,\n",
      "       0.5       , 0.66666667, 0.5       , 0.66666667, 0.66666667,\n",
      "       0.66666667, 0.5       , 0.75      , 0.58333333, 0.66666667,\n",
      "       0.5       , 0.75      , 0.5       , 0.66666667, 0.5       ,\n",
      "       0.66666667, 0.5       , 0.66666667, 0.5       , 0.75      ,\n",
      "       0.5       , 0.66666667, 0.5       , 0.66666667, 0.66666667,\n",
      "       0.66666667, 0.5       , 0.75      , 0.66666667, 0.66666667,\n",
      "       0.5       , 0.75      , 0.66666667, 0.66666667, 0.5       ,\n",
      "       0.66666667, 0.5       , 0.66666667, 0.5       , 0.75      ,\n",
      "       0.5       , 0.75      , 0.5       , 0.66666667, 0.66666667,\n",
      "       0.75      , 0.5       , 0.75      , 0.66666667, 0.75      ,\n",
      "       0.5       , 0.75      , 0.58333333, 0.75      , 0.5       ,\n",
      "       0.66666667, 0.66666667, 0.75      , 0.5       , 0.75      ,\n",
      "       0.5       , 0.75      , 0.5       , 0.66666667, 0.66666667,\n",
      "       0.75      , 0.5       , 0.75      , 0.66666667, 0.75      ,\n",
      "       0.5       , 0.75      , 0.58333333, 0.75      , 0.5       ,\n",
      "       0.66666667, 0.66666667, 0.75      , 0.5       , 0.75      ]), 'split1_test_score': array([0.5       , 0.5       , 0.5       , 0.83333333, 0.5       ,\n",
      "       0.5       , 0.5       , 0.83333333, 0.5       , 0.5       ,\n",
      "       0.5       , 0.83333333, 0.5       , 0.5       , 0.5       ,\n",
      "       0.83333333, 0.5       , 0.5       , 0.5       , 0.75      ,\n",
      "       0.5       , 0.83333333, 0.5       , 0.83333333, 0.5       ,\n",
      "       0.83333333, 0.5       , 0.83333333, 0.5       , 0.83333333,\n",
      "       0.5       , 0.83333333, 0.41666667, 0.83333333, 0.5       ,\n",
      "       0.83333333, 0.5       , 0.83333333, 0.5       , 0.75      ,\n",
      "       0.5       , 0.75      , 0.5       , 0.83333333, 0.58333333,\n",
      "       0.75      , 0.5       , 0.83333333, 0.41666667, 0.75      ,\n",
      "       0.5       , 0.83333333, 0.5       , 0.75      , 0.5       ,\n",
      "       0.83333333, 0.41666667, 0.75      , 0.5       , 0.75      ,\n",
      "       0.5       , 0.75      , 0.5       , 0.83333333, 0.58333333,\n",
      "       0.75      , 0.5       , 0.83333333, 0.41666667, 0.75      ,\n",
      "       0.5       , 0.83333333, 0.25      , 0.75      , 0.5       ,\n",
      "       0.83333333, 0.58333333, 0.75      , 0.5       , 0.75      ,\n",
      "       0.5       , 0.75      , 0.5       , 0.83333333, 0.58333333,\n",
      "       0.75      , 0.5       , 0.83333333, 0.41666667, 0.75      ,\n",
      "       0.5       , 0.83333333, 0.33333333, 0.75      , 0.5       ,\n",
      "       0.83333333, 0.58333333, 0.75      , 0.5       , 0.75      ]), 'split2_test_score': array([0.54545455, 0.63636364, 0.54545455, 0.72727273, 0.54545455,\n",
      "       0.63636364, 0.54545455, 0.72727273, 0.45454545, 0.63636364,\n",
      "       0.54545455, 0.63636364, 0.63636364, 0.63636364, 0.54545455,\n",
      "       0.63636364, 0.54545455, 0.63636364, 0.54545455, 0.72727273,\n",
      "       0.54545455, 0.63636364, 0.45454545, 0.72727273, 0.54545455,\n",
      "       0.63636364, 0.45454545, 0.72727273, 0.36363636, 0.63636364,\n",
      "       0.45454545, 0.63636364, 0.72727273, 0.63636364, 0.45454545,\n",
      "       0.63636364, 0.54545455, 0.63636364, 0.45454545, 0.63636364,\n",
      "       0.54545455, 0.72727273, 0.45454545, 0.72727273, 0.54545455,\n",
      "       0.72727273, 0.45454545, 0.72727273, 0.45454545, 0.72727273,\n",
      "       0.45454545, 0.63636364, 0.45454545, 0.72727273, 0.45454545,\n",
      "       0.63636364, 0.63636364, 0.72727273, 0.45454545, 0.63636364,\n",
      "       0.54545455, 0.72727273, 0.45454545, 0.72727273, 0.54545455,\n",
      "       0.72727273, 0.45454545, 0.72727273, 0.45454545, 0.72727273,\n",
      "       0.45454545, 0.63636364, 0.45454545, 0.72727273, 0.45454545,\n",
      "       0.63636364, 0.54545455, 0.72727273, 0.45454545, 0.63636364,\n",
      "       0.54545455, 0.72727273, 0.45454545, 0.72727273, 0.54545455,\n",
      "       0.72727273, 0.45454545, 0.72727273, 0.45454545, 0.72727273,\n",
      "       0.45454545, 0.63636364, 0.45454545, 0.72727273, 0.45454545,\n",
      "       0.63636364, 0.54545455, 0.72727273, 0.45454545, 0.63636364]), 'mean_test_score': array([0.51515152, 0.6010101 , 0.51515152, 0.74242424, 0.51515152,\n",
      "       0.6010101 , 0.51515152, 0.77020202, 0.48484848, 0.6010101 ,\n",
      "       0.51515152, 0.73989899, 0.54545455, 0.6010101 , 0.51515152,\n",
      "       0.71212121, 0.51515152, 0.6010101 , 0.51515152, 0.71464646,\n",
      "       0.51515152, 0.71212121, 0.48484848, 0.74242424, 0.57070707,\n",
      "       0.71212121, 0.48484848, 0.77020202, 0.48232323, 0.71212121,\n",
      "       0.48484848, 0.73989899, 0.5479798 , 0.71212121, 0.48484848,\n",
      "       0.71212121, 0.51515152, 0.71212121, 0.48484848, 0.71212121,\n",
      "       0.51515152, 0.71464646, 0.48484848, 0.74242424, 0.59848485,\n",
      "       0.71464646, 0.48484848, 0.77020202, 0.51262626, 0.71464646,\n",
      "       0.48484848, 0.73989899, 0.54040404, 0.71464646, 0.48484848,\n",
      "       0.71212121, 0.51767677, 0.71464646, 0.48484848, 0.71212121,\n",
      "       0.51515152, 0.74242424, 0.48484848, 0.74242424, 0.59848485,\n",
      "       0.74242424, 0.48484848, 0.77020202, 0.51262626, 0.74242424,\n",
      "       0.48484848, 0.73989899, 0.42929293, 0.74242424, 0.48484848,\n",
      "       0.71212121, 0.59848485, 0.74242424, 0.48484848, 0.71212121,\n",
      "       0.51515152, 0.74242424, 0.48484848, 0.74242424, 0.59848485,\n",
      "       0.74242424, 0.48484848, 0.77020202, 0.51262626, 0.74242424,\n",
      "       0.48484848, 0.73989899, 0.45707071, 0.74242424, 0.48484848,\n",
      "       0.71212121, 0.59848485, 0.74242424, 0.48484848, 0.71212121]), 'std_test_score': array([0.02142748, 0.07248838, 0.02142748, 0.06887971, 0.02142748,\n",
      "       0.07248838, 0.02142748, 0.04559462, 0.02142748, 0.07248838,\n",
      "       0.02142748, 0.08072913, 0.06428243, 0.07248838, 0.02142748,\n",
      "       0.08659812, 0.02142748, 0.07248838, 0.02142748, 0.0351727 ,\n",
      "       0.02142748, 0.08659812, 0.02142748, 0.06887971, 0.0703454 ,\n",
      "       0.08659812, 0.02142748, 0.04559462, 0.09055768, 0.08659812,\n",
      "       0.02142748, 0.08072913, 0.13126456, 0.08659812, 0.02142748,\n",
      "       0.08659812, 0.02142748, 0.08659812, 0.02142748, 0.0535687 ,\n",
      "       0.02142748, 0.0351727 , 0.02142748, 0.06887971, 0.05063116,\n",
      "       0.0351727 , 0.02142748, 0.04559462, 0.11001526, 0.0351727 ,\n",
      "       0.02142748, 0.08072913, 0.09118924, 0.0351727 , 0.02142748,\n",
      "       0.08659812, 0.09055768, 0.0351727 , 0.02142748, 0.0535687 ,\n",
      "       0.02142748, 0.01071374, 0.02142748, 0.06887971, 0.05063116,\n",
      "       0.01071374, 0.02142748, 0.04559462, 0.11001526, 0.01071374,\n",
      "       0.02142748, 0.08072913, 0.13724928, 0.01071374, 0.02142748,\n",
      "       0.08659812, 0.05063116, 0.01071374, 0.02142748, 0.0535687 ,\n",
      "       0.02142748, 0.01071374, 0.02142748, 0.06887971, 0.05063116,\n",
      "       0.01071374, 0.02142748, 0.04559462, 0.11001526, 0.01071374,\n",
      "       0.02142748, 0.08072913, 0.10207769, 0.01071374, 0.02142748,\n",
      "       0.08659812, 0.05063116, 0.01071374, 0.02142748, 0.0535687 ]), 'rank_test_score': array([ 61,  46,  61,   6,  61,  46,  61,   1,  77,  46,  61,  21,  58,\n",
      "        46,  61,  32,  61,  46,  61,  26,  61,  32,  77,   6,  56,  32,\n",
      "        77,   1,  98,  32,  77,  21,  57,  32,  77,  32,  61,  32,  77,\n",
      "        32,  61,  26,  77,   6,  51,  26,  77,   1,  74,  26,  77,  21,\n",
      "        59,  26,  77,  32,  60,  26,  77,  32,  61,   6,  77,   6,  51,\n",
      "         6,  77,   1,  74,   6,  77,  21, 100,   6,  77,  32,  51,   6,\n",
      "        77,  32,  61,   6,  77,   6,  51,   6,  77,   1,  74,   6,  77,\n",
      "        21,  99,   6,  77,  32,  51,   6,  77,  32])}\n"
     ]
    }
   ],
   "source": [
    "svm_grid.fit(X_entreno_sample, y_entreno_sample) \n",
    "\n",
    "import matplotlib.pyplot as plt\n",
    "from mpl_toolkits.mplot3d import Axes3D\n",
    "\n",
    "print(\"Grid search results:\")\n",
    "print(\"---------------------\")\n",
    "results = svm_grid.cv_results_\n",
    "\n",
    "print(results)"
   ]
  },
  {
   "cell_type": "code",
   "execution_count": 8,
   "metadata": {},
   "outputs": [
    {
     "data": {
      "image/png": "[encoded data removed]",
      "text/plain": [
       "<Figure size 640x480 with 1 Axes>"
      ]
     },
     "metadata": {},
     "output_type": "display_data"
    },
    {
     "name": "stdout",
     "output_type": "stream",
     "text": [
      "Best parameters set found on development set:\n",
      "{'C': 0.1, 'gamma': 0.1, 'kernel': 'poly'}\n"
     ]
    }
   ],
   "source": [
    "mean_scores = results[\"mean_test_score\"]\n",
    "params = results[\"params\"]\n",
    "\n",
    "# Extract parameter values for each parameter\n",
    "param_C = [param['C'] for param in params]\n",
    "param_gamma = [param['gamma'] for param in params]\n",
    "param_kernel = [param['kernel'] for param in params]\n",
    "\n",
    "fig = plt.figure()\n",
    "ax = fig.add_subplot(111, projection='3d')\n",
    "\n",
    "# Mapping kernel names to integer values\n",
    "kernel_map = {'linear': 0, 'poly': 1, 'rbf': 2, 'sigmoid': 3}\n",
    "kernel_colors = [kernel_map[kernel] for kernel in param_kernel]\n",
    "\n",
    "# Plotting the mean scores with color-coded markers based on kernel\n",
    "scatter = ax.scatter(param_C, param_gamma, mean_scores, c=kernel_colors, cmap='viridis')\n",
    "\n",
    "ax.set_xlabel('C')\n",
    "ax.set_ylabel('Gamma')\n",
    "ax.set_zlabel('Mean Score')\n",
    "ax.set_title('Grid Search Results')\n",
    "ax.legend(handles=scatter.legend_elements()[0], labels=kernel_map.keys(), title='Kernel')\n",
    "\n",
    "plt.show()\n",
    "\n",
    "print(\"Best parameters set found on development set:\")\n",
    "print(svm_grid.best_params_)\n"
   ]
  },
  {
   "attachments": {},
   "cell_type": "markdown",
   "metadata": {},
   "source": [
    "* _Debido al gran tamaño del dataset y de la alta complejidad de ejeución del gridsearch, se decidió realizar el gridsearch en una muestra del 0.5% del dataset original._\n",
    "* _Existen múltiples hiper-parámetros que alcanzan el mismo score, por lo que se decidió escoger los que menos tiempo de ejecución requirieran._"
   ]
  },
  {
   "cell_type": "code",
   "execution_count": 9,
   "metadata": {},
   "outputs": [
    {
     "name": "stdout",
     "output_type": "stream",
     "text": [
      "Accuracy: 0.5526069575572\n",
      "Recall: 0.5526069575572\n"
     ]
    }
   ],
   "source": [
    "from sklearn.metrics import accuracy_score , recall_score, precision_score, f1_score\n",
    "\n",
    "# Crear el clasificador SVM\n",
    "clf = svm.SVC(kernel='linear')  # Puedes ajustar el kernel según tus necesidades (lineal, polinómico, RBF, etc.)\n",
    "\n",
    "# Entrenar el modelo utilizando los datos de entrenamiento\n",
    "clf.fit(X_entreno, y_entreno)\n",
    "\n",
    "# Realizar predicciones en el conjunto de prueba\n",
    "predicciones = clf.predict(X_prueba)\n",
    "\n",
    "# Calcular el accuracy\n",
    "accuracy = accuracy_score(y_prueba, predicciones)\n",
    "\n",
    "# Mostrar el accuracy\n",
    "print(\"Accuracy:\", accuracy)\n",
    "print(\"Recall:\", recall_score(y_prueba, predicciones, average='weighted'))\n",
    "#print(\"Precision:\", precision_score(y_prueba, predicciones, average='weighted'))\n",
    "#print(\"F1:\", f1_score(y_prueba, predicciones, average='weighted'))"
   ]
  },
  {
   "cell_type": "code",
   "execution_count": 10,
   "metadata": {},
   "outputs": [
    {
     "name": "stdout",
     "output_type": "stream",
     "text": [
      "Accuracy: 0.9810325763375011\n",
      "Recall: 0.9810325763375011\n"
     ]
    }
   ],
   "source": [
    "# Se utilizan los hipérparámetros obtenidos en la búsqueda de grilla\n",
    "clf = svm.SVC(kernel='rbf', C=1, gamma=0.1)  \n",
    "\n",
    "# Entrenar el modelo utilizando los datos de entrenamiento\n",
    "clf.fit(X_entreno, y_entreno)\n",
    "\n",
    "# Realizar predicciones en el conjunto de prueba\n",
    "predicciones = clf.predict(X_prueba)\n",
    "\n",
    "# Calcular el accuracy\n",
    "accuracy = accuracy_score(y_prueba, predicciones)\n",
    "\n",
    "# Mostrar el accuracy\n",
    "print(\"Accuracy:\", accuracy)\n",
    "print(\"Recall:\", recall_score(y_prueba, predicciones, average='weighted'))\n",
    "#print(\"Precision:\", precision_score(y_prueba, predicciones, average='weighted'))\n",
    "#print(\"F1:\", f1_score(y_prueba, predicciones, average='weighted'))"
   ]
  },
  {
   "cell_type": "code",
   "execution_count": 12,
   "metadata": {},
   "outputs": [
    {
     "name": "stdout",
     "output_type": "stream",
     "text": [
      "Confusion Matrix:\n",
      "[[17057   553]\n",
      " [  116 17545]]\n"
     ]
    },
    {
     "data": {
      "text/plain": [
       "<AxesSubplot: >"
      ]
     },
     "execution_count": 12,
     "metadata": {},
     "output_type": "execute_result"
    },
    {
     "data": {
      "image/png": "[encoded data removed]",
      "text/plain": [
       "<Figure size 640x480 with 2 Axes>"
      ]
     },
     "metadata": {},
     "output_type": "display_data"
    }
   ],
   "source": [
    "from sklearn.metrics import confusion_matrix\n",
    "\n",
    "# Assuming you have the true labels (y_true) and predicted labels (y_pred)\n",
    "confusion_mat = confusion_matrix(y_prueba, predicciones)\n",
    "\n",
    "print(\"Confusion Matrix:\")\n",
    "print(confusion_mat)\n",
    "import seaborn as sns\n",
    "\n",
    "# Plotting the confusion matrix\n",
    "sns.heatmap(confusion_mat, annot=True, fmt='d', cmap='Blues')\n"
   ]
  },
  {
   "attachments": {},
   "cell_type": "markdown",
   "metadata": {},
   "source": [
    "* _Podemos apreciar que el cambio a los hiperparámetros representa un gran cambio en el score del modelo, por lo que se confirma que los hiperparámetros escogidos son los más óptimos; el accuracy y el recall están por encima del 0.93, lo cual es un buen resultado._"
   ]
  },
  {
   "attachments": {},
   "cell_type": "markdown",
   "metadata": {},
   "source": [
    "## Impacto de las diferentes variables en el rendimiento del modelo"
   ]
  },
  {
   "attachments": {},
   "cell_type": "markdown",
   "metadata": {},
   "source": [
    "* _En este acercamiento, se busca observar las variables más implicadas en las condiciones de vida de la madre en vez del desarrollo del embarazo como tal. Con esto, buscamos encontrar el impacto que tienen las condiciones de vida de la madre en el resultado del embarazo._"
   ]
  },
  {
   "cell_type": "code",
   "execution_count": 34,
   "metadata": {},
   "outputs": [],
   "source": [
    "columnas = X.columns.tolist()\n",
    "causas = [0, 1] # 0 = Parto, 1 = Embarazo\n",
    "disparidad = {}"
   ]
  },
  {
   "attachments": {},
   "cell_type": "markdown",
   "metadata": {},
   "source": [
    "### Escolaridad de la madre"
   ]
  },
  {
   "cell_type": "code",
   "execution_count": 14,
   "metadata": {},
   "outputs": [],
   "source": [
    "df0 = df[df['Causa_Defunción'] == 0]\n",
    "df1 = df[df['Causa_Defunción'] == 1]"
   ]
  },
  {
   "cell_type": "code",
   "execution_count": 15,
   "metadata": {},
   "outputs": [
    {
     "name": "stdout",
     "output_type": "stream",
     "text": [
      "35271\n"
     ]
    },
    {
     "data": {
      "text/plain": [
       "1     10999\n",
       "2     10369\n",
       "99     6113\n",
       "3      3991\n",
       "4      3303\n",
       "5       493\n",
       "6         3\n",
       "Name: Escolaridad_Madre, dtype: int64"
      ]
     },
     "execution_count": 15,
     "metadata": {},
     "output_type": "execute_result"
    }
   ],
   "source": [
    "# Causa de defunción = 0 = Parto\n",
    "print(len(df0['Escolaridad_Madre']))\n",
    "df0['Escolaridad_Madre'].value_counts()"
   ]
  },
  {
   "cell_type": "code",
   "execution_count": 16,
   "metadata": {},
   "outputs": [
    {
     "name": "stdout",
     "output_type": "stream",
     "text": [
      "35271\n"
     ]
    },
    {
     "data": {
      "text/plain": [
       "2     13170\n",
       "1      9920\n",
       "3      5171\n",
       "4      3130\n",
       "99     2883\n",
       "5       997\n",
       "Name: Escolaridad_Madre, dtype: int64"
      ]
     },
     "execution_count": 16,
     "metadata": {},
     "output_type": "execute_result"
    }
   ],
   "source": [
    "# Causa de defunción = 1 = Embarazo\n",
    "print(len(df1['Escolaridad_Madre']))\n",
    "df1['Escolaridad_Madre'].value_counts()"
   ]
  },
  {
   "attachments": {},
   "cell_type": "markdown",
   "metadata": {},
   "source": [
    "* _En relación a la escolaridad de la madre, hay una mayor persistencia de defunciones durante el parto en madres con ninguna educación o con educación primaria._\n",
    "* _Por otro lado, las defunciones fetales durante el embarazo son más persistentes en madres con primaria._\n",
    "* _Debido a esto, podemos ver una tendencia a mayor mortalidad en madres con menor nivel de educación._"
   ]
  },
  {
   "cell_type": "code",
   "execution_count": 37,
   "metadata": {},
   "outputs": [
    {
     "name": "stdout",
     "output_type": "stream",
     "text": [
      "---------------------------------------------------------------------------\n",
      "Causa de defunción:  Parto\n",
      "Nivel de educación de la madre:  Básico\n",
      "Predicción:  [0 0 0 ... 0 0 0]\n",
      "Realidad:  [0 0 0 ... 0 0 0]\n",
      "Cambio:  1.152901152901153 %\n",
      "---------------------------------------------------------------------------\n",
      "Causa de defunción:  Embarazo\n",
      "Nivel de educación de la madre:  Básico\n",
      "Predicción:  [0 0 1 ... 1 1 1]\n",
      "Realidad:  [1 1 1 ... 1 1 1]\n",
      "Cambio:  43.98979398979399 %\n",
      "---------------------------------------------------------------------------\n",
      "Causa de defunción:  Parto\n",
      "Nivel de educación de la madre:  Universidad\n",
      "Predicción:  [0 0 0 ... 0 0 0]\n",
      "Realidad:  [0 0 0 ... 0 0 0]\n",
      "Cambio:  0.5575505575505575 %\n",
      "---------------------------------------------------------------------------\n",
      "Causa de defunción:  Embarazo\n",
      "Nivel de educación de la madre:  Universidad\n",
      "Predicción:  [0 0 0 ... 0 1 1]\n",
      "Realidad:  [1 1 1 ... 1 1 1]\n",
      "Cambio:  70.65772065772066 %\n",
      "---------------------------------------------------------------------------\n",
      "Causa de defunción:  Parto\n",
      "Nivel de educación de la madre:  Postgrado\n",
      "Predicción:  [0 0 0 ... 0 0 0]\n",
      "Realidad:  [0 0 0 ... 0 0 0]\n",
      "Cambio:  0.378000378000378 %\n",
      "---------------------------------------------------------------------------\n",
      "Causa de defunción:  Embarazo\n",
      "Nivel de educación de la madre:  Postgrado\n",
      "Predicción:  [0 0 0 ... 0 1 0]\n",
      "Realidad:  [1 1 1 ... 1 1 1]\n",
      "Cambio:  86.76053676053675 %\n"
     ]
    }
   ],
   "source": [
    "# Nivel de educación de la madre - Universidad\n",
    "\n",
    "niveles_edu = [4, 5, 6]\n",
    "\n",
    "for n in niveles_edu:\n",
    "    disparidad[n] = {}\n",
    "    for c in causas:\n",
    "        df_1 = df[df['Causa_Defunción'] == c] # causa de defunción\n",
    "        df_1 = df_1[columnas + ['Causa_Defunción']]\n",
    "\n",
    "        df_1['Escolaridad_Madre'] = n # Universidad\n",
    "\n",
    "        x_train, x_test, y_train, y_test = train_test_split(df_1.drop('Causa_Defunción', axis=1), df_1['Causa_Defunción'], test_size=0.3, random_state=42)\n",
    "        y_correct = clf.predict(x_test)\n",
    "\n",
    "        print(\"---------------------------------------------------------------------------\")\n",
    "        causa = ''\n",
    "        if c == 0:\n",
    "            causa = 'Parto'\n",
    "        elif c == 1:\n",
    "            causa = 'Embarazo'\n",
    "\n",
    "        educacion = ''\n",
    "        if n == 4:\n",
    "            educacion = 'Básico'\n",
    "        elif n == 5:\n",
    "            educacion = 'Universidad'\n",
    "        elif n == 6:\n",
    "            educacion = 'Postgrado'\n",
    "\n",
    "        print(\"Causa de defunción: \", causa)\n",
    "        print(\"Nivel de educación de la madre: \", educacion)\n",
    "        \n",
    "        print('Predicción: ', y_correct)\n",
    "        print('Realidad: ', y_test.values)\n",
    "        cambio = (y_correct != y_test).sum() / len(y_test) * 100\n",
    "        print(\"Cambio: \", cambio, \"%\")\n",
    "        #disparidad[causa + ' - ' + educacion] = cambio\n",
    "        disparidad[n][c] = cambio\n",
    "\n"
   ]
  },
  {
   "cell_type": "code",
   "execution_count": 42,
   "metadata": {},
   "outputs": [
    {
     "data": {
      "image/png": "[encoded data removed]",
      "text/plain": [
       "<Figure size 640x480 with 1 Axes>"
      ]
     },
     "metadata": {},
     "output_type": "display_data"
    }
   ],
   "source": [
    "import numpy as np\n",
    "import matplotlib.pyplot as plt\n",
    "\n",
    "educations = ['Básico', 'Universidad', 'Postgrado']\n",
    "parto_values = [disparidad[4][0], disparidad[5][0], disparidad[6][0]]\n",
    "embarazo_values = [disparidad[4][1], disparidad[5][1], disparidad[6][1]]\n",
    "\n",
    "bar_width = 0.35\n",
    "\n",
    "r1 = np.arange(len(educations))\n",
    "r2 = [x + bar_width for x in r1]\n",
    "\n",
    "plt.bar(r1, parto_values, color='b', width=bar_width, label='Parto')\n",
    "plt.bar(r2, embarazo_values, color='g', width=bar_width, label='Embarazo')\n",
    "\n",
    "plt.xlabel('Nivel de educación de la madre')\n",
    "plt.ylabel('Cambio (%)')\n",
    "plt.title('Disparidad por causa de defunción y nivel de educación')\n",
    "plt.xticks([r + bar_width / 2 for r in range(len(educations))], educations)\n",
    "plt.legend()\n",
    "plt.show()\n"
   ]
  },
  {
   "attachments": {},
   "cell_type": "markdown",
   "metadata": {},
   "source": [
    "### Total de hijos de la madre"
   ]
  },
  {
   "cell_type": "code",
   "execution_count": 47,
   "metadata": {},
   "outputs": [
    {
     "name": "stderr",
     "output_type": "stream",
     "text": [
      "C:\\Users\\DIEGO\\AppData\\Local\\Temp\\ipykernel_22956\\2508835345.py:3: SettingWithCopyWarning: \n",
      "A value is trying to be set on a copy of a slice from a DataFrame.\n",
      "Try using .loc[row_indexer,col_indexer] = value instead\n",
      "\n",
      "See the caveats in the documentation: https://pandas.pydata.org/pandas-docs/stable/user_guide/indexing.html#returning-a-view-versus-a-copy\n",
      "  df0['Total_Hijos_Vivos'] = np.round(df0['Total_Hijos_Vivos'])\n",
      "C:\\Users\\DIEGO\\AppData\\Local\\Temp\\ipykernel_22956\\2508835345.py:4: SettingWithCopyWarning: \n",
      "A value is trying to be set on a copy of a slice from a DataFrame.\n",
      "Try using .loc[row_indexer,col_indexer] = value instead\n",
      "\n",
      "See the caveats in the documentation: https://pandas.pydata.org/pandas-docs/stable/user_guide/indexing.html#returning-a-view-versus-a-copy\n",
      "  df1['Total_Hijos_Vivos'] = np.round(df1['Total_Hijos_Vivos'])\n",
      "C:\\Users\\DIEGO\\AppData\\Local\\Temp\\ipykernel_22956\\2508835345.py:5: SettingWithCopyWarning: \n",
      "A value is trying to be set on a copy of a slice from a DataFrame.\n",
      "Try using .loc[row_indexer,col_indexer] = value instead\n",
      "\n",
      "See the caveats in the documentation: https://pandas.pydata.org/pandas-docs/stable/user_guide/indexing.html#returning-a-view-versus-a-copy\n",
      "  df0['Total_Hijos_Vivos'] = df0['Total_Hijos_Vivos'].astype(int)\n",
      "C:\\Users\\DIEGO\\AppData\\Local\\Temp\\ipykernel_22956\\2508835345.py:6: SettingWithCopyWarning: \n",
      "A value is trying to be set on a copy of a slice from a DataFrame.\n",
      "Try using .loc[row_indexer,col_indexer] = value instead\n",
      "\n",
      "See the caveats in the documentation: https://pandas.pydata.org/pandas-docs/stable/user_guide/indexing.html#returning-a-view-versus-a-copy\n",
      "  df1['Total_Hijos_Vivos'] = df1['Total_Hijos_Vivos'].astype(int)\n"
     ]
    }
   ],
   "source": [
    "df0 = df[df['Causa_Defunción'] == 0]\n",
    "df1 = df[df['Causa_Defunción'] == 1]\n",
    "df0['Total_Hijos_Vivos'] = np.round(df0['Total_Hijos_Vivos'])\n",
    "df1['Total_Hijos_Vivos'] = np.round(df1['Total_Hijos_Vivos'])\n",
    "df0['Total_Hijos_Vivos'] = df0['Total_Hijos_Vivos'].astype(int)\n",
    "df1['Total_Hijos_Vivos'] = df1['Total_Hijos_Vivos'].astype(int)"
   ]
  },
  {
   "attachments": {},
   "cell_type": "markdown",
   "metadata": {},
   "source": [
    "* _La cantidad de hijos vivos resulta más relevante que la cantidad de hijos difuntos._"
   ]
  },
  {
   "cell_type": "code",
   "execution_count": 48,
   "metadata": {},
   "outputs": [
    {
     "name": "stdout",
     "output_type": "stream",
     "text": [
      "35271\n"
     ]
    },
    {
     "data": {
      "text/plain": [
       "3     16616\n",
       "1      8049\n",
       "2      4270\n",
       "4      1748\n",
       "5      1286\n",
       "0       981\n",
       "6       917\n",
       "7       570\n",
       "8       365\n",
       "9       224\n",
       "10      139\n",
       "11       69\n",
       "12       24\n",
       "13       10\n",
       "16        1\n",
       "15        1\n",
       "14        1\n",
       "Name: Total_Hijos_Vivos, dtype: int64"
      ]
     },
     "execution_count": 48,
     "metadata": {},
     "output_type": "execute_result"
    }
   ],
   "source": [
    "# Causa de defunción = 0 = Parto\n",
    "print(len(df0['Total_Hijos_Vivos']))\n",
    "df0['Total_Hijos_Vivos'].value_counts()"
   ]
  },
  {
   "cell_type": "code",
   "execution_count": 49,
   "metadata": {},
   "outputs": [
    {
     "name": "stdout",
     "output_type": "stream",
     "text": [
      "35271\n"
     ]
    },
    {
     "data": {
      "text/plain": [
       "3     14674\n",
       "1      9130\n",
       "2      5630\n",
       "4      1564\n",
       "5      1361\n",
       "6      1066\n",
       "7       523\n",
       "9       436\n",
       "8       305\n",
       "0       229\n",
       "10      219\n",
       "12       73\n",
       "11       61\n",
       "Name: Total_Hijos_Vivos, dtype: int64"
      ]
     },
     "execution_count": 49,
     "metadata": {},
     "output_type": "execute_result"
    }
   ],
   "source": [
    "# Causa de defunción = 1 = Embarazo\n",
    "print(len(df1['Total_Hijos_Vivos']))\n",
    "df1['Total_Hijos_Vivos'].value_counts()"
   ]
  },
  {
   "attachments": {},
   "cell_type": "markdown",
   "metadata": {},
   "source": [
    "* _El punto de cambio en la cantidad de hijos vivos se encuentra en 4 hijos vivos, donde se observa un cambio en la tendencia de la mortalidad._"
   ]
  },
  {
   "cell_type": "code",
   "execution_count": 50,
   "metadata": {},
   "outputs": [
    {
     "name": "stdout",
     "output_type": "stream",
     "text": [
      "---------------------------------------------------------------------------\n",
      "Causa de defunción:  Parto\n",
      "Cantidad de hijos vivos:  0 a 4\n",
      "Predicción:  [0 0 0 ... 0 0 0]\n",
      "Realidad:  [0 0 0 ... 0 0 0]\n",
      "Cambio:  2.621052631578947 %\n",
      "---------------------------------------------------------------------------\n",
      "Causa de defunción:  Embarazo\n",
      "Cantidad de hijos vivos:  0 a 4\n",
      "Predicción:  [1 1 1 ... 1 1 1]\n",
      "Realidad:  [1 1 1 ... 1 1 1]\n",
      "Cambio:  0.8111858255950476 %\n",
      "---------------------------------------------------------------------------\n",
      "Causa de defunción:  Parto\n",
      "Cantidad de hijos vivos:  5 a 10\n",
      "Predicción:  [0 0 0 ... 0 0 0]\n",
      "Realidad:  [0 0 0 ... 0 0 0]\n",
      "Cambio:  1.4272121788772598 %\n",
      "---------------------------------------------------------------------------\n",
      "Causa de defunción:  Embarazo\n",
      "Cantidad de hijos vivos:  5 a 10\n",
      "Predicción:  [1 1 1 ... 1 1 1]\n",
      "Realidad:  [1 1 1 ... 1 1 1]\n",
      "Cambio:  0.0 %\n",
      "---------------------------------------------------------------------------\n",
      "Causa de defunción:  Parto\n",
      "Cantidad de hijos vivos:  10 o más\n",
      "Predicción:  [0 0 0 0 0 0 0 0 0 0 0 0 0 0 0 0 0 0 0 0 0 0 0 0 0 0 0 0 0 0 0 0 0 0 0 0 0\n",
      " 0 0 0 0 0 0 0 0 0 0 0 0 0 0 0 0 0 0 0 0 0 0 0 0 0 0 0 0 0 0 0 0 0 0 0 0 0]\n",
      "Realidad:  [0 0 0 0 0 0 0 0 0 0 0 0 0 0 0 0 0 0 0 0 0 0 0 0 0 0 0 0 0 0 0 0 0 0 0 0 0\n",
      " 0 0 0 0 0 0 0 0 0 0 0 0 0 0 0 0 0 0 0 0 0 0 0 0 0 0 0 0 0 0 0 0 0 0 0 0 0]\n",
      "Cambio:  0.0 %\n",
      "---------------------------------------------------------------------------\n",
      "Causa de defunción:  Embarazo\n",
      "Cantidad de hijos vivos:  10 o más\n",
      "Predicción:  [1 1 1 1 1 1 1 1 1 1 1 1 1 1 1 1 1 1 1 1 1 1 1 1 1 1 1 1 1 1 1 1 1 1 1 1 1\n",
      " 1 1 1 1 1 1 1 1 1 1 1 1 1 1 1 1 1 1 1 1 1 1 1 1 1 1 1 1 1 1 1 1 1 1 1 1 1\n",
      " 1 1 1 1 1 1 1 1 1 1 1 1 1 1 1 1 1 1 1 1 1 1 1 1 1 1 1 1 1 1 1 1]\n",
      "Realidad:  [1 1 1 1 1 1 1 1 1 1 1 1 1 1 1 1 1 1 1 1 1 1 1 1 1 1 1 1 1 1 1 1 1 1 1 1 1\n",
      " 1 1 1 1 1 1 1 1 1 1 1 1 1 1 1 1 1 1 1 1 1 1 1 1 1 1 1 1 1 1 1 1 1 1 1 1 1\n",
      " 1 1 1 1 1 1 1 1 1 1 1 1 1 1 1 1 1 1 1 1 1 1 1 1 1 1 1 1 1 1 1 1]\n",
      "Cambio:  0.0 %\n"
     ]
    }
   ],
   "source": [
    "# Nivel de educación de la madre - Universidad\n",
    "from random import randint\n",
    "\n",
    "num_hijos = {\n",
    "    '0 a 4': (0, 4),\n",
    "    '5 a 10': (5, 10),\n",
    "    '10 o más': (10, 100)\n",
    "}\n",
    "\n",
    "disparidad = {}\n",
    "\n",
    "\"\"\"i = 0\n",
    "while i < 4:\n",
    "    if i < 2:\n",
    "        if '0 a 4' not in disparidad.keys():\n",
    "            disparidad['0 a 4'] = {}\n",
    "    else:\n",
    "        if '5 a 10' not in disparidad.keys():\n",
    "            disparidad['5 a 10'] = {}\n",
    "    for c in causas:\n",
    "        df_1 = df[df['Causa_Defunción'] == c] # causa de defunción\n",
    "        df_1 = df_1[columnas + ['Causa_Defunción']]\n",
    "\n",
    "        if i < 2:\n",
    "            # random upsample\n",
    "            n = randint(0, 4)\n",
    "            df_1['Total_Hijos_Vivos'] = n \n",
    "        else:\n",
    "            # random downsample\n",
    "            n = randint(5, 10)\n",
    "            df_1['Total_Hijos_Vivos'] = n\n",
    "\n",
    "        #df_1['Escolaridad_Madre'] = n # Universidad\n",
    "\n",
    "        x_train, x_test, y_train, y_test = train_test_split(df_1.drop('Causa_Defunción', axis=1), df_1['Causa_Defunción'], test_size=0.3, random_state=42)\n",
    "        y_correct = clf.predict(x_test)\n",
    "\n",
    "        print(\"---------------------------------------------------------------------------\")\n",
    "        causa = ''\n",
    "        if c == 0:\n",
    "            causa = 'Parto'\n",
    "        elif c == 1:\n",
    "            causa = 'Embarazo'\n",
    "\n",
    "\n",
    "        print(\"Causa de defunción: \", causa)\n",
    "        print(\"Cantidad de hijos vivos: \", n)\n",
    "        \n",
    "        print('Predicción: ', y_correct)\n",
    "        print('Realidad: ', y_test.values)\n",
    "        cambio = (y_correct != y_test).sum() / len(y_test) * 100\n",
    "        #print(\"Cambio: \", (y_correct != y_test).sum() / len(y_test) * 100, \"%\")\n",
    "        print(\"Cambio: \", cambio, \"%\")\n",
    "    i += 1\"\"\"\n",
    "\n",
    "for n in num_hijos.keys():\n",
    "    disparidad[n] = {}\n",
    "    ini, fin = num_hijos[n]\n",
    "    for c in causas:\n",
    "        df_1 = df[df['Causa_Defunción'] == c] # causa de defunción\n",
    "        df_1 = df_1[columnas + ['Causa_Defunción']]\n",
    "        df_1 = df_1[(df_1['Total_Hijos_Vivos'] >= ini) & (df_1['Total_Hijos_Vivos'] <= fin)]\n",
    "\n",
    "        if len(df_1) == 0:\n",
    "            continue\n",
    "\n",
    "        x_train, x_test, y_train, y_test = train_test_split(df_1.drop('Causa_Defunción', axis=1), df_1['Causa_Defunción'], test_size=0.3, random_state=42)\n",
    "\n",
    "        if len(x_train) == 0 or len(x_test) == 0:\n",
    "            continue\n",
    "\n",
    "        y_correct = clf.predict(x_test)\n",
    "\n",
    "        print(\"---------------------------------------------------------------------------\")\n",
    "        causa = ''\n",
    "        if c == 0:\n",
    "            causa = 'Parto'\n",
    "        elif c == 1:\n",
    "            causa = 'Embarazo'\n",
    "\n",
    "        print(\"Causa de defunción: \", causa)\n",
    "        print(\"Cantidad de hijos vivos: \", n)\n",
    "\n",
    "        print('Predicción: ', y_correct)\n",
    "        print('Realidad: ', y_test.values)\n",
    "        cambio = (y_correct != y_test).sum() / len(y_test) * 100\n",
    "        #print(\"Cambio: \", (y_correct != y_test).sum() / len(y_test) * 100, \"%\")\n",
    "        print(\"Cambio: \", cambio, \"%\")\n",
    "        disparidad[n][c] = cambio\n",
    "\n"
   ]
  },
  {
   "cell_type": "code",
   "execution_count": 51,
   "metadata": {},
   "outputs": [
    {
     "data": {
      "image/png": "[encoded data removed]",
      "text/plain": [
       "<Figure size 640x480 with 1 Axes>"
      ]
     },
     "metadata": {},
     "output_type": "display_data"
    }
   ],
   "source": [
    "cuantos_hijos = ['0 a 4', '5 a 10', '10 o más']\n",
    "parto_values = [disparidad['0 a 4'][0], disparidad['5 a 10'][0], disparidad['10 o más'][0]]\n",
    "embarazo_values = [disparidad['0 a 4'][1], disparidad['5 a 10'][1], disparidad['10 o más'][1]]\n",
    "\n",
    "bar_width = 0.35\n",
    "\n",
    "r1 = np.arange(len(cuantos_hijos))\n",
    "r2 = [x + bar_width for x in r1]\n",
    "\n",
    "plt.bar(r1, parto_values, color='b', width=bar_width, label='Parto')\n",
    "plt.bar(r2, embarazo_values, color='g', width=bar_width, label='Embarazo')\n",
    "\n",
    "plt.xlabel('Cantidad de hijos vivos')\n",
    "plt.ylabel('Cambio (%)')\n",
    "plt.title('Disparidad por causa de defunción y cantidad de hijos vivos')\n",
    "plt.xticks([r + bar_width / 2 for r in range(len(cuantos_hijos))], cuantos_hijos)\n",
    "plt.legend()\n",
    "plt.show()\n"
   ]
  },
  {
   "attachments": {},
   "cell_type": "markdown",
   "metadata": {},
   "source": [
    "### Estado civil de la madre"
   ]
  },
  {
   "cell_type": "code",
   "execution_count": 52,
   "metadata": {},
   "outputs": [],
   "source": [
    "df0 = df[df['Causa_Defunción'] == 0] # Parto\n",
    "df1 = df[df['Causa_Defunción'] == 1] # Embarazo"
   ]
  },
  {
   "cell_type": "code",
   "execution_count": 53,
   "metadata": {},
   "outputs": [
    {
     "data": {
      "text/plain": [
       "1     18061\n",
       "2     14216\n",
       "99     2891\n",
       "3       103\n",
       "Name: Estado_Civil_Madre, dtype: int64"
      ]
     },
     "execution_count": 53,
     "metadata": {},
     "output_type": "execute_result"
    }
   ],
   "source": [
    "df0['Estado_Civil_Madre'].value_counts()"
   ]
  },
  {
   "cell_type": "code",
   "execution_count": 54,
   "metadata": {},
   "outputs": [
    {
     "data": {
      "text/plain": [
       "1     17299\n",
       "2     16598\n",
       "99     1015\n",
       "3       359\n",
       "Name: Estado_Civil_Madre, dtype: int64"
      ]
     },
     "execution_count": 54,
     "metadata": {},
     "output_type": "execute_result"
    }
   ],
   "source": [
    "df1['Estado_Civil_Madre'].value_counts()"
   ]
  },
  {
   "cell_type": "code",
   "execution_count": 55,
   "metadata": {},
   "outputs": [
    {
     "name": "stdout",
     "output_type": "stream",
     "text": [
      "---------------------------------------------------------------------------\n",
      "Causa de defunción:  Parto\n",
      "Estado civil de la madre:  Soltera\n",
      "Predicción:  [0 0 0 ... 0 0 0]\n",
      "Realidad:  [0 0 0 ... 0 0 0]\n",
      "Cambio:  1.9750519750519753 %\n",
      "---------------------------------------------------------------------------\n",
      "Causa de defunción:  Embarazo\n",
      "Estado civil de la madre:  Soltera\n",
      "Predicción:  [1 1 1 ... 1 1 1]\n",
      "Realidad:  [1 1 1 ... 1 1 1]\n",
      "Cambio:  3.7422037422037424 %\n",
      "---------------------------------------------------------------------------\n",
      "Causa de defunción:  Parto\n",
      "Estado civil de la madre:  Casada\n",
      "Predicción:  [0 0 0 ... 0 0 0]\n",
      "Realidad:  [0 0 0 ... 0 0 0]\n",
      "Cambio:  2.1357021357021355 %\n",
      "---------------------------------------------------------------------------\n",
      "Causa de defunción:  Embarazo\n",
      "Estado civil de la madre:  Casada\n",
      "Predicción:  [1 1 1 ... 1 1 1]\n",
      "Realidad:  [1 1 1 ... 1 1 1]\n",
      "Cambio:  3.487053487053487 %\n",
      "---------------------------------------------------------------------------\n",
      "Causa de defunción:  Parto\n",
      "Estado civil de la madre:  Unión Libre\n",
      "Predicción:  [0 0 0 ... 0 0 0]\n",
      "Realidad:  [0 0 0 ... 0 0 0]\n",
      "Cambio:  2.315252315252315 %\n",
      "---------------------------------------------------------------------------\n",
      "Causa de defunción:  Embarazo\n",
      "Estado civil de la madre:  Unión Libre\n",
      "Predicción:  [1 0 1 ... 1 1 1]\n",
      "Realidad:  [1 1 1 ... 1 1 1]\n",
      "Cambio:  15.592515592515593 %\n"
     ]
    }
   ],
   "source": [
    "# Nivel de educación de la madre - Universidad\n",
    "disparidad = {}\n",
    "\n",
    "estadoCivil = {1:'Soltera', 2:'Casada', 3:'Unión Libre'}\n",
    "\n",
    "for n in estadoCivil:\n",
    "    disparidad[n] = {}\n",
    "    for c in causas:\n",
    "        df_1 = df[df['Causa_Defunción'] == c] # causa de defunción\n",
    "        df_1 = df_1[columnas + ['Causa_Defunción']]\n",
    "\n",
    "        df_1['Estado_Civil_Madre'] = n # Universidad\n",
    "\n",
    "        x_train, x_test, y_train, y_test = train_test_split(df_1.drop('Causa_Defunción', axis=1), df_1['Causa_Defunción'], test_size=0.3, random_state=42)\n",
    "        y_correct = clf.predict(x_test)\n",
    "\n",
    "        print(\"---------------------------------------------------------------------------\")\n",
    "        causa = ''\n",
    "        if c == 0:\n",
    "            causa = 'Parto'\n",
    "        elif c == 1:\n",
    "            causa = 'Embarazo'\n",
    "\n",
    "        print(\"Causa de defunción: \", causa)\n",
    "        print(\"Estado civil de la madre: \", estadoCivil[n])\n",
    "        \n",
    "        print('Predicción: ', y_correct)\n",
    "        print('Realidad: ', y_test.values)\n",
    "        #print(\"Cambio: \", (y_correct != y_test).sum() / len(y_test) * 100, \"%\")\n",
    "        cambio = (y_correct != y_test).sum() / len(y_test) * 100\n",
    "        print(\"Cambio: \", cambio, \"%\")\n",
    "        disparidad[n][c] = cambio\n",
    "\n"
   ]
  },
  {
   "cell_type": "code",
   "execution_count": 56,
   "metadata": {},
   "outputs": [
    {
     "data": {
      "image/png": "[encoded data removed]",
      "text/plain": [
       "<Figure size 640x480 with 1 Axes>"
      ]
     },
     "metadata": {},
     "output_type": "display_data"
    }
   ],
   "source": [
    "estados = ['Soltera', 'Casada', 'Unión Libre']\n",
    "parto_values = [disparidad[1][0], disparidad[2][0], disparidad[3][0]]\n",
    "embarazo_values = [disparidad[1][1], disparidad[2][1], disparidad[3][1]]\n",
    "\n",
    "bar_width = 0.35\n",
    "\n",
    "r1 = np.arange(len(estados))\n",
    "r2 = [x + bar_width for x in r1]\n",
    "\n",
    "plt.bar(r1, parto_values, color='b', width=bar_width, label='Parto')\n",
    "plt.bar(r2, embarazo_values, color='g', width=bar_width, label='Embarazo')\n",
    "\n",
    "plt.xlabel('Estado civil de la madre')\n",
    "plt.ylabel('Cambio (%)')\n",
    "plt.title('Disparidad por causa de defunción y estado civil de la madre')\n",
    "plt.xticks([r + bar_width / 2 for r in range(len(estados))], estados)\n",
    "plt.legend()\n",
    "plt.show()"
   ]
  },
  {
   "attachments": {},
   "cell_type": "markdown",
   "metadata": {},
   "source": [
    "### Edad de la madre"
   ]
  },
  {
   "attachments": {},
   "cell_type": "markdown",
   "metadata": {},
   "source": [
    "#### Exploración de la variable de edad de la madre"
   ]
  },
  {
   "cell_type": "code",
   "execution_count": 26,
   "metadata": {},
   "outputs": [],
   "source": [
    "df0 = df[df['Causa_Defunción'] == 0]\n",
    "df1 = df[df['Causa_Defunción'] == 1]"
   ]
  },
  {
   "cell_type": "code",
   "execution_count": 27,
   "metadata": {},
   "outputs": [
    {
     "data": {
      "image/png": "[encoded data removed]",
      "text/plain": [
       "<Figure size 640x480 with 1 Axes>"
      ]
     },
     "metadata": {},
     "output_type": "display_data"
    }
   ],
   "source": [
    "df0['Edad_Madre'].value_counts()\n",
    "# diagrama de tendencia central\n",
    "sns.set(style=\"whitegrid\")\n",
    "ax = sns.boxplot(x=df0[\"Edad_Madre\"])"
   ]
  },
  {
   "cell_type": "code",
   "execution_count": 28,
   "metadata": {},
   "outputs": [
    {
     "data": {
      "image/png": "[encoded data removed]",
      "text/plain": [
       "<Figure size 640x480 with 1 Axes>"
      ]
     },
     "metadata": {},
     "output_type": "display_data"
    }
   ],
   "source": [
    "df1['Edad_Madre'].value_counts()\n",
    "# diagrama de tendencia central\n",
    "ax = sns.boxplot(x=df1[\"Edad_Madre\"])\n",
    "\n"
   ]
  },
  {
   "attachments": {},
   "cell_type": "markdown",
   "metadata": {},
   "source": [
    "#### Comparación de rangos en la edad de la madre"
   ]
  },
  {
   "cell_type": "code",
   "execution_count": 57,
   "metadata": {},
   "outputs": [
    {
     "name": "stdout",
     "output_type": "stream",
     "text": [
      "---------------------------------------------------------------------------\n",
      "Causa de defunción:  Parto\n",
      "Edad de la madre:  11-20\n",
      "Predicción:  [0 0 0 ... 0 0 0]\n",
      "Realidad:  [0 0 0 ... 0 0 0]\n",
      "Cambio:  2.155625657202944 %\n",
      "---------------------------------------------------------------------------\n",
      "Causa de defunción:  Embarazo\n",
      "Edad de la madre:  11-20\n",
      "Predicción:  [1 1 1 ... 1 1 1]\n",
      "Realidad:  [1 1 1 ... 1 1 1]\n",
      "Cambio:  0.0 %\n",
      "---------------------------------------------------------------------------\n",
      "Causa de defunción:  Parto\n",
      "Edad de la madre:  21-30\n",
      "Predicción:  [0 0 0 ... 0 0 0]\n",
      "Realidad:  [0 0 0 ... 0 0 0]\n",
      "Cambio:  3.070427940894262 %\n",
      "---------------------------------------------------------------------------\n",
      "Causa de defunción:  Embarazo\n",
      "Edad de la madre:  21-30\n",
      "Predicción:  [1 1 1 ... 1 1 1]\n",
      "Realidad:  [1 1 1 ... 1 1 1]\n",
      "Cambio:  1.529790660225443 %\n",
      "---------------------------------------------------------------------------\n",
      "Causa de defunción:  Parto\n",
      "Edad de la madre:  31-40\n",
      "Predicción:  [0 0 0 ... 0 0 0]\n",
      "Realidad:  [0 0 0 ... 0 0 0]\n",
      "Cambio:  1.2700534759358288 %\n",
      "---------------------------------------------------------------------------\n",
      "Causa de defunción:  Embarazo\n",
      "Edad de la madre:  31-40\n",
      "Predicción:  [1 1 1 ... 1 1 1]\n",
      "Realidad:  [1 1 1 ... 1 1 1]\n",
      "Cambio:  0.0 %\n",
      "---------------------------------------------------------------------------\n",
      "Causa de defunción:  Parto\n",
      "Edad de la madre:  41-50\n",
      "Predicción:  [0 0 0 0 0 0 0 0 0 0 0 0 0 0 0 0 0 0 0 0 0 0 0 0 0 0 0 0 0 0 0 0 0 0 0 0 0\n",
      " 0 0 0 0 0 0 0 0 0 0 0 0 0 0 0 0 0 0 0 0 0 0 0 0 0 0 0 0 0 0 0 0 0 0 0 0 0\n",
      " 0 0 0 0 0 0 0 0 0 0 0 0 0 0 0 0 0 0 0 0 0 0 0 0 0 0 0 0 0 0 0 0 0 0 0 0 0\n",
      " 0 0 0 0 0 0 0 0 0 0 0 0 0 0 0 0 0 0 0 0 0 0 0 0 0 0 0 0 0 0 0 0 0 0 0 0 0\n",
      " 0 0 0 0 0 0 0 0 0 0 0 0 0 0 0 0 0 0 0 0 0 0 0 0 0 0 0 0 0 0 0 0 0 0 0 0 0\n",
      " 0 0 0 0 0 0 0 0 0 0 0 0 0 0 0 0 0 0 0 0 0 0 0 0 0 0 0 0 0 0 0 0 0 0 0 0 0\n",
      " 0 0 0 0 0 0 0 0 0 0 0 0 0 0 0 0 0 0 0 0 0 0 0 0 0 0 0 0 0 1 0 0 0 0 0 0 0\n",
      " 0 0 0 0 0 0 0 0 0 0 0 0 0 0 0 0 0 0 0 0 0 0 0 0 0 0 0 0 0 0 0 0 0 0 0 0 0\n",
      " 0 0 0 0 0 0 0 0 0 0 0 0 0 0 0 0 0 0 0 0 0 0 0 0 0 0 0 0 0 0 0 0 0 0 0 0 0\n",
      " 0 0 0 0 0 0 0 0 0 0 0 0 0 0 0 0 0 0 0 0 0 0 0 0 0 0 0 0 0 0 0 0 0 0 0 0 0\n",
      " 0 0 0 0 0 0 0 0 0 0 0 0 0 0 0 0 0 0 0 0 0 0 0 0 0 0 0 0 0 0 0 0 0 0 0 0 0\n",
      " 0 0 0 0 0 0 0 0 0 0 0 0 0 0 0 0 0 1 0 0 0 0 0 0 0 0 0 0 0 0 0 0 0 0 0 0 0\n",
      " 0 0 0 0 0 0 0 0 0 0 0 0 0 0 0 0 0 0 0 0 0 0 0 0 0 0 0 0 0 0 0 1]\n",
      "Realidad:  [0 0 0 0 0 0 0 0 0 0 0 0 0 0 0 0 0 0 0 0 0 0 0 0 0 0 0 0 0 0 0 0 0 0 0 0 0\n",
      " 0 0 0 0 0 0 0 0 0 0 0 0 0 0 0 0 0 0 0 0 0 0 0 0 0 0 0 0 0 0 0 0 0 0 0 0 0\n",
      " 0 0 0 0 0 0 0 0 0 0 0 0 0 0 0 0 0 0 0 0 0 0 0 0 0 0 0 0 0 0 0 0 0 0 0 0 0\n",
      " 0 0 0 0 0 0 0 0 0 0 0 0 0 0 0 0 0 0 0 0 0 0 0 0 0 0 0 0 0 0 0 0 0 0 0 0 0\n",
      " 0 0 0 0 0 0 0 0 0 0 0 0 0 0 0 0 0 0 0 0 0 0 0 0 0 0 0 0 0 0 0 0 0 0 0 0 0\n",
      " 0 0 0 0 0 0 0 0 0 0 0 0 0 0 0 0 0 0 0 0 0 0 0 0 0 0 0 0 0 0 0 0 0 0 0 0 0\n",
      " 0 0 0 0 0 0 0 0 0 0 0 0 0 0 0 0 0 0 0 0 0 0 0 0 0 0 0 0 0 0 0 0 0 0 0 0 0\n",
      " 0 0 0 0 0 0 0 0 0 0 0 0 0 0 0 0 0 0 0 0 0 0 0 0 0 0 0 0 0 0 0 0 0 0 0 0 0\n",
      " 0 0 0 0 0 0 0 0 0 0 0 0 0 0 0 0 0 0 0 0 0 0 0 0 0 0 0 0 0 0 0 0 0 0 0 0 0\n",
      " 0 0 0 0 0 0 0 0 0 0 0 0 0 0 0 0 0 0 0 0 0 0 0 0 0 0 0 0 0 0 0 0 0 0 0 0 0\n",
      " 0 0 0 0 0 0 0 0 0 0 0 0 0 0 0 0 0 0 0 0 0 0 0 0 0 0 0 0 0 0 0 0 0 0 0 0 0\n",
      " 0 0 0 0 0 0 0 0 0 0 0 0 0 0 0 0 0 0 0 0 0 0 0 0 0 0 0 0 0 0 0 0 0 0 0 0 0\n",
      " 0 0 0 0 0 0 0 0 0 0 0 0 0 0 0 0 0 0 0 0 0 0 0 0 0 0 0 0 0 0 0 0]\n",
      "Cambio:  0.6302521008403361 %\n",
      "---------------------------------------------------------------------------\n",
      "Causa de defunción:  Embarazo\n",
      "Edad de la madre:  41-50\n",
      "Predicción:  [1 1 1 1 1 1 1 1 1 1 1 1 1 1 1 1 1 1 1 1 1 1 1 1 1 1 1 1 1 1 1 1 1 1 1 1 1\n",
      " 1 1 1 1 1 1 1 1 1 1 1 1 1 1 1 1 1 1 1 1 1 1 1 1 1 1 1 1 1 1 1 1 1 1 1 1 1\n",
      " 1 1 1 1 1 1 1 1 1 1 1 1 1 1 1 1 1 1 1 1 1 1 1 1 1 1 1 1 1 1 1 1 1 1 1 1 1\n",
      " 1 1 1 1 1 1 1 1 1 1 1 1 1 1 1 1 1 1 1 1 1 1 1 1 1 1 1 1 1 1 1 1 1 1 1 1 1\n",
      " 1 1 1 1 1 1 1 1 1 1 1 1 1 1 1 1 1 1 1 1 1 1 1 1 1 1 1 1 1 1 1 1 1 1 1 1 1\n",
      " 1 1 1 1 1 1 1 1 1 1 1 1 1 1 1 1 1 1 1 1 1 1 1 1 1 1 1 1 1 1 1 1 1 1 1 1 1\n",
      " 1 1 1 1 1 1 1 1 1 1 1 1 1 1 1 1 1 1 1 1 1 1 1 1 1 1 1 1 1 1 1 1 1 1 1 1 1\n",
      " 1 1 1 1 1 1 1 1 1 1 1 1 1 1 1 1 1 1 1 1 1 1 1 1 1 1 1 1 1 1 1 1 1 1 1 1 1\n",
      " 1 1 1 1 1 1 1 1 1 1 1 1 1 1 1 1 1 1 1 1 1 1 1 1 1 1 1 1 1 1 1 1 1 1 1 1 1\n",
      " 1 1 1 1 1 1 1 1 1 1 1 1 1 1 1 1 1 1 1 1 1 1 1 1 1 1 1 1 1 1 1 1 1 1 1 1 1\n",
      " 1 1 1 1 1 1 1 1 1 1 1 1 1 1 1 1 1 1 1 1 1 1 1 1 1 1 1 1 1 1 1 1 1 1 1 1 1\n",
      " 1 1 1 1 1 1 1 1 1 1 1 1 1 1 1 1 1 1 1 1 1 1 1 1 1 1 1 1 1 1 1 1 1 1 1 1 1\n",
      " 1 1 1 1 1 1 1 1 1 1 1 1 1 1 1 1 1 1 1 1 1 1 1 1 1 1 1 1 1 1 1 1 1 1 1 1 1\n",
      " 1 1 1 1 1 1 1 1 1 1 1 1 1 1 1 1 1 1 1 1 1 1 1 1 1 1 1 1 1 1 1 1 1 1 1 1 1\n",
      " 1 1 1 1 1 1 1 1 1 1 1 1 1 1 1 1 1 1 1 1 1 1 1 1 1 1 1 1 1 1 1 1 1 1 1 1 1\n",
      " 1 1 1 1 1 1 1]\n",
      "Realidad:  [1 1 1 1 1 1 1 1 1 1 1 1 1 1 1 1 1 1 1 1 1 1 1 1 1 1 1 1 1 1 1 1 1 1 1 1 1\n",
      " 1 1 1 1 1 1 1 1 1 1 1 1 1 1 1 1 1 1 1 1 1 1 1 1 1 1 1 1 1 1 1 1 1 1 1 1 1\n",
      " 1 1 1 1 1 1 1 1 1 1 1 1 1 1 1 1 1 1 1 1 1 1 1 1 1 1 1 1 1 1 1 1 1 1 1 1 1\n",
      " 1 1 1 1 1 1 1 1 1 1 1 1 1 1 1 1 1 1 1 1 1 1 1 1 1 1 1 1 1 1 1 1 1 1 1 1 1\n",
      " 1 1 1 1 1 1 1 1 1 1 1 1 1 1 1 1 1 1 1 1 1 1 1 1 1 1 1 1 1 1 1 1 1 1 1 1 1\n",
      " 1 1 1 1 1 1 1 1 1 1 1 1 1 1 1 1 1 1 1 1 1 1 1 1 1 1 1 1 1 1 1 1 1 1 1 1 1\n",
      " 1 1 1 1 1 1 1 1 1 1 1 1 1 1 1 1 1 1 1 1 1 1 1 1 1 1 1 1 1 1 1 1 1 1 1 1 1\n",
      " 1 1 1 1 1 1 1 1 1 1 1 1 1 1 1 1 1 1 1 1 1 1 1 1 1 1 1 1 1 1 1 1 1 1 1 1 1\n",
      " 1 1 1 1 1 1 1 1 1 1 1 1 1 1 1 1 1 1 1 1 1 1 1 1 1 1 1 1 1 1 1 1 1 1 1 1 1\n",
      " 1 1 1 1 1 1 1 1 1 1 1 1 1 1 1 1 1 1 1 1 1 1 1 1 1 1 1 1 1 1 1 1 1 1 1 1 1\n",
      " 1 1 1 1 1 1 1 1 1 1 1 1 1 1 1 1 1 1 1 1 1 1 1 1 1 1 1 1 1 1 1 1 1 1 1 1 1\n",
      " 1 1 1 1 1 1 1 1 1 1 1 1 1 1 1 1 1 1 1 1 1 1 1 1 1 1 1 1 1 1 1 1 1 1 1 1 1\n",
      " 1 1 1 1 1 1 1 1 1 1 1 1 1 1 1 1 1 1 1 1 1 1 1 1 1 1 1 1 1 1 1 1 1 1 1 1 1\n",
      " 1 1 1 1 1 1 1 1 1 1 1 1 1 1 1 1 1 1 1 1 1 1 1 1 1 1 1 1 1 1 1 1 1 1 1 1 1\n",
      " 1 1 1 1 1 1 1 1 1 1 1 1 1 1 1 1 1 1 1 1 1 1 1 1 1 1 1 1 1 1 1 1 1 1 1 1 1\n",
      " 1 1 1 1 1 1 1]\n",
      "Cambio:  0.0 %\n",
      "---------------------------------------------------------------------------\n",
      "Causa de defunción:  Parto\n",
      "Edad de la madre:  51+\n",
      "Predicción:  [0 0 0]\n",
      "Realidad:  [0 0 0]\n",
      "Cambio:  0.0 %\n"
     ]
    }
   ],
   "source": [
    "edades = {\n",
    "    '11-20': (11, 20),\n",
    "    '21-30': (21, 30),\n",
    "    '31-40': (31, 40),\n",
    "    '41-50': (41, 50),\n",
    "    '51+': (51, float('inf'))\n",
    "}\n",
    "\n",
    "disparidad = {}\n",
    "\n",
    "for n in edades:\n",
    "    ini, fin = edades[n]\n",
    "    disparidad[n] = {}\n",
    "    for c in causas:\n",
    "        df_1 = df[df['Causa_Defunción'] == c]  # causa de defunción\n",
    "        df_1 = df_1[columnas + ['Causa_Defunción']]\n",
    "        df_1 = df_1[(df_1['Edad_Madre'] >= ini) & (df_1['Edad_Madre'] <= fin)]\n",
    "\n",
    "        if len(df_1) == 0:\n",
    "            continue  # Skip this iteration if there are no samples in the age range\n",
    "\n",
    "        x_train, x_test, y_train, y_test = train_test_split(df_1.drop('Causa_Defunción', axis=1), df_1['Causa_Defunción'], test_size=0.3, random_state=42)\n",
    "\n",
    "        if len(x_train) == 0 or len(x_test) == 0:\n",
    "            continue  # Skip this iteration if there are not enough samples for training or testing\n",
    "\n",
    "        y_correct = clf.predict(x_test)\n",
    "\n",
    "        print(\"---------------------------------------------------------------------------\")\n",
    "        causa = ''\n",
    "        if c == 0:\n",
    "            causa = 'Parto'\n",
    "        elif c == 1:\n",
    "            causa = 'Embarazo'\n",
    "\n",
    "        print(\"Causa de defunción: \", causa)\n",
    "        print(\"Edad de la madre: \", n)\n",
    "\n",
    "        print('Predicción: ', y_correct)\n",
    "        print('Realidad: ', y_test.values)\n",
    "        #print(\"Cambio: \", (y_correct != y_test).sum() / len(y_test) * 100, \"%\")\n",
    "        cambio = (y_correct != y_test).sum() / len(y_test) * 100\n",
    "        print(\"Cambio: \", cambio, \"%\")\n",
    "        disparidad[n][c] = cambio\n"
   ]
  },
  {
   "cell_type": "code",
   "execution_count": 60,
   "metadata": {},
   "outputs": [
    {
     "data": {
      "image/png": "[encoded data removed]",
      "text/plain": [
       "<Figure size 640x480 with 1 Axes>"
      ]
     },
     "metadata": {},
     "output_type": "display_data"
    }
   ],
   "source": [
    "rangos_edad = ['11-20', '21-30', '31-40', '41-50', '51+']\n",
    "parto_values = [disparidad['11-20'][0], disparidad['21-30'][0], disparidad['31-40'][0], disparidad['41-50'][0], disparidad['51+'][0]]\n",
    "embarazo_values = [disparidad['11-20'][1], disparidad['21-30'][1], disparidad['31-40'][1], disparidad['41-50'][1], 0]\n",
    "\n",
    "bar_width = 0.35\n",
    "\n",
    "r1 = np.arange(len(rangos_edad))\n",
    "r2 = [x + bar_width for x in r1]\n",
    "\n",
    "plt.bar(r1, parto_values, color='b', width=bar_width, label='Parto')\n",
    "plt.bar(r2, embarazo_values, color='g', width=bar_width, label='Embarazo')\n",
    "\n",
    "plt.xlabel('Edad de la madre')\n",
    "plt.ylabel('Cambio (%)')\n",
    "plt.title('Disparidad por causa de defunción y edad de la madre')\n",
    "plt.xticks([r + bar_width / 2 for r in range(len(rangos_edad))], rangos_edad)\n",
    "plt.legend()\n",
    "plt.show()"
   ]
  },
  {
   "attachments": {},
   "cell_type": "markdown",
   "metadata": {},
   "source": [
    "### Etnia de la madre"
   ]
  },
  {
   "cell_type": "code",
   "execution_count": 30,
   "metadata": {},
   "outputs": [],
   "source": [
    "df0 = df[df['Causa_Defunción'] == 0]\n",
    "df1 = df[df['Causa_Defunción'] == 1]"
   ]
  },
  {
   "cell_type": "code",
   "execution_count": 31,
   "metadata": {},
   "outputs": [
    {
     "data": {
      "text/plain": [
       "1     12317\n",
       "2      8797\n",
       "99     7016\n",
       "3      3674\n",
       "4      3051\n",
       "5       383\n",
       "6        19\n",
       "7        14\n",
       "Name: Grupo_Etnico_Madre, dtype: int64"
      ]
     },
     "execution_count": 31,
     "metadata": {},
     "output_type": "execute_result"
    }
   ],
   "source": [
    "df0['Grupo_Etnico_Madre'].value_counts()"
   ]
  },
  {
   "cell_type": "code",
   "execution_count": 32,
   "metadata": {},
   "outputs": [
    {
     "data": {
      "text/plain": [
       "1     10855\n",
       "2      9011\n",
       "3      5655\n",
       "99     4787\n",
       "4      4512\n",
       "5       393\n",
       "6        58\n",
       "Name: Grupo_Etnico_Madre, dtype: int64"
      ]
     },
     "execution_count": 32,
     "metadata": {},
     "output_type": "execute_result"
    }
   ],
   "source": [
    "df1['Grupo_Etnico_Madre'].value_counts()"
   ]
  },
  {
   "cell_type": "code",
   "execution_count": 61,
   "metadata": {},
   "outputs": [
    {
     "name": "stdout",
     "output_type": "stream",
     "text": [
      "---------------------------------------------------------------------------\n",
      "Causa de defunción:  Parto\n",
      "Etnia de la madre:  Maya\n",
      "Predicción:  [0 0 0 ... 0 0 0]\n",
      "Realidad:  [0 0 0 ... 0 0 0]\n",
      "Cambio:  3.5437535437535437 %\n",
      "---------------------------------------------------------------------------\n",
      "Causa de defunción:  Embarazo\n",
      "Etnia de la madre:  Maya\n",
      "Predicción:  [1 1 1 ... 1 0 1]\n",
      "Realidad:  [1 1 1 ... 1 1 1]\n",
      "Cambio:  23.710073710073708 %\n",
      "---------------------------------------------------------------------------\n",
      "Causa de defunción:  Parto\n",
      "Etnia de la madre:  Ladina/Mestiza\n",
      "Predicción:  [0 0 0 ... 0 0 0]\n",
      "Realidad:  [0 0 0 ... 0 0 0]\n",
      "Cambio:  2.7783027783027783 %\n",
      "---------------------------------------------------------------------------\n",
      "Causa de defunción:  Embarazo\n",
      "Etnia de la madre:  Ladina/Mestiza\n",
      "Predicción:  [1 1 1 ... 1 0 1]\n",
      "Realidad:  [1 1 1 ... 1 1 1]\n",
      "Cambio:  14.789264789264788 %\n",
      "---------------------------------------------------------------------------\n",
      "Causa de defunción:  Parto\n",
      "Etnia de la madre:  Indígena\n",
      "Predicción:  [0 0 0 ... 0 0 1]\n",
      "Realidad:  [0 0 0 ... 0 0 0]\n",
      "Cambio:  3.005103005103005 %\n",
      "---------------------------------------------------------------------------\n",
      "Causa de defunción:  Embarazo\n",
      "Etnia de la madre:  Indígena\n",
      "Predicción:  [1 1 1 ... 1 0 1]\n",
      "Realidad:  [1 1 1 ... 1 1 1]\n",
      "Cambio:  22.736722736722736 %\n",
      "---------------------------------------------------------------------------\n",
      "Causa de defunción:  Parto\n",
      "Etnia de la madre:  No Indígena\n",
      "Predicción:  [0 0 0 ... 0 0 1]\n",
      "Realidad:  [0 0 0 ... 0 0 0]\n",
      "Cambio:  2.6649026649026646 %\n",
      "---------------------------------------------------------------------------\n",
      "Causa de defunción:  Embarazo\n",
      "Etnia de la madre:  No Indígena\n",
      "Predicción:  [1 1 1 ... 1 0 1]\n",
      "Realidad:  [1 1 1 ... 1 1 1]\n",
      "Cambio:  38.527688527688525 %\n",
      "---------------------------------------------------------------------------\n",
      "Causa de defunción:  Parto\n",
      "Etnia de la madre:  Otra\n",
      "Predicción:  [0 0 0 ... 0 0 1]\n",
      "Realidad:  [0 0 0 ... 0 0 0]\n",
      "Cambio:  1.9561519561519563 %\n",
      "---------------------------------------------------------------------------\n",
      "Causa de defunción:  Embarazo\n",
      "Etnia de la madre:  Otra\n",
      "Predicción:  [1 0 1 ... 1 0 1]\n",
      "Realidad:  [1 1 1 ... 1 1 1]\n",
      "Cambio:  63.11661311661312 %\n",
      "---------------------------------------------------------------------------\n",
      "Causa de defunción:  Parto\n",
      "Etnia de la madre:  Garífuna\n",
      "Predicción:  [0 0 0 ... 0 0 1]\n",
      "Realidad:  [0 0 0 ... 0 0 0]\n",
      "Cambio:  1.0017010017010017 %\n",
      "---------------------------------------------------------------------------\n",
      "Causa de defunción:  Embarazo\n",
      "Etnia de la madre:  Garífuna\n",
      "Predicción:  [0 0 0 ... 1 0 1]\n",
      "Realidad:  [1 1 1 ... 1 1 1]\n",
      "Cambio:  79.25722925722926 %\n",
      "---------------------------------------------------------------------------\n",
      "Causa de defunción:  Parto\n",
      "Etnia de la madre:  Xinca\n",
      "Predicción:  [0 0 0 ... 0 0 0]\n",
      "Realidad:  [0 0 0 ... 0 0 0]\n",
      "Cambio:  0.27405027405027405 %\n",
      "---------------------------------------------------------------------------\n",
      "Causa de defunción:  Embarazo\n",
      "Etnia de la madre:  Xinca\n",
      "Predicción:  [0 0 0 ... 1 0 1]\n",
      "Realidad:  [1 1 1 ... 1 1 1]\n",
      "Cambio:  94.48119448119449 %\n"
     ]
    }
   ],
   "source": [
    "etnias = {\n",
    "    1: 'Maya',\n",
    "    2: 'Ladina/Mestiza',\n",
    "    3: 'Indígena',\n",
    "    4: 'No Indígena',\n",
    "    5: 'Otra',\n",
    "    6: 'Garífuna',\n",
    "    7: 'Xinca'\n",
    "}\n",
    "\n",
    "disparidad = {}\n",
    "\n",
    "for n in etnias:\n",
    "    disparidad[n] = {}\n",
    "    for c in causas:\n",
    "        df_1 = df[df['Causa_Defunción'] == c] # causa de defunción\n",
    "        df_1 = df_1[columnas + ['Causa_Defunción']]\n",
    "\n",
    "        df_1['Grupo_Etnico_Madre'] = n # etnia\n",
    "\n",
    "        x_train, x_test, y_train, y_test = train_test_split(df_1.drop('Causa_Defunción', axis=1), df_1['Causa_Defunción'], test_size=0.3, random_state=42)\n",
    "        y_correct = clf.predict(x_test)\n",
    "\n",
    "        print(\"---------------------------------------------------------------------------\")\n",
    "        causa = ''\n",
    "        if c == 0:\n",
    "            causa = 'Parto'\n",
    "        elif c == 1:\n",
    "            causa = 'Embarazo'\n",
    "\n",
    "        print(\"Causa de defunción: \", causa)\n",
    "        print(\"Etnia de la madre: \", etnias[n])\n",
    "        \n",
    "        print('Predicción: ', y_correct)\n",
    "        print('Realidad: ', y_test.values)\n",
    "        #print(\"Cambio: \", (y_correct != y_test).sum() / len(y_test) * 100, \"%\")\n",
    "        cambio = (y_correct != y_test).sum() / len(y_test) * 100\n",
    "        print(\"Cambio: \", cambio, \"%\")\n",
    "        disparidad[n][c] = cambio"
   ]
  },
  {
   "cell_type": "code",
   "execution_count": 62,
   "metadata": {},
   "outputs": [
    {
     "data": {
      "image/png": "[encoded data removed]",
      "text/plain": [
       "<Figure size 640x480 with 1 Axes>"
      ]
     },
     "metadata": {},
     "output_type": "display_data"
    }
   ],
   "source": [
    "etnias = ['Maya', 'Ladina/Mestiza', 'Indígena', 'No Indígena', 'Otra', 'Garífuna', 'Xinca']\n",
    "parto_values = [disparidad[1][0], disparidad[2][0], disparidad[3][0], disparidad[4][0], disparidad[5][0], disparidad[6][0], disparidad[7][0]]\n",
    "embarazo_values = [disparidad[1][1], disparidad[2][1], disparidad[3][1], disparidad[4][1], disparidad[5][1], disparidad[6][1], disparidad[7][1]]\n",
    "\n",
    "bar_width = 0.35\n",
    "\n",
    "r1 = np.arange(len(etnias))\n",
    "r2 = [x + bar_width for x in r1]\n",
    "\n",
    "plt.bar(r1, parto_values, color='b', width=bar_width, label='Parto')\n",
    "plt.bar(r2, embarazo_values, color='g', width=bar_width, label='Embarazo')\n",
    "\n",
    "plt.xlabel('Etnia de la madre')\n",
    "plt.ylabel('Cambio (%)')\n",
    "plt.title('Disparidad por causa de defunción y etnia de la madre')\n",
    "plt.xticks([r + bar_width / 2 for r in range(len(etnias))], etnias)\n",
    "plt.legend()\n",
    "plt.show()"
   ]
  }
 ],
 "metadata": {
  "kernelspec": {
   "display_name": "Python 3",
   "language": "python",
   "name": "python3"
  },
  "language_info": {
   "codemirror_mode": {
    "name": "ipython",
    "version": 3
   },
   "file_extension": ".py",
   "mimetype": "text/x-python",
   "name": "python",
   "nbconvert_exporter": "python",
   "pygments_lexer": "ipython3",
   "version": "3.10.9"
  },
  "orig_nbformat": 4
 },
 "nbformat": 4,
 "nbformat_minor": 2
}
