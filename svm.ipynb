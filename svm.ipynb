{
 "cells": [
  {
   "attachments": {},
   "cell_type": "markdown",
   "metadata": {},
   "source": [
    "# Modelado con SVM (Support Vector Machine)"
   ]
  },
  {
   "attachments": {},
   "cell_type": "markdown",
   "metadata": {},
   "source": [
    "## Preparación de información para el modelo"
   ]
  },
  {
   "cell_type": "code",
   "execution_count": 1,
   "metadata": {},
   "outputs": [],
   "source": [
    "import pandas as pd\n",
    "import numpy as np\n",
    "from collections import Counter\n",
    "import numpy as np\n",
    "from sklearn.model_selection import train_test_split\n",
    "from sklearn.utils import resample"
   ]
  },
  {
   "cell_type": "code",
   "execution_count": 2,
   "metadata": {},
   "outputs": [],
   "source": [
    "#leer csv\n",
    "df = pd.read_csv('defunciones_clean.csv')"
   ]
  },
  {
   "attachments": {},
   "cell_type": "markdown",
   "metadata": {},
   "source": [
    "### Manejo de columnas y balanceo en causas de defunción"
   ]
  },
  {
   "attachments": {},
   "cell_type": "markdown",
   "metadata": {},
   "source": [
    "- Eliminación de columnas irrelevantes para el modelo"
   ]
  },
  {
   "cell_type": "code",
   "execution_count": 3,
   "metadata": {},
   "outputs": [],
   "source": [
    "# drop columns no relevantes\n",
    "df.drop('Departamento_Residencia_Madre', axis=1, inplace=True)\n",
    "\n",
    "df.drop('Año_Registro', axis=1, inplace=True)\n",
    "df.drop('Mes_Registro', axis=1, inplace=True)\n",
    "\n",
    "df.drop('Mes_Ocurrencia', axis=1, inplace=True)\n",
    "df.drop('Día_Ocurrencia', axis=1, inplace=True)        # No se considera el día de ocurrencia\n",
    "\n",
    "df.drop('Departamento_Registro', axis=1, inplace=True)\n",
    "df.drop('Departamento_Ocurrencia', axis=1, inplace=True)        \n",
    "\n",
    "df.drop('Municipio_Registro', axis=1, inplace=True)\n",
    "df.drop('Municipio_Ocurrencia', axis=1, inplace=True)          \n",
    "df.drop('Municipio_Residencia_Madre', axis=1, inplace=True)"
   ]
  },
  {
   "attachments": {},
   "cell_type": "markdown",
   "metadata": {},
   "source": [
    "- Balanceo de clases en causas de defunción"
   ]
  },
  {
   "cell_type": "code",
   "execution_count": 4,
   "metadata": {},
   "outputs": [
    {
     "name": "stdout",
     "output_type": "stream",
     "text": [
      "Cantidad de registros:  39298\n",
      "Cantidad de registros por causa de defunción: \n",
      "0     35271\n",
      "99     3466\n",
      "1       561\n",
      "Name: Causa_Defunción, dtype: int64\n",
      "Cantidad de registros por causa de defunción: \n",
      "0     35271\n",
      "1     35271\n",
      "99     3466\n",
      "Name: Causa_Defunción, dtype: int64\n"
     ]
    }
   ],
   "source": [
    "from imblearn.over_sampling import RandomOverSampler\n",
    "\n",
    "print('Cantidad de registros: ', len(df))\n",
    "print('Cantidad de registros por causa de defunción: ')\n",
    "print(df['Causa_Defunción'].value_counts())\n",
    "\n",
    "x = df.drop('Causa_Defunción', axis=1)\n",
    "y = df['Causa_Defunción']\n",
    "\n",
    "balance = RandomOverSampler(sampling_strategy='minority')\n",
    "x_balance, y_balance = balance.fit_resample(x, y)\n",
    "\n",
    "df = pd.concat([x_balance, y_balance], axis=1)\n",
    "\n",
    "print('Cantidad de registros por causa de defunción: ')\n",
    "print(df['Causa_Defunción'].value_counts())"
   ]
  },
  {
   "attachments": {},
   "cell_type": "markdown",
   "metadata": {},
   "source": [
    "- Separar en entrenaminto y prueba"
   ]
  },
  {
   "cell_type": "code",
   "execution_count": 5,
   "metadata": {},
   "outputs": [
    {
     "name": "stdout",
     "output_type": "stream",
     "text": [
      "Cantidad de registros:  74008\n",
      "Cantidad de registros de entrenamiento:  37004\n",
      "Cantidad de registros de prueba:  37004\n"
     ]
    },
    {
     "data": {
      "text/html": [
       "<div>\n",
       "<style scoped>\n",
       "    .dataframe tbody tr th:only-of-type {\n",
       "        vertical-align: middle;\n",
       "    }\n",
       "\n",
       "    .dataframe tbody tr th {\n",
       "        vertical-align: top;\n",
       "    }\n",
       "\n",
       "    .dataframe thead th {\n",
       "        text-align: right;\n",
       "    }\n",
       "</style>\n",
       "<table border=\"1\" class=\"dataframe\">\n",
       "  <thead>\n",
       "    <tr style=\"text-align: right;\">\n",
       "      <th></th>\n",
       "      <th>Área_Geográfica</th>\n",
       "      <th>Asistencia_Recibida</th>\n",
       "      <th>Año_Ocurrencia</th>\n",
       "      <th>Clase_Parto</th>\n",
       "      <th>Edad_Madre</th>\n",
       "      <th>Estado_Civil_Madre</th>\n",
       "      <th>Escolaridad_Madre</th>\n",
       "      <th>Ocupación_Madre</th>\n",
       "      <th>Semanas_Gestacion</th>\n",
       "      <th>Sexo</th>\n",
       "      <th>Sitio_Ocurrencia</th>\n",
       "      <th>Tipo_Atencion</th>\n",
       "      <th>Total_Hijos_Nacidos</th>\n",
       "      <th>Total_Hijos_Nacidos_Muertos</th>\n",
       "      <th>Total_Hijos_Vivos</th>\n",
       "      <th>Via_Parto</th>\n",
       "      <th>Nacionalidad_Madre</th>\n",
       "      <th>Grupo_Etnico_Madre</th>\n",
       "      <th>Causa_Defunción</th>\n",
       "    </tr>\n",
       "  </thead>\n",
       "  <tbody>\n",
       "    <tr>\n",
       "      <th>0</th>\n",
       "      <td>99</td>\n",
       "      <td>6</td>\n",
       "      <td>2009</td>\n",
       "      <td>1</td>\n",
       "      <td>18.0</td>\n",
       "      <td>2</td>\n",
       "      <td>99</td>\n",
       "      <td>99</td>\n",
       "      <td>34.416349</td>\n",
       "      <td>1</td>\n",
       "      <td>2</td>\n",
       "      <td>1</td>\n",
       "      <td>1.269311</td>\n",
       "      <td>2.0</td>\n",
       "      <td>1.0</td>\n",
       "      <td>99</td>\n",
       "      <td>1</td>\n",
       "      <td>4</td>\n",
       "      <td>0</td>\n",
       "    </tr>\n",
       "    <tr>\n",
       "      <th>1</th>\n",
       "      <td>99</td>\n",
       "      <td>1</td>\n",
       "      <td>2009</td>\n",
       "      <td>1</td>\n",
       "      <td>36.0</td>\n",
       "      <td>2</td>\n",
       "      <td>99</td>\n",
       "      <td>1</td>\n",
       "      <td>34.416349</td>\n",
       "      <td>1</td>\n",
       "      <td>9</td>\n",
       "      <td>1</td>\n",
       "      <td>1.269311</td>\n",
       "      <td>3.0</td>\n",
       "      <td>2.0</td>\n",
       "      <td>99</td>\n",
       "      <td>1</td>\n",
       "      <td>4</td>\n",
       "      <td>0</td>\n",
       "    </tr>\n",
       "    <tr>\n",
       "      <th>2</th>\n",
       "      <td>99</td>\n",
       "      <td>2</td>\n",
       "      <td>2009</td>\n",
       "      <td>1</td>\n",
       "      <td>22.0</td>\n",
       "      <td>2</td>\n",
       "      <td>99</td>\n",
       "      <td>99</td>\n",
       "      <td>34.416349</td>\n",
       "      <td>1</td>\n",
       "      <td>2</td>\n",
       "      <td>1</td>\n",
       "      <td>1.269311</td>\n",
       "      <td>3.0</td>\n",
       "      <td>2.0</td>\n",
       "      <td>99</td>\n",
       "      <td>1</td>\n",
       "      <td>4</td>\n",
       "      <td>0</td>\n",
       "    </tr>\n",
       "    <tr>\n",
       "      <th>3</th>\n",
       "      <td>99</td>\n",
       "      <td>2</td>\n",
       "      <td>2009</td>\n",
       "      <td>1</td>\n",
       "      <td>26.0</td>\n",
       "      <td>2</td>\n",
       "      <td>99</td>\n",
       "      <td>99</td>\n",
       "      <td>34.416349</td>\n",
       "      <td>1</td>\n",
       "      <td>2</td>\n",
       "      <td>1</td>\n",
       "      <td>1.269311</td>\n",
       "      <td>0.0</td>\n",
       "      <td>0.0</td>\n",
       "      <td>99</td>\n",
       "      <td>1</td>\n",
       "      <td>4</td>\n",
       "      <td>0</td>\n",
       "    </tr>\n",
       "    <tr>\n",
       "      <th>4</th>\n",
       "      <td>99</td>\n",
       "      <td>2</td>\n",
       "      <td>2009</td>\n",
       "      <td>1</td>\n",
       "      <td>43.0</td>\n",
       "      <td>2</td>\n",
       "      <td>99</td>\n",
       "      <td>99</td>\n",
       "      <td>34.416349</td>\n",
       "      <td>2</td>\n",
       "      <td>2</td>\n",
       "      <td>1</td>\n",
       "      <td>1.269311</td>\n",
       "      <td>10.0</td>\n",
       "      <td>6.0</td>\n",
       "      <td>99</td>\n",
       "      <td>1</td>\n",
       "      <td>4</td>\n",
       "      <td>0</td>\n",
       "    </tr>\n",
       "  </tbody>\n",
       "</table>\n",
       "</div>"
      ],
      "text/plain": [
       "   Área_Geográfica  Asistencia_Recibida  Año_Ocurrencia  Clase_Parto  \\\n",
       "0               99                    6            2009            1   \n",
       "1               99                    1            2009            1   \n",
       "2               99                    2            2009            1   \n",
       "3               99                    2            2009            1   \n",
       "4               99                    2            2009            1   \n",
       "\n",
       "   Edad_Madre  Estado_Civil_Madre  Escolaridad_Madre  Ocupación_Madre  \\\n",
       "0        18.0                   2                 99               99   \n",
       "1        36.0                   2                 99                1   \n",
       "2        22.0                   2                 99               99   \n",
       "3        26.0                   2                 99               99   \n",
       "4        43.0                   2                 99               99   \n",
       "\n",
       "   Semanas_Gestacion  Sexo  Sitio_Ocurrencia  Tipo_Atencion  \\\n",
       "0          34.416349     1                 2              1   \n",
       "1          34.416349     1                 9              1   \n",
       "2          34.416349     1                 2              1   \n",
       "3          34.416349     1                 2              1   \n",
       "4          34.416349     2                 2              1   \n",
       "\n",
       "   Total_Hijos_Nacidos  Total_Hijos_Nacidos_Muertos  Total_Hijos_Vivos  \\\n",
       "0             1.269311                          2.0                1.0   \n",
       "1             1.269311                          3.0                2.0   \n",
       "2             1.269311                          3.0                2.0   \n",
       "3             1.269311                          0.0                0.0   \n",
       "4             1.269311                         10.0                6.0   \n",
       "\n",
       "   Via_Parto  Nacionalidad_Madre  Grupo_Etnico_Madre  Causa_Defunción  \n",
       "0         99                   1                   4                0  \n",
       "1         99                   1                   4                0  \n",
       "2         99                   1                   4                0  \n",
       "3         99                   1                   4                0  \n",
       "4         99                   1                   4                0  "
      ]
     },
     "execution_count": 5,
     "metadata": {},
     "output_type": "execute_result"
    }
   ],
   "source": [
    "print('Cantidad de registros: ', len(df))\n",
    "\n",
    "X = df.drop(\"Causa_Defunción\", axis=1)\n",
    "Y = df[\"Causa_Defunción\"]\n",
    "\n",
    "#dividir el dataset en conjunto de entrenamiento y conjunto de testing\n",
    "X_entreno, X_prueba, y_entreno, y_prueba = train_test_split(X, Y, test_size=0.5, random_state=100)\n",
    "\n",
    "print('Cantidad de registros de entrenamiento: ', len(X_entreno))\n",
    "print('Cantidad de registros de prueba: ', len(X_prueba))\n",
    "\n",
    "df.head()\n",
    "\n"
   ]
  },
  {
   "attachments": {},
   "cell_type": "markdown",
   "metadata": {},
   "source": [
    "## Creación del modelo SVM"
   ]
  },
  {
   "attachments": {},
   "cell_type": "markdown",
   "metadata": {},
   "source": [
    "Se utiiza GridSearchCV para determinar que hiperparámetros son los más óptimos para el respectivo modelo."
   ]
  },
  {
   "cell_type": "code",
   "execution_count": 6,
   "metadata": {},
   "outputs": [],
   "source": [
    "from sklearn.model_selection import GridSearchCV\n",
    "from sklearn import svm\n",
    "import matplotlib.pyplot as plt\n",
    "\n",
    "params = {\n",
    "    'C': [0.1, 1, 10, 100, 1000],\n",
    "    'gamma': [1, 0.1, 0.01, 0.001, 0.0001],\n",
    "    'kernel': ['rbf', 'linear', 'sigmoid', 'poly']\n",
    "}\n",
    "\n",
    "svm_dummy = svm.SVC()\n",
    "\n",
    "# smaller sample size for grid search, since it is an exhaustive process and it takes a lot of time\n",
    "X_entreno_sample = X_entreno.sample(frac=0.001, random_state=100)\n",
    "y_entreno_sample = y_entreno.sample(frac=0.001, random_state=100)\n",
    "\n",
    "svm_grid = GridSearchCV(svm_dummy, params, n_jobs=-1, verbose=2, cv=3)"
   ]
  },
  {
   "cell_type": "code",
   "execution_count": 7,
   "metadata": {},
   "outputs": [
    {
     "name": "stdout",
     "output_type": "stream",
     "text": [
      "Fitting 3 folds for each of 100 candidates, totalling 300 fits\n"
     ]
    },
    {
     "name": "stderr",
     "output_type": "stream",
     "text": [
      "c:\\Users\\DIEGO\\AppData\\Local\\Programs\\Python\\Python310\\lib\\site-packages\\sklearn\\model_selection\\_split.py:700: UserWarning: The least populated class in y has only 2 members, which is less than n_splits=3.\n",
      "  warnings.warn(\n"
     ]
    },
    {
     "name": "stdout",
     "output_type": "stream",
     "text": [
      "Grid search results:\n",
      "---------------------\n",
      "{'mean_fit_time': array([0.00966636, 0.0106678 , 0.01133442, 0.00833575, 0.00632985,\n",
      "       0.00633136, 0.00767048, 0.0106647 , 0.00633883, 0.00633279,\n",
      "       0.00533533, 0.0063316 , 0.00666595, 0.00533064, 0.00666881,\n",
      "       0.00566816, 0.00700124, 0.00566332, 0.00466315, 0.00600243,\n",
      "       0.00699933, 0.00533406, 0.00400066, 0.00499105, 0.00533088,\n",
      "       0.00500003, 0.0053339 , 0.00566673, 0.00666849, 0.00600155,\n",
      "       0.00799115, 0.0069991 , 0.00600084, 0.00499805, 0.00433493,\n",
      "       0.00666372, 0.00599853, 0.00566912, 0.00567063, 0.00533565,\n",
      "       0.00466704, 0.00534264, 0.006001  , 0.00632993, 0.01866444,\n",
      "       0.00600378, 0.00533803, 0.0056661 , 0.00467086, 0.00833178,\n",
      "       0.00533183, 0.00633558, 0.00566602, 0.00599742, 0.00433962,\n",
      "       0.00699822, 0.00533621, 0.00533295, 0.00533462, 0.00800157,\n",
      "       0.00666833, 0.00666904, 0.00533652, 0.00967002, 0.00499948,\n",
      "       0.00633423, 0.00499948, 0.00699957, 0.00466855, 0.00533533,\n",
      "       0.00533541, 0.00633446, 0.00433421, 0.00699639, 0.00599742,\n",
      "       0.00799926, 0.00499884, 0.00533263, 0.00599933, 0.00733344,\n",
      "       0.0263323 , 0.00932995, 0.00566689, 0.00499924, 0.00900157,\n",
      "       0.00733344, 0.00800927, 0.01033187, 0.00600147, 0.01200175,\n",
      "       0.00332928, 0.00800188, 0.00566554, 0.02033194, 0.00933456,\n",
      "       0.00833225, 0.00667222, 0.00866588, 0.00800093, 0.00532937]), 'std_fit_time': array([3.85822412e-03, 4.49845992e-03, 4.02940296e-03, 1.24447562e-03,\n",
      "       2.05541886e-03, 2.05389537e-03, 1.24664030e-03, 2.05423126e-03,\n",
      "       1.24363789e-03, 1.24772611e-03, 1.24572703e-03, 4.67718447e-04,\n",
      "       3.09208768e-03, 4.73169260e-04, 4.69515983e-04, 9.45778165e-04,\n",
      "       2.83069555e-03, 1.71204880e-03, 4.69803687e-04, 8.13324462e-04,\n",
      "       2.94235749e-03, 4.70273675e-04, 2.21100294e-06, 8.23932549e-04,\n",
      "       4.74356011e-04, 8.17217009e-04, 4.70191058e-04, 9.43415077e-04,\n",
      "       1.70276087e-03, 1.63375081e-03, 2.83154564e-03, 8.16827511e-04,\n",
      "       8.16632565e-04, 2.04478587e-06, 4.69859368e-04, 2.35370771e-03,\n",
      "       2.94373405e-03, 1.24815020e-03, 1.24721456e-03, 1.24615712e-03,\n",
      "       4.72216190e-04, 4.82054198e-04, 2.16215050e-03, 4.68225372e-04,\n",
      "       1.10243549e-02, 8.17216452e-04, 1.24691682e-03, 1.24511213e-03,\n",
      "       4.71581382e-04, 3.39971000e-03, 1.24679025e-03, 2.05479869e-03,\n",
      "       2.35786342e-03, 8.14490722e-04, 4.77499277e-04, 2.16075253e-03,\n",
      "       1.25008352e-03, 9.42582297e-04, 1.24987098e-03, 2.94594755e-03,\n",
      "       2.49667950e-03, 1.24241415e-03, 9.44595294e-04, 1.88834813e-03,\n",
      "       1.41371769e-03, 9.43532590e-04, 8.16340302e-04, 2.44931221e-03,\n",
      "       9.44201879e-04, 4.72550716e-04, 9.45326436e-04, 4.73626027e-04,\n",
      "       4.70864843e-04, 2.82721077e-03, 1.63277748e-03, 2.44843728e-03,\n",
      "       8.17021437e-04, 1.25199315e-03, 1.41663990e-03, 1.69961239e-03,\n",
      "       1.04999856e-02, 9.41338475e-04, 1.24755384e-03, 8.18386057e-04,\n",
      "       3.55653555e-03, 2.62391387e-03, 2.15450125e-03, 4.49745303e-03,\n",
      "       1.63170683e-03, 8.15175983e-04, 4.67493340e-04, 2.45126944e-03,\n",
      "       9.41729364e-04, 1.55828795e-02, 3.30084488e-03, 1.88581923e-03,\n",
      "       1.70311916e-03, 2.05358583e-03, 4.31896709e-03, 4.74262319e-04]), 'mean_score_time': array([0.00766603, 0.00566689, 0.00399892, 0.00399725, 0.00433612,\n",
      "       0.00400122, 0.00500035, 0.00500075, 0.00365869, 0.00333532,\n",
      "       0.00500003, 0.00366592, 0.00366743, 0.00400098, 0.00432905,\n",
      "       0.0056661 , 0.00399955, 0.00399391, 0.00533493, 0.00433286,\n",
      "       0.00400154, 0.00399772, 0.00566808, 0.00333778, 0.00366545,\n",
      "       0.00633208, 0.00566626, 0.00399971, 0.0046653 , 0.00466482,\n",
      "       0.00333373, 0.00400225, 0.0043354 , 0.00500178, 0.00633152,\n",
      "       0.00566808, 0.00333357, 0.00533112, 0.0039982 , 0.00299803,\n",
      "       0.00333333, 0.00365822, 0.00299875, 0.00500162, 0.00633526,\n",
      "       0.00632962, 0.00366306, 0.00399892, 0.00432833, 0.00400368,\n",
      "       0.00366608, 0.00366577, 0.00433397, 0.00366831, 0.00366163,\n",
      "       0.00466752, 0.00399788, 0.00366728, 0.00366394, 0.00499884,\n",
      "       0.00566546, 0.004999  , 0.00366354, 0.00666332, 0.00766651,\n",
      "       0.00333087, 0.00500162, 0.00399931, 0.00533136, 0.00399931,\n",
      "       0.00333158, 0.00399844, 0.00366616, 0.00400805, 0.00800363,\n",
      "       0.00333325, 0.00467825, 0.00333301, 0.00333508, 0.00466625,\n",
      "       0.00466386, 0.0083398 , 0.00400058, 0.00399979, 0.00666499,\n",
      "       0.00633637, 0.0073243 , 0.00466728, 0.00399971, 0.01999863,\n",
      "       0.00399892, 0.00332975, 0.00666753, 0.00666809, 0.00567063,\n",
      "       0.00400138, 0.00699528, 0.00733685, 0.0053339 , 0.00700204]), 'std_score_time': array([2.49568125e-03, 9.43302846e-04, 8.16828253e-04, 2.64299538e-06,\n",
      "       9.45946076e-04, 7.37000982e-07, 1.41613416e-03, 1.41725888e-03,\n",
      "       9.36222319e-04, 4.72157095e-04, 8.15562095e-04, 4.70359192e-04,\n",
      "       4.70586189e-04, 1.32507737e-06, 4.68785347e-04, 1.69909874e-03,\n",
      "       2.78268518e-06, 8.11182146e-04, 1.24545746e-03, 4.66762298e-04,\n",
      "       2.50307969e-06, 8.17623957e-04, 2.49434267e-03, 4.75473454e-04,\n",
      "       4.70021816e-04, 3.39889881e-03, 2.35634659e-03, 1.41546084e-03,\n",
      "       2.35808943e-03, 1.69803828e-03, 4.71281121e-04, 8.19845711e-04,\n",
      "       1.24751386e-03, 1.63404285e-03, 3.30021070e-03, 1.88728017e-03,\n",
      "       4.70371881e-04, 2.62698303e-03, 1.41450446e-03, 3.68500491e-06,\n",
      "       4.71033219e-04, 4.70567909e-04, 4.49566384e-07, 1.63306948e-03,\n",
      "       3.39881955e-03, 1.24895607e-03, 9.42910425e-04, 8.16442237e-04,\n",
      "       4.71837630e-04, 1.41164233e-03, 4.69965711e-04, 9.40324414e-04,\n",
      "       1.24961481e-03, 9.44763776e-04, 4.68172546e-04, 1.70235612e-03,\n",
      "       8.16639990e-04, 4.70981419e-04, 1.69827271e-03, 1.41787739e-03,\n",
      "       3.09159098e-03, 2.16226255e-03, 4.70360280e-04, 1.70240225e-03,\n",
      "       3.09148777e-03, 4.69403511e-04, 1.63355665e-03, 8.16439638e-04,\n",
      "       1.70089075e-03, 8.15853406e-04, 4.68056512e-04, 8.15759318e-04,\n",
      "       4.72044703e-04, 8.22973301e-04, 4.54914001e-03, 4.70079553e-04,\n",
      "       1.25170718e-03, 4.70079553e-04, 4.70471865e-04, 1.24557850e-03,\n",
      "       9.42461543e-04, 2.62215976e-03, 8.16340070e-04, 2.64299538e-06,\n",
      "       2.49578742e-03, 2.86821321e-03, 1.69444765e-03, 4.72213542e-04,\n",
      "       8.15853677e-04, 2.12289075e-02, 8.17021529e-04, 4.74921551e-04,\n",
      "       4.49615656e-03, 3.09255055e-03, 3.09518156e-03, 8.16535171e-04,\n",
      "       3.55457087e-03, 9.44433824e-04, 1.24305248e-03, 2.94443671e-03]), 'param_C': masked_array(data=[0.1, 0.1, 0.1, 0.1, 0.1, 0.1, 0.1, 0.1, 0.1, 0.1, 0.1,\n",
      "                   0.1, 0.1, 0.1, 0.1, 0.1, 0.1, 0.1, 0.1, 0.1, 1, 1, 1,\n",
      "                   1, 1, 1, 1, 1, 1, 1, 1, 1, 1, 1, 1, 1, 1, 1, 1, 1, 10,\n",
      "                   10, 10, 10, 10, 10, 10, 10, 10, 10, 10, 10, 10, 10, 10,\n",
      "                   10, 10, 10, 10, 10, 100, 100, 100, 100, 100, 100, 100,\n",
      "                   100, 100, 100, 100, 100, 100, 100, 100, 100, 100, 100,\n",
      "                   100, 100, 1000, 1000, 1000, 1000, 1000, 1000, 1000,\n",
      "                   1000, 1000, 1000, 1000, 1000, 1000, 1000, 1000, 1000,\n",
      "                   1000, 1000, 1000, 1000],\n",
      "             mask=[False, False, False, False, False, False, False, False,\n",
      "                   False, False, False, False, False, False, False, False,\n",
      "                   False, False, False, False, False, False, False, False,\n",
      "                   False, False, False, False, False, False, False, False,\n",
      "                   False, False, False, False, False, False, False, False,\n",
      "                   False, False, False, False, False, False, False, False,\n",
      "                   False, False, False, False, False, False, False, False,\n",
      "                   False, False, False, False, False, False, False, False,\n",
      "                   False, False, False, False, False, False, False, False,\n",
      "                   False, False, False, False, False, False, False, False,\n",
      "                   False, False, False, False, False, False, False, False,\n",
      "                   False, False, False, False, False, False, False, False,\n",
      "                   False, False, False, False],\n",
      "       fill_value='?',\n",
      "            dtype=object), 'param_gamma': masked_array(data=[1, 1, 1, 1, 0.1, 0.1, 0.1, 0.1, 0.01, 0.01, 0.01, 0.01,\n",
      "                   0.001, 0.001, 0.001, 0.001, 0.0001, 0.0001, 0.0001,\n",
      "                   0.0001, 1, 1, 1, 1, 0.1, 0.1, 0.1, 0.1, 0.01, 0.01,\n",
      "                   0.01, 0.01, 0.001, 0.001, 0.001, 0.001, 0.0001, 0.0001,\n",
      "                   0.0001, 0.0001, 1, 1, 1, 1, 0.1, 0.1, 0.1, 0.1, 0.01,\n",
      "                   0.01, 0.01, 0.01, 0.001, 0.001, 0.001, 0.001, 0.0001,\n",
      "                   0.0001, 0.0001, 0.0001, 1, 1, 1, 1, 0.1, 0.1, 0.1, 0.1,\n",
      "                   0.01, 0.01, 0.01, 0.01, 0.001, 0.001, 0.001, 0.001,\n",
      "                   0.0001, 0.0001, 0.0001, 0.0001, 1, 1, 1, 1, 0.1, 0.1,\n",
      "                   0.1, 0.1, 0.01, 0.01, 0.01, 0.01, 0.001, 0.001, 0.001,\n",
      "                   0.001, 0.0001, 0.0001, 0.0001, 0.0001],\n",
      "             mask=[False, False, False, False, False, False, False, False,\n",
      "                   False, False, False, False, False, False, False, False,\n",
      "                   False, False, False, False, False, False, False, False,\n",
      "                   False, False, False, False, False, False, False, False,\n",
      "                   False, False, False, False, False, False, False, False,\n",
      "                   False, False, False, False, False, False, False, False,\n",
      "                   False, False, False, False, False, False, False, False,\n",
      "                   False, False, False, False, False, False, False, False,\n",
      "                   False, False, False, False, False, False, False, False,\n",
      "                   False, False, False, False, False, False, False, False,\n",
      "                   False, False, False, False, False, False, False, False,\n",
      "                   False, False, False, False, False, False, False, False,\n",
      "                   False, False, False, False],\n",
      "       fill_value='?',\n",
      "            dtype=object), 'param_kernel': masked_array(data=['rbf', 'linear', 'sigmoid', 'poly', 'rbf', 'linear',\n",
      "                   'sigmoid', 'poly', 'rbf', 'linear', 'sigmoid', 'poly',\n",
      "                   'rbf', 'linear', 'sigmoid', 'poly', 'rbf', 'linear',\n",
      "                   'sigmoid', 'poly', 'rbf', 'linear', 'sigmoid', 'poly',\n",
      "                   'rbf', 'linear', 'sigmoid', 'poly', 'rbf', 'linear',\n",
      "                   'sigmoid', 'poly', 'rbf', 'linear', 'sigmoid', 'poly',\n",
      "                   'rbf', 'linear', 'sigmoid', 'poly', 'rbf', 'linear',\n",
      "                   'sigmoid', 'poly', 'rbf', 'linear', 'sigmoid', 'poly',\n",
      "                   'rbf', 'linear', 'sigmoid', 'poly', 'rbf', 'linear',\n",
      "                   'sigmoid', 'poly', 'rbf', 'linear', 'sigmoid', 'poly',\n",
      "                   'rbf', 'linear', 'sigmoid', 'poly', 'rbf', 'linear',\n",
      "                   'sigmoid', 'poly', 'rbf', 'linear', 'sigmoid', 'poly',\n",
      "                   'rbf', 'linear', 'sigmoid', 'poly', 'rbf', 'linear',\n",
      "                   'sigmoid', 'poly', 'rbf', 'linear', 'sigmoid', 'poly',\n",
      "                   'rbf', 'linear', 'sigmoid', 'poly', 'rbf', 'linear',\n",
      "                   'sigmoid', 'poly', 'rbf', 'linear', 'sigmoid', 'poly',\n",
      "                   'rbf', 'linear', 'sigmoid', 'poly'],\n",
      "             mask=[False, False, False, False, False, False, False, False,\n",
      "                   False, False, False, False, False, False, False, False,\n",
      "                   False, False, False, False, False, False, False, False,\n",
      "                   False, False, False, False, False, False, False, False,\n",
      "                   False, False, False, False, False, False, False, False,\n",
      "                   False, False, False, False, False, False, False, False,\n",
      "                   False, False, False, False, False, False, False, False,\n",
      "                   False, False, False, False, False, False, False, False,\n",
      "                   False, False, False, False, False, False, False, False,\n",
      "                   False, False, False, False, False, False, False, False,\n",
      "                   False, False, False, False, False, False, False, False,\n",
      "                   False, False, False, False, False, False, False, False,\n",
      "                   False, False, False, False],\n",
      "       fill_value='?',\n",
      "            dtype=object), 'params': [{'C': 0.1, 'gamma': 1, 'kernel': 'rbf'}, {'C': 0.1, 'gamma': 1, 'kernel': 'linear'}, {'C': 0.1, 'gamma': 1, 'kernel': 'sigmoid'}, {'C': 0.1, 'gamma': 1, 'kernel': 'poly'}, {'C': 0.1, 'gamma': 0.1, 'kernel': 'rbf'}, {'C': 0.1, 'gamma': 0.1, 'kernel': 'linear'}, {'C': 0.1, 'gamma': 0.1, 'kernel': 'sigmoid'}, {'C': 0.1, 'gamma': 0.1, 'kernel': 'poly'}, {'C': 0.1, 'gamma': 0.01, 'kernel': 'rbf'}, {'C': 0.1, 'gamma': 0.01, 'kernel': 'linear'}, {'C': 0.1, 'gamma': 0.01, 'kernel': 'sigmoid'}, {'C': 0.1, 'gamma': 0.01, 'kernel': 'poly'}, {'C': 0.1, 'gamma': 0.001, 'kernel': 'rbf'}, {'C': 0.1, 'gamma': 0.001, 'kernel': 'linear'}, {'C': 0.1, 'gamma': 0.001, 'kernel': 'sigmoid'}, {'C': 0.1, 'gamma': 0.001, 'kernel': 'poly'}, {'C': 0.1, 'gamma': 0.0001, 'kernel': 'rbf'}, {'C': 0.1, 'gamma': 0.0001, 'kernel': 'linear'}, {'C': 0.1, 'gamma': 0.0001, 'kernel': 'sigmoid'}, {'C': 0.1, 'gamma': 0.0001, 'kernel': 'poly'}, {'C': 1, 'gamma': 1, 'kernel': 'rbf'}, {'C': 1, 'gamma': 1, 'kernel': 'linear'}, {'C': 1, 'gamma': 1, 'kernel': 'sigmoid'}, {'C': 1, 'gamma': 1, 'kernel': 'poly'}, {'C': 1, 'gamma': 0.1, 'kernel': 'rbf'}, {'C': 1, 'gamma': 0.1, 'kernel': 'linear'}, {'C': 1, 'gamma': 0.1, 'kernel': 'sigmoid'}, {'C': 1, 'gamma': 0.1, 'kernel': 'poly'}, {'C': 1, 'gamma': 0.01, 'kernel': 'rbf'}, {'C': 1, 'gamma': 0.01, 'kernel': 'linear'}, {'C': 1, 'gamma': 0.01, 'kernel': 'sigmoid'}, {'C': 1, 'gamma': 0.01, 'kernel': 'poly'}, {'C': 1, 'gamma': 0.001, 'kernel': 'rbf'}, {'C': 1, 'gamma': 0.001, 'kernel': 'linear'}, {'C': 1, 'gamma': 0.001, 'kernel': 'sigmoid'}, {'C': 1, 'gamma': 0.001, 'kernel': 'poly'}, {'C': 1, 'gamma': 0.0001, 'kernel': 'rbf'}, {'C': 1, 'gamma': 0.0001, 'kernel': 'linear'}, {'C': 1, 'gamma': 0.0001, 'kernel': 'sigmoid'}, {'C': 1, 'gamma': 0.0001, 'kernel': 'poly'}, {'C': 10, 'gamma': 1, 'kernel': 'rbf'}, {'C': 10, 'gamma': 1, 'kernel': 'linear'}, {'C': 10, 'gamma': 1, 'kernel': 'sigmoid'}, {'C': 10, 'gamma': 1, 'kernel': 'poly'}, {'C': 10, 'gamma': 0.1, 'kernel': 'rbf'}, {'C': 10, 'gamma': 0.1, 'kernel': 'linear'}, {'C': 10, 'gamma': 0.1, 'kernel': 'sigmoid'}, {'C': 10, 'gamma': 0.1, 'kernel': 'poly'}, {'C': 10, 'gamma': 0.01, 'kernel': 'rbf'}, {'C': 10, 'gamma': 0.01, 'kernel': 'linear'}, {'C': 10, 'gamma': 0.01, 'kernel': 'sigmoid'}, {'C': 10, 'gamma': 0.01, 'kernel': 'poly'}, {'C': 10, 'gamma': 0.001, 'kernel': 'rbf'}, {'C': 10, 'gamma': 0.001, 'kernel': 'linear'}, {'C': 10, 'gamma': 0.001, 'kernel': 'sigmoid'}, {'C': 10, 'gamma': 0.001, 'kernel': 'poly'}, {'C': 10, 'gamma': 0.0001, 'kernel': 'rbf'}, {'C': 10, 'gamma': 0.0001, 'kernel': 'linear'}, {'C': 10, 'gamma': 0.0001, 'kernel': 'sigmoid'}, {'C': 10, 'gamma': 0.0001, 'kernel': 'poly'}, {'C': 100, 'gamma': 1, 'kernel': 'rbf'}, {'C': 100, 'gamma': 1, 'kernel': 'linear'}, {'C': 100, 'gamma': 1, 'kernel': 'sigmoid'}, {'C': 100, 'gamma': 1, 'kernel': 'poly'}, {'C': 100, 'gamma': 0.1, 'kernel': 'rbf'}, {'C': 100, 'gamma': 0.1, 'kernel': 'linear'}, {'C': 100, 'gamma': 0.1, 'kernel': 'sigmoid'}, {'C': 100, 'gamma': 0.1, 'kernel': 'poly'}, {'C': 100, 'gamma': 0.01, 'kernel': 'rbf'}, {'C': 100, 'gamma': 0.01, 'kernel': 'linear'}, {'C': 100, 'gamma': 0.01, 'kernel': 'sigmoid'}, {'C': 100, 'gamma': 0.01, 'kernel': 'poly'}, {'C': 100, 'gamma': 0.001, 'kernel': 'rbf'}, {'C': 100, 'gamma': 0.001, 'kernel': 'linear'}, {'C': 100, 'gamma': 0.001, 'kernel': 'sigmoid'}, {'C': 100, 'gamma': 0.001, 'kernel': 'poly'}, {'C': 100, 'gamma': 0.0001, 'kernel': 'rbf'}, {'C': 100, 'gamma': 0.0001, 'kernel': 'linear'}, {'C': 100, 'gamma': 0.0001, 'kernel': 'sigmoid'}, {'C': 100, 'gamma': 0.0001, 'kernel': 'poly'}, {'C': 1000, 'gamma': 1, 'kernel': 'rbf'}, {'C': 1000, 'gamma': 1, 'kernel': 'linear'}, {'C': 1000, 'gamma': 1, 'kernel': 'sigmoid'}, {'C': 1000, 'gamma': 1, 'kernel': 'poly'}, {'C': 1000, 'gamma': 0.1, 'kernel': 'rbf'}, {'C': 1000, 'gamma': 0.1, 'kernel': 'linear'}, {'C': 1000, 'gamma': 0.1, 'kernel': 'sigmoid'}, {'C': 1000, 'gamma': 0.1, 'kernel': 'poly'}, {'C': 1000, 'gamma': 0.01, 'kernel': 'rbf'}, {'C': 1000, 'gamma': 0.01, 'kernel': 'linear'}, {'C': 1000, 'gamma': 0.01, 'kernel': 'sigmoid'}, {'C': 1000, 'gamma': 0.01, 'kernel': 'poly'}, {'C': 1000, 'gamma': 0.001, 'kernel': 'rbf'}, {'C': 1000, 'gamma': 0.001, 'kernel': 'linear'}, {'C': 1000, 'gamma': 0.001, 'kernel': 'sigmoid'}, {'C': 1000, 'gamma': 0.001, 'kernel': 'poly'}, {'C': 1000, 'gamma': 0.0001, 'kernel': 'rbf'}, {'C': 1000, 'gamma': 0.0001, 'kernel': 'linear'}, {'C': 1000, 'gamma': 0.0001, 'kernel': 'sigmoid'}, {'C': 1000, 'gamma': 0.0001, 'kernel': 'poly'}], 'split0_test_score': array([0.69230769, 0.69230769, 0.69230769, 0.46153846, 0.69230769,\n",
      "       0.69230769, 0.69230769, 0.53846154, 0.69230769, 0.69230769,\n",
      "       0.69230769, 0.46153846, 0.69230769, 0.69230769, 0.69230769,\n",
      "       0.53846154, 0.69230769, 0.69230769, 0.69230769, 0.46153846,\n",
      "       0.69230769, 0.53846154, 0.69230769, 0.46153846, 0.69230769,\n",
      "       0.53846154, 0.69230769, 0.53846154, 0.69230769, 0.53846154,\n",
      "       0.69230769, 0.46153846, 0.69230769, 0.53846154, 0.69230769,\n",
      "       0.53846154, 0.69230769, 0.53846154, 0.69230769, 0.46153846,\n",
      "       0.69230769, 0.46153846, 0.69230769, 0.46153846, 0.69230769,\n",
      "       0.46153846, 0.69230769, 0.53846154, 0.69230769, 0.46153846,\n",
      "       0.69230769, 0.46153846, 0.61538462, 0.46153846, 0.69230769,\n",
      "       0.53846154, 0.69230769, 0.46153846, 0.69230769, 0.46153846,\n",
      "       0.69230769, 0.46153846, 0.69230769, 0.46153846, 0.69230769,\n",
      "       0.46153846, 0.69230769, 0.53846154, 0.69230769, 0.46153846,\n",
      "       0.69230769, 0.46153846, 0.69230769, 0.46153846, 0.69230769,\n",
      "       0.53846154, 0.69230769, 0.46153846, 0.69230769, 0.46153846,\n",
      "       0.69230769, 0.46153846, 0.69230769, 0.46153846, 0.69230769,\n",
      "       0.46153846, 0.69230769, 0.53846154, 0.69230769, 0.46153846,\n",
      "       0.69230769, 0.46153846, 0.61538462, 0.46153846, 0.69230769,\n",
      "       0.53846154, 0.69230769, 0.46153846, 0.69230769, 0.46153846]), 'split1_test_score': array([0.66666667, 0.58333333, 0.66666667, 0.5       , 0.66666667,\n",
      "       0.58333333, 0.66666667, 0.58333333, 0.66666667, 0.58333333,\n",
      "       0.66666667, 0.58333333, 0.66666667, 0.58333333, 0.66666667,\n",
      "       0.58333333, 0.66666667, 0.58333333, 0.66666667, 0.66666667,\n",
      "       0.66666667, 0.5       , 0.66666667, 0.5       , 0.66666667,\n",
      "       0.5       , 0.66666667, 0.58333333, 0.66666667, 0.5       ,\n",
      "       0.66666667, 0.58333333, 0.66666667, 0.5       , 0.66666667,\n",
      "       0.58333333, 0.66666667, 0.5       , 0.66666667, 0.66666667,\n",
      "       0.66666667, 0.5       , 0.66666667, 0.5       , 0.66666667,\n",
      "       0.5       , 0.66666667, 0.58333333, 0.41666667, 0.5       ,\n",
      "       0.66666667, 0.58333333, 0.5       , 0.5       , 0.66666667,\n",
      "       0.58333333, 0.66666667, 0.5       , 0.66666667, 0.66666667,\n",
      "       0.66666667, 0.5       , 0.66666667, 0.5       , 0.66666667,\n",
      "       0.5       , 0.66666667, 0.58333333, 0.41666667, 0.5       ,\n",
      "       0.66666667, 0.58333333, 0.41666667, 0.5       , 0.66666667,\n",
      "       0.58333333, 0.75      , 0.5       , 0.66666667, 0.66666667,\n",
      "       0.66666667, 0.5       , 0.66666667, 0.5       , 0.66666667,\n",
      "       0.5       , 0.66666667, 0.58333333, 0.41666667, 0.5       ,\n",
      "       0.66666667, 0.58333333, 0.41666667, 0.5       , 0.66666667,\n",
      "       0.58333333, 0.5       , 0.5       , 0.66666667, 0.66666667]), 'split2_test_score': array([0.66666667, 0.58333333, 0.66666667, 0.5       , 0.66666667,\n",
      "       0.58333333, 0.66666667, 0.5       , 0.66666667, 0.58333333,\n",
      "       0.66666667, 0.5       , 0.66666667, 0.58333333, 0.66666667,\n",
      "       0.5       , 0.66666667, 0.58333333, 0.66666667, 0.41666667,\n",
      "       0.66666667, 0.58333333, 0.66666667, 0.5       , 0.58333333,\n",
      "       0.58333333, 0.66666667, 0.5       , 0.5       , 0.58333333,\n",
      "       0.66666667, 0.5       , 0.5       , 0.58333333, 0.66666667,\n",
      "       0.5       , 0.5       , 0.58333333, 0.66666667, 0.41666667,\n",
      "       0.66666667, 0.5       , 0.66666667, 0.5       , 0.58333333,\n",
      "       0.5       , 0.66666667, 0.5       , 0.5       , 0.5       ,\n",
      "       0.66666667, 0.5       , 0.5       , 0.5       , 0.66666667,\n",
      "       0.5       , 0.5       , 0.5       , 0.66666667, 0.41666667,\n",
      "       0.66666667, 0.5       , 0.66666667, 0.5       , 0.58333333,\n",
      "       0.5       , 0.66666667, 0.5       , 0.5       , 0.5       ,\n",
      "       0.66666667, 0.5       , 0.58333333, 0.5       , 0.66666667,\n",
      "       0.5       , 0.5       , 0.5       , 0.66666667, 0.41666667,\n",
      "       0.66666667, 0.5       , 0.66666667, 0.5       , 0.58333333,\n",
      "       0.5       , 0.66666667, 0.5       , 0.5       , 0.5       ,\n",
      "       0.66666667, 0.5       , 0.58333333, 0.5       , 0.66666667,\n",
      "       0.5       , 0.66666667, 0.5       , 0.66666667, 0.41666667]), 'mean_test_score': array([0.67521368, 0.61965812, 0.67521368, 0.48717949, 0.67521368,\n",
      "       0.61965812, 0.67521368, 0.54059829, 0.67521368, 0.61965812,\n",
      "       0.67521368, 0.51495726, 0.67521368, 0.61965812, 0.67521368,\n",
      "       0.54059829, 0.67521368, 0.61965812, 0.67521368, 0.51495726,\n",
      "       0.67521368, 0.54059829, 0.67521368, 0.48717949, 0.6474359 ,\n",
      "       0.54059829, 0.67521368, 0.54059829, 0.61965812, 0.54059829,\n",
      "       0.67521368, 0.51495726, 0.61965812, 0.54059829, 0.67521368,\n",
      "       0.54059829, 0.61965812, 0.54059829, 0.67521368, 0.51495726,\n",
      "       0.67521368, 0.48717949, 0.67521368, 0.48717949, 0.6474359 ,\n",
      "       0.48717949, 0.67521368, 0.54059829, 0.53632479, 0.48717949,\n",
      "       0.67521368, 0.51495726, 0.53846154, 0.48717949, 0.67521368,\n",
      "       0.54059829, 0.61965812, 0.48717949, 0.67521368, 0.51495726,\n",
      "       0.67521368, 0.48717949, 0.67521368, 0.48717949, 0.6474359 ,\n",
      "       0.48717949, 0.67521368, 0.54059829, 0.53632479, 0.48717949,\n",
      "       0.67521368, 0.51495726, 0.56410256, 0.48717949, 0.67521368,\n",
      "       0.54059829, 0.6474359 , 0.48717949, 0.67521368, 0.51495726,\n",
      "       0.67521368, 0.48717949, 0.67521368, 0.48717949, 0.6474359 ,\n",
      "       0.48717949, 0.67521368, 0.54059829, 0.53632479, 0.48717949,\n",
      "       0.67521368, 0.51495726, 0.53846154, 0.48717949, 0.67521368,\n",
      "       0.54059829, 0.61965812, 0.48717949, 0.67521368, 0.51495726]), 'std_test_score': array([0.0120873 , 0.05137101, 0.0120873 , 0.01813094, 0.0120873 ,\n",
      "       0.05137101, 0.0120873 , 0.03405423, 0.0120873 , 0.05137101,\n",
      "       0.0120873 , 0.05083495, 0.0120873 , 0.05137101, 0.0120873 ,\n",
      "       0.03405423, 0.0120873 , 0.05137101, 0.0120873 , 0.10882762,\n",
      "       0.0120873 , 0.03405423, 0.0120873 , 0.01813094, 0.04652039,\n",
      "       0.03405423, 0.0120873 , 0.03405423, 0.08525614, 0.03405423,\n",
      "       0.0120873 , 0.05083495, 0.08525614, 0.03405423, 0.0120873 ,\n",
      "       0.03405423, 0.08525614, 0.03405423, 0.0120873 , 0.10882762,\n",
      "       0.0120873 , 0.01813094, 0.0120873 , 0.01813094, 0.04652039,\n",
      "       0.01813094, 0.0120873 , 0.03405423, 0.11542418, 0.01813094,\n",
      "       0.0120873 , 0.05083495, 0.05439283, 0.01813094, 0.0120873 ,\n",
      "       0.03405423, 0.08525614, 0.01813094, 0.0120873 , 0.10882762,\n",
      "       0.0120873 , 0.01813094, 0.0120873 , 0.01813094, 0.04652039,\n",
      "       0.01813094, 0.0120873 , 0.03405423, 0.11542418, 0.01813094,\n",
      "       0.0120873 , 0.05083495, 0.11334861, 0.01813094, 0.0120873 ,\n",
      "       0.03405423, 0.10688033, 0.01813094, 0.0120873 , 0.10882762,\n",
      "       0.0120873 , 0.01813094, 0.0120873 , 0.01813094, 0.04652039,\n",
      "       0.01813094, 0.0120873 , 0.03405423, 0.11542418, 0.01813094,\n",
      "       0.0120873 , 0.05083495, 0.08711033, 0.01813094, 0.0120873 ,\n",
      "       0.03405423, 0.08525614, 0.01813094, 0.0120873 , 0.10882762]), 'rank_test_score': array([ 1, 40,  1, 81,  1, 40,  1, 51,  1, 40,  1, 71,  1, 40,  1, 51,  1,\n",
      "       40,  1, 71,  1, 51,  1, 81, 35, 51,  1, 51, 40, 51,  1, 71, 40, 51,\n",
      "        1, 51, 40, 51,  1, 71,  1, 81,  1, 81, 35, 81,  1, 51, 68, 81,  1,\n",
      "       71, 66, 81,  1, 51, 40, 81,  1, 71,  1, 81,  1, 81, 35, 81,  1, 51,\n",
      "       68, 81,  1, 71, 50, 81,  1, 51, 35, 81,  1, 71,  1, 81,  1, 81, 35,\n",
      "       81,  1, 51, 68, 81,  1, 71, 66, 81,  1, 51, 40, 81,  1, 71])}\n"
     ]
    }
   ],
   "source": [
    "svm_grid.fit(X_entreno_sample, y_entreno_sample) \n",
    "\n",
    "import matplotlib.pyplot as plt\n",
    "from mpl_toolkits.mplot3d import Axes3D\n",
    "\n",
    "print(\"Grid search results:\")\n",
    "print(\"---------------------\")\n",
    "results = svm_grid.cv_results_\n",
    "\n",
    "print(results)"
   ]
  },
  {
   "cell_type": "code",
   "execution_count": 8,
   "metadata": {},
   "outputs": [
    {
     "data": {
      "image/png": "[encoded data removed]",
      "text/plain": [
       "<Figure size 640x480 with 1 Axes>"
      ]
     },
     "metadata": {},
     "output_type": "display_data"
    },
    {
     "name": "stdout",
     "output_type": "stream",
     "text": [
      "Best parameters set found on development set:\n",
      "{'C': 0.1, 'gamma': 1, 'kernel': 'rbf'}\n"
     ]
    }
   ],
   "source": [
    "mean_scores = results[\"mean_test_score\"]\n",
    "params = results[\"params\"]\n",
    "\n",
    "# Extract parameter values for each parameter\n",
    "param_C = [param['C'] for param in params]\n",
    "param_gamma = [param['gamma'] for param in params]\n",
    "param_kernel = [param['kernel'] for param in params]\n",
    "\n",
    "fig = plt.figure()\n",
    "ax = fig.add_subplot(111, projection='3d')\n",
    "\n",
    "# Mapping kernel names to integer values\n",
    "kernel_map = {'linear': 0, 'poly': 1, 'rbf': 2, 'sigmoid': 3}\n",
    "kernel_colors = [kernel_map[kernel] for kernel in param_kernel]\n",
    "\n",
    "# Plotting the mean scores with color-coded markers based on kernel\n",
    "scatter = ax.scatter(param_C, param_gamma, mean_scores, c=kernel_colors, cmap='viridis')\n",
    "\n",
    "ax.set_xlabel('C')\n",
    "ax.set_ylabel('Gamma')\n",
    "ax.set_zlabel('Mean Score')\n",
    "ax.set_title('Grid Search Results')\n",
    "ax.legend(handles=scatter.legend_elements()[0], labels=kernel_map.keys(), title='Kernel')\n",
    "\n",
    "plt.show()\n",
    "\n",
    "print(\"Best parameters set found on development set:\")\n",
    "print(svm_grid.best_params_)\n"
   ]
  },
  {
   "attachments": {},
   "cell_type": "markdown",
   "metadata": {},
   "source": [
    "* _Debido al gran tamaño del dataset y de la alta complejidad de ejeución del gridsearch, se decidió realizar el gridsearch en una muestra del 0.5% del dataset original._\n",
    "* _Existen múltiples hiper-parámetros que alcanzan el mismo score, por lo que se decidió escoger los que menos tiempo de ejecución requirieran._"
   ]
  },
  {
   "cell_type": "code",
   "execution_count": 9,
   "metadata": {},
   "outputs": [
    {
     "name": "stdout",
     "output_type": "stream",
     "text": [
      "Accuracy: 0.5274564911901416\n",
      "Recall: 0.5274564911901416\n"
     ]
    }
   ],
   "source": [
    "from sklearn.metrics import accuracy_score , recall_score, precision_score, f1_score\n",
    "\n",
    "# Crear el clasificador SVM\n",
    "clf = svm.SVC(kernel='linear')  # Puedes ajustar el kernel según tus necesidades (lineal, polinómico, RBF, etc.)\n",
    "\n",
    "# Entrenar el modelo utilizando los datos de entrenamiento\n",
    "clf.fit(X_entreno, y_entreno)\n",
    "\n",
    "# Realizar predicciones en el conjunto de prueba\n",
    "predicciones = clf.predict(X_prueba)\n",
    "\n",
    "# Calcular el accuracy\n",
    "accuracy = accuracy_score(y_prueba, predicciones)\n",
    "\n",
    "# Mostrar el accuracy\n",
    "print(\"Accuracy:\", accuracy)\n",
    "print(\"Recall:\", recall_score(y_prueba, predicciones, average='weighted'))\n",
    "#print(\"Precision:\", precision_score(y_prueba, predicciones, average='weighted'))\n",
    "#print(\"F1:\", f1_score(y_prueba, predicciones, average='weighted'))"
   ]
  },
  {
   "cell_type": "code",
   "execution_count": 10,
   "metadata": {},
   "outputs": [
    {
     "name": "stdout",
     "output_type": "stream",
     "text": [
      "Accuracy: 0.9382228948221814\n",
      "Recall: 0.9382228948221814\n"
     ]
    }
   ],
   "source": [
    "# Se utilizan los hipérparámetros obtenidos en la búsqueda de grilla\n",
    "clf = svm.SVC(kernel='rbf', C=1, gamma=0.1)  \n",
    "\n",
    "# Entrenar el modelo utilizando los datos de entrenamiento\n",
    "clf.fit(X_entreno, y_entreno)\n",
    "\n",
    "# Realizar predicciones en el conjunto de prueba\n",
    "predicciones = clf.predict(X_prueba)\n",
    "\n",
    "# Calcular el accuracy\n",
    "accuracy = accuracy_score(y_prueba, predicciones)\n",
    "\n",
    "# Mostrar el accuracy\n",
    "print(\"Accuracy:\", accuracy)\n",
    "print(\"Recall:\", recall_score(y_prueba, predicciones, average='weighted'))\n",
    "#print(\"Precision:\", precision_score(y_prueba, predicciones, average='weighted'))\n",
    "#print(\"F1:\", f1_score(y_prueba, predicciones, average='weighted'))"
   ]
  },
  {
   "attachments": {},
   "cell_type": "markdown",
   "metadata": {},
   "source": [
    "* _Podemos apreciar que el cambio a los hiperparámetros representa un gran cambio en el score del modelo, por lo que se confirma que los hiperparámetros escogidos son los más óptimos; el accuracy y el recall están por encima del 0.93, lo cual es un buen resultado._"
   ]
  },
  {
   "attachments": {},
   "cell_type": "markdown",
   "metadata": {},
   "source": [
    "## Impacto de las diferentes variables en el rendimiento del modelo"
   ]
  },
  {
   "attachments": {},
   "cell_type": "markdown",
   "metadata": {},
   "source": [
    "* _En este acercamiento, se busca observar las variables más implicadas en las condiciones de vida de la madre en vez del desarrollo del embarazo como tal. Con esto, buscamos encontrar el impacto que tienen las condiciones de vida de la madre en el resultado del embarazo._"
   ]
  },
  {
   "cell_type": "code",
   "execution_count": 39,
   "metadata": {},
   "outputs": [
    {
     "name": "stdout",
     "output_type": "stream",
     "text": [
      "['Área_Geográfica', 'Asistencia_Recibida', 'Año_Ocurrencia', 'Clase_Parto', 'Edad_Madre', 'Estado_Civil_Madre', 'Escolaridad_Madre', 'Ocupación_Madre', 'Semanas_Gestacion', 'Sexo', 'Sitio_Ocurrencia', 'Tipo_Atencion', 'Total_Hijos_Nacidos', 'Total_Hijos_Nacidos_Muertos', 'Total_Hijos_Vivos', 'Via_Parto', 'Nacionalidad_Madre', 'Grupo_Etnico_Madre']\n",
      "Área_Geográfica\n",
      "Asistencia_Recibida\n",
      "Año_Ocurrencia\n",
      "Clase_Parto\n",
      "Edad_Madre\n",
      "Estado_Civil_Madre\n",
      "Escolaridad_Madre\n",
      "Ocupación_Madre\n",
      "Semanas_Gestacion\n",
      "Sexo\n",
      "Sitio_Ocurrencia\n",
      "Tipo_Atencion\n",
      "Total_Hijos_Nacidos\n",
      "Total_Hijos_Nacidos_Muertos\n",
      "Total_Hijos_Vivos\n",
      "Via_Parto\n",
      "Nacionalidad_Madre\n",
      "Grupo_Etnico_Madre\n"
     ]
    }
   ],
   "source": [
    "columnas = X.columns.tolist()\n",
    "causas = [0, 1]\n",
    "print(columnas)\n",
    "for e in columnas:\n",
    "    print(e)"
   ]
  },
  {
   "attachments": {},
   "cell_type": "markdown",
   "metadata": {},
   "source": [
    "### Escolaridad de la madre"
   ]
  },
  {
   "cell_type": "code",
   "execution_count": 27,
   "metadata": {},
   "outputs": [],
   "source": [
    "df0 = df[df['Causa_Defunción'] == 0]\n",
    "df1 = df[df['Causa_Defunción'] == 1]"
   ]
  },
  {
   "cell_type": "code",
   "execution_count": 30,
   "metadata": {},
   "outputs": [
    {
     "name": "stdout",
     "output_type": "stream",
     "text": [
      "35271\n"
     ]
    },
    {
     "data": {
      "text/plain": [
       "1     10999\n",
       "2     10369\n",
       "99     6113\n",
       "3      3991\n",
       "4      3303\n",
       "5       493\n",
       "6         3\n",
       "Name: Escolaridad_Madre, dtype: int64"
      ]
     },
     "execution_count": 30,
     "metadata": {},
     "output_type": "execute_result"
    }
   ],
   "source": [
    "# Causa de defunción = 0 = Parto\n",
    "print(len(df0['Escolaridad_Madre']))\n",
    "df0['Escolaridad_Madre'].value_counts()"
   ]
  },
  {
   "cell_type": "code",
   "execution_count": 31,
   "metadata": {},
   "outputs": [
    {
     "name": "stdout",
     "output_type": "stream",
     "text": [
      "35271\n"
     ]
    },
    {
     "data": {
      "text/plain": [
       "2     13405\n",
       "1      9924\n",
       "3      5049\n",
       "4      3067\n",
       "99     2884\n",
       "5       942\n",
       "Name: Escolaridad_Madre, dtype: int64"
      ]
     },
     "execution_count": 31,
     "metadata": {},
     "output_type": "execute_result"
    }
   ],
   "source": [
    "# Causa de defunción = 1 = Embarazo\n",
    "print(len(df1['Escolaridad_Madre']))\n",
    "df1['Escolaridad_Madre'].value_counts()"
   ]
  },
  {
   "attachments": {},
   "cell_type": "markdown",
   "metadata": {},
   "source": [
    "* _En relación a la escolaridad de la madre, hay una mayor persistencia de defunciones durante el parto en madres con ninguna educación o con educación primaria._\n",
    "* _Por otro lado, las defunciones fetales durante el embarazo son más persistentes en madres con primaria._\n",
    "* _Debido a esto, podemos ver una tendencia a mayor mortalidad en madres con menor nivel de educación._"
   ]
  },
  {
   "cell_type": "code",
   "execution_count": 40,
   "metadata": {},
   "outputs": [
    {
     "name": "stdout",
     "output_type": "stream",
     "text": [
      "---------------------------------------------------------------------------\n",
      "Causa de defunción:  Parto\n",
      "Nivel de educación de la madre:  Básico\n",
      "Predicción:  [0 0 0 ... 0 0 0]\n",
      "Realidad:  [0 0 0 ... 0 0 0]\n",
      "Cambio:  1.4553014553014554 %\n",
      "---------------------------------------------------------------------------\n",
      "Causa de defunción:  Embarazo\n",
      "Nivel de educación de la madre:  Básico\n",
      "Predicción:  [1 1 0 ... 0 1 1]\n",
      "Realidad:  [1 1 1 ... 1 1 1]\n",
      "Cambio:  46.33339633339633 %\n",
      "---------------------------------------------------------------------------\n",
      "Causa de defunción:  Parto\n",
      "Nivel de educación de la madre:  Universidad\n",
      "Predicción:  [0 0 0 ... 0 0 0]\n",
      "Realidad:  [0 0 0 ... 0 0 0]\n",
      "Cambio:  0.8316008316008316 %\n",
      "---------------------------------------------------------------------------\n",
      "Causa de defunción:  Embarazo\n",
      "Nivel de educación de la madre:  Universidad\n",
      "Predicción:  [1 1 0 ... 0 1 1]\n",
      "Realidad:  [1 1 1 ... 1 1 1]\n",
      "Cambio:  70.68607068607069 %\n",
      "---------------------------------------------------------------------------\n",
      "Causa de defunción:  Parto\n",
      "Nivel de educación de la madre:  Postgrado\n",
      "Predicción:  [0 0 0 ... 0 0 0]\n",
      "Realidad:  [0 0 0 ... 0 0 0]\n",
      "Cambio:  0.38745038745038746 %\n",
      "---------------------------------------------------------------------------\n",
      "Causa de defunción:  Embarazo\n",
      "Nivel de educación de la madre:  Postgrado\n",
      "Predicción:  [0 0 0 ... 0 0 0]\n",
      "Realidad:  [1 1 1 ... 1 1 1]\n",
      "Cambio:  87.11018711018711 %\n"
     ]
    }
   ],
   "source": [
    "# Nivel de educación de la madre - Universidad\n",
    "\n",
    "niveles_edu = [4, 5, 6]\n",
    "\n",
    "for n in niveles_edu:\n",
    "    for c in causas:\n",
    "        df_1 = df[df['Causa_Defunción'] == c] # causa de defunción\n",
    "        df_1 = df_1[columnas + ['Causa_Defunción']]\n",
    "\n",
    "        df_1['Escolaridad_Madre'] = n # Universidad\n",
    "\n",
    "        x_train, x_test, y_train, y_test = train_test_split(df_1.drop('Causa_Defunción', axis=1), df_1['Causa_Defunción'], test_size=0.3, random_state=42)\n",
    "        y_correct = clf.predict(x_test)\n",
    "\n",
    "        print(\"---------------------------------------------------------------------------\")\n",
    "        causa = ''\n",
    "        if c == 0:\n",
    "            causa = 'Parto'\n",
    "        elif c == 1:\n",
    "            causa = 'Embarazo'\n",
    "\n",
    "        educacion = ''\n",
    "        if n == 4:\n",
    "            educacion = 'Básico'\n",
    "        elif n == 5:\n",
    "            educacion = 'Universidad'\n",
    "        elif n == 6:\n",
    "            educacion = 'Postgrado'\n",
    "\n",
    "        print(\"Causa de defunción: \", causa)\n",
    "        print(\"Nivel de educación de la madre: \", educacion)\n",
    "        \n",
    "        print('Predicción: ', y_correct)\n",
    "        print('Realidad: ', y_test.values)\n",
    "        print(\"Cambio: \", (y_correct != y_test).sum() / len(y_test) * 100, \"%\")\n",
    "\n"
   ]
  },
  {
   "attachments": {},
   "cell_type": "markdown",
   "metadata": {},
   "source": [
    "### Total de hijos de la madre"
   ]
  },
  {
   "cell_type": "code",
   "execution_count": 50,
   "metadata": {},
   "outputs": [
    {
     "name": "stderr",
     "output_type": "stream",
     "text": [
      "C:\\Users\\DIEGO\\AppData\\Local\\Temp\\ipykernel_3548\\2508835345.py:3: SettingWithCopyWarning: \n",
      "A value is trying to be set on a copy of a slice from a DataFrame.\n",
      "Try using .loc[row_indexer,col_indexer] = value instead\n",
      "\n",
      "See the caveats in the documentation: https://pandas.pydata.org/pandas-docs/stable/user_guide/indexing.html#returning-a-view-versus-a-copy\n",
      "  df0['Total_Hijos_Vivos'] = np.round(df0['Total_Hijos_Vivos'])\n",
      "C:\\Users\\DIEGO\\AppData\\Local\\Temp\\ipykernel_3548\\2508835345.py:4: SettingWithCopyWarning: \n",
      "A value is trying to be set on a copy of a slice from a DataFrame.\n",
      "Try using .loc[row_indexer,col_indexer] = value instead\n",
      "\n",
      "See the caveats in the documentation: https://pandas.pydata.org/pandas-docs/stable/user_guide/indexing.html#returning-a-view-versus-a-copy\n",
      "  df1['Total_Hijos_Vivos'] = np.round(df1['Total_Hijos_Vivos'])\n",
      "C:\\Users\\DIEGO\\AppData\\Local\\Temp\\ipykernel_3548\\2508835345.py:5: SettingWithCopyWarning: \n",
      "A value is trying to be set on a copy of a slice from a DataFrame.\n",
      "Try using .loc[row_indexer,col_indexer] = value instead\n",
      "\n",
      "See the caveats in the documentation: https://pandas.pydata.org/pandas-docs/stable/user_guide/indexing.html#returning-a-view-versus-a-copy\n",
      "  df0['Total_Hijos_Vivos'] = df0['Total_Hijos_Vivos'].astype(int)\n",
      "C:\\Users\\DIEGO\\AppData\\Local\\Temp\\ipykernel_3548\\2508835345.py:6: SettingWithCopyWarning: \n",
      "A value is trying to be set on a copy of a slice from a DataFrame.\n",
      "Try using .loc[row_indexer,col_indexer] = value instead\n",
      "\n",
      "See the caveats in the documentation: https://pandas.pydata.org/pandas-docs/stable/user_guide/indexing.html#returning-a-view-versus-a-copy\n",
      "  df1['Total_Hijos_Vivos'] = df1['Total_Hijos_Vivos'].astype(int)\n"
     ]
    }
   ],
   "source": [
    "df0 = df[df['Causa_Defunción'] == 0]\n",
    "df1 = df[df['Causa_Defunción'] == 1]\n",
    "df0['Total_Hijos_Vivos'] = np.round(df0['Total_Hijos_Vivos'])\n",
    "df1['Total_Hijos_Vivos'] = np.round(df1['Total_Hijos_Vivos'])\n",
    "df0['Total_Hijos_Vivos'] = df0['Total_Hijos_Vivos'].astype(int)\n",
    "df1['Total_Hijos_Vivos'] = df1['Total_Hijos_Vivos'].astype(int)"
   ]
  },
  {
   "attachments": {},
   "cell_type": "markdown",
   "metadata": {},
   "source": [
    "* _La cantidad de hijos vivos resulta más relevante que la cantidad de hijos difuntos._"
   ]
  },
  {
   "cell_type": "code",
   "execution_count": 51,
   "metadata": {},
   "outputs": [
    {
     "name": "stdout",
     "output_type": "stream",
     "text": [
      "35271\n"
     ]
    },
    {
     "data": {
      "text/plain": [
       "3     16616\n",
       "1      8049\n",
       "2      4270\n",
       "4      1748\n",
       "5      1286\n",
       "0       981\n",
       "6       917\n",
       "7       570\n",
       "8       365\n",
       "9       224\n",
       "10      139\n",
       "11       69\n",
       "12       24\n",
       "13       10\n",
       "16        1\n",
       "15        1\n",
       "14        1\n",
       "Name: Total_Hijos_Vivos, dtype: int64"
      ]
     },
     "execution_count": 51,
     "metadata": {},
     "output_type": "execute_result"
    }
   ],
   "source": [
    "# Causa de defunción = 0 = Parto\n",
    "print(len(df0['Total_Hijos_Vivos']))\n",
    "df0['Total_Hijos_Vivos'].value_counts()"
   ]
  },
  {
   "cell_type": "code",
   "execution_count": 52,
   "metadata": {},
   "outputs": [
    {
     "name": "stdout",
     "output_type": "stream",
     "text": [
      "35271\n"
     ]
    },
    {
     "data": {
      "text/plain": [
       "3     14610\n",
       "1      8985\n",
       "2      5806\n",
       "4      1661\n",
       "5      1422\n",
       "6       975\n",
       "7       503\n",
       "9       418\n",
       "8       296\n",
       "0       271\n",
       "10      201\n",
       "11       74\n",
       "12       49\n",
       "Name: Total_Hijos_Vivos, dtype: int64"
      ]
     },
     "execution_count": 52,
     "metadata": {},
     "output_type": "execute_result"
    }
   ],
   "source": [
    "# Causa de defunción = 1 = Embarazo\n",
    "print(len(df1['Total_Hijos_Vivos']))\n",
    "df1['Total_Hijos_Vivos'].value_counts()"
   ]
  },
  {
   "attachments": {},
   "cell_type": "markdown",
   "metadata": {},
   "source": [
    "* _El punto de cambio en la cantidad de hijos vivos se encuentra en 4 hijos vivos, donde se observa un cambio en la tendencia de la mortalidad._"
   ]
  },
  {
   "cell_type": "code",
   "execution_count": 53,
   "metadata": {},
   "outputs": [
    {
     "name": "stdout",
     "output_type": "stream",
     "text": [
      "---------------------------------------------------------------------------\n",
      "Causa de defunción:  Parto\n",
      "Cantidad de hijos vivos:  0\n",
      "Predicción:  [0 0 0 ... 0 0 0]\n",
      "Realidad:  [0 0 0 ... 0 0 0]\n",
      "Cambio:  1.2852012852012853 %\n",
      "---------------------------------------------------------------------------\n",
      "Causa de defunción:  Embarazo\n",
      "Cantidad de hijos vivos:  0\n",
      "Predicción:  [0 1 0 ... 0 1 1]\n",
      "Realidad:  [1 1 1 ... 1 1 1]\n",
      "Cambio:  54.12965412965413 %\n",
      "---------------------------------------------------------------------------\n",
      "Causa de defunción:  Parto\n",
      "Cantidad de hijos vivos:  1\n",
      "Predicción:  [ 0  0  0 ...  0  0 99]\n",
      "Realidad:  [0 0 0 ... 0 0 0]\n",
      "Cambio:  2.1924021924021924 %\n",
      "---------------------------------------------------------------------------\n",
      "Causa de defunción:  Embarazo\n",
      "Cantidad de hijos vivos:  1\n",
      "Predicción:  [1 1 1 ... 0 1 1]\n",
      "Realidad:  [1 1 1 ... 1 1 1]\n",
      "Cambio:  24.787374787374787 %\n",
      "---------------------------------------------------------------------------\n",
      "Causa de defunción:  Parto\n",
      "Cantidad de hijos vivos:  9\n",
      "Predicción:  [0 0 0 ... 0 0 0]\n",
      "Realidad:  [0 0 0 ... 0 0 0]\n",
      "Cambio:  0.028350028350028346 %\n",
      "---------------------------------------------------------------------------\n",
      "Causa de defunción:  Embarazo\n",
      "Cantidad de hijos vivos:  5\n",
      "Predicción:  [1 0 1 ... 0 0 0]\n",
      "Realidad:  [1 1 1 ... 1 1 1]\n",
      "Cambio:  51.39860139860139 %\n",
      "---------------------------------------------------------------------------\n",
      "Causa de defunción:  Parto\n",
      "Cantidad de hijos vivos:  8\n",
      "Predicción:  [0 0 0 ... 0 0 0]\n",
      "Realidad:  [0 0 0 ... 0 0 0]\n",
      "Cambio:  0.08505008505008506 %\n",
      "---------------------------------------------------------------------------\n",
      "Causa de defunción:  Embarazo\n",
      "Cantidad de hijos vivos:  6\n",
      "Predicción:  [1 0 0 ... 0 0 0]\n",
      "Realidad:  [1 1 1 ... 1 1 1]\n",
      "Cambio:  82.23398223398223 %\n"
     ]
    }
   ],
   "source": [
    "# Nivel de educación de la madre - Universidad\n",
    "from random import randint\n",
    "\n",
    "i = 0\n",
    "while i < 4:\n",
    "    for c in causas:\n",
    "        df_1 = df[df['Causa_Defunción'] == c] # causa de defunción\n",
    "        df_1 = df_1[columnas + ['Causa_Defunción']]\n",
    "\n",
    "        if i < 2:\n",
    "            # random upsample\n",
    "            n = randint(0, 4)\n",
    "            df_1['Total_Hijos_Vivos'] = n \n",
    "        else:\n",
    "            # random downsample\n",
    "            n = randint(5, 10)\n",
    "            df_1['Total_Hijos_Vivos'] = n\n",
    "\n",
    "        #df_1['Escolaridad_Madre'] = n # Universidad\n",
    "\n",
    "        x_train, x_test, y_train, y_test = train_test_split(df_1.drop('Causa_Defunción', axis=1), df_1['Causa_Defunción'], test_size=0.3, random_state=42)\n",
    "        y_correct = clf.predict(x_test)\n",
    "\n",
    "        print(\"---------------------------------------------------------------------------\")\n",
    "        causa = ''\n",
    "        if c == 0:\n",
    "            causa = 'Parto'\n",
    "        elif c == 1:\n",
    "            causa = 'Embarazo'\n",
    "\n",
    "\n",
    "        print(\"Causa de defunción: \", causa)\n",
    "        print(\"Cantidad de hijos vivos: \", n)\n",
    "        \n",
    "        print('Predicción: ', y_correct)\n",
    "        print('Realidad: ', y_test.values)\n",
    "        print(\"Cambio: \", (y_correct != y_test).sum() / len(y_test) * 100, \"%\")\n",
    "\n",
    "    i += 1\n",
    "\n"
   ]
  },
  {
   "attachments": {},
   "cell_type": "markdown",
   "metadata": {},
   "source": [
    "### Estado civil de la madre"
   ]
  },
  {
   "cell_type": "code",
   "execution_count": 45,
   "metadata": {},
   "outputs": [],
   "source": [
    "df0 = df[df['Causa_Defunción'] == 0] # Parto\n",
    "df1 = df[df['Causa_Defunción'] == 1] # Embarazo"
   ]
  },
  {
   "cell_type": "code",
   "execution_count": 19,
   "metadata": {},
   "outputs": [
    {
     "data": {
      "text/plain": [
       "1     18061\n",
       "2     14216\n",
       "99     2891\n",
       "3       103\n",
       "Name: Estado_Civil_Madre, dtype: int64"
      ]
     },
     "execution_count": 19,
     "metadata": {},
     "output_type": "execute_result"
    }
   ],
   "source": [
    "df0['Estado_Civil_Madre'].value_counts()"
   ]
  },
  {
   "cell_type": "code",
   "execution_count": 20,
   "metadata": {},
   "outputs": [
    {
     "data": {
      "text/plain": [
       "1     17264\n",
       "2     16579\n",
       "99     1071\n",
       "3       357\n",
       "Name: Estado_Civil_Madre, dtype: int64"
      ]
     },
     "execution_count": 20,
     "metadata": {},
     "output_type": "execute_result"
    }
   ],
   "source": [
    "df1['Estado_Civil_Madre'].value_counts()"
   ]
  },
  {
   "cell_type": "code",
   "execution_count": 47,
   "metadata": {},
   "outputs": [
    {
     "name": "stdout",
     "output_type": "stream",
     "text": [
      "---------------------------------------------------------------------------\n",
      "Causa de defunción:  Parto\n",
      "Estado civil de la madre:  Soltera\n",
      "Predicción:  [ 0  0  0 ...  0  0 99]\n",
      "Realidad:  [0 0 0 ... 0 0 0]\n",
      "Cambio:  2.164052164052164 %\n",
      "---------------------------------------------------------------------------\n",
      "Causa de defunción:  Embarazo\n",
      "Estado civil de la madre:  Soltera\n",
      "Predicción:  [1 1 1 ... 1 1 1]\n",
      "Realidad:  [1 1 1 ... 1 1 1]\n",
      "Cambio:  3.6004536004536005 %\n",
      "---------------------------------------------------------------------------\n",
      "Causa de defunción:  Parto\n",
      "Estado civil de la madre:  Casada\n",
      "Predicción:  [ 0  0  0 ...  0  0 99]\n",
      "Realidad:  [0 0 0 ... 0 0 0]\n",
      "Cambio:  2.353052353052353 %\n",
      "---------------------------------------------------------------------------\n",
      "Causa de defunción:  Embarazo\n",
      "Estado civil de la madre:  Casada\n",
      "Predicción:  [1 1 1 ... 1 1 1]\n",
      "Realidad:  [1 1 1 ... 1 1 1]\n",
      "Cambio:  3.4303534303534304 %\n",
      "---------------------------------------------------------------------------\n",
      "Causa de defunción:  Parto\n",
      "Estado civil de la madre:  Unión Libre\n",
      "Predicción:  [ 0  0  0 ...  0  0 99]\n",
      "Realidad:  [0 0 0 ... 0 0 0]\n",
      "Cambio:  2.457002457002457 %\n",
      "---------------------------------------------------------------------------\n",
      "Causa de defunción:  Embarazo\n",
      "Estado civil de la madre:  Unión Libre\n",
      "Predicción:  [1 1 1 ... 1 1 1]\n",
      "Realidad:  [1 1 1 ... 1 1 1]\n",
      "Cambio:  17.643167643167644 %\n"
     ]
    }
   ],
   "source": [
    "# Nivel de educación de la madre - Universidad\n",
    "\n",
    "estadoCivil = {1:'Soltera', 2:'Casada', 3:'Unión Libre'}\n",
    "\n",
    "for n in estadoCivil:\n",
    "    for c in causas:\n",
    "        df_1 = df[df['Causa_Defunción'] == c] # causa de defunción\n",
    "        df_1 = df_1[columnas + ['Causa_Defunción']]\n",
    "\n",
    "        df_1['Estado_Civil_Madre'] = n # Universidad\n",
    "\n",
    "        x_train, x_test, y_train, y_test = train_test_split(df_1.drop('Causa_Defunción', axis=1), df_1['Causa_Defunción'], test_size=0.3, random_state=42)\n",
    "        y_correct = clf.predict(x_test)\n",
    "\n",
    "        print(\"---------------------------------------------------------------------------\")\n",
    "        causa = ''\n",
    "        if c == 0:\n",
    "            causa = 'Parto'\n",
    "        elif c == 1:\n",
    "            causa = 'Embarazo'\n",
    "\n",
    "        print(\"Causa de defunción: \", causa)\n",
    "        print(\"Estado civil de la madre: \", estadoCivil[n])\n",
    "        \n",
    "        print('Predicción: ', y_correct)\n",
    "        print('Realidad: ', y_test.values)\n",
    "        print(\"Cambio: \", (y_correct != y_test).sum() / len(y_test) * 100, \"%\")\n",
    "\n"
   ]
  },
  {
   "attachments": {},
   "cell_type": "markdown",
   "metadata": {},
   "source": [
    "### Edad de la madre"
   ]
  },
  {
   "cell_type": "code",
   "execution_count": 21,
   "metadata": {},
   "outputs": [],
   "source": [
    "df0 = df[df['Causa_Defunción'] == 0]\n",
    "df1 = df[df['Causa_Defunción'] == 1]"
   ]
  },
  {
   "cell_type": "code",
   "execution_count": 22,
   "metadata": {},
   "outputs": [
    {
     "data": {
      "text/plain": [
       "27.67464    3238\n",
       "21.00000    1589\n",
       "20.00000    1561\n",
       "22.00000    1546\n",
       "23.00000    1457\n",
       "24.00000    1442\n",
       "25.00000    1433\n",
       "19.00000    1400\n",
       "26.00000    1398\n",
       "27.00000    1362\n",
       "28.00000    1350\n",
       "30.00000    1289\n",
       "29.00000    1263\n",
       "31.00000    1261\n",
       "33.00000    1207\n",
       "32.00000    1179\n",
       "34.00000    1172\n",
       "18.00000    1150\n",
       "35.00000    1070\n",
       "17.00000    1032\n",
       "36.00000     960\n",
       "37.00000     920\n",
       "38.00000     833\n",
       "39.00000     744\n",
       "16.00000     665\n",
       "40.00000     626\n",
       "41.00000     529\n",
       "42.00000     428\n",
       "15.00000     356\n",
       "43.00000     257\n",
       "44.00000     184\n",
       "14.00000     131\n",
       "45.00000     110\n",
       "46.00000      46\n",
       "13.00000      32\n",
       "47.00000      15\n",
       "48.00000      10\n",
       "12.00000       7\n",
       "49.00000       4\n",
       "52.00000       4\n",
       "11.00000       3\n",
       "50.00000       3\n",
       "51.00000       2\n",
       "53.00000       2\n",
       "57.00000       1\n",
       "Name: Edad_Madre, dtype: int64"
      ]
     },
     "execution_count": 22,
     "metadata": {},
     "output_type": "execute_result"
    }
   ],
   "source": [
    "df0['Edad_Madre'].value_counts()"
   ]
  },
  {
   "cell_type": "code",
   "execution_count": 23,
   "metadata": {},
   "outputs": [
    {
     "data": {
      "text/plain": [
       "25.00000    2135\n",
       "21.00000    2116\n",
       "22.00000    1885\n",
       "31.00000    1803\n",
       "23.00000    1800\n",
       "18.00000    1730\n",
       "26.00000    1603\n",
       "33.00000    1466\n",
       "29.00000    1365\n",
       "24.00000    1304\n",
       "35.00000    1295\n",
       "27.00000    1247\n",
       "32.00000    1238\n",
       "20.00000    1229\n",
       "30.00000    1219\n",
       "36.00000    1189\n",
       "27.67464    1186\n",
       "34.00000    1155\n",
       "19.00000    1141\n",
       "40.00000     875\n",
       "41.00000     794\n",
       "38.00000     755\n",
       "37.00000     741\n",
       "28.00000     740\n",
       "17.00000     739\n",
       "39.00000     715\n",
       "15.00000     378\n",
       "16.00000     354\n",
       "42.00000     303\n",
       "43.00000     258\n",
       "44.00000     203\n",
       "47.00000     125\n",
       "46.00000     123\n",
       "14.00000      62\n",
       "Name: Edad_Madre, dtype: int64"
      ]
     },
     "execution_count": 23,
     "metadata": {},
     "output_type": "execute_result"
    }
   ],
   "source": [
    "df1['Edad_Madre'].value_counts()"
   ]
  },
  {
   "attachments": {},
   "cell_type": "markdown",
   "metadata": {},
   "source": [
    "### Etnia de la madre"
   ]
  },
  {
   "cell_type": "code",
   "execution_count": 24,
   "metadata": {},
   "outputs": [],
   "source": [
    "df0 = df[df['Causa_Defunción'] == 0]\n",
    "df1 = df[df['Causa_Defunción'] == 1]"
   ]
  },
  {
   "cell_type": "code",
   "execution_count": 25,
   "metadata": {},
   "outputs": [
    {
     "data": {
      "text/plain": [
       "1     12317\n",
       "2      8797\n",
       "99     7016\n",
       "3      3674\n",
       "4      3051\n",
       "5       383\n",
       "6        19\n",
       "7        14\n",
       "Name: Grupo_Etnico_Madre, dtype: int64"
      ]
     },
     "execution_count": 25,
     "metadata": {},
     "output_type": "execute_result"
    }
   ],
   "source": [
    "df0['Grupo_Etnico_Madre'].value_counts()"
   ]
  },
  {
   "cell_type": "code",
   "execution_count": 26,
   "metadata": {},
   "outputs": [
    {
     "data": {
      "text/plain": [
       "1     11053\n",
       "2      8933\n",
       "3      5580\n",
       "99     4787\n",
       "4      4459\n",
       "5       400\n",
       "6        59\n",
       "Name: Grupo_Etnico_Madre, dtype: int64"
      ]
     },
     "execution_count": 26,
     "metadata": {},
     "output_type": "execute_result"
    }
   ],
   "source": [
    "df1['Grupo_Etnico_Madre'].value_counts()"
   ]
  },
  {
   "cell_type": "code",
   "execution_count": 48,
   "metadata": {},
   "outputs": [
    {
     "name": "stdout",
     "output_type": "stream",
     "text": [
      "---------------------------------------------------------------------------\n",
      "Causa de defunción:  Parto\n",
      "Etnia de la madre:  Maya\n",
      "Predicción:  [ 0  0  0 ...  0  0 99]\n",
      "Realidad:  [0 0 0 ... 0 0 0]\n",
      "Cambio:  3.60990360990361 %\n",
      "---------------------------------------------------------------------------\n",
      "Causa de defunción:  Embarazo\n",
      "Etnia de la madre:  Maya\n",
      "Predicción:  [1 1 0 ... 1 0 0]\n",
      "Realidad:  [1 1 1 ... 1 1 1]\n",
      "Cambio:  26.923076923076923 %\n",
      "---------------------------------------------------------------------------\n",
      "Causa de defunción:  Parto\n",
      "Etnia de la madre:  Ladina/Mestiza\n",
      "Predicción:  [ 0  0  0 ...  0  0 99]\n",
      "Realidad:  [0 0 0 ... 0 0 0]\n",
      "Cambio:  3.1374031374031373 %\n",
      "---------------------------------------------------------------------------\n",
      "Causa de defunción:  Embarazo\n",
      "Etnia de la madre:  Ladina/Mestiza\n",
      "Predicción:  [1 1 0 ... 1 1 1]\n",
      "Realidad:  [1 1 1 ... 1 1 1]\n",
      "Cambio:  16.310716310716312 %\n",
      "---------------------------------------------------------------------------\n",
      "Causa de defunción:  Parto\n",
      "Etnia de la madre:  Indígena\n",
      "Predicción:  [0 0 0 ... 0 0 1]\n",
      "Realidad:  [0 0 0 ... 0 0 0]\n",
      "Cambio:  3.6288036288036283 %\n",
      "---------------------------------------------------------------------------\n",
      "Causa de defunción:  Embarazo\n",
      "Etnia de la madre:  Indígena\n",
      "Predicción:  [1 1 0 ... 1 1 1]\n",
      "Realidad:  [1 1 1 ... 1 1 1]\n",
      "Cambio:  24.94802494802495 %\n",
      "---------------------------------------------------------------------------\n",
      "Causa de defunción:  Parto\n",
      "Etnia de la madre:  No Indígena\n",
      "Predicción:  [0 0 0 ... 0 0 1]\n",
      "Realidad:  [0 0 0 ... 0 0 0]\n",
      "Cambio:  4.280854280854281 %\n",
      "---------------------------------------------------------------------------\n",
      "Causa de defunción:  Embarazo\n",
      "Etnia de la madre:  No Indígena\n",
      "Predicción:  [1 1 0 ... 1 1 1]\n",
      "Realidad:  [1 1 1 ... 1 1 1]\n",
      "Cambio:  41.14534114534115 %\n",
      "---------------------------------------------------------------------------\n",
      "Causa de defunción:  Parto\n",
      "Etnia de la madre:  Otra\n",
      "Predicción:  [0 0 0 ... 0 0 1]\n",
      "Realidad:  [0 0 0 ... 0 0 0]\n",
      "Cambio:  4.110754110754111 %\n",
      "---------------------------------------------------------------------------\n",
      "Causa de defunción:  Embarazo\n",
      "Etnia de la madre:  Otra\n",
      "Predicción:  [ 0  0  0 ... 99  1  1]\n",
      "Realidad:  [1 1 1 ... 1 1 1]\n",
      "Cambio:  61.21716121716122 %\n",
      "---------------------------------------------------------------------------\n",
      "Causa de defunción:  Parto\n",
      "Etnia de la madre:  Garífuna\n",
      "Predicción:  [0 0 0 ... 0 0 0]\n",
      "Realidad:  [0 0 0 ... 0 0 0]\n",
      "Cambio:  2.7877527877527877 %\n",
      "---------------------------------------------------------------------------\n",
      "Causa de defunción:  Embarazo\n",
      "Etnia de la madre:  Garífuna\n",
      "Predicción:  [0 0 0 ... 0 1 1]\n",
      "Realidad:  [1 1 1 ... 1 1 1]\n",
      "Cambio:  78.51067851067852 %\n",
      "---------------------------------------------------------------------------\n",
      "Causa de defunción:  Parto\n",
      "Etnia de la madre:  Xinca\n",
      "Predicción:  [0 0 0 ... 0 0 0]\n",
      "Realidad:  [0 0 0 ... 0 0 0]\n",
      "Cambio:  0.6615006615006614 %\n",
      "---------------------------------------------------------------------------\n",
      "Causa de defunción:  Embarazo\n",
      "Etnia de la madre:  Xinca\n",
      "Predicción:  [0 0 0 ... 0 0 0]\n",
      "Realidad:  [1 1 1 ... 1 1 1]\n",
      "Cambio:  94.02759402759403 %\n"
     ]
    }
   ],
   "source": [
    "\n",
    "etnias = {\n",
    "    1: 'Maya',\n",
    "    2: 'Ladina/Mestiza',\n",
    "    3: 'Indígena',\n",
    "    4: 'No Indígena',\n",
    "    5: 'Otra',\n",
    "    6: 'Garífuna',\n",
    "    7: 'Xinca'\n",
    "}\n",
    "\n",
    "for n in etnias:\n",
    "    for c in causas:\n",
    "        df_1 = df[df['Causa_Defunción'] == c] # causa de defunción\n",
    "        df_1 = df_1[columnas + ['Causa_Defunción']]\n",
    "\n",
    "        df_1['Grupo_Etnico_Madre'] = n # etnia\n",
    "\n",
    "        x_train, x_test, y_train, y_test = train_test_split(df_1.drop('Causa_Defunción', axis=1), df_1['Causa_Defunción'], test_size=0.3, random_state=42)\n",
    "        y_correct = clf.predict(x_test)\n",
    "\n",
    "        print(\"---------------------------------------------------------------------------\")\n",
    "        causa = ''\n",
    "        if c == 0:\n",
    "            causa = 'Parto'\n",
    "        elif c == 1:\n",
    "            causa = 'Embarazo'\n",
    "\n",
    "        print(\"Causa de defunción: \", causa)\n",
    "        print(\"Etnia de la madre: \", etnias[n])\n",
    "        \n",
    "        print('Predicción: ', y_correct)\n",
    "        print('Realidad: ', y_test.values)\n",
    "        print(\"Cambio: \", (y_correct != y_test).sum() / len(y_test) * 100, \"%\")"
   ]
  }
 ],
 "metadata": {
  "kernelspec": {
   "display_name": "Python 3",
   "language": "python",
   "name": "python3"
  },
  "language_info": {
   "codemirror_mode": {
    "name": "ipython",
    "version": 3
   },
   "file_extension": ".py",
   "mimetype": "text/x-python",
   "name": "python",
   "nbconvert_exporter": "python",
   "pygments_lexer": "ipython3",
   "version": "3.10.9"
  },
  "orig_nbformat": 4
 },
 "nbformat": 4,
 "nbformat_minor": 2
}
