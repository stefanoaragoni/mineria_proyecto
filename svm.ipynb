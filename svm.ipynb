{
 "cells": [
  {
   "attachments": {},
   "cell_type": "markdown",
   "metadata": {},
   "source": [
    "#### Modelado con SVM (Support Vector Machine)"
   ]
  },
  {
   "attachments": {},
   "cell_type": "markdown",
   "metadata": {},
   "source": [
    "Importacion de librerias y archivo "
   ]
  },
  {
   "cell_type": "code",
   "execution_count": 9,
   "metadata": {},
   "outputs": [],
   "source": [
    "import pandas as pd\n",
    "import numpy as np\n",
    "from collections import Counter\n",
    "import numpy as np\n",
    "from sklearn.model_selection import train_test_split\n",
    "from sklearn.utils import resample"
   ]
  },
  {
   "cell_type": "code",
   "execution_count": 10,
   "metadata": {},
   "outputs": [],
   "source": [
    "#leer csv\n",
    "df = pd.read_csv('defunciones_clean.csv')\n"
   ]
  },
  {
   "attachments": {},
   "cell_type": "markdown",
   "metadata": {},
   "source": [
    "Quitar columnas no relevantes"
   ]
  },
  {
   "cell_type": "code",
   "execution_count": 11,
   "metadata": {},
   "outputs": [],
   "source": [
    "# drop columns no relevantes\n",
    "df.drop('Departamento_Residencia_Madre', axis=1, inplace=True)\n",
    "df.drop('Año_Registro', axis=1, inplace=True)\n",
    "df.drop('Mes_Registro', axis=1, inplace=True)\n",
    "df.drop('Día_Ocurrencia', axis=1, inplace=True)        # No se considera el día de ocurrencia\n",
    "\n",
    "df.drop('Departamento_Registro', axis=1, inplace=True)\n",
    "\n",
    "df.drop('Municipio_Registro', axis=1, inplace=True)\n",
    "df.drop('Municipio_Ocurrencia', axis=1, inplace=True)          \n",
    "df.drop('Municipio_Residencia_Madre', axis=1, inplace=True)"
   ]
  },
  {
   "attachments": {},
   "cell_type": "markdown",
   "metadata": {},
   "source": [
    "Separar en entrenaminto y prueba"
   ]
  },
  {
   "cell_type": "code",
   "execution_count": 12,
   "metadata": {},
   "outputs": [],
   "source": [
    "\n",
    "X = df.drop(\"Causa_Defunción\", axis=1)\n",
    "Y = df[\"Causa_Defunción\"]\n",
    "\n",
    "#dividir el dataset en conjunto de entrenamiento y conjunto de testing\n",
    "X_entreno, X_prueba, y_entreno, y_prueba = train_test_split(X, Y, test_size = 0.25, random_state = 100)\n"
   ]
  },
  {
   "attachments": {},
   "cell_type": "markdown",
   "metadata": {},
   "source": [
    "Se utiiza GridSearchCV para determinar que hiperparámetros son los más óptimos para el respectivo modelo."
   ]
  },
  {
   "cell_type": "code",
   "execution_count": 13,
   "metadata": {},
   "outputs": [],
   "source": [
    "from sklearn.model_selection import train_test_split, GridSearchCV\n",
    "from sklearn.svm import SVC\n",
    "from sklearn.metrics import classification_report\n",
    "\n",
    "# Split the dataset into training and testing sets\n",
    "X_entreno, X_prueba, y_entreno, y_prueba = train_test_split(X, Y, test_size=0.25, random_state=100)\n",
    "\n",
    "# Define the parameter grid for grid search\n",
    "param_grid = {\n",
    "    'C': [0.1, 1, 10],\n",
    "    'kernel': ['linear', 'rbf'],\n",
    "    'gamma': [0.1, 1, 'scale']\n",
    "}\n",
    "\n",
    "# Create an SVM classifier\n",
    "svm = SVC()\n",
    "\n",
    "# Perform grid search with cross-validation\n",
    "grid_search = GridSearchCV(estimator=svm, param_grid=param_grid, cv=5)\n",
    "grid_search.fit(X_entreno, y_entreno)\n",
    "\n",
    "# Get the best parameters and best score\n",
    "best_params = grid_search.best_params_\n",
    "best_score = grid_search.best_score_\n",
    "\n",
    "# Train the SVM model with the best parameters\n",
    "svm_best = SVC(**best_params)\n",
    "svm_best.fit(X_entreno, y_entreno)\n",
    "\n",
    "# Make predictions on the testing set\n",
    "y_pred = svm_best.predict(X_prueba)\n",
    "\n",
    "# Evaluate the model\n",
    "classification_rep = classification_report(y_prueba, y_pred)\n",
    "print(\"Best Parameters:\", best_params)\n",
    "print(\"Best Score:\", best_score)\n",
    "print(\"Classification Report:\\n\", classification_rep)\n"
   ]
  }
 ],
 "metadata": {
  "kernelspec": {
   "display_name": "Python 3",
   "language": "python",
   "name": "python3"
  },
  "language_info": {
   "codemirror_mode": {
    "name": "ipython",
    "version": 3
   },
   "file_extension": ".py",
   "mimetype": "text/x-python",
   "name": "python",
   "nbconvert_exporter": "python",
   "pygments_lexer": "ipython3",
   "version": "3.10.8"
  },
  "orig_nbformat": 4
 },
 "nbformat": 4,
 "nbformat_minor": 2
}
