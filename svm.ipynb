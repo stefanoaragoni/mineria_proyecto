{
 "cells": [
  {
   "attachments": {},
   "cell_type": "markdown",
   "metadata": {},
   "source": [
    "#### Modelado con SVM (Support Vector Machine)"
   ]
  },
  {
   "attachments": {},
   "cell_type": "markdown",
   "metadata": {},
   "source": [
    "Importacion de librerias y archivo "
   ]
  },
  {
   "cell_type": "code",
   "execution_count": 7,
   "metadata": {},
   "outputs": [],
   "source": [
    "import pandas as pd\n",
    "import numpy as np\n",
    "from collections import Counter\n",
    "import numpy as np\n",
    "from sklearn.model_selection import train_test_split\n",
    "from sklearn.utils import resample"
   ]
  },
  {
   "cell_type": "code",
   "execution_count": 8,
   "metadata": {},
   "outputs": [],
   "source": [
    "#leer csv\n",
    "df = pd.read_csv('defunciones_clean.csv')\n"
   ]
  },
  {
   "attachments": {},
   "cell_type": "markdown",
   "metadata": {},
   "source": [
    "Quitar columnas no relevantes"
   ]
  },
  {
   "cell_type": "code",
   "execution_count": 9,
   "metadata": {},
   "outputs": [],
   "source": [
    "# drop columns no relevantes\n",
    "df.drop('Departamento_Residencia_Madre', axis=1, inplace=True)\n",
    "df.drop('Año_Registro', axis=1, inplace=True)\n",
    "df.drop('Mes_Registro', axis=1, inplace=True)\n",
    "df.drop('Día_Ocurrencia', axis=1, inplace=True)        # No se considera el día de ocurrencia\n",
    "\n",
    "df.drop('Departamento_Registro', axis=1, inplace=True)\n",
    "\n",
    "df.drop('Municipio_Registro', axis=1, inplace=True)\n",
    "df.drop('Municipio_Ocurrencia', axis=1, inplace=True)          \n",
    "df.drop('Municipio_Residencia_Madre', axis=1, inplace=True)"
   ]
  },
  {
   "attachments": {},
   "cell_type": "markdown",
   "metadata": {},
   "source": [
    "Separar en entrenaminto y prueba"
   ]
  },
  {
   "cell_type": "code",
   "execution_count": 10,
   "metadata": {},
   "outputs": [],
   "source": [
    "\n",
    "X = df.drop(\"Causa_Defunción\", axis=1)\n",
    "Y = df[\"Causa_Defunción\"]\n",
    "\n",
    "#dividir el dataset en conjunto de entrenamiento y conjunto de testing\n",
    "X_entreno, X_prueba, y_entreno, y_prueba = train_test_split(X, Y, test_size=0.5, random_state=100)\n",
    "\n"
   ]
  },
  {
   "attachments": {},
   "cell_type": "markdown",
   "metadata": {},
   "source": [
    "Se utiiza GridSearchCV para determinar que hiperparámetros son los más óptimos para el respectivo modelo."
   ]
  },
  {
   "cell_type": "code",
   "execution_count": 11,
   "metadata": {},
   "outputs": [
    {
     "name": "stdout",
     "output_type": "stream",
     "text": [
      "Accuracy: 0.8936841569545524\n"
     ]
    }
   ],
   "source": [
    "from sklearn import svm\n",
    "from sklearn.metrics import accuracy_score\n",
    "\n",
    "# Crear el clasificador SVM\n",
    "clf = svm.SVC(kernel='linear')  # Puedes ajustar el kernel según tus necesidades (lineal, polinómico, RBF, etc.)\n",
    "\n",
    "# Entrenar el modelo utilizando los datos de entrenamiento\n",
    "clf.fit(X_entreno, y_entreno)\n",
    "\n",
    "# Realizar predicciones en el conjunto de prueba\n",
    "predicciones = clf.predict(X_prueba)\n",
    "\n",
    "# Calcular el accuracy\n",
    "accuracy = accuracy_score(y_prueba, predicciones)\n",
    "\n",
    "# Mostrar el accuracy\n",
    "print(\"Accuracy:\", accuracy)\n"
   ]
  }
 ],
 "metadata": {
  "kernelspec": {
   "display_name": "Python 3",
   "language": "python",
   "name": "python3"
  },
  "language_info": {
   "codemirror_mode": {
    "name": "ipython",
    "version": 3
   },
   "file_extension": ".py",
   "mimetype": "text/x-python",
   "name": "python",
   "nbconvert_exporter": "python",
   "pygments_lexer": "ipython3",
   "version": "3.10.8"
  },
  "orig_nbformat": 4
 },
 "nbformat": 4,
 "nbformat_minor": 2
}
