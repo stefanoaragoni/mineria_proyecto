{
 "cells": [
  {
   "attachments": {},
   "cell_type": "markdown",
   "metadata": {},
   "source": [
    "# Modelado con SVM (Support Vector Machine)"
   ]
  },
  {
   "attachments": {},
   "cell_type": "markdown",
   "metadata": {},
   "source": [
    "## Preparación de información para el modelo"
   ]
  },
  {
   "cell_type": "code",
   "execution_count": 1,
   "metadata": {},
   "outputs": [],
   "source": [
    "import pandas as pd\n",
    "import numpy as np\n",
    "from collections import Counter\n",
    "import numpy as np \n",
    "from sklearn.model_selection import train_test_split\n",
    "from sklearn.utils import resample"
   ]
  },
  {
   "cell_type": "code",
   "execution_count": 2,
   "metadata": {},
   "outputs": [],
   "source": [
    "#leer csv\n",
    "df = pd.read_csv('defunciones_clean.csv')"
   ]
  },
  {
   "attachments": {},
   "cell_type": "markdown",
   "metadata": {},
   "source": [
    "### Manejo de columnas y balanceo en causas de defunción"
   ]
  },
  {
   "attachments": {},
   "cell_type": "markdown",
   "metadata": {},
   "source": [
    "- Eliminación de columnas irrelevantes para el modelo"
   ]
  },
  {
   "cell_type": "code",
   "execution_count": 3,
   "metadata": {},
   "outputs": [],
   "source": [
    "# drop columns no relevantes\n",
    "df.drop('Departamento_Residencia_Madre', axis=1, inplace=True)\n",
    "\n",
    "df.drop('Año_Registro', axis=1, inplace=True)\n",
    "df.drop('Mes_Registro', axis=1, inplace=True)\n",
    "\n",
    "df.drop('Mes_Ocurrencia', axis=1, inplace=True)\n",
    "df.drop('Día_Ocurrencia', axis=1, inplace=True)        # No se considera el día de ocurrencia\n",
    "\n",
    "df.drop('Departamento_Registro', axis=1, inplace=True)\n",
    "df.drop('Departamento_Ocurrencia', axis=1, inplace=True)        \n",
    "\n",
    "df.drop('Municipio_Registro', axis=1, inplace=True)\n",
    "df.drop('Municipio_Ocurrencia', axis=1, inplace=True)          \n",
    "df.drop('Municipio_Residencia_Madre', axis=1, inplace=True)\n",
    "\n",
    "df = df[df.Causa_Defunción != 99]"
   ]
  },
  {
   "attachments": {},
   "cell_type": "markdown",
   "metadata": {},
   "source": [
    "- Balanceo de clases en causas de defunción"
   ]
  },
  {
   "cell_type": "code",
   "execution_count": 4,
   "metadata": {},
   "outputs": [
    {
     "name": "stdout",
     "output_type": "stream",
     "text": [
      "Cantidad de registros:  39298\n",
      "Cantidad de registros por causa de defunción: \n",
      "0     35271\n",
      "99     3466\n",
      "1       561\n",
      "Name: Causa_Defunción, dtype: int64\n",
      "Cantidad de registros por causa de defunción: \n",
      "0     35271\n",
      "1     35271\n",
      "99     3466\n",
      "Name: Causa_Defunción, dtype: int64\n"
     ]
    }
   ],
   "source": [
    "from imblearn.over_sampling import RandomOverSampler\n",
    "\n",
    "print('Cantidad de registros: ', len(df))\n",
    "print('Cantidad de registros por causa de defunción: ')\n",
    "print(df['Causa_Defunción'].value_counts())\n",
    "\n",
    "x = df.drop('Causa_Defunción', axis=1)\n",
    "y = df['Causa_Defunción']\n",
    "\n",
    "balance = RandomOverSampler(sampling_strategy='minority')\n",
    "x_balance, y_balance = balance.fit_resample(x, y)\n",
    "\n",
    "df = pd.concat([x_balance, y_balance], axis=1)\n",
    "\n",
    "print('Cantidad de registros por causa de defunción: ')\n",
    "print(df['Causa_Defunción'].value_counts())"
   ]
  },
  {
   "attachments": {},
   "cell_type": "markdown",
   "metadata": {},
   "source": [
    "- Separar en entrenaminto y prueba"
   ]
  },
  {
   "cell_type": "code",
   "execution_count": 5,
   "metadata": {},
   "outputs": [
    {
     "name": "stdout",
     "output_type": "stream",
     "text": [
      "Cantidad de registros:  74008\n",
      "Cantidad de registros de entrenamiento:  37004\n",
      "Cantidad de registros de prueba:  37004\n"
     ]
    },
    {
     "data": {
      "text/html": [
       "<div>\n",
       "<style scoped>\n",
       "    .dataframe tbody tr th:only-of-type {\n",
       "        vertical-align: middle;\n",
       "    }\n",
       "\n",
       "    .dataframe tbody tr th {\n",
       "        vertical-align: top;\n",
       "    }\n",
       "\n",
       "    .dataframe thead th {\n",
       "        text-align: right;\n",
       "    }\n",
       "</style>\n",
       "<table border=\"1\" class=\"dataframe\">\n",
       "  <thead>\n",
       "    <tr style=\"text-align: right;\">\n",
       "      <th></th>\n",
       "      <th>Área_Geográfica</th>\n",
       "      <th>Asistencia_Recibida</th>\n",
       "      <th>Año_Ocurrencia</th>\n",
       "      <th>Clase_Parto</th>\n",
       "      <th>Edad_Madre</th>\n",
       "      <th>Estado_Civil_Madre</th>\n",
       "      <th>Escolaridad_Madre</th>\n",
       "      <th>Ocupación_Madre</th>\n",
       "      <th>Semanas_Gestacion</th>\n",
       "      <th>Sexo</th>\n",
       "      <th>Sitio_Ocurrencia</th>\n",
       "      <th>Tipo_Atencion</th>\n",
       "      <th>Total_Hijos_Nacidos</th>\n",
       "      <th>Total_Hijos_Nacidos_Muertos</th>\n",
       "      <th>Total_Hijos_Vivos</th>\n",
       "      <th>Via_Parto</th>\n",
       "      <th>Nacionalidad_Madre</th>\n",
       "      <th>Grupo_Etnico_Madre</th>\n",
       "      <th>Causa_Defunción</th>\n",
       "    </tr>\n",
       "  </thead>\n",
       "  <tbody>\n",
       "    <tr>\n",
       "      <th>0</th>\n",
       "      <td>99</td>\n",
       "      <td>6</td>\n",
       "      <td>2009</td>\n",
       "      <td>1</td>\n",
       "      <td>18.0</td>\n",
       "      <td>2</td>\n",
       "      <td>99</td>\n",
       "      <td>99</td>\n",
       "      <td>34.416349</td>\n",
       "      <td>1</td>\n",
       "      <td>2</td>\n",
       "      <td>1</td>\n",
       "      <td>1.269311</td>\n",
       "      <td>2.0</td>\n",
       "      <td>1.0</td>\n",
       "      <td>99</td>\n",
       "      <td>1</td>\n",
       "      <td>4</td>\n",
       "      <td>0</td>\n",
       "    </tr>\n",
       "    <tr>\n",
       "      <th>1</th>\n",
       "      <td>99</td>\n",
       "      <td>1</td>\n",
       "      <td>2009</td>\n",
       "      <td>1</td>\n",
       "      <td>36.0</td>\n",
       "      <td>2</td>\n",
       "      <td>99</td>\n",
       "      <td>1</td>\n",
       "      <td>34.416349</td>\n",
       "      <td>1</td>\n",
       "      <td>9</td>\n",
       "      <td>1</td>\n",
       "      <td>1.269311</td>\n",
       "      <td>3.0</td>\n",
       "      <td>2.0</td>\n",
       "      <td>99</td>\n",
       "      <td>1</td>\n",
       "      <td>4</td>\n",
       "      <td>0</td>\n",
       "    </tr>\n",
       "    <tr>\n",
       "      <th>2</th>\n",
       "      <td>99</td>\n",
       "      <td>2</td>\n",
       "      <td>2009</td>\n",
       "      <td>1</td>\n",
       "      <td>22.0</td>\n",
       "      <td>2</td>\n",
       "      <td>99</td>\n",
       "      <td>99</td>\n",
       "      <td>34.416349</td>\n",
       "      <td>1</td>\n",
       "      <td>2</td>\n",
       "      <td>1</td>\n",
       "      <td>1.269311</td>\n",
       "      <td>3.0</td>\n",
       "      <td>2.0</td>\n",
       "      <td>99</td>\n",
       "      <td>1</td>\n",
       "      <td>4</td>\n",
       "      <td>0</td>\n",
       "    </tr>\n",
       "    <tr>\n",
       "      <th>3</th>\n",
       "      <td>99</td>\n",
       "      <td>2</td>\n",
       "      <td>2009</td>\n",
       "      <td>1</td>\n",
       "      <td>26.0</td>\n",
       "      <td>2</td>\n",
       "      <td>99</td>\n",
       "      <td>99</td>\n",
       "      <td>34.416349</td>\n",
       "      <td>1</td>\n",
       "      <td>2</td>\n",
       "      <td>1</td>\n",
       "      <td>1.269311</td>\n",
       "      <td>0.0</td>\n",
       "      <td>0.0</td>\n",
       "      <td>99</td>\n",
       "      <td>1</td>\n",
       "      <td>4</td>\n",
       "      <td>0</td>\n",
       "    </tr>\n",
       "    <tr>\n",
       "      <th>4</th>\n",
       "      <td>99</td>\n",
       "      <td>2</td>\n",
       "      <td>2009</td>\n",
       "      <td>1</td>\n",
       "      <td>43.0</td>\n",
       "      <td>2</td>\n",
       "      <td>99</td>\n",
       "      <td>99</td>\n",
       "      <td>34.416349</td>\n",
       "      <td>2</td>\n",
       "      <td>2</td>\n",
       "      <td>1</td>\n",
       "      <td>1.269311</td>\n",
       "      <td>10.0</td>\n",
       "      <td>6.0</td>\n",
       "      <td>99</td>\n",
       "      <td>1</td>\n",
       "      <td>4</td>\n",
       "      <td>0</td>\n",
       "    </tr>\n",
       "  </tbody>\n",
       "</table>\n",
       "</div>"
      ],
      "text/plain": [
       "   Área_Geográfica  Asistencia_Recibida  Año_Ocurrencia  Clase_Parto  \\\n",
       "0               99                    6            2009            1   \n",
       "1               99                    1            2009            1   \n",
       "2               99                    2            2009            1   \n",
       "3               99                    2            2009            1   \n",
       "4               99                    2            2009            1   \n",
       "\n",
       "   Edad_Madre  Estado_Civil_Madre  Escolaridad_Madre  Ocupación_Madre  \\\n",
       "0        18.0                   2                 99               99   \n",
       "1        36.0                   2                 99                1   \n",
       "2        22.0                   2                 99               99   \n",
       "3        26.0                   2                 99               99   \n",
       "4        43.0                   2                 99               99   \n",
       "\n",
       "   Semanas_Gestacion  Sexo  Sitio_Ocurrencia  Tipo_Atencion  \\\n",
       "0          34.416349     1                 2              1   \n",
       "1          34.416349     1                 9              1   \n",
       "2          34.416349     1                 2              1   \n",
       "3          34.416349     1                 2              1   \n",
       "4          34.416349     2                 2              1   \n",
       "\n",
       "   Total_Hijos_Nacidos  Total_Hijos_Nacidos_Muertos  Total_Hijos_Vivos  \\\n",
       "0             1.269311                          2.0                1.0   \n",
       "1             1.269311                          3.0                2.0   \n",
       "2             1.269311                          3.0                2.0   \n",
       "3             1.269311                          0.0                0.0   \n",
       "4             1.269311                         10.0                6.0   \n",
       "\n",
       "   Via_Parto  Nacionalidad_Madre  Grupo_Etnico_Madre  Causa_Defunción  \n",
       "0         99                   1                   4                0  \n",
       "1         99                   1                   4                0  \n",
       "2         99                   1                   4                0  \n",
       "3         99                   1                   4                0  \n",
       "4         99                   1                   4                0  "
      ]
     },
     "execution_count": 5,
     "metadata": {},
     "output_type": "execute_result"
    }
   ],
   "source": [
    "print('Cantidad de registros: ', len(df))\n",
    "\n",
    "X = df.drop(\"Causa_Defunción\", axis=1)\n",
    "Y = df[\"Causa_Defunción\"]\n",
    "\n",
    "#dividir el dataset en conjunto de entrenamiento y conjunto de testing\n",
    "X_entreno, X_prueba, y_entreno, y_prueba = train_test_split(X, Y, test_size=0.5, random_state=100)\n",
    "\n",
    "print('Cantidad de registros de entrenamiento: ', len(X_entreno))\n",
    "print('Cantidad de registros de prueba: ', len(X_prueba))\n",
    "\n",
    "df.head()\n",
    "\n"
   ]
  },
  {
   "attachments": {},
   "cell_type": "markdown",
   "metadata": {},
   "source": [
    "## Creación del modelo SVM"
   ]
  },
  {
   "attachments": {},
   "cell_type": "markdown",
   "metadata": {},
   "source": [
    "Se utiiza GridSearchCV para determinar que hiperparámetros son los más óptimos para el respectivo modelo."
   ]
  },
  {
   "cell_type": "code",
   "execution_count": 6,
   "metadata": {},
   "outputs": [],
   "source": [
    "from sklearn.model_selection import GridSearchCV\n",
    "from sklearn import svm\n",
    "import matplotlib.pyplot as plt\n",
    "\n",
    "params = {\n",
    "    'C': [0.1, 1, 10, 100, 1000],\n",
    "    'gamma': [1, 0.1, 0.01, 0.001, 0.0001],\n",
    "    'kernel': ['rbf', 'linear', 'sigmoid', 'poly']\n",
    "}\n",
    "\n",
    "svm_dummy = svm.SVC()\n",
    "\n",
    "# smaller sample size for grid search, since it is an exhaustive process and it takes a lot of time\n",
    "X_entreno_sample = X_entreno.sample(frac=0.001, random_state=100)\n",
    "y_entreno_sample = y_entreno.sample(frac=0.001, random_state=100)\n",
    "\n",
    "svm_grid = GridSearchCV(svm_dummy, params, n_jobs=-1, verbose=2, cv=3)"
   ]
  },
  {
   "cell_type": "code",
   "execution_count": 7,
   "metadata": {},
   "outputs": [
    {
     "name": "stdout",
     "output_type": "stream",
     "text": [
      "Fitting 3 folds for each of 100 candidates, totalling 300 fits\n"
     ]
      "  warnings.warn(\n"
     ]
    },
    {
     "name": "stdout",
     "output_type": "stream",
     "text": [
      "Grid search results:\n",
      "---------------------\n",
      "{'mean_fit_time': array([0.01871522, 0.00789714, 0.08594426, 0.01105269, 0.00702198,\n",
      "       0.00599925, 0.00554188, 0.00932852, 0.00582496, 0.0053343 ,\n",
      "       0.00533144, 0.00966549, 0.00640678, 0.00561659, 0.0051895 ,\n",
      "       0.00966668, 0.00511718, 0.00566061, 0.00475852, 0.0088927 ,\n",
      "       0.00599949, 0.00612402, 0.00513355, 0.00797995, 0.00666475,\n",
      "       0.0071067 , 0.00533406, 0.02005339, 0.00594036, 0.00520253,\n",
      "       0.00908502, 0.00743373, 0.00397174, 0.01099698, 0.00451907,\n",
      "       0.00781131, 0.00435662, 0.02041133, 0.00467014, 0.0066673 ,\n",
      "       0.00766532, 0.00966605, 0.00402689, 0.01089152, 0.00402315,\n",
      "       0.01650103, 0.00555595, 0.00647696, 0.00766397, 0.00998012,\n",
      "       0.00566657, 0.00926193, 0.00470297, 0.00826057, 0.00424433,\n",
      "       0.01013684, 0.004668  , 0.00967948, 0.00569065, 0.01157808,\n",
      "       0.00491937, 0.00800006, 0.00591532, 0.01470979, 0.00449061,\n",
      "       0.00894968, 0.00447663, 0.00933743, 0.00500115, 0.01243734,\n",
      "       0.00367045, 0.00946561, 0.00466696, 0.00966541, 0.01625141,\n",
      "       0.02233156, 0.00890938, 0.00824245, 0.00368309, 0.00968369,\n",
      "       0.00477489, 0.00924532, 0.00514118, 0.01010195, 0.00500536,\n",
      "       0.00840052, 0.00533255, 0.01300168, 0.00402689, 0.00999999]), 'std_fit_time': array([1.50698636e-02, 2.32916852e-04, 6.74533959e-02, 1.36277377e-03,\n",
      "       8.16748986e-04, 8.15758435e-04, 4.14677669e-04, 9.46056665e-04,\n",
      "       8.56199732e-04, 4.72777503e-04, 4.73955520e-04, 1.88430137e-03,\n",
      "       5.39747683e-04, 5.40099297e-04, 2.65132918e-04, 4.70696044e-04,\n",
      "       1.25301525e-03, 4.67106572e-04, 5.46273534e-04, 2.26278377e-03,\n",
      "       1.41349299e-03, 8.34529420e-04, 6.26431265e-04, 8.16079001e-04,\n",
      "       1.24725618e-03, 2.24940598e-04, 1.24574853e-03, 1.41041785e-02,\n",
      "       1.38396514e-03, 2.86599628e-04, 6.37814970e-04, 1.87155056e-03,\n",
      "       4.74742461e-04, 1.37197235e-03, 4.48899238e-04, 4.72342541e-04,\n",
      "       6.60207720e-03, 5.41899025e-03, 4.60081982e-04, 8.85558434e-04,\n",
      "       6.35655442e-03, 1.14016478e-03, 3.36963051e-05, 4.23851209e-03,\n",
      "       4.37793400e-04, 8.58456303e-04, 4.58148829e-04, 1.53801905e-02,\n",
      "       4.75772902e-04, 2.05464285e-03, 4.49589158e-03, 4.69572451e-04,\n",
      "       3.66125867e-05, 5.56362301e-03, 2.65729483e-05, 1.13205566e-02,\n",
      "       4.16947737e-04, 1.35459092e-03, 4.49862048e-03, 3.69388420e-03,\n",
      "       4.71764216e-04, 2.77385267e-03, 1.74731740e-03, 5.31925558e-04,\n",
      "       3.46454328e-04, 2.74433585e-03, 1.69786695e-03, 1.71866401e-03,\n",
      "       1.27372842e-03, 6.05807069e-03, 1.02934978e-03, 2.16056881e-03,\n",
      "       8.26314227e-04, 4.97514542e-03, 3.56083609e-04, 1.72374983e-03,\n",
      "       3.83337353e-04, 2.62070017e-03, 1.41388629e-03, 3.26295593e-03,\n",
      "       4.74103722e-04, 1.99527532e-03, 4.72326495e-04, 2.86728069e-03,\n",
      "       7.01913276e-03, 1.81920506e-02, 7.16474204e-03, 1.13771125e-03,\n",
      "       3.28829096e-04, 2.49064592e-03, 1.10378279e-03, 2.29937801e-03,\n",
      "       6.92503288e-04, 2.55562833e-03, 8.08767153e-04, 4.31985049e-04,\n",
      "       4.73508355e-04, 5.88976253e-03, 3.70973997e-05, 2.16145172e-03]), 'mean_score_time': array([0.00506751, 0.00490125, 0.00727805, 0.00527525, 0.00536569,\n",
      "       0.00459313, 0.00466498, 0.00403579, 0.00473595, 0.00405232,\n",
      "       0.00523305, 0.00333484, 0.00389115, 0.0041062 , 0.00347741,\n",
      "       0.00343283, 0.00421421, 0.00466498, 0.00614031, 0.00333293,\n",
      "       0.00367292, 0.00389552, 0.00485214, 0.00402077, 0.00510963,\n",
      "       0.00486453, 0.00366688, 0.00458654, 0.00333174, 0.00351787,\n",
      "       0.0029707 , 0.00377154, 0.00466506, 0.00693432, 0.00401696,\n",
      "       0.00333436, 0.00641139, 0.00448338, 0.00364717, 0.00833654,\n",
      "       0.00424806, 0.00481486, 0.00438054, 0.0036664 , 0.00430791,\n",
      "       0.00454823, 0.00466728, 0.00528248, 0.00343021, 0.00400003,\n",
      "       0.00333524, 0.0029796 , 0.00367427, 0.00300113, 0.0036428 ,\n",
      "       0.0113852 , 0.00333556, 0.00661564, 0.0036672 , 0.00319219,\n",
      "       0.00300026, 0.0034047 , 0.00729616, 0.00340621, 0.0031155 ,\n",
      "       0.00323192, 0.00536791, 0.00898981, 0.00330981, 0.00408808,\n",
      "       0.00325847, 0.00370455, 0.00766738, 0.00494877, 0.00751551,\n",
      "       0.00362062, 0.00321333, 0.00338475, 0.00866659, 0.00568803,\n",
      "       0.0043296 , 0.00316199, 0.00266695, 0.00400329, 0.00366728,\n",
      "       0.00400551, 0.00572713, 0.00342449, 0.00456127, 0.00364987,\n",
      "       0.00349847, 0.00366664, 0.00452439, 0.00398684, 0.00479309,\n",
      "       0.00326649, 0.00866747, 0.00333047, 0.00364518, 0.00347034]), 'std_score_time': array([8.14309256e-04, 1.35299189e-03, 2.11967067e-03, 9.00215199e-04,\n",
      "       4.03905812e-04, 3.02900898e-04, 9.44879035e-04, 7.73291107e-04,\n",
      "       5.27279420e-04, 7.57559377e-05, 1.28165291e-03, 4.72663669e-04,\n",
      "       1.20998362e-04, 7.65201903e-05, 4.10695701e-04, 5.55240454e-04,\n",
      "       2.39934578e-04, 9.44539475e-04, 2.36704076e-03, 4.71820081e-04,\n",
      "       9.40543241e-04, 6.71917560e-04, 1.20534434e-03, 8.40209857e-04,\n",
      "       2.11490662e-03, 2.22819730e-03, 4.71033541e-04, 1.72684676e-03,\n",
      "       4.67268071e-04, 4.08920045e-04, 4.28211981e-05, 9.15103577e-04,\n",
      "       4.74519275e-04, 3.76012950e-03, 8.18393165e-04, 4.72695417e-04,\n",
      "       3.28980775e-03, 1.09525323e-03, 4.59733520e-04, 6.12832038e-03,\n",
      "       4.88088790e-04, 5.48822100e-04, 5.27285182e-04, 4.70359836e-04,\n",
      "       4.39059075e-04, 7.20525149e-04, 1.19209367e-03, 1.86542481e-03,\n",
      "       4.11790338e-04, 1.51207428e-06, 4.71539032e-04, 2.91136150e-04,\n",
      "       4.75326808e-04, 1.12391596e-07, 4.56685918e-04, 7.66125869e-03,\n",
      "       4.71651343e-04, 3.23209499e-03, 4.72607664e-04, 5.94352062e-04,\n",
      "       7.78671819e-07, 4.27607309e-04, 4.81462513e-03, 5.76288903e-04,\n",
      "       1.12549452e-04, 3.26273732e-04, 2.59355734e-03, 8.46325662e-03,\n",
      "       4.36753916e-04, 9.25354595e-04, 3.66344144e-04, 4.98822152e-04,\n",
      "       5.18586065e-03, 8.99642853e-04, 6.00225929e-03, 4.39105796e-04,\n",
      "       5.07361658e-04, 4.31733339e-04, 8.01290265e-03, 2.01940861e-03,\n",
      "       9.38995612e-04, 6.31206823e-04, 4.71707569e-04, 8.18779041e-04,\n",
      "       4.72157135e-04, 4.15848905e-06, 2.31368704e-03, 4.20417182e-04,\n",
      "       1.15794973e-03, 4.97276702e-04, 3.91789866e-04, 4.73393402e-04,\n",
      "       4.36095686e-04, 2.13282532e-04, 2.44938435e-03, 3.72972134e-04,\n",
      "       5.24638438e-03, 4.72385127e-04, 4.45100903e-04, 6.63449419e-04]), 'param_C': masked_array(data=[0.1, 0.1, 0.1, 0.1, 0.1, 0.1, 0.1, 0.1, 0.1, 0.1, 0.1,\n",
      "                   0.1, 0.1, 0.1, 0.1, 0.1, 0.1, 0.1, 0.1, 0.1, 1, 1, 1,\n",
      "                   1, 1, 1, 1, 1, 1, 1, 1, 1, 1, 1, 1, 1, 1, 1, 1, 1, 10,\n",
      "                   10, 10, 10, 10, 10, 10, 10, 10, 10, 10, 10, 10, 10, 10,\n",
      "                   10, 10, 10, 10, 10, 100, 100, 100, 100, 100, 100, 100,\n",
      "                   100, 100, 100, 100, 100, 100, 100, 100, 100, 100, 100,\n",
      "                   100, 100, 1000, 1000, 1000, 1000, 1000, 1000, 1000,\n",
      "                   1000, 1000, 1000, 1000, 1000, 1000, 1000, 1000, 1000,\n",
      "                   1000, 1000, 1000, 1000],\n",
      "             mask=[False, False, False, False, False, False, False, False,\n",
      "                   False, False, False, False, False, False, False, False,\n",
      "                   False, False, False, False, False, False, False, False,\n",
      "                   False, False, False, False, False, False, False, False,\n",
      "                   False, False, False, False, False, False, False, False,\n",
      "                   False, False, False, False, False, False, False, False,\n",
      "                   False, False, False, False, False, False, False, False,\n",
      "                   False, False, False, False, False, False, False, False,\n",
      "                   False, False, False, False, False, False, False, False,\n",
      "                   False, False, False, False, False, False, False, False,\n",
      "                   False, False, False, False, False, False, False, False,\n",
      "                   False, False, False, False, False, False, False, False,\n",
      "                   False, False, False, False],\n",
      "       fill_value='?',\n",
      "            dtype=object), 'param_gamma': masked_array(data=[1, 1, 1, 1, 0.1, 0.1, 0.1, 0.1, 0.01, 0.01, 0.01, 0.01,\n",
      "                   0.001, 0.001, 0.001, 0.001, 0.0001, 0.0001, 0.0001,\n",
      "                   0.0001, 1, 1, 1, 1, 0.1, 0.1, 0.1, 0.1, 0.01, 0.01,\n",
      "                   0.01, 0.01, 0.001, 0.001, 0.001, 0.001, 0.0001, 0.0001,\n",
      "                   0.0001, 0.0001, 1, 1, 1, 1, 0.1, 0.1, 0.1, 0.1, 0.01,\n",
      "                   0.01, 0.01, 0.01, 0.001, 0.001, 0.001, 0.001, 0.0001,\n",
      "                   0.0001, 0.0001, 0.0001, 1, 1, 1, 1, 0.1, 0.1, 0.1, 0.1,\n",
      "                   0.01, 0.01, 0.01, 0.01, 0.001, 0.001, 0.001, 0.001,\n",
      "                   0.0001, 0.0001, 0.0001, 0.0001, 1, 1, 1, 1, 0.1, 0.1,\n",
      "                   0.1, 0.1, 0.01, 0.01, 0.01, 0.01, 0.001, 0.001, 0.001,\n",
      "                   0.001, 0.0001, 0.0001, 0.0001, 0.0001],\n",
      "             mask=[False, False, False, False, False, False, False, False,\n",
      "                   False, False, False, False, False, False, False, False,\n",
      "                   False, False, False, False, False, False, False, False,\n",
      "                   False, False, False, False, False, False, False, False,\n",
      "                   False, False, False, False, False, False, False, False,\n",
      "                   False, False, False, False, False, False, False, False,\n",
      "                   False, False, False, False, False, False, False, False,\n",
      "                   False, False, False, False, False, False, False, False,\n",
      "                   False, False, False, False, False, False, False, False,\n",
      "                   False, False, False, False, False, False, False, False,\n",
      "                   False, False, False, False, False, False, False, False,\n",
      "                   False, False, False, False, False, False, False, False,\n",
      "                   False, False, False, False],\n",
      "       fill_value='?',\n",
      "            dtype=object), 'param_kernel': masked_array(data=['rbf', 'linear', 'sigmoid', 'poly', 'rbf', 'linear',\n",
      "                   'sigmoid', 'poly', 'rbf', 'linear', 'sigmoid', 'poly',\n",
      "                   'rbf', 'linear', 'sigmoid', 'poly', 'rbf', 'linear',\n",
      "                   'sigmoid', 'poly', 'rbf', 'linear', 'sigmoid', 'poly',\n",
      "                   'rbf', 'linear', 'sigmoid', 'poly', 'rbf', 'linear',\n",
      "                   'sigmoid', 'poly', 'rbf', 'linear', 'sigmoid', 'poly',\n",
      "                   'rbf', 'linear', 'sigmoid', 'poly', 'rbf', 'linear',\n",
      "                   'sigmoid', 'poly', 'rbf', 'linear', 'sigmoid', 'poly',\n",
      "                   'rbf', 'linear', 'sigmoid', 'poly', 'rbf', 'linear',\n",
      "                   'sigmoid', 'poly', 'rbf', 'linear', 'sigmoid', 'poly',\n",
      "                   'rbf', 'linear', 'sigmoid', 'poly', 'rbf', 'linear',\n",
      "                   'sigmoid', 'poly', 'rbf', 'linear', 'sigmoid', 'poly',\n",
      "                   'rbf', 'linear', 'sigmoid', 'poly', 'rbf', 'linear',\n",
      "                   'sigmoid', 'poly', 'rbf', 'linear', 'sigmoid', 'poly',\n",
      "                   'rbf', 'linear', 'sigmoid', 'poly', 'rbf', 'linear',\n",
      "                   'sigmoid', 'poly', 'rbf', 'linear', 'sigmoid', 'poly',\n",
      "                   'rbf', 'linear', 'sigmoid', 'poly'],\n",
      "             mask=[False, False, False, False, False, False, False, False,\n",
      "                   False, False, False, False, False, False, False, False,\n",
      "                   False, False, False, False, False, False, False, False,\n",
      "                   False, False, False, False, False, False, False, False,\n",
      "                   False, False, False, False, False, False, False, False,\n",
      "                   False, False, False, False, False, False, False, False,\n",
      "                   False, False, False, False, False, False, False, False,\n",
      "                   False, False, False, False, False, False, False, False,\n",
      "                   False, False, False, False, False, False, False, False,\n",
      "                   False, False, False, False, False, False, False, False,\n",
      "                   False, False, False, False, False, False, False, False,\n",
      "                   False, False, False, False, False, False, False, False,\n",
      "                   False, False, False, False],\n",
      "       fill_value='?',\n",
      "            dtype=object), 'params': [{'C': 0.1, 'gamma': 1, 'kernel': 'rbf'}, {'C': 0.1, 'gamma': 1, 'kernel': 'linear'}, {'C': 0.1, 'gamma': 1, 'kernel': 'sigmoid'}, {'C': 0.1, 'gamma': 1, 'kernel': 'poly'}, {'C': 0.1, 'gamma': 0.1, 'kernel': 'rbf'}, {'C': 0.1, 'gamma': 0.1, 'kernel': 'linear'}, {'C': 0.1, 'gamma': 0.1, 'kernel': 'sigmoid'}, {'C': 0.1, 'gamma': 0.1, 'kernel': 'poly'}, {'C': 0.1, 'gamma': 0.01, 'kernel': 'rbf'}, {'C': 0.1, 'gamma': 0.01, 'kernel': 'linear'}, {'C': 0.1, 'gamma': 0.01, 'kernel': 'sigmoid'}, {'C': 0.1, 'gamma': 0.01, 'kernel': 'poly'}, {'C': 0.1, 'gamma': 0.001, 'kernel': 'rbf'}, {'C': 0.1, 'gamma': 0.001, 'kernel': 'linear'}, {'C': 0.1, 'gamma': 0.001, 'kernel': 'sigmoid'}, {'C': 0.1, 'gamma': 0.001, 'kernel': 'poly'}, {'C': 0.1, 'gamma': 0.0001, 'kernel': 'rbf'}, {'C': 0.1, 'gamma': 0.0001, 'kernel': 'linear'}, {'C': 0.1, 'gamma': 0.0001, 'kernel': 'sigmoid'}, {'C': 0.1, 'gamma': 0.0001, 'kernel': 'poly'}, {'C': 1, 'gamma': 1, 'kernel': 'rbf'}, {'C': 1, 'gamma': 1, 'kernel': 'linear'}, {'C': 1, 'gamma': 1, 'kernel': 'sigmoid'}, {'C': 1, 'gamma': 1, 'kernel': 'poly'}, {'C': 1, 'gamma': 0.1, 'kernel': 'rbf'}, {'C': 1, 'gamma': 0.1, 'kernel': 'linear'}, {'C': 1, 'gamma': 0.1, 'kernel': 'sigmoid'}, {'C': 1, 'gamma': 0.1, 'kernel': 'poly'}, {'C': 1, 'gamma': 0.01, 'kernel': 'rbf'}, {'C': 1, 'gamma': 0.01, 'kernel': 'linear'}, {'C': 1, 'gamma': 0.01, 'kernel': 'sigmoid'}, {'C': 1, 'gamma': 0.01, 'kernel': 'poly'}, {'C': 1, 'gamma': 0.001, 'kernel': 'rbf'}, {'C': 1, 'gamma': 0.001, 'kernel': 'linear'}, {'C': 1, 'gamma': 0.001, 'kernel': 'sigmoid'}, {'C': 1, 'gamma': 0.001, 'kernel': 'poly'}, {'C': 1, 'gamma': 0.0001, 'kernel': 'rbf'}, {'C': 1, 'gamma': 0.0001, 'kernel': 'linear'}, {'C': 1, 'gamma': 0.0001, 'kernel': 'sigmoid'}, {'C': 1, 'gamma': 0.0001, 'kernel': 'poly'}, {'C': 10, 'gamma': 1, 'kernel': 'rbf'}, {'C': 10, 'gamma': 1, 'kernel': 'linear'}, {'C': 10, 'gamma': 1, 'kernel': 'sigmoid'}, {'C': 10, 'gamma': 1, 'kernel': 'poly'}, {'C': 10, 'gamma': 0.1, 'kernel': 'rbf'}, {'C': 10, 'gamma': 0.1, 'kernel': 'linear'}, {'C': 10, 'gamma': 0.1, 'kernel': 'sigmoid'}, {'C': 10, 'gamma': 0.1, 'kernel': 'poly'}, {'C': 10, 'gamma': 0.01, 'kernel': 'rbf'}, {'C': 10, 'gamma': 0.01, 'kernel': 'linear'}, {'C': 10, 'gamma': 0.01, 'kernel': 'sigmoid'}, {'C': 10, 'gamma': 0.01, 'kernel': 'poly'}, {'C': 10, 'gamma': 0.001, 'kernel': 'rbf'}, {'C': 10, 'gamma': 0.001, 'kernel': 'linear'}, {'C': 10, 'gamma': 0.001, 'kernel': 'sigmoid'}, {'C': 10, 'gamma': 0.001, 'kernel': 'poly'}, {'C': 10, 'gamma': 0.0001, 'kernel': 'rbf'}, {'C': 10, 'gamma': 0.0001, 'kernel': 'linear'}, {'C': 10, 'gamma': 0.0001, 'kernel': 'sigmoid'}, {'C': 10, 'gamma': 0.0001, 'kernel': 'poly'}, {'C': 100, 'gamma': 1, 'kernel': 'rbf'}, {'C': 100, 'gamma': 1, 'kernel': 'linear'}, {'C': 100, 'gamma': 1, 'kernel': 'sigmoid'}, {'C': 100, 'gamma': 1, 'kernel': 'poly'}, {'C': 100, 'gamma': 0.1, 'kernel': 'rbf'}, {'C': 100, 'gamma': 0.1, 'kernel': 'linear'}, {'C': 100, 'gamma': 0.1, 'kernel': 'sigmoid'}, {'C': 100, 'gamma': 0.1, 'kernel': 'poly'}, {'C': 100, 'gamma': 0.01, 'kernel': 'rbf'}, {'C': 100, 'gamma': 0.01, 'kernel': 'linear'}, {'C': 100, 'gamma': 0.01, 'kernel': 'sigmoid'}, {'C': 100, 'gamma': 0.01, 'kernel': 'poly'}, {'C': 100, 'gamma': 0.001, 'kernel': 'rbf'}, {'C': 100, 'gamma': 0.001, 'kernel': 'linear'}, {'C': 100, 'gamma': 0.001, 'kernel': 'sigmoid'}, {'C': 100, 'gamma': 0.001, 'kernel': 'poly'}, {'C': 100, 'gamma': 0.0001, 'kernel': 'rbf'}, {'C': 100, 'gamma': 0.0001, 'kernel': 'linear'}, {'C': 100, 'gamma': 0.0001, 'kernel': 'sigmoid'}, {'C': 100, 'gamma': 0.0001, 'kernel': 'poly'}, {'C': 1000, 'gamma': 1, 'kernel': 'rbf'}, {'C': 1000, 'gamma': 1, 'kernel': 'linear'}, {'C': 1000, 'gamma': 1, 'kernel': 'sigmoid'}, {'C': 1000, 'gamma': 1, 'kernel': 'poly'}, {'C': 1000, 'gamma': 0.1, 'kernel': 'rbf'}, {'C': 1000, 'gamma': 0.1, 'kernel': 'linear'}, {'C': 1000, 'gamma': 0.1, 'kernel': 'sigmoid'}, {'C': 1000, 'gamma': 0.1, 'kernel': 'poly'}, {'C': 1000, 'gamma': 0.01, 'kernel': 'rbf'}, {'C': 1000, 'gamma': 0.01, 'kernel': 'linear'}, {'C': 1000, 'gamma': 0.01, 'kernel': 'sigmoid'}, {'C': 1000, 'gamma': 0.01, 'kernel': 'poly'}, {'C': 1000, 'gamma': 0.001, 'kernel': 'rbf'}, {'C': 1000, 'gamma': 0.001, 'kernel': 'linear'}, {'C': 1000, 'gamma': 0.001, 'kernel': 'sigmoid'}, {'C': 1000, 'gamma': 0.001, 'kernel': 'poly'}, {'C': 1000, 'gamma': 0.0001, 'kernel': 'rbf'}, {'C': 1000, 'gamma': 0.0001, 'kernel': 'linear'}, {'C': 1000, 'gamma': 0.0001, 'kernel': 'sigmoid'}, {'C': 1000, 'gamma': 0.0001, 'kernel': 'poly'}], 'split0_test_score': array([0.69230769, 0.69230769, 0.69230769, 0.53846154, 0.69230769,\n",
      "       0.69230769, 0.53846154, 0.69230769, 0.53846154, 0.69230769,\n",
      "       0.53846154, 0.69230769, 0.53846154, 0.69230769, 0.53846154,\n",
      "       0.69230769, 0.61538462, 0.69230769, 0.53846154, 0.69230769,\n",
      "       0.61538462, 0.69230769, 0.53846154, 0.69230769, 0.61538462,\n",
      "       0.69230769, 0.53846154, 0.69230769, 0.53846154, 0.69230769,\n",
      "       0.53846154, 0.69230769, 0.53846154, 0.69230769, 0.53846154,\n",
      "       0.69230769, 0.61538462, 0.61538462, 0.53846154, 0.69230769,\n",
      "       0.61538462, 0.69230769, 0.53846154, 0.69230769, 0.61538462,\n",
      "       0.69230769, 0.53846154, 0.69230769, 0.53846154, 0.69230769,\n",
      "       0.53846154, 0.69230769, 0.53846154, 0.69230769, 0.53846154,\n",
      "       0.69230769, 0.61538462, 0.61538462, 0.53846154, 0.69230769,\n",
      "       0.61538462, 0.69230769, 0.53846154, 0.69230769, 0.61538462]), 'split1_test_score': array([0.66666667, 0.75      , 0.66666667, 0.41666667, 0.66666667,\n",
      "       0.75      , 0.66666667, 0.41666667, 0.66666667, 0.75      ,\n",
      "       0.66666667, 0.5       , 0.66666667, 0.75      , 0.66666667,\n",
      "       0.41666667, 0.66666667, 0.75      , 0.66666667, 0.41666667,\n",
      "       0.66666667, 0.75      , 0.66666667, 0.41666667, 0.66666667,\n",
      "       0.75      , 0.66666667, 0.41666667, 0.66666667, 0.75      ,\n",
      "       0.66666667, 0.5       , 0.66666667, 0.75      , 0.66666667,\n",
      "       0.41666667, 0.66666667, 0.75      , 0.66666667, 0.41666667,\n",
      "       0.66666667, 0.5       , 0.66666667, 0.41666667, 0.66666667,\n",
      "       0.5       , 0.66666667, 0.41666667, 0.5       , 0.5       ,\n",
      "       0.66666667, 0.5       , 0.66666667, 0.5       , 0.66666667,\n",
      "       0.41666667, 0.66666667, 0.5       , 0.66666667, 0.41666667,\n",
      "       0.66666667, 0.5       , 0.66666667, 0.41666667, 0.66666667,\n",
      "       0.5       , 0.66666667, 0.41666667, 0.5       , 0.5       ,\n",
      "       0.66666667, 0.5       , 0.5       , 0.5       , 0.66666667,\n",
      "       0.41666667, 0.75      , 0.5       , 0.66666667, 0.41666667,\n",
      "       0.66666667, 0.5       , 0.66666667, 0.41666667, 0.66666667,\n",
      "       0.5       , 0.66666667, 0.41666667, 0.5       , 0.5       ,\n",
      "       0.66666667, 0.5       , 0.41666667, 0.5       , 0.66666667,\n",
      "       0.41666667, 0.5       , 0.5       , 0.66666667, 0.41666667]), 'split2_test_score': array([0.66666667, 0.66666667, 0.66666667, 0.83333333, 0.66666667,\n",
      "       0.66666667, 0.66666667, 0.75      , 0.66666667, 0.66666667,\n",
      "       0.66666667, 0.75      , 0.66666667, 0.66666667, 0.66666667,\n",
      "       0.75      , 0.66666667, 0.66666667, 0.66666667, 0.75      ,\n",
      "       0.66666667, 0.66666667, 0.66666667, 0.83333333, 0.66666667,\n",
      "       0.66666667, 0.66666667, 0.75      , 0.66666667, 0.66666667,\n",
      "       0.66666667, 0.75      , 0.66666667, 0.66666667, 0.66666667,\n",
      "       0.75      , 0.66666667, 0.66666667, 0.66666667, 0.83333333,\n",
      "       0.66666667, 0.75      , 0.66666667, 0.83333333, 0.66666667,\n",
      "       0.75      , 0.66666667, 0.75      , 0.75      , 0.75      ,\n",
      "       0.66666667, 0.75      , 0.66666667, 0.75      , 0.66666667,\n",
      "       0.75      , 0.66666667, 0.75      , 0.66666667, 0.83333333,\n",
      "       0.66666667, 0.75      , 0.66666667, 0.83333333, 0.66666667,\n",
      "       0.66666667, 0.75      , 0.66666667, 0.75      , 0.66666667,\n",
      "       0.75      , 0.66666667, 0.75      , 0.66666667, 0.83333333,\n",
      "       0.66666667, 0.75      , 0.66666667, 0.83333333, 0.66666667,\n",
      "       0.75      , 0.66666667, 0.75      , 0.75      , 0.75      ,\n",
      "       0.66666667, 0.75      , 0.75      , 0.75      , 0.66666667,\n",
      "       0.75      , 0.5       , 0.75      , 0.66666667, 0.83333333]), 'mean_test_score': array([0.67521368, 0.70299145, 0.67521368, 0.59615385, 0.67521368,\n",
      "       0.70299145, 0.67521368, 0.56837607, 0.67521368, 0.70299145,\n",
      "       0.67521368, 0.62179487, 0.67521368, 0.70299145, 0.67521368,\n",
      "       0.59401709, 0.67521368, 0.70299145, 0.67521368, 0.59401709,\n",
      "       0.67521368, 0.6517094 , 0.67521368, 0.59615385, 0.67521368,\n",
      "       0.6517094 , 0.67521368, 0.56837607, 0.67521368, 0.6517094 ,\n",
      "       0.67521368, 0.62179487, 0.67521368, 0.6517094 , 0.67521368,\n",
      "       0.59401709, 0.67521368, 0.6517094 , 0.67521368, 0.62179487,\n",
      "       0.67521368, 0.59615385, 0.67521368, 0.59615385, 0.67521368,\n",
      "       0.59615385, 0.67521368, 0.56837607, 0.6474359 , 0.59615385,\n",
      "       0.67521368, 0.62179487, 0.67521368, 0.59615385, 0.67521368,\n",
      "       0.59401709, 0.67521368, 0.59615385, 0.67521368, 0.62179487,\n",
      "       0.67521368, 0.59615385, 0.67521368, 0.59615385, 0.67521368,\n",
      "       0.59615385, 0.67521368, 0.56837607, 0.6474359 , 0.59615385,\n",
      "       0.67521368, 0.62179487, 0.59401709, 0.59615385, 0.67521368,\n",
      "       0.59401709, 0.70299145, 0.59615385, 0.67521368, 0.62179487,\n",
      "       0.67521368, 0.59615385, 0.67521368, 0.59615385, 0.67521368,\n",
      "       0.59615385, 0.67521368, 0.56837607, 0.6474359 , 0.59615385,\n",
      "       0.67521368, 0.62179487, 0.59401709, 0.59615385, 0.67521368,\n",
      "       0.59401709, 0.56410256, 0.59615385, 0.67521368, 0.62179487]), 'std_test_score': array([0.0120873 , 0.03484937, 0.0120873 , 0.1749268 , 0.0120873 ,\n",
      "       0.03484937, 0.0120873 , 0.13771695, 0.0120873 , 0.03484937,\n",
      "       0.0120873 , 0.10216268, 0.0120873 , 0.03484937, 0.0120873 ,\n",
      "       0.13691897, 0.0120873 , 0.03484937, 0.0120873 , 0.13691897,\n",
      "       0.0120873 , 0.08700544, 0.0120873 , 0.1749268 , 0.0120873 ,\n",
      "       0.08700544, 0.0120873 , 0.13771695, 0.0120873 , 0.08700544,\n",
      "       0.0120873 , 0.10216268, 0.0120873 , 0.08700544, 0.0120873 ,\n",
      "       0.13691897, 0.0120873 , 0.08700544, 0.0120873 , 0.17016384,\n",
      "       0.0120873 , 0.109913  , 0.0120873 , 0.1749268 , 0.0120873 ,\n",
      "       0.109913  , 0.0120873 , 0.13771695, 0.10688033, 0.109913  ,\n",
      "       0.0120873 , 0.10216268, 0.0120873 , 0.109913  , 0.0120873 ,\n",
      "       0.13691897, 0.0120873 , 0.109913  , 0.0120873 , 0.17016384,\n",
      "       0.0120873 , 0.109913  , 0.0120873 , 0.1749268 , 0.0120873 ,\n",
      "       0.109913  , 0.0120873 , 0.13771695, 0.10688033, 0.109913  ,\n",
      "       0.0120873 , 0.10216268, 0.06969875, 0.109913  , 0.0120873 ,\n",
      "       0.13691897, 0.03484937, 0.109913  , 0.0120873 , 0.17016384,\n",
      "       0.0120873 , 0.109913  , 0.0120873 , 0.1749268 , 0.0120873 ,\n",
      "       0.109913  , 0.0120873 , 0.13771695, 0.10688033, 0.109913  ,\n",
      "       0.0120873 , 0.10216268, 0.13691897, 0.109913  , 0.0120873 ,\n",
      "       0.13691897, 0.09065472, 0.109913  , 0.0120873 , 0.17016384]), 'rank_test_score': array([  7,   1,   7,  67,   7,   1,   7,  95,   7,   1,   7,  58,   7,\n",
      "         1,   7,  87,   7,   1,   7,  87,   7,  50,   7,  67,   7,  50,\n",
      "         7,  95,   7,  50,   7,  58,   7,  50,   7,  87,   7,  50,   7,\n",
      "        58,   7,  67,   7,  67,   7,  67,   7,  95,  55,  67,   7,  58,\n",
      "         7,  67,   7,  87,   7,  67,   7,  58,   7,  67,   7,  67,   7,\n",
      "        67,   7,  95,  55,  67,   7,  58,  87,  67,   7,  87,   1,  67,\n",
      "         7,  58,   7,  67,   7,  67,   7,  67,   7,  95,  55,  67,   7,\n",
      "        58,  87,  67,   7,  87, 100,  67,   7,  58])}\n"
     ]
    }
   ],
   "source": [
    "svm_grid.fit(X_entreno_sample, y_entreno_sample) \n",
    "\n",
    "import matplotlib.pyplot as plt\n",
    "from mpl_toolkits.mplot3d import Axes3D\n",
    "\n",
    "print(\"Grid search results:\")\n",
    "print(\"---------------------\")\n",
    "results = svm_grid.cv_results_\n",
    "\n",
    "print(results)"
   ]
  },
  {
   "cell_type": "code",
   "execution_count": 8,
   "metadata": {},
   "outputs": [
    {
     "data": {
      "image/png": "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",
      "text/plain": [
       "<Figure size 640x480 with 1 Axes>"
      ]
     },
     "metadata": {},
     "output_type": "display_data"
    },
    {
     "name": "stdout",
     "output_type": "stream",
     "text": [
      "Best parameters set found on development set:\n",
      "{'C': 0.1, 'gamma': 0.1, 'kernel': 'poly'}\n"
     ]
    }
   ],
   "source": [
    "mean_scores = results[\"mean_test_score\"]\n",
    "params = results[\"params\"]\n",
    "\n",
    "# Extract parameter values for each parameter\n",
    "param_C = [param['C'] for param in params]\n",
    "param_gamma = [param['gamma'] for param in params]\n",
    "param_kernel = [param['kernel'] for param in params]\n",
    "\n",
    "fig = plt.figure()\n",
    "ax = fig.add_subplot(111, projection='3d')\n",
    "\n",
    "# Mapping kernel names to integer values\n",
    "kernel_map = {'linear': 0, 'poly': 1, 'rbf': 2, 'sigmoid': 3}\n",
    "kernel_colors = [kernel_map[kernel] for kernel in param_kernel]\n",
    "\n",
    "# Plotting the mean scores with color-coded markers based on kernel\n",
    "scatter = ax.scatter(param_C, param_gamma, mean_scores, c=kernel_colors, cmap='viridis')\n",
    "\n",
    "ax.set_xlabel('C')\n",
    "ax.set_ylabel('Gamma')\n",
    "ax.set_zlabel('Mean Score')\n",
    "ax.set_title('Grid Search Results')\n",
    "ax.legend(handles=scatter.legend_elements()[0], labels=kernel_map.keys(), title='Kernel')\n",
    "\n",
    "plt.show()\n",
    "\n",
    "print(\"Best parameters set found on development set:\")\n",
    "print(svm_grid.best_params_)\n"
   ]
  },
  {
   "attachments": {},
   "cell_type": "markdown",
   "metadata": {},
   "source": [
    "* _Debido al gran tamaño del dataset y de la alta complejidad de ejeución del gridsearch, se decidió realizar el gridsearch en una muestra del 0.5% del dataset original._\n",
    "* _Existen múltiples hiper-parámetros que alcanzan el mismo score, por lo que se decidió escoger los que menos tiempo de ejecución requirieran._"
   ]
  },
  {
   "cell_type": "code",
   "execution_count": 9,
   "metadata": {},
   "outputs": [
    {
     "name": "stdout",
     "output_type": "stream",
     "text": [
      "Accuracy: 0.5526069575572\n",
     ]
    }
   ],
   "source": [
    "from sklearn.metrics import accuracy_score , recall_score, precision_score, f1_score\n",
    "\n",
    "# Crear el clasificador SVM\n",
    "clf = svm.SVC(kernel='linear')  # Puedes ajustar el kernel según tus necesidades (lineal, polinómico, RBF, etc.)\n",
    "\n",
    "# Entrenar el modelo utilizando los datos de entrenamiento\n",
    "clf.fit(X_entreno, y_entreno)\n",
    "\n",
    "# Realizar predicciones en el conjunto de prueba\n",
    "predicciones = clf.predict(X_prueba)\n",
    "\n",
    "# Calcular el accuracy\n",
    "accuracy = accuracy_score(y_prueba, predicciones)\n",
    "\n",
    "# Mostrar el accuracy\n",
    "print(\"Accuracy:\", accuracy)\n",
    "print(\"Recall:\", recall_score(y_prueba, predicciones, average='weighted'))\n",
    "#print(\"Precision:\", precision_score(y_prueba, predicciones, average='weighted'))\n",
    "#print(\"F1:\", f1_score(y_prueba, predicciones, average='weighted'))"
   ]
  },
  {
   "cell_type": "code",
   "execution_count": 10,
   "metadata": {},
   "outputs": [
    {
     "name": "stdout",
     "output_type": "stream",
     "text": [
      "Recall: 0.9385471840882067\n"
      "Recall: 0.9810325763375011\n"
     ]
    }
   ],
   "source": [
    "# Se utilizan los hipérparámetros obtenidos en la búsqueda de grilla\n",
    "clf = svm.SVC(kernel='rbf', C=1, gamma=0.1)  \n",
    "\n",
    "# Entrenar el modelo utilizando los datos de entrenamiento\n",
    "clf.fit(X_entreno, y_entreno)\n",
    "\n",
    "# Realizar predicciones en el conjunto de prueba\n",
    "predicciones = clf.predict(X_prueba)\n",
    "\n",
    "# Calcular el accuracy\n",
    "accuracy = accuracy_score(y_prueba, predicciones)\n",
    "\n",
    "# Mostrar el accuracy\n",
    "print(\"Accuracy:\", accuracy)\n",
    "print(\"Recall:\", recall_score(y_prueba, predicciones, average='weighted'))\n",
    "#print(\"Precision:\", precision_score(y_prueba, predicciones, average='weighted'))\n",
    "#print(\"F1:\", f1_score(y_prueba, predicciones, average='weighted'))"
   ]
  },
   "outputs": [
    {
     "name": "stdout",
     "output_type": "stream",
     "text": [
      "Confusion Matrix:\n",
      "[[17057   553]\n",
      " [  116 17545]]\n"
     ]
    },
    {
     "data": {
      "text/plain": [
       "<AxesSubplot: >"
      ]
     },
     "execution_count": 12,
     "metadata": {},
     "output_type": "execute_result"
    },
    {
     "data": {
      "image/png": "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",
      "text/plain": [
       "<Figure size 640x480 with 2 Axes>"
      ]
     },
     "metadata": {},
     "output_type": "display_data"
    }
   ],
   "source": [
    "from sklearn.metrics import confusion_matrix\n",
    "\n",
    "# Assuming you have the true labels (y_true) and predicted labels (y_pred)\n",
    "confusion_mat = confusion_matrix(y_prueba, predicciones)\n",
    "\n",
    "print(\"Confusion Matrix:\")\n",
    "print(confusion_mat)\n",
    "import seaborn as sns\n",
    "\n",
    "# Plotting the confusion matrix\n",
    "sns.heatmap(confusion_mat, annot=True, fmt='d', cmap='Blues')\n"
   ]
  },
  {
   "attachments": {},
   "cell_type": "markdown",
   "metadata": {},
   "source": [
    "* _Podemos apreciar que el cambio a los hiperparámetros representa un gran cambio en el score del modelo, por lo que se confirma que los hiperparámetros escogidos son los más óptimos; el accuracy y el recall están por encima del 0.93, lo cual es un buen resultado._"
   ]
  },
  {
   "attachments": {},
   "cell_type": "markdown",
   "metadata": {},
   "source": [
    "## Impacto de las diferentes variables en el rendimiento del modelo"
   ]
  },
  {
   "attachments": {},
   "cell_type": "markdown",
   "metadata": {},
   "source": [
    "* _En este acercamiento, se busca observar las variables más implicadas en las condiciones de vida de la madre en vez del desarrollo del embarazo como tal. Con esto, buscamos encontrar el impacto que tienen las condiciones de vida de la madre en el resultado del embarazo._"
   ]
  },
  {
   "cell_type": "code",
   "execution_count": 13,
   "metadata": {},
   "outputs": [],
   "source": [
    "columnas = X.columns.tolist()\n",
    "causas = [0, 1]"
   ]
  },
  {
   "attachments": {},
   "cell_type": "markdown",
   "metadata": {},
   "source": [
    "### Escolaridad de la madre"
   ]
  },
  {
   "cell_type": "code",
   "execution_count": 14,
   "metadata": {},
   "outputs": [],
   "source": [
    "df0 = df[df['Causa_Defunción'] == 0]\n",
    "df1 = df[df['Causa_Defunción'] == 1]"
   ]
  },
  {
   "cell_type": "code",
   "execution_count": 15,
   "metadata": {},
   "outputs": [
    {
     "name": "stdout",
     "output_type": "stream",
     "text": [
      "35271\n"
     ]
    },
    {
     "data": {
      "text/plain": [
       "1     10999\n",
       "2     10369\n",
       "99     6113\n",
       "3      3991\n",
       "4      3303\n",
       "5       493\n",
       "6         3\n",
       "Name: Escolaridad_Madre, dtype: int64"
      ]
     },
     "execution_count": 15,
     "metadata": {},
     "output_type": "execute_result"
    }
   ],
   "source": [
    "# Causa de defunción = 0 = Parto\n",
    "print(len(df0['Escolaridad_Madre']))\n",
    "df0['Escolaridad_Madre'].value_counts()"
   ]
  },
  {
   "cell_type": "code",
   "execution_count": 16,
   "metadata": {},
   "outputs": [
    {
     "name": "stdout",
     "output_type": "stream",
     "text": [
      "35271\n"
     ]
    },
    {
     "data": {
      "text/plain": [
       "2     13170\n",
       "1      9920\n",
       "3      5171\n",
       "4      3130\n",
       "99     2883\n",
       "5       997\n",
       "Name: Escolaridad_Madre, dtype: int64"
      ]
     },
     "execution_count": 16,
     "metadata": {},
     "output_type": "execute_result"
    }
   ],
   "source": [
    "# Causa de defunción = 1 = Embarazo\n",
    "print(len(df1['Escolaridad_Madre']))\n",
    "df1['Escolaridad_Madre'].value_counts()"
   ]
  },
  {
   "attachments": {},
   "cell_type": "markdown",
   "metadata": {},
   "source": [
    "* _En relación a la escolaridad de la madre, hay una mayor persistencia de defunciones durante el parto en madres con ninguna educación o con educación primaria._\n",
    "* _Por otro lado, las defunciones fetales durante el embarazo son más persistentes en madres con primaria._\n",
    "* _Debido a esto, podemos ver una tendencia a mayor mortalidad en madres con menor nivel de educación._"
   ]
  },
  {
   "cell_type": "code",
   "execution_count": 17,
   "metadata": {},
   "outputs": [
    {
     "name": "stdout",
     "output_type": "stream",
     "text": [
      "---------------------------------------------------------------------------\n",
      "Causa de defunción:  Parto\n",
      "Nivel de educación de la madre:  Básico\n",
      "Predicción:  [0 0 0 ... 0 0 0]\n",
      "Realidad:  [0 0 0 ... 0 0 0]\n",
      "Cambio:  1.152901152901153 %\n",
      "---------------------------------------------------------------------------\n",
      "Causa de defunción:  Embarazo\n",
      "Nivel de educación de la madre:  Básico\n",
      "Predicción:  [0 0 1 ... 1 1 1]\n",
      "Realidad:  [1 1 1 ... 1 1 1]\n",
      "Cambio:  43.98979398979399 %\n",
      "---------------------------------------------------------------------------\n",
      "Causa de defunción:  Parto\n",
      "Nivel de educación de la madre:  Universidad\n",
      "Predicción:  [0 0 0 ... 0 0 0]\n",
      "Realidad:  [0 0 0 ... 0 0 0]\n",
      "Cambio:  0.5575505575505575 %\n",
      "---------------------------------------------------------------------------\n",
      "Causa de defunción:  Embarazo\n",
      "Nivel de educación de la madre:  Universidad\n",
      "Predicción:  [0 0 0 ... 0 1 1]\n",
      "Realidad:  [1 1 1 ... 1 1 1]\n",
      "Cambio:  70.65772065772066 %\n",
      "---------------------------------------------------------------------------\n",
      "Causa de defunción:  Parto\n",
      "Nivel de educación de la madre:  Postgrado\n",
      "Predicción:  [0 0 0 ... 0 0 0]\n",
      "Realidad:  [0 0 0 ... 0 0 0]\n",
      "Cambio:  0.378000378000378 %\n",
      "---------------------------------------------------------------------------\n",
      "Causa de defunción:  Embarazo\n",
      "Nivel de educación de la madre:  Postgrado\n",
      "Predicción:  [0 0 0 ... 0 1 0]\n",
      "Realidad:  [1 1 1 ... 1 1 1]\n",
      "Cambio:  86.76053676053675 %\n"
     ]
    }
   ],
   "source": [
    "# Nivel de educación de la madre - Universidad\n",
    "\n",
    "niveles_edu = [4, 5, 6]\n",
    "\n",
    "for n in niveles_edu:\n",
    "    for c in causas:\n",
    "        df_1 = df[df['Causa_Defunción'] == c] # causa de defunción\n",
    "        df_1 = df_1[columnas + ['Causa_Defunción']]\n",
    "\n",
    "        df_1['Escolaridad_Madre'] = n # Universidad\n",
    "\n",
    "        x_train, x_test, y_train, y_test = train_test_split(df_1.drop('Causa_Defunción', axis=1), df_1['Causa_Defunción'], test_size=0.3, random_state=42)\n",
    "        y_correct = clf.predict(x_test)\n",
    "\n",
    "        print(\"---------------------------------------------------------------------------\")\n",
    "        causa = ''\n",
    "        if c == 0:\n",
    "            causa = 'Parto'\n",
    "        elif c == 1:\n",
    "            causa = 'Embarazo'\n",
    "\n",
    "        educacion = ''\n",
    "        if n == 4:\n",
    "            educacion = 'Básico'\n",
    "        elif n == 5:\n",
    "            educacion = 'Universidad'\n",
    "        elif n == 6:\n",
    "            educacion = 'Postgrado'\n",
    "\n",
    "        print(\"Causa de defunción: \", causa)\n",
    "        print(\"Nivel de educación de la madre: \", educacion)\n",
    "        \n",
    "        print('Predicción: ', y_correct)\n",
    "        print('Realidad: ', y_test.values)\n",
    "        print(\"Cambio: \", (y_correct != y_test).sum() / len(y_test) * 100, \"%\")\n",
    "\n"
   ]
  },
  {
   "attachments": {},
   "cell_type": "markdown",
   "metadata": {},
   "source": [
    "### Total de hijos de la madre"
   ]
  },
  {
   "cell_type": "code",
   "execution_count": 18,
   "metadata": {},
   "outputs": [
    {
     "name": "stderr",
     "output_type": "stream",
     "text": [
      "C:\\Users\\DIEGO\\AppData\\Local\\Temp\\ipykernel_22956\\2508835345.py:3: SettingWithCopyWarning: \n",
      "A value is trying to be set on a copy of a slice from a DataFrame.\n",
      "Try using .loc[row_indexer,col_indexer] = value instead\n",
      "\n",
      "See the caveats in the documentation: https://pandas.pydata.org/pandas-docs/stable/user_guide/indexing.html#returning-a-view-versus-a-copy\n",
      "  df0['Total_Hijos_Vivos'] = np.round(df0['Total_Hijos_Vivos'])\n",
      "C:\\Users\\DIEGO\\AppData\\Local\\Temp\\ipykernel_22956\\2508835345.py:4: SettingWithCopyWarning: \n",
      "A value is trying to be set on a copy of a slice from a DataFrame.\n",
      "Try using .loc[row_indexer,col_indexer] = value instead\n",
      "\n",
      "See the caveats in the documentation: https://pandas.pydata.org/pandas-docs/stable/user_guide/indexing.html#returning-a-view-versus-a-copy\n",
      "  df1['Total_Hijos_Vivos'] = np.round(df1['Total_Hijos_Vivos'])\n",
      "C:\\Users\\DIEGO\\AppData\\Local\\Temp\\ipykernel_22956\\2508835345.py:5: SettingWithCopyWarning: \n",
      "A value is trying to be set on a copy of a slice from a DataFrame.\n",
      "Try using .loc[row_indexer,col_indexer] = value instead\n",
      "\n",
      "See the caveats in the documentation: https://pandas.pydata.org/pandas-docs/stable/user_guide/indexing.html#returning-a-view-versus-a-copy\n",
      "  df0['Total_Hijos_Vivos'] = df0['Total_Hijos_Vivos'].astype(int)\n",
      "C:\\Users\\DIEGO\\AppData\\Local\\Temp\\ipykernel_22956\\2508835345.py:6: SettingWithCopyWarning: \n",
      "A value is trying to be set on a copy of a slice from a DataFrame.\n",
      "Try using .loc[row_indexer,col_indexer] = value instead\n",
      "\n",
      "See the caveats in the documentation: https://pandas.pydata.org/pandas-docs/stable/user_guide/indexing.html#returning-a-view-versus-a-copy\n",
      "  df1['Total_Hijos_Vivos'] = df1['Total_Hijos_Vivos'].astype(int)\n"
     ]
    }
   ],
   "source": [
    "df0 = df[df['Causa_Defunción'] == 0]\n",
    "df1 = df[df['Causa_Defunción'] == 1]\n",
    "df0['Total_Hijos_Vivos'] = np.round(df0['Total_Hijos_Vivos'])\n",
    "df1['Total_Hijos_Vivos'] = np.round(df1['Total_Hijos_Vivos'])\n",
    "df0['Total_Hijos_Vivos'] = df0['Total_Hijos_Vivos'].astype(int)\n",
    "df1['Total_Hijos_Vivos'] = df1['Total_Hijos_Vivos'].astype(int)"
   ]
  },
  {
   "attachments": {},
   "cell_type": "markdown",
   "metadata": {},
   "source": [
    "* _La cantidad de hijos vivos resulta más relevante que la cantidad de hijos difuntos._"
   ]
  },
  {
   "cell_type": "code",
   "execution_count": 19,
   "metadata": {},
   "outputs": [
    {
     "name": "stdout",
     "output_type": "stream",
     "text": [
      "35271\n"
     ]
    },
    {
     "data": {
      "text/plain": [
       "3     16616\n",
       "1      8049\n",
       "2      4270\n",
       "4      1748\n",
       "5      1286\n",
       "0       981\n",
       "6       917\n",
       "7       570\n",
       "8       365\n",
       "9       224\n",
       "10      139\n",
       "11       69\n",
       "12       24\n",
       "13       10\n",
       "16        1\n",
       "15        1\n",
       "14        1\n",
       "Name: Total_Hijos_Vivos, dtype: int64"
      ]
     },
     "execution_count": 19,
     "metadata": {},
     "output_type": "execute_result"
    }
   ],
   "source": [
    "# Causa de defunción = 0 = Parto\n",
    "print(len(df0['Total_Hijos_Vivos']))\n",
    "df0['Total_Hijos_Vivos'].value_counts()"
   ]
  },
  {
   "cell_type": "code",
   "execution_count": 20,
   "metadata": {},
   "outputs": [
    {
     "name": "stdout",
     "output_type": "stream",
     "text": [
      "35271\n"
     ]
    },
    {
     "data": {
      "text/plain": [
       "3     14674\n",
       "1      9130\n",
       "2      5630\n",
       "4      1564\n",
       "5      1361\n",
       "6      1066\n",
       "7       523\n",
       "9       436\n",
       "8       305\n",
       "0       229\n",
       "10      219\n",
       "12       73\n",
       "11       61\n",
       "Name: Total_Hijos_Vivos, dtype: int64"
      ]
     },
     "execution_count": 20,
     "metadata": {},
     "output_type": "execute_result"
    }
   ],
   "source": [
    "# Causa de defunción = 1 = Embarazo\n",
    "print(len(df1['Total_Hijos_Vivos']))\n",
    "df1['Total_Hijos_Vivos'].value_counts()"
   ]
  },
  {
   "attachments": {},
   "cell_type": "markdown",
   "metadata": {},
   "source": [
    "* _El punto de cambio en la cantidad de hijos vivos se encuentra en 4 hijos vivos, donde se observa un cambio en la tendencia de la mortalidad._"
   ]
  },
  {
   "cell_type": "code",
   "execution_count": 21,
   "metadata": {},
   "outputs": [
    {
     "name": "stdout",
     "output_type": "stream",
     "text": [
      "---------------------------------------------------------------------------\n",
      "Causa de defunción:  Parto\n",
      "Cantidad de hijos vivos:  2\n",
      "Predicción:  [0 0 0 ... 0 0 0]\n",
      "Realidad:  [0 0 0 ... 0 0 0]\n",
      "Cambio:  2.3814023814023813 %\n",
      "---------------------------------------------------------------------------\n",
      "Causa de defunción:  Embarazo\n",
      "Cantidad de hijos vivos:  2\n",
      "Predicción:  [1 1 1 ... 1 1 1]\n",
      "Realidad:  [1 1 1 ... 1 1 1]\n",
      "Cambio:  12.625212625212626 %\n",
      "---------------------------------------------------------------------------\n",
      "Causa de defunción:  Parto\n",
      "Cantidad de hijos vivos:  2\n",
      "Predicción:  [0 0 0 ... 0 0 0]\n",
      "Realidad:  [0 0 0 ... 0 0 0]\n",
      "Cambio:  2.3814023814023813 %\n",
      "---------------------------------------------------------------------------\n",
      "Causa de defunción:  Embarazo\n",
      "Cantidad de hijos vivos:  3\n",
      "Predicción:  [1 1 1 ... 1 1 1]\n",
      "Realidad:  [1 1 1 ... 1 1 1]\n",
      "Cambio:  13.560763560763561 %\n",
      "---------------------------------------------------------------------------\n",
      "Causa de defunción:  Parto\n",
      "Cantidad de hijos vivos:  5\n",
      "Predicción:  [0 0 0 ... 0 0 0]\n",
      "Realidad:  [0 0 0 ... 0 0 0]\n",
      "Cambio:  0.8694008694008694 %\n",
      "---------------------------------------------------------------------------\n",
      "Causa de defunción:  Embarazo\n",
      "Cantidad de hijos vivos:  5\n",
      "Predicción:  [0 0 0 ... 1 0 1]\n",
      "Realidad:  [1 1 1 ... 1 1 1]\n",
      "Cambio:  51.559251559251564 %\n",
      "---------------------------------------------------------------------------\n",
      "Causa de defunción:  Parto\n",
      "Cantidad de hijos vivos:  5\n",
      "Predicción:  [0 0 0 ... 0 0 0]\n",
      "Realidad:  [0 0 0 ... 0 0 0]\n",
      "Cambio:  0.8694008694008694 %\n",
      "---------------------------------------------------------------------------\n",
      "Causa de defunción:  Embarazo\n",
      "Cantidad de hijos vivos:  8\n",
      "Predicción:  [0 0 0 ... 0 0 0]\n",
      "Realidad:  [1 1 1 ... 1 1 1]\n",
      "Cambio:  91.34379134379135 %\n"
     ]
    }
   ],
   "source": [
    "# Nivel de educación de la madre - Universidad\n",
    "from random import randint\n",
    "\n",
    "i = 0\n",
    "while i < 4:\n",
    "    for c in causas:\n",
    "        df_1 = df[df['Causa_Defunción'] == c] # causa de defunción\n",
    "        df_1 = df_1[columnas + ['Causa_Defunción']]\n",
    "\n",
    "        if i < 2:\n",
    "            # random upsample\n",
    "            n = randint(0, 4)\n",
    "            df_1['Total_Hijos_Vivos'] = n \n",
    "        else:\n",
    "            # random downsample\n",
    "            n = randint(5, 10)\n",
    "            df_1['Total_Hijos_Vivos'] = n\n",
    "\n",
    "        #df_1['Escolaridad_Madre'] = n # Universidad\n",
    "\n",
    "        x_train, x_test, y_train, y_test = train_test_split(df_1.drop('Causa_Defunción', axis=1), df_1['Causa_Defunción'], test_size=0.3, random_state=42)\n",
    "        y_correct = clf.predict(x_test)\n",
    "\n",
    "        print(\"---------------------------------------------------------------------------\")\n",
    "        causa = ''\n",
    "        if c == 0:\n",
    "            causa = 'Parto'\n",
    "        elif c == 1:\n",
    "            causa = 'Embarazo'\n",
    "\n",
    "\n",
    "        print(\"Causa de defunción: \", causa)\n",
    "        print(\"Cantidad de hijos vivos: \", n)\n",
    "        \n",
    "        print('Predicción: ', y_correct)\n",
    "        print('Realidad: ', y_test.values)\n",
    "        print(\"Cambio: \", (y_correct != y_test).sum() / len(y_test) * 100, \"%\")\n",
    "\n",
    "    i += 1\n",
    "\n"
   ]
  },
  {
   "attachments": {},
   "cell_type": "markdown",
   "metadata": {},
   "source": [
    "### Estado civil de la madre"
   ]
  },
  {
   "cell_type": "code",
   "execution_count": 22,
   "metadata": {},
   "outputs": [],
   "source": [
    "df0 = df[df['Causa_Defunción'] == 0] # Parto\n",
    "df1 = df[df['Causa_Defunción'] == 1] # Embarazo"
   ]
  },
  {
   "cell_type": "code",
   "execution_count": 23,
   "metadata": {},
   "outputs": [
    {
     "data": {
      "text/plain": [
       "1     18061\n",
       "2     14216\n",
       "99     2891\n",
       "3       103\n",
       "Name: Estado_Civil_Madre, dtype: int64"
      ]
     },
     "execution_count": 23,
     "metadata": {},
     "output_type": "execute_result"
    }
   ],
   "source": [
    "df0['Estado_Civil_Madre'].value_counts()"
   ]
  },
  {
   "cell_type": "code",
   "execution_count": 24,
   "metadata": {},
   "outputs": [
    {
     "data": {
      "text/plain": [
       "1     17299\n",
       "2     16598\n",
       "99     1015\n",
       "3       359\n",
       "Name: Estado_Civil_Madre, dtype: int64"
      ]
     },
     "execution_count": 24,
     "metadata": {},
     "output_type": "execute_result"
    }
   ],
   "source": [
    "df1['Estado_Civil_Madre'].value_counts()"
   ]
  },
  {
   "cell_type": "code",
   "execution_count": 25,
   "metadata": {},
   "outputs": [
    {
     "name": "stdout",
     "output_type": "stream",
     "text": [
      "---------------------------------------------------------------------------\n",
      "Causa de defunción:  Parto\n",
      "Estado civil de la madre:  Soltera\n",
      "Predicción:  [0 0 0 ... 0 0 0]\n",
      "Realidad:  [0 0 0 ... 0 0 0]\n",
      "Cambio:  1.9750519750519753 %\n",
      "---------------------------------------------------------------------------\n",
      "Causa de defunción:  Embarazo\n",
      "Estado civil de la madre:  Soltera\n",
      "Predicción:  [1 1 1 ... 1 1 1]\n",
      "Realidad:  [1 1 1 ... 1 1 1]\n",
      "Cambio:  3.7422037422037424 %\n",
      "---------------------------------------------------------------------------\n",
      "Causa de defunción:  Parto\n",
      "Estado civil de la madre:  Casada\n",
      "Predicción:  [0 0 0 ... 0 0 0]\n",
      "Realidad:  [0 0 0 ... 0 0 0]\n",
      "Cambio:  2.1357021357021355 %\n",
      "---------------------------------------------------------------------------\n",
      "Causa de defunción:  Embarazo\n",
      "Estado civil de la madre:  Casada\n",
      "Predicción:  [1 1 1 ... 1 1 1]\n",
      "Realidad:  [1 1 1 ... 1 1 1]\n",
      "Cambio:  3.487053487053487 %\n",
      "---------------------------------------------------------------------------\n",
      "Causa de defunción:  Parto\n",
      "Estado civil de la madre:  Unión Libre\n",
      "Predicción:  [0 0 0 ... 0 0 0]\n",
      "Realidad:  [0 0 0 ... 0 0 0]\n",
      "Cambio:  2.315252315252315 %\n",
      "---------------------------------------------------------------------------\n",
      "Causa de defunción:  Embarazo\n",
      "Estado civil de la madre:  Unión Libre\n",
      "Predicción:  [1 0 1 ... 1 1 1]\n",
      "Realidad:  [1 1 1 ... 1 1 1]\n",
      "Cambio:  15.592515592515593 %\n"
     ]
    }
   ],
   "source": [
    "# Nivel de educación de la madre - Universidad\n",
    "\n",
    "estadoCivil = {1:'Soltera', 2:'Casada', 3:'Unión Libre'}\n",
    "\n",
    "for n in estadoCivil:\n",
    "    for c in causas:\n",
    "        df_1 = df[df['Causa_Defunción'] == c] # causa de defunción\n",
    "        df_1 = df_1[columnas + ['Causa_Defunción']]\n",
    "\n",
    "        df_1['Estado_Civil_Madre'] = n # Universidad\n",
    "\n",
    "        x_train, x_test, y_train, y_test = train_test_split(df_1.drop('Causa_Defunción', axis=1), df_1['Causa_Defunción'], test_size=0.3, random_state=42)\n",
    "        y_correct = clf.predict(x_test)\n",
    "\n",
    "        print(\"---------------------------------------------------------------------------\")\n",
    "        causa = ''\n",
    "        if c == 0:\n",
    "            causa = 'Parto'\n",
    "        elif c == 1:\n",
    "            causa = 'Embarazo'\n",
    "\n",
    "        print(\"Causa de defunción: \", causa)\n",
    "        print(\"Estado civil de la madre: \", estadoCivil[n])\n",
    "        \n",
    "        print('Predicción: ', y_correct)\n",
    "        print('Realidad: ', y_test.values)\n",
    "        print(\"Cambio: \", (y_correct != y_test).sum() / len(y_test) * 100, \"%\")\n",
    "\n"
   ]
  },
  {
   "attachments": {},
   "cell_type": "markdown",
   "metadata": {},
   "source": [
    "### Edad de la madre"
   ]
  },
  {
   "attachments": {},
   "cell_type": "markdown",
   "metadata": {},
   "source": [
    "#### Exploración de la variable de edad de la madre"
   ]
  },
  {
   "cell_type": "code",
   "execution_count": 26,
   "metadata": {},
   "outputs": [],
   "source": [
    "df0 = df[df['Causa_Defunción'] == 0]\n",
    "df1 = df[df['Causa_Defunción'] == 1]"
   ]
  },
  {
   "cell_type": "code",
   "execution_count": 27,
   "metadata": {},
   "outputs": [
    {
     "data": {
      "image/png": "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",
      "text/plain": [
       "<Figure size 640x480 with 1 Axes>"
      ]
     },
     "metadata": {},
     "output_type": "display_data"
    }
   ],
   "source": [
    "df0['Edad_Madre'].value_counts()\n",
    "# diagrama de tendencia central\n",
    "sns.set(style=\"whitegrid\")\n",
    "ax = sns.boxplot(x=df0[\"Edad_Madre\"])"
   ]
  },
  {
   "cell_type": "code",
   "execution_count": 28,
   "metadata": {},
   "outputs": [
    {
     "data": {
      "image/png": "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",
      "text/plain": [
       "<Figure size 640x480 with 1 Axes>"
      ]
     },
     "metadata": {},
     "output_type": "display_data"
    }
   ],
   "source": [
    "df1['Edad_Madre'].value_counts()\n",
    "# diagrama de tendencia central\n",
    "ax = sns.boxplot(x=df1[\"Edad_Madre\"])\n",
    "\n"
   ]
  },
  {
   "attachments": {},
   "cell_type": "markdown",
   "metadata": {},
   "source": [
    "#### Comparación de rangos en la edad de la madre"
   ]
  },
  {
   "cell_type": "code",
   "execution_count": 29,
   "metadata": {},
   "outputs": [
    {
     "name": "stdout",
     "output_type": "stream",
     "text": [
      "---------------------------------------------------------------------------\n",
      "Causa de defunción:  Parto\n",
      "Edad de la madre:  11-20\n",
      "Predicción:  [0 0 0 ... 0 0 0]\n",
      "Realidad:  [0 0 0 ... 0 0 0]\n",
      "Cambio:  2.155625657202944 %\n",
      "---------------------------------------------------------------------------\n",
      "Causa de defunción:  Embarazo\n",
      "Edad de la madre:  11-20\n",
      "Predicción:  [1 1 1 ... 1 1 1]\n",
      "Realidad:  [1 1 1 ... 1 1 1]\n",
      "Cambio:  0.0 %\n",
      "---------------------------------------------------------------------------\n",
      "Causa de defunción:  Parto\n",
      "Edad de la madre:  21-30\n",
      "Predicción:  [0 0 0 ... 0 0 0]\n",
      "Realidad:  [0 0 0 ... 0 0 0]\n",
      "Cambio:  3.070427940894262 %\n",
      "---------------------------------------------------------------------------\n",
      "Causa de defunción:  Embarazo\n",
      "Edad de la madre:  21-30\n",
      "Predicción:  [1 1 1 ... 1 1 1]\n",
      "Realidad:  [1 1 1 ... 1 1 1]\n",
      "Cambio:  1.529790660225443 %\n",
      "---------------------------------------------------------------------------\n",
      "Causa de defunción:  Parto\n",
      "Edad de la madre:  31-40\n",
      "Predicción:  [0 0 0 ... 0 0 0]\n",
      "Realidad:  [0 0 0 ... 0 0 0]\n",
      "Cambio:  1.2700534759358288 %\n",
      "---------------------------------------------------------------------------\n",
      "Causa de defunción:  Embarazo\n",
      "Edad de la madre:  31-40\n",
      "Predicción:  [1 1 1 ... 1 1 1]\n",
      "Realidad:  [1 1 1 ... 1 1 1]\n",
      "Cambio:  0.0 %\n",
      "---------------------------------------------------------------------------\n",
      "Causa de defunción:  Parto\n",
      "Edad de la madre:  41-50\n",
      "Predicción:  [0 0 0 0 0 0 0 0 0 0 0 0 0 0 0 0 0 0 0 0 0 0 0 0 0 0 0 0 0 0 0 0 0 0 0 0 0\n",
      " 0 0 0 0 0 0 0 0 0 0 0 0 0 0 0 0 0 0 0 0 0 0 0 0 0 0 0 0 0 0 0 0 0 0 0 0 0\n",
      " 0 0 0 0 0 0 0 0 0 0 0 0 0 0 0 0 0 0 0 0 0 0 0 0 0 0 0 0 0 0 0 0 0 0 0 0 0\n",
      " 0 0 0 0 0 0 0 0 0 0 0 0 0 0 0 0 0 0 0 0 0 0 0 0 0 0 0 0 0 0 0 0 0 0 0 0 0\n",
      " 0 0 0 0 0 0 0 0 0 0 0 0 0 0 0 0 0 0 0 0 0 0 0 0 0 0 0 0 0 0 0 0 0 0 0 0 0\n",
      " 0 0 0 0 0 0 0 0 0 0 0 0 0 0 0 0 0 0 0 0 0 0 0 0 0 0 0 0 0 0 0 0 0 0 0 0 0\n",
      " 0 0 0 0 0 0 0 0 0 0 0 0 0 0 0 0 0 0 0 0 0 0 0 0 0 0 0 0 0 1 0 0 0 0 0 0 0\n",
      " 0 0 0 0 0 0 0 0 0 0 0 0 0 0 0 0 0 0 0 0 0 0 0 0 0 0 0 0 0 0 0 0 0 0 0 0 0\n",
      " 0 0 0 0 0 0 0 0 0 0 0 0 0 0 0 0 0 0 0 0 0 0 0 0 0 0 0 0 0 0 0 0 0 0 0 0 0\n",
      " 0 0 0 0 0 0 0 0 0 0 0 0 0 0 0 0 0 0 0 0 0 0 0 0 0 0 0 0 0 0 0 0 0 0 0 0 0\n",
      " 0 0 0 0 0 0 0 0 0 0 0 0 0 0 0 0 0 0 0 0 0 0 0 0 0 0 0 0 0 0 0 0 0 0 0 0 0\n",
      " 0 0 0 0 0 0 0 0 0 0 0 0 0 0 0 0 0 1 0 0 0 0 0 0 0 0 0 0 0 0 0 0 0 0 0 0 0\n",
      " 0 0 0 0 0 0 0 0 0 0 0 0 0 0 0 0 0 0 0 0 0 0 0 0 0 0 0 0 0 0 0 1]\n",
      "Realidad:  [0 0 0 0 0 0 0 0 0 0 0 0 0 0 0 0 0 0 0 0 0 0 0 0 0 0 0 0 0 0 0 0 0 0 0 0 0\n",
      " 0 0 0 0 0 0 0 0 0 0 0 0 0 0 0 0 0 0 0 0 0 0 0 0 0 0 0 0 0 0 0 0 0 0 0 0 0\n",
      " 0 0 0 0 0 0 0 0 0 0 0 0 0 0 0 0 0 0 0 0 0 0 0 0 0 0 0 0 0 0 0 0 0 0 0 0 0\n",
      " 0 0 0 0 0 0 0 0 0 0 0 0 0 0 0 0 0 0 0 0 0 0 0 0 0 0 0 0 0 0 0 0 0 0 0 0 0\n",
      " 0 0 0 0 0 0 0 0 0 0 0 0 0 0 0 0 0 0 0 0 0 0 0 0 0 0 0 0 0 0 0 0 0 0 0 0 0\n",
      " 0 0 0 0 0 0 0 0 0 0 0 0 0 0 0 0 0 0 0 0 0 0 0 0 0 0 0 0 0 0 0 0 0 0 0 0 0\n",
      " 0 0 0 0 0 0 0 0 0 0 0 0 0 0 0 0 0 0 0 0 0 0 0 0 0 0 0 0 0 0 0 0 0 0 0 0 0\n",
      " 0 0 0 0 0 0 0 0 0 0 0 0 0 0 0 0 0 0 0 0 0 0 0 0 0 0 0 0 0 0 0 0 0 0 0 0 0\n",
      " 0 0 0 0 0 0 0 0 0 0 0 0 0 0 0 0 0 0 0 0 0 0 0 0 0 0 0 0 0 0 0 0 0 0 0 0 0\n",
      " 0 0 0 0 0 0 0 0 0 0 0 0 0 0 0 0 0 0 0 0 0 0 0 0 0 0 0 0 0 0 0 0 0 0 0 0 0\n",
      " 0 0 0 0 0 0 0 0 0 0 0 0 0 0 0 0 0 0 0 0 0 0 0 0 0 0 0 0 0 0 0 0 0 0 0 0 0\n",
      " 0 0 0 0 0 0 0 0 0 0 0 0 0 0 0 0 0 0 0 0 0 0 0 0 0 0 0 0 0 0 0 0 0 0 0 0 0\n",
      " 0 0 0 0 0 0 0 0 0 0 0 0 0 0 0 0 0 0 0 0 0 0 0 0 0 0 0 0 0 0 0 0]\n",
      "Cambio:  0.6302521008403361 %\n",
      "---------------------------------------------------------------------------\n",
      "Causa de defunción:  Embarazo\n",
      "Edad de la madre:  41-50\n",
      "Predicción:  [1 1 1 1 1 1 1 1 1 1 1 1 1 1 1 1 1 1 1 1 1 1 1 1 1 1 1 1 1 1 1 1 1 1 1 1 1\n",
      " 1 1 1 1 1 1 1 1 1 1 1 1 1 1 1 1 1 1 1 1 1 1 1 1 1 1 1 1 1 1 1 1 1 1 1 1 1\n",
      " 1 1 1 1 1 1 1 1 1 1 1 1 1 1 1 1 1 1 1 1 1 1 1 1 1 1 1 1 1 1 1 1 1 1 1 1 1\n",
      " 1 1 1 1 1 1 1 1 1 1 1 1 1 1 1 1 1 1 1 1 1 1 1 1 1 1 1 1 1 1 1 1 1 1 1 1 1\n",
      " 1 1 1 1 1 1 1 1 1 1 1 1 1 1 1 1 1 1 1 1 1 1 1 1 1 1 1 1 1 1 1 1 1 1 1 1 1\n",
      " 1 1 1 1 1 1 1 1 1 1 1 1 1 1 1 1 1 1 1 1 1 1 1 1 1 1 1 1 1 1 1 1 1 1 1 1 1\n",
      " 1 1 1 1 1 1 1 1 1 1 1 1 1 1 1 1 1 1 1 1 1 1 1 1 1 1 1 1 1 1 1 1 1 1 1 1 1\n",
      " 1 1 1 1 1 1 1 1 1 1 1 1 1 1 1 1 1 1 1 1 1 1 1 1 1 1 1 1 1 1 1 1 1 1 1 1 1\n",
      " 1 1 1 1 1 1 1 1 1 1 1 1 1 1 1 1 1 1 1 1 1 1 1 1 1 1 1 1 1 1 1 1 1 1 1 1 1\n",
      " 1 1 1 1 1 1 1 1 1 1 1 1 1 1 1 1 1 1 1 1 1 1 1 1 1 1 1 1 1 1 1 1 1 1 1 1 1\n",
      " 1 1 1 1 1 1 1 1 1 1 1 1 1 1 1 1 1 1 1 1 1 1 1 1 1 1 1 1 1 1 1 1 1 1 1 1 1\n",
      " 1 1 1 1 1 1 1 1 1 1 1 1 1 1 1 1 1 1 1 1 1 1 1 1 1 1 1 1 1 1 1 1 1 1 1 1 1\n",
      " 1 1 1 1 1 1 1 1 1 1 1 1 1 1 1 1 1 1 1 1 1 1 1 1 1 1 1 1 1 1 1 1 1 1 1 1 1\n",
      " 1 1 1 1 1 1 1 1 1 1 1 1 1 1 1 1 1 1 1 1 1 1 1 1 1 1 1 1 1 1 1 1 1 1 1 1 1\n",
      " 1 1 1 1 1 1 1 1 1 1 1 1 1 1 1 1 1 1 1 1 1 1 1 1 1 1 1 1 1 1 1 1 1 1 1 1 1\n",
      " 1 1 1 1 1 1 1]\n",
      "Realidad:  [1 1 1 1 1 1 1 1 1 1 1 1 1 1 1 1 1 1 1 1 1 1 1 1 1 1 1 1 1 1 1 1 1 1 1 1 1\n",
      " 1 1 1 1 1 1 1 1 1 1 1 1 1 1 1 1 1 1 1 1 1 1 1 1 1 1 1 1 1 1 1 1 1 1 1 1 1\n",
      " 1 1 1 1 1 1 1 1 1 1 1 1 1 1 1 1 1 1 1 1 1 1 1 1 1 1 1 1 1 1 1 1 1 1 1 1 1\n",
      " 1 1 1 1 1 1 1 1 1 1 1 1 1 1 1 1 1 1 1 1 1 1 1 1 1 1 1 1 1 1 1 1 1 1 1 1 1\n",
      " 1 1 1 1 1 1 1 1 1 1 1 1 1 1 1 1 1 1 1 1 1 1 1 1 1 1 1 1 1 1 1 1 1 1 1 1 1\n",
      " 1 1 1 1 1 1 1 1 1 1 1 1 1 1 1 1 1 1 1 1 1 1 1 1 1 1 1 1 1 1 1 1 1 1 1 1 1\n",
      " 1 1 1 1 1 1 1 1 1 1 1 1 1 1 1 1 1 1 1 1 1 1 1 1 1 1 1 1 1 1 1 1 1 1 1 1 1\n",
      " 1 1 1 1 1 1 1 1 1 1 1 1 1 1 1 1 1 1 1 1 1 1 1 1 1 1 1 1 1 1 1 1 1 1 1 1 1\n",
      " 1 1 1 1 1 1 1 1 1 1 1 1 1 1 1 1 1 1 1 1 1 1 1 1 1 1 1 1 1 1 1 1 1 1 1 1 1\n",
      " 1 1 1 1 1 1 1 1 1 1 1 1 1 1 1 1 1 1 1 1 1 1 1 1 1 1 1 1 1 1 1 1 1 1 1 1 1\n",
      " 1 1 1 1 1 1 1 1 1 1 1 1 1 1 1 1 1 1 1 1 1 1 1 1 1 1 1 1 1 1 1 1 1 1 1 1 1\n",
      " 1 1 1 1 1 1 1 1 1 1 1 1 1 1 1 1 1 1 1 1 1 1 1 1 1 1 1 1 1 1 1 1 1 1 1 1 1\n",
      " 1 1 1 1 1 1 1 1 1 1 1 1 1 1 1 1 1 1 1 1 1 1 1 1 1 1 1 1 1 1 1 1 1 1 1 1 1\n",
      " 1 1 1 1 1 1 1 1 1 1 1 1 1 1 1 1 1 1 1 1 1 1 1 1 1 1 1 1 1 1 1 1 1 1 1 1 1\n",
      " 1 1 1 1 1 1 1 1 1 1 1 1 1 1 1 1 1 1 1 1 1 1 1 1 1 1 1 1 1 1 1 1 1 1 1 1 1\n",
      " 1 1 1 1 1 1 1]\n",
      "Cambio:  0.0 %\n",
      "---------------------------------------------------------------------------\n",
      "Causa de defunción:  Parto\n",
      "Edad de la madre:  51+\n",
      "Predicción:  [0 0 0]\n",
      "Realidad:  [0 0 0]\n",
      "Cambio:  0.0 %\n"
     ]
    }
   ],
   "source": [
    "edades = {\n",
    "    '11-20': (11, 20),\n",
    "    '21-30': (21, 30),\n",
    "    '31-40': (31, 40),\n",
    "    '41-50': (41, 50),\n",
    "    '51+': (51, float('inf'))\n",
    "}\n",
    "\n",
    "for n in edades:\n",
    "    ini, fin = edades[n]\n",
    "    for c in causas:\n",
    "        df_1 = df[df['Causa_Defunción'] == c]  # causa de defunción\n",
    "        df_1 = df_1[columnas + ['Causa_Defunción']]\n",
    "        df_1 = df_1[(df_1['Edad_Madre'] >= ini) & (df_1['Edad_Madre'] <= fin)]\n",
    "\n",
    "        if len(df_1) == 0:\n",
    "            continue  # Skip this iteration if there are no samples in the age range\n",
    "\n",
    "        x_train, x_test, y_train, y_test = train_test_split(df_1.drop('Causa_Defunción', axis=1), df_1['Causa_Defunción'], test_size=0.3, random_state=42)\n",
    "\n",
    "        if len(x_train) == 0 or len(x_test) == 0:\n",
    "            continue  # Skip this iteration if there are not enough samples for training or testing\n",
    "\n",
    "        y_correct = clf.predict(x_test)\n",
    "\n",
    "        print(\"---------------------------------------------------------------------------\")\n",
    "        causa = ''\n",
    "        if c == 0:\n",
    "            causa = 'Parto'\n",
    "        elif c == 1:\n",
    "            causa = 'Embarazo'\n",
    "\n",
    "        print(\"Causa de defunción: \", causa)\n",
    "        print(\"Edad de la madre: \", n)\n",
    "\n",
    "        print('Predicción: ', y_correct)\n",
    "        print('Realidad: ', y_test.values)\n",
    "        print(\"Cambio: \", (y_correct != y_test).sum() / len(y_test) * 100, \"%\")\n"
   ]
  },
  {
   "attachments": {},
   "cell_type": "markdown",
   "metadata": {},
   "source": [
    "### Etnia de la madre"
   ]
  },
  {
   "cell_type": "code",
   "execution_count": 30,
   "metadata": {},
   "outputs": [],
   "source": [
    "df0 = df[df['Causa_Defunción'] == 0]\n",
    "df1 = df[df['Causa_Defunción'] == 1]"
   ]
  },
  {
   "cell_type": "code",
   "execution_count": 31,
   "metadata": {},
   "outputs": [
    {
     "data": {
      "text/plain": [
       "1     12317\n",
       "2      8797\n",
       "99     7016\n",
       "3      3674\n",
       "4      3051\n",
       "5       383\n",
       "6        19\n",
       "7        14\n",
       "Name: Grupo_Etnico_Madre, dtype: int64"
      ]
     },
     "execution_count": 31,
     "metadata": {},
     "output_type": "execute_result"
    }
   ],
   "source": [
    "df0['Grupo_Etnico_Madre'].value_counts()"
   ]
  },
  {
   "cell_type": "code",
   "execution_count": 32,
   "metadata": {},
   "outputs": [
    {
     "data": {
      "text/plain": [
       "1     10855\n",
       "2      9011\n",
       "3      5655\n",
       "99     4787\n",
       "4      4512\n",
       "5       393\n",
       "6        58\n",
       "Name: Grupo_Etnico_Madre, dtype: int64"
      ]
     },
     "execution_count": 32,
     "metadata": {},
     "output_type": "execute_result"
    }
   ],
   "source": [
    "df1['Grupo_Etnico_Madre'].value_counts()"
   ]
  },
  {
   "cell_type": "code",
   "execution_count": 33,
   "metadata": {},
   "outputs": [
    {
     "name": "stdout",
     "output_type": "stream",
     "text": [
      "---------------------------------------------------------------------------\n",
      "Causa de defunción:  Parto\n",
      "Etnia de la madre:  Maya\n",
      "Predicción:  [0 0 0 ... 0 0 0]\n",
      "Realidad:  [0 0 0 ... 0 0 0]\n",
      "Cambio:  3.5437535437535437 %\n",
      "---------------------------------------------------------------------------\n",
      "Causa de defunción:  Embarazo\n",
      "Etnia de la madre:  Maya\n",
      "Predicción:  [1 1 1 ... 1 0 1]\n",
      "Realidad:  [1 1 1 ... 1 1 1]\n",
      "Cambio:  23.710073710073708 %\n",
      "---------------------------------------------------------------------------\n",
      "Causa de defunción:  Parto\n",
      "Etnia de la madre:  Ladina/Mestiza\n",
      "Predicción:  [0 0 0 ... 0 0 0]\n",
      "Realidad:  [0 0 0 ... 0 0 0]\n",
      "Cambio:  2.7783027783027783 %\n",
      "---------------------------------------------------------------------------\n",
      "Causa de defunción:  Embarazo\n",
      "Etnia de la madre:  Ladina/Mestiza\n",
      "Predicción:  [1 1 1 ... 1 0 1]\n",
      "Realidad:  [1 1 1 ... 1 1 1]\n",
      "Cambio:  14.789264789264788 %\n",
      "---------------------------------------------------------------------------\n",
      "Causa de defunción:  Parto\n",
      "Etnia de la madre:  Indígena\n",
      "Predicción:  [0 0 0 ... 0 0 1]\n",
      "Realidad:  [0 0 0 ... 0 0 0]\n",
      "Cambio:  3.005103005103005 %\n",
      "---------------------------------------------------------------------------\n",
      "Causa de defunción:  Embarazo\n",
      "Etnia de la madre:  Indígena\n",
      "Predicción:  [1 1 1 ... 1 0 1]\n",
      "Realidad:  [1 1 1 ... 1 1 1]\n",
      "Cambio:  22.736722736722736 %\n",
      "---------------------------------------------------------------------------\n",
      "Causa de defunción:  Parto\n",
      "Etnia de la madre:  No Indígena\n",
      "Predicción:  [0 0 0 ... 0 0 1]\n",
      "Realidad:  [0 0 0 ... 0 0 0]\n",
      "Cambio:  2.6649026649026646 %\n",
      "---------------------------------------------------------------------------\n",
      "Causa de defunción:  Embarazo\n",
      "Etnia de la madre:  No Indígena\n",
      "Predicción:  [1 1 1 ... 1 0 1]\n",
      "Realidad:  [1 1 1 ... 1 1 1]\n",
      "Cambio:  38.527688527688525 %\n",
      "---------------------------------------------------------------------------\n",
      "Causa de defunción:  Parto\n",
      "Etnia de la madre:  Otra\n",
      "Predicción:  [0 0 0 ... 0 0 1]\n",
      "Realidad:  [0 0 0 ... 0 0 0]\n",
      "Cambio:  1.9561519561519563 %\n",
      "---------------------------------------------------------------------------\n",
      "Causa de defunción:  Embarazo\n",
      "Etnia de la madre:  Otra\n",
      "Predicción:  [1 0 1 ... 1 0 1]\n",
      "Realidad:  [1 1 1 ... 1 1 1]\n",
      "Cambio:  63.11661311661312 %\n",
      "---------------------------------------------------------------------------\n",
      "Causa de defunción:  Parto\n",
      "Etnia de la madre:  Garífuna\n",
      "Predicción:  [0 0 0 ... 0 0 1]\n",
      "Realidad:  [0 0 0 ... 0 0 0]\n",
      "Cambio:  1.0017010017010017 %\n",
      "---------------------------------------------------------------------------\n",
      "Causa de defunción:  Embarazo\n",
      "Etnia de la madre:  Garífuna\n",
      "Predicción:  [0 0 0 ... 1 0 1]\n",
      "Realidad:  [1 1 1 ... 1 1 1]\n",
      "Cambio:  79.25722925722926 %\n",
      "---------------------------------------------------------------------------\n",
      "Causa de defunción:  Parto\n",
      "Etnia de la madre:  Xinca\n",
      "Predicción:  [0 0 0 ... 0 0 0]\n",
      "Realidad:  [0 0 0 ... 0 0 0]\n",
      "Cambio:  0.27405027405027405 %\n",
      "---------------------------------------------------------------------------\n",
      "Causa de defunción:  Embarazo\n",
      "Etnia de la madre:  Xinca\n",
      "Predicción:  [0 0 0 ... 1 0 1]\n",
      "Realidad:  [1 1 1 ... 1 1 1]\n",
      "Cambio:  94.48119448119449 %\n"
     ]
    }
   ],
   "source": [
    "\n",
    "etnias = {\n",
    "    1: 'Maya',\n",
    "    2: 'Ladina/Mestiza',\n",
    "    3: 'Indígena',\n",
    "    4: 'No Indígena',\n",
    "    5: 'Otra',\n",
    "    6: 'Garífuna',\n",
    "    7: 'Xinca'\n",
    "}\n",
    "\n",
    "for n in etnias:\n",
    "    for c in causas:\n",
    "        df_1 = df[df['Causa_Defunción'] == c] # causa de defunción\n",
    "        df_1 = df_1[columnas + ['Causa_Defunción']]\n",
    "\n",
    "        df_1['Grupo_Etnico_Madre'] = n # etnia\n",
    "\n",
    "        x_train, x_test, y_train, y_test = train_test_split(df_1.drop('Causa_Defunción', axis=1), df_1['Causa_Defunción'], test_size=0.3, random_state=42)\n",
    "        y_correct = clf.predict(x_test)\n",
    "\n",
    "        print(\"---------------------------------------------------------------------------\")\n",
    "        causa = ''\n",
    "        if c == 0:\n",
    "            causa = 'Parto'\n",
    "        elif c == 1:\n",
    "            causa = 'Embarazo'\n",
    "\n",
    "        print(\"Causa de defunción: \", causa)\n",
    "        print(\"Etnia de la madre: \", etnias[n])\n",
    "        \n",
    "        print('Predicción: ', y_correct)\n",
    "        print('Realidad: ', y_test.values)\n",
    "        print(\"Cambio: \", (y_correct != y_test).sum() / len(y_test) * 100, \"%\")"
   ]
  }
 ],
 "metadata": {
  "kernelspec": {
   "display_name": "Python 3",
   "language": "python",
   "name": "python3"
  },
  "language_info": {
   "codemirror_mode": {
    "name": "ipython",
    "version": 3
   },
   "file_extension": ".py",
   "mimetype": "text/x-python",
   "name": "python",
   "nbconvert_exporter": "python",
   "pygments_lexer": "ipython3",
   "version": "3.10.9"
  },
  "orig_nbformat": 4
 },
 "nbformat": 4,
 "nbformat_minor": 2
}
