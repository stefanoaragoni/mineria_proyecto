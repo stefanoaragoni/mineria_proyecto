{
 "cells": [
  {
   "attachments": {},
   "cell_type": "markdown",
   "metadata": {},
   "source": [
    "# Modelado con SVM (Support Vector Machine)"
   ]
  },
  {
   "attachments": {},
   "cell_type": "markdown",
   "metadata": {},
   "source": [
    "## Preparación de información para el modelo"
   ]
  },
  {
   "cell_type": "code",
   "execution_count": 1,
   "metadata": {},
   "outputs": [],
   "source": [
    "import pandas as pd\n",
    "import numpy as np\n",
    "from collections import Counter\n",
    "import numpy as np \n",
    "from sklearn.model_selection import train_test_split\n",
    "from sklearn.utils import resample"
   ]
  },
  {
   "cell_type": "code",
   "execution_count": 2,
   "metadata": {},
   "outputs": [],
   "source": [
    "#leer csv\n",
    "df = pd.read_csv('defunciones_clean.csv')"
   ]
  },
  {
   "attachments": {},
   "cell_type": "markdown",
   "metadata": {},
   "source": [
    "### Manejo de columnas y balanceo en causas de defunción"
   ]
  },
  {
   "attachments": {},
   "cell_type": "markdown",
   "metadata": {},
   "source": [
    "- Eliminación de columnas irrelevantes para el modelo"
   ]
  },
  {
   "cell_type": "code",
   "execution_count": 3,
   "metadata": {},
   "outputs": [
    {
     "data": {
      "text/html": [
       "<div>\n",
       "<style scoped>\n",
       "    .dataframe tbody tr th:only-of-type {\n",
       "        vertical-align: middle;\n",
       "    }\n",
       "\n",
       "    .dataframe tbody tr th {\n",
       "        vertical-align: top;\n",
       "    }\n",
       "\n",
       "    .dataframe thead th {\n",
       "        text-align: right;\n",
       "    }\n",
       "</style>\n",
       "<table border=\"1\" class=\"dataframe\">\n",
       "  <thead>\n",
       "    <tr style=\"text-align: right;\">\n",
       "      <th></th>\n",
       "      <th>Área_Geográfica</th>\n",
       "      <th>Asistencia_Recibida</th>\n",
       "      <th>Causa_Defunción</th>\n",
       "      <th>Clase_Parto</th>\n",
       "      <th>Edad_Madre</th>\n",
       "      <th>Estado_Civil_Madre</th>\n",
       "      <th>Escolaridad_Madre</th>\n",
       "      <th>Ocupación_Madre</th>\n",
       "      <th>Semanas_Gestacion</th>\n",
       "      <th>Sexo</th>\n",
       "      <th>Sitio_Ocurrencia</th>\n",
       "      <th>Tipo_Atencion</th>\n",
       "      <th>Total_Hijos_Nacidos</th>\n",
       "      <th>Total_Hijos_Nacidos_Muertos</th>\n",
       "      <th>Total_Hijos_Vivos</th>\n",
       "      <th>Via_Parto</th>\n",
       "      <th>Nacionalidad_Madre</th>\n",
       "      <th>Grupo_Etnico_Madre</th>\n",
       "    </tr>\n",
       "  </thead>\n",
       "  <tbody>\n",
       "    <tr>\n",
       "      <th>0</th>\n",
       "      <td>99</td>\n",
       "      <td>6</td>\n",
       "      <td>0</td>\n",
       "      <td>1</td>\n",
       "      <td>18.0</td>\n",
       "      <td>2</td>\n",
       "      <td>99</td>\n",
       "      <td>99</td>\n",
       "      <td>34.416349</td>\n",
       "      <td>1</td>\n",
       "      <td>2</td>\n",
       "      <td>1</td>\n",
       "      <td>1.269311</td>\n",
       "      <td>2.0</td>\n",
       "      <td>1.0</td>\n",
       "      <td>99</td>\n",
       "      <td>1</td>\n",
       "      <td>4</td>\n",
       "    </tr>\n",
       "    <tr>\n",
       "      <th>1</th>\n",
       "      <td>99</td>\n",
       "      <td>1</td>\n",
       "      <td>0</td>\n",
       "      <td>1</td>\n",
       "      <td>36.0</td>\n",
       "      <td>2</td>\n",
       "      <td>99</td>\n",
       "      <td>1</td>\n",
       "      <td>34.416349</td>\n",
       "      <td>1</td>\n",
       "      <td>9</td>\n",
       "      <td>1</td>\n",
       "      <td>1.269311</td>\n",
       "      <td>3.0</td>\n",
       "      <td>2.0</td>\n",
       "      <td>99</td>\n",
       "      <td>1</td>\n",
       "      <td>4</td>\n",
       "    </tr>\n",
       "    <tr>\n",
       "      <th>2</th>\n",
       "      <td>99</td>\n",
       "      <td>2</td>\n",
       "      <td>0</td>\n",
       "      <td>1</td>\n",
       "      <td>22.0</td>\n",
       "      <td>2</td>\n",
       "      <td>99</td>\n",
       "      <td>99</td>\n",
       "      <td>34.416349</td>\n",
       "      <td>1</td>\n",
       "      <td>2</td>\n",
       "      <td>1</td>\n",
       "      <td>1.269311</td>\n",
       "      <td>3.0</td>\n",
       "      <td>2.0</td>\n",
       "      <td>99</td>\n",
       "      <td>1</td>\n",
       "      <td>4</td>\n",
       "    </tr>\n",
       "    <tr>\n",
       "      <th>3</th>\n",
       "      <td>99</td>\n",
       "      <td>2</td>\n",
       "      <td>0</td>\n",
       "      <td>1</td>\n",
       "      <td>26.0</td>\n",
       "      <td>2</td>\n",
       "      <td>99</td>\n",
       "      <td>99</td>\n",
       "      <td>34.416349</td>\n",
       "      <td>1</td>\n",
       "      <td>2</td>\n",
       "      <td>1</td>\n",
       "      <td>1.269311</td>\n",
       "      <td>0.0</td>\n",
       "      <td>0.0</td>\n",
       "      <td>99</td>\n",
       "      <td>1</td>\n",
       "      <td>4</td>\n",
       "    </tr>\n",
       "    <tr>\n",
       "      <th>4</th>\n",
       "      <td>99</td>\n",
       "      <td>2</td>\n",
       "      <td>0</td>\n",
       "      <td>1</td>\n",
       "      <td>43.0</td>\n",
       "      <td>2</td>\n",
       "      <td>99</td>\n",
       "      <td>99</td>\n",
       "      <td>34.416349</td>\n",
       "      <td>2</td>\n",
       "      <td>2</td>\n",
       "      <td>1</td>\n",
       "      <td>1.269311</td>\n",
       "      <td>10.0</td>\n",
       "      <td>6.0</td>\n",
       "      <td>99</td>\n",
       "      <td>1</td>\n",
       "      <td>4</td>\n",
       "    </tr>\n",
       "  </tbody>\n",
       "</table>\n",
       "</div>"
      ],
      "text/plain": [
       "   Área_Geográfica  Asistencia_Recibida  Causa_Defunción  Clase_Parto  \\\n",
       "0               99                    6                0            1   \n",
       "1               99                    1                0            1   \n",
       "2               99                    2                0            1   \n",
       "3               99                    2                0            1   \n",
       "4               99                    2                0            1   \n",
       "\n",
       "   Edad_Madre  Estado_Civil_Madre  Escolaridad_Madre  Ocupación_Madre  \\\n",
       "0        18.0                   2                 99               99   \n",
       "1        36.0                   2                 99                1   \n",
       "2        22.0                   2                 99               99   \n",
       "3        26.0                   2                 99               99   \n",
       "4        43.0                   2                 99               99   \n",
       "\n",
       "   Semanas_Gestacion  Sexo  Sitio_Ocurrencia  Tipo_Atencion  \\\n",
       "0          34.416349     1                 2              1   \n",
       "1          34.416349     1                 9              1   \n",
       "2          34.416349     1                 2              1   \n",
       "3          34.416349     1                 2              1   \n",
       "4          34.416349     2                 2              1   \n",
       "\n",
       "   Total_Hijos_Nacidos  Total_Hijos_Nacidos_Muertos  Total_Hijos_Vivos  \\\n",
       "0             1.269311                          2.0                1.0   \n",
       "1             1.269311                          3.0                2.0   \n",
       "2             1.269311                          3.0                2.0   \n",
       "3             1.269311                          0.0                0.0   \n",
       "4             1.269311                         10.0                6.0   \n",
       "\n",
       "   Via_Parto  Nacionalidad_Madre  Grupo_Etnico_Madre  \n",
       "0         99                   1                   4  \n",
       "1         99                   1                   4  \n",
       "2         99                   1                   4  \n",
       "3         99                   1                   4  \n",
       "4         99                   1                   4  "
      ]
     },
     "execution_count": 3,
     "metadata": {},
     "output_type": "execute_result"
    }
   ],
   "source": [
    "# Eliminar columnas no relevantes (segun analisis exploratorio anteriormente realizado)\n",
    "df.drop('Departamento_Registro', axis=1, inplace=True)\n",
    "df.drop('Municipio_Registro', axis=1, inplace=True)\n",
    "\n",
    "df.drop('Municipio_Ocurrencia', axis=1, inplace=True)   \n",
    "df.drop('Departamento_Residencia_Madre', axis=1, inplace=True) \n",
    "\n",
    "df.drop('Municipio_Residencia_Madre', axis=1, inplace=True)\n",
    "df.drop('Departamento_Ocurrencia', axis=1, inplace=True)\n",
    "\n",
    "df.drop('Año_Ocurrencia', axis=1, inplace=True)\n",
    "df.drop('Mes_Ocurrencia', axis=1, inplace=True)\n",
    "df.drop('Día_Ocurrencia', axis=1, inplace=True)        # No se considera el día de ocurrencia\n",
    "\n",
    "df.drop('Año_Registro', axis=1, inplace=True)\n",
    "df.drop('Mes_Registro', axis=1, inplace=True)\n",
    "\n",
    "df = df[df.Causa_Defunción != 99]\n",
    "\n",
    "df.head()"
   ]
  },
  {
   "attachments": {},
   "cell_type": "markdown",
   "metadata": {},
   "source": [
    "- Balanceo de clases en causas de defunción"
   ]
  },
  {
   "cell_type": "code",
   "execution_count": 4,
   "metadata": {},
   "outputs": [
    {
     "name": "stdout",
     "output_type": "stream",
     "text": [
      "Cantidad de registros por causa de defunción: \n",
      "0    35271\n",
      "1    35271\n",
      "Name: Causa_Defunción, dtype: int64\n"
     ]
    }
   ],
   "source": [
    "from imblearn.over_sampling import RandomOverSampler\n",
    "\n",
    "x = df.drop('Causa_Defunción', axis=1)\n",
    "y = df['Causa_Defunción']\n",
    "\n",
    "balance = RandomOverSampler(sampling_strategy='minority')\n",
    "x_balance, y_balance = balance.fit_resample(x, y)\n",
    "\n",
    "df = pd.concat([x_balance, y_balance], axis=1)\n",
    "\n",
    "print('Cantidad de registros por causa de defunción: ')\n",
    "print(df['Causa_Defunción'].value_counts())"
   ]
  },
  {
   "attachments": {},
   "cell_type": "markdown",
   "metadata": {},
   "source": [
    "- Separar en entrenaminto y prueba"
   ]
  },
  {
   "cell_type": "code",
   "execution_count": 5,
   "metadata": {},
   "outputs": [
    {
     "name": "stdout",
     "output_type": "stream",
     "text": [
      "Cantidad de registros:  70542\n",
      "Cantidad de registros de entrenamiento:  49379\n",
      "Cantidad de registros de prueba:  10581\n"
     ]
    },
    {
     "data": {
      "text/html": [
       "<div>\n",
       "<style scoped>\n",
       "    .dataframe tbody tr th:only-of-type {\n",
       "        vertical-align: middle;\n",
       "    }\n",
       "\n",
       "    .dataframe tbody tr th {\n",
       "        vertical-align: top;\n",
       "    }\n",
       "\n",
       "    .dataframe thead th {\n",
       "        text-align: right;\n",
       "    }\n",
       "</style>\n",
       "<table border=\"1\" class=\"dataframe\">\n",
       "  <thead>\n",
       "    <tr style=\"text-align: right;\">\n",
       "      <th></th>\n",
       "      <th>Área_Geográfica</th>\n",
       "      <th>Asistencia_Recibida</th>\n",
       "      <th>Clase_Parto</th>\n",
       "      <th>Edad_Madre</th>\n",
       "      <th>Estado_Civil_Madre</th>\n",
       "      <th>Escolaridad_Madre</th>\n",
       "      <th>Ocupación_Madre</th>\n",
       "      <th>Semanas_Gestacion</th>\n",
       "      <th>Sexo</th>\n",
       "      <th>Sitio_Ocurrencia</th>\n",
       "      <th>Tipo_Atencion</th>\n",
       "      <th>Total_Hijos_Nacidos</th>\n",
       "      <th>Total_Hijos_Nacidos_Muertos</th>\n",
       "      <th>Total_Hijos_Vivos</th>\n",
       "      <th>Via_Parto</th>\n",
       "      <th>Nacionalidad_Madre</th>\n",
       "      <th>Grupo_Etnico_Madre</th>\n",
       "      <th>Causa_Defunción</th>\n",
       "    </tr>\n",
       "  </thead>\n",
       "  <tbody>\n",
       "    <tr>\n",
       "      <th>0</th>\n",
       "      <td>99</td>\n",
       "      <td>6</td>\n",
       "      <td>1</td>\n",
       "      <td>18.0</td>\n",
       "      <td>2</td>\n",
       "      <td>99</td>\n",
       "      <td>99</td>\n",
       "      <td>34.416349</td>\n",
       "      <td>1</td>\n",
       "      <td>2</td>\n",
       "      <td>1</td>\n",
       "      <td>1.269311</td>\n",
       "      <td>2.0</td>\n",
       "      <td>1.0</td>\n",
       "      <td>99</td>\n",
       "      <td>1</td>\n",
       "      <td>4</td>\n",
       "      <td>0</td>\n",
       "    </tr>\n",
       "    <tr>\n",
       "      <th>1</th>\n",
       "      <td>99</td>\n",
       "      <td>1</td>\n",
       "      <td>1</td>\n",
       "      <td>36.0</td>\n",
       "      <td>2</td>\n",
       "      <td>99</td>\n",
       "      <td>1</td>\n",
       "      <td>34.416349</td>\n",
       "      <td>1</td>\n",
       "      <td>9</td>\n",
       "      <td>1</td>\n",
       "      <td>1.269311</td>\n",
       "      <td>3.0</td>\n",
       "      <td>2.0</td>\n",
       "      <td>99</td>\n",
       "      <td>1</td>\n",
       "      <td>4</td>\n",
       "      <td>0</td>\n",
       "    </tr>\n",
       "    <tr>\n",
       "      <th>2</th>\n",
       "      <td>99</td>\n",
       "      <td>2</td>\n",
       "      <td>1</td>\n",
       "      <td>22.0</td>\n",
       "      <td>2</td>\n",
       "      <td>99</td>\n",
       "      <td>99</td>\n",
       "      <td>34.416349</td>\n",
       "      <td>1</td>\n",
       "      <td>2</td>\n",
       "      <td>1</td>\n",
       "      <td>1.269311</td>\n",
       "      <td>3.0</td>\n",
       "      <td>2.0</td>\n",
       "      <td>99</td>\n",
       "      <td>1</td>\n",
       "      <td>4</td>\n",
       "      <td>0</td>\n",
       "    </tr>\n",
       "    <tr>\n",
       "      <th>3</th>\n",
       "      <td>99</td>\n",
       "      <td>2</td>\n",
       "      <td>1</td>\n",
       "      <td>26.0</td>\n",
       "      <td>2</td>\n",
       "      <td>99</td>\n",
       "      <td>99</td>\n",
       "      <td>34.416349</td>\n",
       "      <td>1</td>\n",
       "      <td>2</td>\n",
       "      <td>1</td>\n",
       "      <td>1.269311</td>\n",
       "      <td>0.0</td>\n",
       "      <td>0.0</td>\n",
       "      <td>99</td>\n",
       "      <td>1</td>\n",
       "      <td>4</td>\n",
       "      <td>0</td>\n",
       "    </tr>\n",
       "    <tr>\n",
       "      <th>4</th>\n",
       "      <td>99</td>\n",
       "      <td>2</td>\n",
       "      <td>1</td>\n",
       "      <td>43.0</td>\n",
       "      <td>2</td>\n",
       "      <td>99</td>\n",
       "      <td>99</td>\n",
       "      <td>34.416349</td>\n",
       "      <td>2</td>\n",
       "      <td>2</td>\n",
       "      <td>1</td>\n",
       "      <td>1.269311</td>\n",
       "      <td>10.0</td>\n",
       "      <td>6.0</td>\n",
       "      <td>99</td>\n",
       "      <td>1</td>\n",
       "      <td>4</td>\n",
       "      <td>0</td>\n",
       "    </tr>\n",
       "  </tbody>\n",
       "</table>\n",
       "</div>"
      ],
      "text/plain": [
       "   Área_Geográfica  Asistencia_Recibida  Clase_Parto  Edad_Madre  \\\n",
       "0               99                    6            1        18.0   \n",
       "1               99                    1            1        36.0   \n",
       "2               99                    2            1        22.0   \n",
       "3               99                    2            1        26.0   \n",
       "4               99                    2            1        43.0   \n",
       "\n",
       "   Estado_Civil_Madre  Escolaridad_Madre  Ocupación_Madre  Semanas_Gestacion  \\\n",
       "0                   2                 99               99          34.416349   \n",
       "1                   2                 99                1          34.416349   \n",
       "2                   2                 99               99          34.416349   \n",
       "3                   2                 99               99          34.416349   \n",
       "4                   2                 99               99          34.416349   \n",
       "\n",
       "   Sexo  Sitio_Ocurrencia  Tipo_Atencion  Total_Hijos_Nacidos  \\\n",
       "0     1                 2              1             1.269311   \n",
       "1     1                 9              1             1.269311   \n",
       "2     1                 2              1             1.269311   \n",
       "3     1                 2              1             1.269311   \n",
       "4     2                 2              1             1.269311   \n",
       "\n",
       "   Total_Hijos_Nacidos_Muertos  Total_Hijos_Vivos  Via_Parto  \\\n",
       "0                          2.0                1.0         99   \n",
       "1                          3.0                2.0         99   \n",
       "2                          3.0                2.0         99   \n",
       "3                          0.0                0.0         99   \n",
       "4                         10.0                6.0         99   \n",
       "\n",
       "   Nacionalidad_Madre  Grupo_Etnico_Madre  Causa_Defunción  \n",
       "0                   1                   4                0  \n",
       "1                   1                   4                0  \n",
       "2                   1                   4                0  \n",
       "3                   1                   4                0  \n",
       "4                   1                   4                0  "
      ]
     },
     "execution_count": 5,
     "metadata": {},
     "output_type": "execute_result"
    }
   ],
   "source": [
    "print('Cantidad de registros: ', len(df))\n",
    "\n",
    "X = df.drop(\"Causa_Defunción\", axis=1)\n",
    "Y = df[\"Causa_Defunción\"]\n",
    "\n",
    "#dividir el dataset en conjunto de entrenamiento y conjunto de testing\n",
    "X_entreno, X_prueba, y_entreno, y_prueba = train_test_split(X, Y, test_size=0.3, random_state=42)\n",
    "X_prueba, X_val, y_prueba, y_val = train_test_split(X_prueba, y_prueba, test_size=0.5, random_state=42)\n",
    "\n",
    "print('Cantidad de registros de entrenamiento: ', len(X_entreno))\n",
    "print('Cantidad de registros de prueba: ', len(X_prueba))\n",
    "\n",
    "df.head()\n",
    "\n"
   ]
  },
  {
   "attachments": {},
   "cell_type": "markdown",
   "metadata": {},
   "source": [
    "## Creación del modelo SVM"
   ]
  },
  {
   "attachments": {},
   "cell_type": "markdown",
   "metadata": {},
   "source": [
    "Se utiiza GridSearchCV para determinar que hiperparámetros son los más óptimos para el respectivo modelo."
   ]
  },
  {
   "cell_type": "code",
   "execution_count": 6,
   "metadata": {},
   "outputs": [],
   "source": [
    "from sklearn.model_selection import GridSearchCV\n",
    "from sklearn import svm\n",
    "import matplotlib.pyplot as plt\n",
    "\n",
    "params = {\n",
    "    'C': [0.1, 1, 10, 100, 1000],\n",
    "    'gamma': [1, 0.1, 0.01, 0.001, 0.0001],\n",
    "    'kernel': ['rbf', 'linear', 'sigmoid', 'poly']\n",
    "}\n",
    "\n",
    "svm_dummy = svm.SVC()\n",
    "\n",
    "# smaller sample size for grid search, since it is an exhaustive process and it takes a lot of time\n",
    "X_entreno_sample = X_entreno.sample(frac=0.001, random_state=100)\n",
    "y_entreno_sample = y_entreno.sample(frac=0.001, random_state=100)\n",
    "\n",
    "svm_grid = GridSearchCV(svm_dummy, params, n_jobs=-1, verbose=2, cv=3)"
   ]
  },
  {
   "cell_type": "code",
   "execution_count": 7,
   "metadata": {},
   "outputs": [
    {
     "name": "stdout",
     "output_type": "stream",
     "text": [
      "Fitting 3 folds for each of 100 candidates, totalling 300 fits\n",
      "[CV] END .........................C=0.1, gamma=1, kernel=rbf; total time=   0.0s\n",
      "[CV] END .........................C=0.1, gamma=1, kernel=rbf; total time=   0.0s\n",
      "[CV] END ......................C=0.1, gamma=1, kernel=linear; total time=   0.0s\n",
      "[CV] END .....................C=0.1, gamma=1, kernel=sigmoid; total time=   0.0s\n",
      "[CV] END .........................C=0.1, gamma=1, kernel=rbf; total time=   0.0s\n",
      "[CV] END ......................C=0.1, gamma=1, kernel=linear; total time=   0.0s\n",
      "[CV] END ......................C=0.1, gamma=1, kernel=linear; total time=   0.0s\n",
      "[CV] END ........................C=0.1, gamma=1, kernel=poly; total time=   0.0s\n",
      "[CV] END .....................C=0.1, gamma=1, kernel=sigmoid; total time=   0.0s\n",
      "[CV] END ........................C=0.1, gamma=1, kernel=poly; total time=   0.0s\n",
      "[CV] END .....................C=0.1, gamma=1, kernel=sigmoid; total time=   0.0s\n",
      "[CV] END .......................C=0.1, gamma=0.1, kernel=rbf; total time=   0.0s\n",
      "[CV] END ........................C=0.1, gamma=1, kernel=poly; total time=   0.0s\n",
      "[CV] END ....................C=0.1, gamma=0.1, kernel=linear; total time=   0.0s\n",
      "[CV] END .......................C=0.1, gamma=0.1, kernel=rbf; total time=   0.0s\n",
      "[CV] END .......................C=0.1, gamma=0.1, kernel=rbf; total time=   0.0s\n",
      "[CV] END ....................C=0.1, gamma=0.1, kernel=linear; total time=   0.0s\n",
      "[CV] END ...................C=0.1, gamma=0.1, kernel=sigmoid; total time=   0.0s\n",
      "[CV] END ...................C=0.1, gamma=0.1, kernel=sigmoid; total time=   0.0s\n",
      "[CV] END ....................C=0.1, gamma=0.1, kernel=linear; total time=   0.0s\n",
      "[CV] END ...................C=0.1, gamma=0.1, kernel=sigmoid; total time=   0.0s\n",
      "[CV] END ......................C=0.1, gamma=0.1, kernel=poly; total time=   0.0s\n",
      "[CV] END ......................C=0.1, gamma=0.1, kernel=poly; total time=   0.0s\n",
      "[CV] END ......................C=0.1, gamma=0.01, kernel=rbf; total time=   0.0s\n",
      "[CV] END ......................C=0.1, gamma=0.01, kernel=rbf; total time=   0.0s\n",
      "[CV] END ......................C=0.1, gamma=0.01, kernel=rbf; total time=   0.0s\n",
      "[CV] END ...................C=0.1, gamma=0.01, kernel=linear; total time=   0.0s\n",
      "[CV] END ...................C=0.1, gamma=0.01, kernel=linear; total time=   0.0s\n",
      "[CV] END ...................C=0.1, gamma=0.01, kernel=linear; total time=   0.0s\n",
      "[CV] END ......................C=0.1, gamma=0.1, kernel=poly; total time=   0.0s\n",
      "[CV] END ..................C=0.1, gamma=0.01, kernel=sigmoid; total time=   0.0s\n",
      "[CV] END .....................C=0.1, gamma=0.01, kernel=poly; total time=   0.0s\n",
      "[CV] END ..................C=0.1, gamma=0.01, kernel=sigmoid; total time=   0.0s\n",
      "[CV] END .....................C=0.1, gamma=0.01, kernel=poly; total time=   0.0s\n",
      "[CV] END .....................C=0.1, gamma=0.001, kernel=rbf; total time=   0.0s\n",
      "[CV] END ..................C=0.1, gamma=0.01, kernel=sigmoid; total time=   0.0s\n",
      "[CV] END .....................C=0.1, gamma=0.01, kernel=poly; total time=   0.0s\n",
      "[CV] END .....................C=0.1, gamma=0.001, kernel=rbf; total time=   0.0s\n",
      "[CV] END ..................C=0.1, gamma=0.001, kernel=linear; total time=   0.0s\n",
      "[CV] END .....................C=0.1, gamma=0.001, kernel=rbf; total time=   0.0s\n",
      "[CV] END .................C=0.1, gamma=0.001, kernel=sigmoid; total time=   0.0s\n",
      "[CV] END ..................C=0.1, gamma=0.001, kernel=linear; total time=   0.0s\n",
      "[CV] END ..................C=0.1, gamma=0.001, kernel=linear; total time=   0.0s\n",
      "[CV] END .................C=0.1, gamma=0.001, kernel=sigmoid; total time=   0.0s\n",
      "[CV] END .................C=0.1, gamma=0.001, kernel=sigmoid; total time=   0.0s\n",
      "[CV] END ....................C=0.1, gamma=0.001, kernel=poly; total time=   0.0s\n",
      "[CV] END ....................C=0.1, gamma=0.001, kernel=poly; total time=   0.0s\n",
      "[CV] END .................C=0.1, gamma=0.0001, kernel=linear; total time=   0.0s\n",
      "[CV] END ................C=0.1, gamma=0.0001, kernel=sigmoid; total time=   0.0s\n",
      "[CV] END ....................C=0.1, gamma=0.0001, kernel=rbf; total time=   0.0s\n",
      "[CV] END ....................C=0.1, gamma=0.0001, kernel=rbf; total time=   0.0s\n",
      "[CV] END ...................C=0.1, gamma=0.0001, kernel=poly; total time=   0.0s\n",
      "[CV] END ....................C=0.1, gamma=0.001, kernel=poly; total time=   0.0s\n",
      "[CV] END ...........................C=1, gamma=1, kernel=rbf; total time=   0.0s\n",
      "[CV] END ................C=0.1, gamma=0.0001, kernel=sigmoid; total time=   0.0s\n",
      "[CV] END .................C=0.1, gamma=0.0001, kernel=linear; total time=   0.0s\n",
      "[CV] END ...........................C=1, gamma=1, kernel=rbf; total time=   0.0s\n",
      "[CV] END .................C=0.1, gamma=0.0001, kernel=linear; total time=   0.0s\n",
      "[CV] END ................C=0.1, gamma=0.0001, kernel=sigmoid; total time=   0.0s\n",
      "[CV] END ....................C=0.1, gamma=0.0001, kernel=rbf; total time=   0.0s\n",
      "[CV] END ...................C=0.1, gamma=0.0001, kernel=poly; total time=   0.0s\n",
      "[CV] END ...........................C=1, gamma=1, kernel=rbf; total time=   0.0s\n",
      "[CV] END ...................C=0.1, gamma=0.0001, kernel=poly; total time=   0.0s\n",
      "[CV] END .......................C=1, gamma=1, kernel=sigmoid; total time=   0.0s\n",
      "[CV] END ........................C=1, gamma=1, kernel=linear; total time=   0.0s\n",
      "[CV] END ........................C=1, gamma=1, kernel=linear; total time=   0.0s\n",
      "[CV] END .......................C=1, gamma=1, kernel=sigmoid; total time=   0.0s\n",
      "[CV] END ..........................C=1, gamma=1, kernel=poly; total time=   0.0s\n",
      "[CV] END .........................C=1, gamma=0.1, kernel=rbf; total time=   0.0s\n",
      "[CV] END .....................C=1, gamma=0.1, kernel=sigmoid; total time=   0.0s\n",
      "[CV] END .......................C=1, gamma=1, kernel=sigmoid; total time=   0.0s\n",
      "[CV] END .........................C=1, gamma=0.1, kernel=rbf; total time=   0.0s\n",
      "[CV] END .....................C=1, gamma=0.1, kernel=sigmoid; total time=   0.0s\n",
      "[CV] END ......................C=1, gamma=0.1, kernel=linear; total time=   0.0s\n",
      "[CV] END ........................C=1, gamma=1, kernel=linear; total time=   0.0s\n",
      "[CV] END ......................C=1, gamma=0.1, kernel=linear; total time=   0.0s\n",
      "[CV] END .........................C=1, gamma=0.1, kernel=rbf; total time=   0.0s\n",
      "[CV] END .....................C=1, gamma=0.1, kernel=sigmoid; total time=   0.0s\n",
      "[CV] END ..........................C=1, gamma=1, kernel=poly; total time=   0.0s\n",
      "[CV] END ..........................C=1, gamma=1, kernel=poly; total time=   0.0s\n",
      "[CV] END ......................C=1, gamma=0.1, kernel=linear; total time=   0.0s\n",
      "[CV] END ....................C=1, gamma=0.01, kernel=sigmoid; total time=   0.0s\n",
      "[CV] END ........................C=1, gamma=0.1, kernel=poly; total time=   0.0s\n",
      "[CV] END ...................C=1, gamma=0.001, kernel=sigmoid; total time=   0.0s\n",
      "[CV] END .......................C=1, gamma=0.001, kernel=rbf; total time=   0.0s\n",
      "[CV] END ....................C=1, gamma=0.001, kernel=linear; total time=   0.0s\n",
      "[CV] END ........................C=1, gamma=0.01, kernel=rbf; total time=   0.0s\n",
      "[CV] END .....................C=1, gamma=0.01, kernel=linear; total time=   0.0s\n",
      "[CV] END ......................C=1, gamma=0.0001, kernel=rbf; total time=   0.0s\n",
      "[CV] END ......................C=1, gamma=0.001, kernel=poly; total time=   0.0s\n",
      "[CV] END .......................C=1, gamma=0.001, kernel=rbf; total time=   0.0s\n",
      "[CV] END .......................C=1, gamma=0.01, kernel=poly; total time=   0.0s\n",
      "[CV] END ........................C=1, gamma=0.01, kernel=rbf; total time=   0.0s\n",
      "[CV] END ........................C=1, gamma=0.1, kernel=poly; total time=   0.0s\n",
      "[CV] END .....................C=1, gamma=0.01, kernel=linear; total time=   0.0s\n",
      "[CV] END ....................C=1, gamma=0.001, kernel=linear; total time=   0.0s\n",
      "[CV] END ......................C=1, gamma=0.0001, kernel=rbf; total time=   0.0s\n",
      "[CV] END ....................C=1, gamma=0.01, kernel=sigmoid; total time=   0.0s\n",
      "[CV] END ......................C=1, gamma=0.001, kernel=poly; total time=   0.0s\n",
      "[CV] END ......................C=1, gamma=0.0001, kernel=rbf; total time=   0.0s\n",
      "[CV] END .......................C=1, gamma=0.01, kernel=poly; total time=   0.0s\n",
      "[CV] END .......................C=1, gamma=0.001, kernel=rbf; total time=   0.0s\n",
      "[CV] END ........................C=1, gamma=0.1, kernel=poly; total time=   0.0s\n",
      "[CV] END ........................C=1, gamma=0.01, kernel=rbf; total time=   0.0s\n",
      "[CV] END ...................C=1, gamma=0.0001, kernel=linear; total time=   0.0s\n",
      "[CV] END ....................C=1, gamma=0.01, kernel=sigmoid; total time=   0.0s\n",
      "[CV] END ...................C=1, gamma=0.001, kernel=sigmoid; total time=   0.0s\n",
      "[CV] END ....................C=1, gamma=0.001, kernel=linear; total time=   0.0s\n",
      "[CV] END ......................C=1, gamma=0.001, kernel=poly; total time=   0.0s\n",
      "[CV] END .....................C=1, gamma=0.01, kernel=linear; total time=   0.0s\n",
      "[CV] END ...................C=1, gamma=0.0001, kernel=linear; total time=   0.0s\n",
      "[CV] END ..................C=1, gamma=0.0001, kernel=sigmoid; total time=   0.0s\n",
      "[CV] END ...................C=1, gamma=0.001, kernel=sigmoid; total time=   0.0s\n",
      "[CV] END ..........................C=10, gamma=1, kernel=rbf; total time=   0.0s\n",
      "[CV] END ........................C=10, gamma=0.1, kernel=rbf; total time=   0.0s\n",
      "[CV] END .......................C=1, gamma=0.01, kernel=poly; total time=   0.0s\n",
      "[CV] END ...................C=1, gamma=0.0001, kernel=linear; total time=   0.0s\n",
      "[CV] END ......................C=10, gamma=1, kernel=sigmoid; total time=   0.0s\n",
      "[CV] END .....................C=1, gamma=0.0001, kernel=poly; total time=   0.0s\n",
      "[CV] END ........................C=10, gamma=0.1, kernel=rbf; total time=   0.0s\n",
      "[CV] END ..........................C=10, gamma=1, kernel=rbf; total time=   0.0s\n",
      "[CV] END .........................C=10, gamma=1, kernel=poly; total time=   0.0s\n",
      "[CV] END .......................C=10, gamma=1, kernel=linear; total time=   0.1s\n",
      "[CV] END ....................C=10, gamma=0.1, kernel=sigmoid; total time=   0.0s\n",
      "[CV] END .....................C=10, gamma=0.1, kernel=linear; total time=   0.0s\n",
      "[CV] END ..........................C=10, gamma=1, kernel=rbf; total time=   0.0s\n",
      "[CV] END ..................C=1, gamma=0.0001, kernel=sigmoid; total time=   0.1s\n",
      "[CV] END .....................C=1, gamma=0.0001, kernel=poly; total time=   0.0s\n",
      "[CV] END .......................C=10, gamma=0.1, kernel=poly; total time=   0.0s\n",
      "[CV] END .......................C=10, gamma=1, kernel=linear; total time=   0.0s\n",
      "[CV] END .........................C=10, gamma=1, kernel=poly; total time=   0.1s\n",
      "[CV] END ......................C=10, gamma=1, kernel=sigmoid; total time=   0.0s\n",
      "[CV] END ......................C=10, gamma=1, kernel=sigmoid; total time=   0.0s\n",
      "[CV] END .......................C=10, gamma=0.01, kernel=rbf; total time=   0.0s\n",
      "[CV] END ........................C=10, gamma=0.1, kernel=rbf; total time=   0.1s\n",
      "[CV] END ..................C=1, gamma=0.0001, kernel=sigmoid; total time=   0.1s\n",
      "[CV] END .......................C=10, gamma=1, kernel=linear; total time=   0.1s\n",
      "[CV] END ...................C=10, gamma=0.01, kernel=sigmoid; total time=   0.0s\n",
      "[CV] END .....................C=1, gamma=0.0001, kernel=poly; total time=   0.1s\n",
      "[CV] END .......................C=10, gamma=0.1, kernel=poly; total time=   0.0s\n",
      "[CV] END .....................C=10, gamma=0.1, kernel=linear; total time=   0.1s\n",
      "[CV] END .....................C=10, gamma=0.1, kernel=linear; total time=   0.0s\n",
      "[CV] END .........................C=10, gamma=1, kernel=poly; total time=   0.1s\n",
      "[CV] END .......................C=10, gamma=0.1, kernel=poly; total time=   0.0s\n",
      "[CV] END ....................C=10, gamma=0.1, kernel=sigmoid; total time=   0.0s\n",
      "[CV] END .......................C=100, gamma=0.1, kernel=rbf; total time=   0.0s[CV] END .....................C=10, gamma=0.0001, kernel=rbf; total time=   0.0s[CV] END .................C=10, gamma=0.0001, kernel=sigmoid; total time=   0.0s\n",
      "\n",
      "[CV] END .......................C=10, gamma=0.01, kernel=rbf; total time=   0.1s\n",
      "[CV] END ....................C=10, gamma=0.1, kernel=sigmoid; total time=   0.0s\n",
      "[CV] END ......................C=10, gamma=0.01, kernel=poly; total time=   0.1s\n",
      "[CV] END .....................C=10, gamma=0.0001, kernel=rbf; total time=   0.0s\n",
      "[CV] END ....................C=10, gamma=0.0001, kernel=poly; total time=   0.0s\n",
      "[CV] END .......................C=10, gamma=0.01, kernel=rbf; total time=   0.0s\n",
      "[CV] END ...................C=10, gamma=0.001, kernel=linear; total time=   0.1s\n",
      "[CV] END .....................C=10, gamma=0.0001, kernel=rbf; total time=   0.0s\n",
      "[CV] END ......................C=10, gamma=0.01, kernel=poly; total time=   0.0s\n",
      "[CV] END ...................C=100, gamma=0.1, kernel=sigmoid; total time=   0.0s\n",
      "[CV] END ....................C=10, gamma=0.0001, kernel=poly; total time=   0.0s\n",
      "[CV] END ....................C=10, gamma=0.01, kernel=linear; total time=   0.0s\n",
      "\n",
      "[CV] END ....................C=10, gamma=0.0001, kernel=poly; total time=   0.0s\n",
      "[CV] END ......................C=100, gamma=0.1, kernel=poly; total time=   0.0s\n",
      "[CV] END .......................C=100, gamma=0.1, kernel=rbf; total time=   0.0s\n",
      "[CV] END ..................C=10, gamma=0.0001, kernel=linear; total time=   0.0s\n",
      "[CV] END ...................C=10, gamma=0.001, kernel=linear; total time=   0.0s\n",
      "[CV] END ......................C=10, gamma=0.01, kernel=poly; total time=   0.0s\n",
      "[CV] END .........................C=100, gamma=1, kernel=rbf; total time=   0.0s\n",
      "[CV] END ..................C=10, gamma=0.001, kernel=sigmoid; total time=   0.0s\n",
      "[CV] END ......................C=100, gamma=0.1, kernel=poly; total time=   0.0s\n",
      "[CV] END .......................C=100, gamma=0.1, kernel=rbf; total time=   0.0s\n",
      "[CV] END ......................C=10, gamma=0.001, kernel=rbf; total time=   0.0s\n",
      "[CV] END ..................C=10, gamma=0.001, kernel=sigmoid; total time=   0.0s\n",
      "[CV] END ....................C=10, gamma=0.01, kernel=linear; total time=   0.0s\n",
      "[CV] END .........................C=100, gamma=1, kernel=rbf; total time=   0.0s\n",
      "[CV] END ..................C=10, gamma=0.0001, kernel=linear; total time=   0.0s\n",
      "[CV] END ....................C=100, gamma=0.1, kernel=linear; total time=   0.0s\n",
      "[CV] END .........................C=100, gamma=1, kernel=rbf; total time=   0.0s\n",
      "[CV] END ....................C=10, gamma=0.01, kernel=linear; total time=   0.0s\n",
      "[CV] END ..................C=10, gamma=0.001, kernel=sigmoid; total time=   0.0s\n",
      "[CV] END ......................C=10, gamma=0.001, kernel=rbf; total time=   0.0s\n",
      "[CV] END ......................C=100, gamma=0.1, kernel=poly; total time=   0.0s\n",
      "[CV] END .....................C=10, gamma=0.001, kernel=poly; total time=   0.0s\n",
      "[CV] END ......................C=100, gamma=0.01, kernel=rbf; total time=   0.0s\n",
      "[CV] END ......................C=10, gamma=0.001, kernel=rbf; total time=   0.0s\n",
      "[CV] END ......................C=100, gamma=1, kernel=linear; total time=   0.2s\n",
      "[CV] END ..................C=10, gamma=0.0001, kernel=linear; total time=   0.0s\n",
      "[CV] END .....................C=10, gamma=0.001, kernel=poly; total time=   0.0s\n",
      "[CV] END ...................C=10, gamma=0.01, kernel=sigmoid; total time=   0.0s\n",
      "[CV] END ......................C=100, gamma=1, kernel=linear; total time=   0.0s\n",
      "[CV] END ...................C=10, gamma=0.001, kernel=linear; total time=   0.0s\n",
      "[CV] END ......................C=100, gamma=0.01, kernel=rbf; total time=   0.0s\n",
      "[CV] END .................C=10, gamma=0.0001, kernel=sigmoid; total time=   0.0s\n",
      "[CV] END ...................C=10, gamma=0.01, kernel=sigmoid; total time=   0.0s\n",
      "[CV] END ......................C=100, gamma=0.01, kernel=rbf; total time=   0.0s\n",
      "[CV] END .................C=10, gamma=0.0001, kernel=sigmoid; total time=   0.0s\n",
      "[CV] END .....................C=10, gamma=0.001, kernel=poly; total time=   0.1s\n",
      "[CV] END .....................C=100, gamma=0.001, kernel=rbf; total time=   0.0s\n",
      "[CV] END .................C=100, gamma=0.001, kernel=sigmoid; total time=   0.0s\n",
      "[CV] END .....................C=100, gamma=0.001, kernel=rbf; total time=   0.0s\n",
      "[CV] END ....................C=100, gamma=0.001, kernel=poly; total time=   0.0s\n",
      "[CV] END ........................C=1000, gamma=1, kernel=rbf; total time=   0.0s\n",
      "[CV] END ...................C=100, gamma=0.01, kernel=linear; total time=   0.1s\n",
      "[CV] END .....................C=100, gamma=0.001, kernel=rbf; total time=   0.0s\n",
      "[CV] END ........................C=1000, gamma=1, kernel=rbf; total time=   0.0s\n",
      "[CV] END ....................C=1000, gamma=1, kernel=sigmoid; total time=   0.0s\n",
      "[CV] END ....................C=100, gamma=0.001, kernel=poly; total time=   0.0s\n",
      "[CV] END ........................C=1000, gamma=1, kernel=rbf; total time=   0.0s\n",
      "[CV] END ..................C=100, gamma=0.001, kernel=linear; total time=   0.0s\n",
      "[CV] END ....................C=100, gamma=0.1, kernel=linear; total time=   0.1s\n",
      "[CV] END .......................C=1000, gamma=1, kernel=poly; total time=   0.0s\n",
      "[CV] END .......................C=1000, gamma=1, kernel=poly; total time=   0.0s[CV] END ....................C=100, gamma=0.001, kernel=poly; total time=   0.0s\n",
      "\n",
      "[CV] END .....................C=1000, gamma=1, kernel=linear; total time=   0.0s\n",
      "[CV] END ....................C=100, gamma=0.0001, kernel=rbf; total time=   0.0s\n",
      "[CV] END ...................C=100, gamma=0.01, kernel=linear; total time=   0.1s\n",
      "[CV] END .......................C=1000, gamma=1, kernel=poly; total time=   0.0s\n",
      "[CV] END ....................C=100, gamma=0.0001, kernel=rbf; total time=   0.0s\n",
      "[CV] END ....................C=100, gamma=0.0001, kernel=rbf; total time=   0.0s\n",
      "[CV] END ......................C=1000, gamma=0.1, kernel=rbf; total time=   0.0s\n",
      "[CV] END .................C=100, gamma=0.0001, kernel=linear; total time=   0.1s\n",
      "[CV] END ......................C=1000, gamma=0.1, kernel=rbf; total time=   0.0s\n",
      "[CV] END .................C=100, gamma=0.0001, kernel=linear; total time=   0.1s\n",
      "[CV] END ......................C=1000, gamma=0.1, kernel=rbf; total time=   0.0s\n",
      "[CV] END ...................C=1000, gamma=0.1, kernel=linear; total time=   0.0s\n",
      "[CV] END ..................C=100, gamma=0.001, kernel=linear; total time=   0.2s\n",
      "[CV] END .....................C=1000, gamma=0.01, kernel=rbf; total time=   0.0s\n",
      "[CV] END .....................C=1000, gamma=0.01, kernel=rbf; total time=   0.0s\n",
      "[CV] END .....................C=1000, gamma=0.01, kernel=rbf; total time=   0.0s\n",
      "[CV] END ......................C=100, gamma=1, kernel=linear; total time=   0.3s\n",
      "[CV] END .....................C=100, gamma=1, kernel=sigmoid; total time=   0.0s\n",
      "[CV] END ..................C=1000, gamma=0.01, kernel=linear; total time=   0.0s\n",
      "[CV] END .....................C=100, gamma=1, kernel=sigmoid; total time=   0.0s\n",
      "[CV] END .....................C=100, gamma=1, kernel=sigmoid; total time=   0.0s\n",
      "[CV] END ........................C=100, gamma=1, kernel=poly; total time=   0.0s\n",
      "[CV] END ....................C=100, gamma=0.1, kernel=linear; total time=   0.3s\n",
      "[CV] END ........................C=100, gamma=1, kernel=poly; total time=   0.0s\n",
      "[CV] END ...................C=100, gamma=0.1, kernel=sigmoid; total time=   0.0s\n",
      "[CV] END ........................C=100, gamma=1, kernel=poly; total time=   0.0s\n",
      "[CV] END ...................C=100, gamma=0.1, kernel=sigmoid; total time=   0.0s\n",
      "[CV] END .................C=1000, gamma=0.01, kernel=sigmoid; total time=   0.0s\n",
      "[CV] END ...................C=100, gamma=0.01, kernel=linear; total time=   0.3s\n",
      "[CV] END ....................C=1000, gamma=0.01, kernel=poly; total time=   0.0s\n",
      "[CV] END .................C=100, gamma=0.0001, kernel=linear; total time=   0.3s\n",
      "[CV] END ....................C=1000, gamma=0.01, kernel=poly; total time=   0.0s\n",
      "[CV] END ..................C=100, gamma=0.01, kernel=sigmoid; total time=   0.0s\n",
      "[CV] END ................C=100, gamma=0.0001, kernel=sigmoid; total time=   0.0s\n",
      "[CV] END ..................C=100, gamma=0.01, kernel=sigmoid; total time=   0.0s\n",
      "[CV] END ....................C=1000, gamma=0.001, kernel=rbf; total time=   0.0s\n",
      "[CV] END ....................C=1000, gamma=0.01, kernel=poly; total time=   0.0s\n",
      "[CV] END ..................C=100, gamma=0.01, kernel=sigmoid; total time=   0.0s\n",
      "[CV] END ................C=100, gamma=0.0001, kernel=sigmoid; total time=   0.0s\n",
      "[CV] END .....................C=100, gamma=0.01, kernel=poly; total time=   0.0s\n",
      "[CV] END ....................C=1000, gamma=0.001, kernel=rbf; total time=   0.0s\n",
      "[CV] END ....................C=1000, gamma=0.001, kernel=rbf; total time=   0.0s\n",
      "[CV] END ................C=100, gamma=0.0001, kernel=sigmoid; total time=   0.0s\n",
      "[CV] END .....................C=100, gamma=0.01, kernel=poly; total time=   0.0s\n",
      "[CV] END ..................C=100, gamma=0.001, kernel=linear; total time=   0.2s\n",
      "[CV] END ...................C=100, gamma=0.0001, kernel=poly; total time=   0.0s\n",
      "[CV] END .................C=1000, gamma=0.001, kernel=linear; total time=   0.0s\n",
      "[CV] END .................C=100, gamma=0.001, kernel=sigmoid; total time=   0.0s\n",
      "[CV] END ...................C=100, gamma=0.0001, kernel=poly; total time=   0.0s\n",
      "[CV] END .................C=100, gamma=0.001, kernel=sigmoid; total time=   0.0s\n",
      "[CV] END ...................C=100, gamma=0.0001, kernel=poly; total time=   0.0s\n",
      "[CV] END .....................C=100, gamma=0.01, kernel=poly; total time=   0.0s\n",
      "[CV] END ................C=1000, gamma=0.001, kernel=sigmoid; total time=   0.0s\n",
      "[CV] END ................C=1000, gamma=0.001, kernel=sigmoid; total time=   0.0s\n",
      "[CV] END ...................C=1000, gamma=0.001, kernel=poly; total time=   0.0s\n",
      "[CV] END ................C=1000, gamma=0.001, kernel=sigmoid; total time=   0.0s\n",
      "[CV] END ...................C=1000, gamma=0.001, kernel=poly; total time=   0.0s\n",
      "[CV] END ...................C=1000, gamma=0.0001, kernel=rbf; total time=   0.0s\n",
      "[CV] END ...................C=1000, gamma=0.0001, kernel=rbf; total time=   0.0s\n",
      "[CV] END ...................C=1000, gamma=0.0001, kernel=rbf; total time=   0.0s\n",
      "[CV] END ...................C=1000, gamma=0.001, kernel=poly; total time=   0.0s\n",
      "[CV] END ................C=1000, gamma=0.0001, kernel=linear; total time=   0.0s\n",
      "[CV] END ...............C=1000, gamma=0.0001, kernel=sigmoid; total time=   0.0s\n",
      "[CV] END ...............C=1000, gamma=0.0001, kernel=sigmoid; total time=   0.0s\n",
      "[CV] END ...............C=1000, gamma=0.0001, kernel=sigmoid; total time=   0.0s\n",
      "[CV] END ..................C=1000, gamma=0.0001, kernel=poly; total time=   0.0s\n",
      "[CV] END ..................C=1000, gamma=0.0001, kernel=poly; total time=   0.0s\n",
      "[CV] END ..................C=1000, gamma=0.0001, kernel=poly; total time=   0.0s\n",
      "[CV] END .....................C=1000, gamma=1, kernel=linear; total time=   0.7s\n",
      "[CV] END ...................C=1000, gamma=0.1, kernel=linear; total time=   0.7s\n",
      "[CV] END ..................C=1000, gamma=0.01, kernel=linear; total time=   0.7s\n",
      "[CV] END .................C=1000, gamma=0.001, kernel=linear; total time=   0.6s\n",
      "[CV] END ................C=1000, gamma=0.0001, kernel=linear; total time=   0.6s\n",
      "[CV] END .................C=1000, gamma=0.001, kernel=linear; total time=   1.1s\n",
      "[CV] END ................C=1000, gamma=0.0001, kernel=linear; total time=   1.0s\n",
      "[CV] END .....................C=1000, gamma=1, kernel=linear; total time=   0.9s\n",
      "[CV] END ....................C=1000, gamma=1, kernel=sigmoid; total time=   0.0s\n",
      "[CV] END ....................C=1000, gamma=1, kernel=sigmoid; total time=   0.0s\n",
      "[CV] END ...................C=1000, gamma=0.1, kernel=linear; total time=   0.9s\n",
      "[CV] END ..................C=1000, gamma=0.1, kernel=sigmoid; total time=   0.0s\n",
      "[CV] END ..................C=1000, gamma=0.1, kernel=sigmoid; total time=   0.0s\n",
      "[CV] END ..................C=1000, gamma=0.1, kernel=sigmoid; total time=   0.0s\n",
      "[CV] END .....................C=1000, gamma=0.1, kernel=poly; total time=   0.0s\n",
      "[CV] END .....................C=1000, gamma=0.1, kernel=poly; total time=   0.0s\n",
      "[CV] END .....................C=1000, gamma=0.1, kernel=poly; total time=   0.0s\n",
      "[CV] END ..................C=1000, gamma=0.01, kernel=linear; total time=   0.9s\n",
      "[CV] END .................C=1000, gamma=0.01, kernel=sigmoid; total time=   0.0s\n",
      "[CV] END .................C=1000, gamma=0.01, kernel=sigmoid; total time=   0.0s\n",
      "Grid search results:\n",
      "---------------------\n",
      "{'C': 1, 'gamma': 1, 'kernel': 'linear'}\n"
     ]
    }
   ],
   "source": [
    "svm_grid.fit(X_entreno_sample, y_entreno_sample) \n",
    "\n",
    "import matplotlib.pyplot as plt\n",
    "from mpl_toolkits.mplot3d import Axes3D\n",
    "\n",
    "print(\"Grid search results:\")\n",
    "print(\"---------------------\")\n",
    "results = svm_grid.cv_results_\n",
    "print(svm_grid.best_params_)"
   ]
  },
  {
   "cell_type": "code",
   "execution_count": 8,
   "metadata": {},
   "outputs": [
    {
     "data": {
      "image/png": "[encoded data removed]",
      "text/plain": [
       "<Figure size 640x480 with 1 Axes>"
      ]
     },
     "metadata": {},
     "output_type": "display_data"
    },
    {
     "name": "stdout",
     "output_type": "stream",
     "text": [
      "Best parameters set found on development set:\n",
      "{'C': 1, 'gamma': 1, 'kernel': 'linear'}\n"
     ]
    }
   ],
   "source": [
    "mean_scores = results[\"mean_test_score\"]\n",
    "params = results[\"params\"]\n",
    "\n",
    "# Extract parameter values for each parameter\n",
    "param_C = [param['C'] for param in params]\n",
    "param_gamma = [param['gamma'] for param in params]\n",
    "param_kernel = [param['kernel'] for param in params]\n",
    "\n",
    "fig = plt.figure()\n",
    "ax = fig.add_subplot(111, projection='3d')\n",
    "\n",
    "# Mapping kernel names to integer values\n",
    "kernel_map = {'linear': 0, 'poly': 1, 'rbf': 2, 'sigmoid': 3}\n",
    "kernel_colors = [kernel_map[kernel] for kernel in param_kernel]\n",
    "\n",
    "# Plotting the mean scores with color-coded markers based on kernel\n",
    "scatter = ax.scatter(param_C, param_gamma, mean_scores, c=kernel_colors, cmap='viridis')\n",
    "\n",
    "ax.set_xlabel('C')\n",
    "ax.set_ylabel('Gamma')\n",
    "ax.set_zlabel('Mean Score')\n",
    "ax.set_title('Grid Search Results')\n",
    "ax.legend(handles=scatter.legend_elements()[0], labels=kernel_map.keys(), title='Kernel')\n",
    "\n",
    "plt.show()\n",
    "\n",
    "print(\"Best parameters set found on development set:\")\n",
    "print(svm_grid.best_params_)\n"
   ]
  },
  {
   "attachments": {},
   "cell_type": "markdown",
   "metadata": {},
   "source": [
    "* _Debido al gran tamaño del dataset y de la alta complejidad de ejeución del gridsearch, se decidió realizar el gridsearch en una muestra del 0.5% del dataset original._\n",
    "* _Existen múltiples hiper-parámetros que alcanzan el mismo score, por lo que se decidió escoger los que menos tiempo de ejecución requirieran._"
   ]
  },
  {
   "cell_type": "code",
   "execution_count": 9,
   "metadata": {},
   "outputs": [
    {
     "name": "stdout",
     "output_type": "stream",
     "text": [
      "Accuracy: 0.5772611284377658\n",
      "Recall: 0.5772611284377658\n"
     ]
    }
   ],
   "source": [
    "from sklearn.metrics import accuracy_score , recall_score, precision_score, f1_score\n",
    "\n",
    "# Crear el clasificador SVM\n",
    "clf = svm.SVC(kernel='linear')  # Puedes ajustar el kernel según tus necesidades (lineal, polinómico, RBF, etc.)\n",
    "\n",
    "# Entrenar el modelo utilizando los datos de entrenamiento\n",
    "clf.fit(X_entreno, y_entreno)\n",
    "\n",
    "# Realizar predicciones en el conjunto de prueba\n",
    "predicciones = clf.predict(X_prueba)\n",
    "\n",
    "# Calcular el accuracy\n",
    "accuracy = accuracy_score(y_prueba, predicciones)\n",
    "\n",
    "# Mostrar el accuracy\n",
    "print(\"Accuracy:\", accuracy)\n",
    "print(\"Recall:\", recall_score(y_prueba, predicciones, average='weighted'))\n",
    "#print(\"Precision:\", precision_score(y_prueba, predicciones, average='weighted'))\n",
    "#print(\"F1:\", f1_score(y_prueba, predicciones, average='weighted'))"
   ]
  },
  {
   "cell_type": "code",
   "execution_count": 10,
   "metadata": {},
   "outputs": [
    {
     "name": "stdout",
     "output_type": "stream",
     "text": [
      "Accuracy: 0.9665438049333711\n",
      "Recall: 0.9665438049333711\n",
      "Precision: 0.9675284559414634\n",
      "F1: 0.9665384257364342\n"
     ]
    }
   ],
   "source": [
    "# Se utilizan los hipérparámetros obtenidos en la búsqueda de grilla\n",
    "clf = svm.SVC(kernel='rbf', C=1, gamma=0.1)  \n",
    "\n",
    "# Entrenar el modelo utilizando los datos de entrenamiento\n",
    "clf.fit(X_entreno, y_entreno)\n",
    "\n",
    "# Realizar predicciones en el conjunto de prueba\n",
    "predicciones = clf.predict(X_prueba)\n",
    "\n",
    "# Calcular el accuracy\n",
    "accuracy = accuracy_score(y_prueba, predicciones)\n",
    "\n",
    "# Mostrar el accuracy\n",
    "print(\"Accuracy:\", accuracy)\n",
    "print(\"Recall:\", recall_score(y_prueba, predicciones, average='weighted'))\n",
    "print(\"Precision:\", precision_score(y_prueba, predicciones, average='weighted'))\n",
    "print(\"F1:\", f1_score(y_prueba, predicciones, average='weighted'))"
   ]
  },
  {
   "cell_type": "code",
   "execution_count": 11,
   "metadata": {},
   "outputs": [
    {
     "name": "stdout",
     "output_type": "stream",
     "text": [
      "Confusion Matrix:\n",
      "[[5076  297]\n",
      " [  57 5151]]\n"
     ]
    }
   ],
   "source": [
    "from sklearn.metrics import confusion_matrix\n",
    "confusion_mat = confusion_matrix(y_prueba, predicciones)\n",
    "\n",
    "print(\"Confusion Matrix:\")\n",
    "print(confusion_mat)"
   ]
  },
  {
   "attachments": {},
   "cell_type": "markdown",
   "metadata": {},
   "source": [
    "* _Podemos apreciar que el cambio a los hiperparámetros representa un gran cambio en el score del modelo, por lo que se confirma que los hiperparámetros escogidos son los más óptimos; el accuracy y el recall están por encima del 0.93, lo cual es un buen resultado._"
   ]
  },
  {
   "attachments": {},
   "cell_type": "markdown",
   "metadata": {},
   "source": [
    "## Impacto de las diferentes variables en el rendimiento del modelo"
   ]
  },
  {
   "attachments": {},
   "cell_type": "markdown",
   "metadata": {},
   "source": [
    "* _En este acercamiento, se busca observar las variables más implicadas en las condiciones de vida de la madre en vez del desarrollo del embarazo como tal. Con esto, buscamos encontrar el impacto que tienen las condiciones de vida de la madre en el resultado del embarazo._"
   ]
  },
  {
   "cell_type": "code",
   "execution_count": 12,
   "metadata": {},
   "outputs": [],
   "source": [
    "columnas = X.columns.tolist()\n",
    "causas = [0, 1] # 0 = Parto, 1 = Embarazo\n",
    "disparidad = {}"
   ]
  },
  {
   "attachments": {},
   "cell_type": "markdown",
   "metadata": {},
   "source": [
    "### Escolaridad de la madre"
   ]
  },
  {
   "cell_type": "code",
   "execution_count": 13,
   "metadata": {},
   "outputs": [],
   "source": [
    "df0 = df[df['Causa_Defunción'] == 0]\n",
    "df1 = df[df['Causa_Defunción'] == 1]"
   ]
  },
  {
   "cell_type": "code",
   "execution_count": 14,
   "metadata": {},
   "outputs": [
    {
     "name": "stdout",
     "output_type": "stream",
     "text": [
      "35271\n"
     ]
    },
    {
     "data": {
      "text/plain": [
       "1     10999\n",
       "2     10369\n",
       "99     6113\n",
       "3      3991\n",
       "4      3303\n",
       "5       493\n",
       "6         3\n",
       "Name: Escolaridad_Madre, dtype: int64"
      ]
     },
     "execution_count": 14,
     "metadata": {},
     "output_type": "execute_result"
    }
   ],
   "source": [
    "# Causa de defunción = 0 = Parto\n",
    "print(len(df0['Escolaridad_Madre']))\n",
    "df0['Escolaridad_Madre'].value_counts()"
   ]
  },
  {
   "cell_type": "code",
   "execution_count": 15,
   "metadata": {},
   "outputs": [
    {
     "name": "stdout",
     "output_type": "stream",
     "text": [
      "35271\n"
     ]
    },
    {
     "data": {
      "text/plain": [
       "2     13366\n",
       "1      9989\n",
       "3      5056\n",
       "4      3035\n",
       "99     2882\n",
       "5       943\n",
       "Name: Escolaridad_Madre, dtype: int64"
      ]
     },
     "execution_count": 15,
     "metadata": {},
     "output_type": "execute_result"
    }
   ],
   "source": [
    "# Causa de defunción = 1 = Embarazo\n",
    "print(len(df1['Escolaridad_Madre']))\n",
    "df1['Escolaridad_Madre'].value_counts()"
   ]
  },
  {
   "attachments": {},
   "cell_type": "markdown",
   "metadata": {},
   "source": [
    "* _En relación a la escolaridad de la madre, hay una mayor persistencia de defunciones durante el parto en madres con ninguna educación o con educación primaria._\n",
    "* _Por otro lado, las defunciones fetales durante el embarazo son más persistentes en madres con primaria._\n",
    "* _Debido a esto, podemos ver una tendencia a mayor mortalidad en madres con menor nivel de educación._"
   ]
  },
  {
   "cell_type": "code",
   "execution_count": 16,
   "metadata": {},
   "outputs": [
    {
     "name": "stdout",
     "output_type": "stream",
     "text": [
      "---------------------------------------------------------------------------\n",
      "Causa de defunción:  Parto\n",
      "Nivel de educación de la madre:  Básico\n",
      "Predicción:  [0 0 0 ... 0 0 0]\n",
      "Realidad:  [0 0 0 ... 0 0 0]\n",
      "Cambio:  2.6649026649026646 %\n",
      "---------------------------------------------------------------------------\n",
      "Causa de defunción:  Embarazo\n",
      "Nivel de educación de la madre:  Básico\n",
      "Predicción:  [0 0 0 ... 1 1 0]\n",
      "Realidad:  [1 1 1 ... 1 1 1]\n",
      "Cambio:  54.243054243054246 %\n",
      "---------------------------------------------------------------------------\n",
      "Causa de defunción:  Parto\n",
      "Nivel de educación de la madre:  Universidad\n",
      "Predicción:  [0 0 0 ... 0 0 0]\n",
      "Realidad:  [0 0 0 ... 0 0 0]\n",
      "Cambio:  1.5403515403515402 %\n",
      "---------------------------------------------------------------------------\n",
      "Causa de defunción:  Embarazo\n",
      "Nivel de educación de la madre:  Universidad\n",
      "Predicción:  [0 0 0 ... 0 1 0]\n",
      "Realidad:  [1 1 1 ... 1 1 1]\n",
      "Cambio:  73.99357399357399 %\n",
      "---------------------------------------------------------------------------\n",
      "Causa de defunción:  Parto\n",
      "Nivel de educación de la madre:  Postgrado\n",
      "Predicción:  [0 0 0 ... 0 0 0]\n",
      "Realidad:  [0 0 0 ... 0 0 0]\n",
      "Cambio:  1.0017010017010017 %\n",
      "---------------------------------------------------------------------------\n",
      "Causa de defunción:  Embarazo\n",
      "Nivel de educación de la madre:  Postgrado\n",
      "Predicción:  [0 0 0 ... 0 0 0]\n",
      "Realidad:  [1 1 1 ... 1 1 1]\n",
      "Cambio:  85.23908523908524 %\n"
     ]
    }
   ],
   "source": [
    "# Nivel de educación de la madre - Universidad\n",
    "\n",
    "niveles_edu = [4, 5, 6]\n",
    "\n",
    "for n in niveles_edu:\n",
    "    disparidad[n] = {}\n",
    "    for c in causas:\n",
    "        df_1 = df[df['Causa_Defunción'] == c] # causa de defunción\n",
    "        df_1 = df_1[columnas + ['Causa_Defunción']]\n",
    "\n",
    "        df_1['Escolaridad_Madre'] = n # Universidad\n",
    "\n",
    "        x_train, x_test, y_train, y_test = train_test_split(df_1.drop('Causa_Defunción', axis=1), df_1['Causa_Defunción'], test_size=0.3, random_state=42)\n",
    "        y_correct = clf.predict(x_test)\n",
    "\n",
    "        print(\"---------------------------------------------------------------------------\")\n",
    "        causa = ''\n",
    "        if c == 0:\n",
    "            causa = 'Parto'\n",
    "        elif c == 1:\n",
    "            causa = 'Embarazo'\n",
    "\n",
    "        educacion = ''\n",
    "        if n == 4:\n",
    "            educacion = 'Básico'\n",
    "        elif n == 5:\n",
    "            educacion = 'Universidad'\n",
    "        elif n == 6:\n",
    "            educacion = 'Postgrado'\n",
    "\n",
    "        print(\"Causa de defunción: \", causa)\n",
    "        print(\"Nivel de educación de la madre: \", educacion)\n",
    "        \n",
    "        print('Predicción: ', y_correct)\n",
    "        print('Realidad: ', y_test.values)\n",
    "        cambio = (y_correct != y_test).sum() / len(y_test) * 100\n",
    "        print(\"Cambio: \", cambio, \"%\")\n",
    "        #disparidad[causa + ' - ' + educacion] = cambio\n",
    "        disparidad[n][c] = cambio\n",
    "\n"
   ]
  },
  {
   "cell_type": "code",
   "execution_count": 17,
   "metadata": {},
   "outputs": [
    {
     "data": {
      "image/png": "[encoded data removed]",
      "text/plain": [
       "<Figure size 640x480 with 1 Axes>"
      ]
     },
     "metadata": {},
     "output_type": "display_data"
    }
   ],
   "source": [
    "import numpy as np\n",
    "import matplotlib.pyplot as plt\n",
    "\n",
    "educations = ['Básico', 'Universidad', 'Postgrado']\n",
    "parto_values = [disparidad[4][0], disparidad[5][0], disparidad[6][0]]\n",
    "embarazo_values = [disparidad[4][1], disparidad[5][1], disparidad[6][1]]\n",
    "\n",
    "bar_width = 0.35\n",
    "\n",
    "r1 = np.arange(len(educations))\n",
    "r2 = [x + bar_width for x in r1]\n",
    "\n",
    "plt.bar(r1, parto_values, color='b', width=bar_width, label='Parto')\n",
    "plt.bar(r2, embarazo_values, color='g', width=bar_width, label='Embarazo')\n",
    "\n",
    "plt.xlabel('Nivel de educación de la madre')\n",
    "plt.ylabel('Cambio (%)')\n",
    "plt.title('Disparidad por causa de defunción y nivel de educación')\n",
    "plt.xticks([r + bar_width / 2 for r in range(len(educations))], educations)\n",
    "plt.legend()\n",
    "plt.show()\n"
   ]
  },
  {
   "attachments": {},
   "cell_type": "markdown",
   "metadata": {},
   "source": [
    "### Total de hijos de la madre"
   ]
  },
  {
   "cell_type": "code",
   "execution_count": 18,
   "metadata": {},
   "outputs": [
    {
     "name": "stderr",
     "output_type": "stream",
     "text": [
      "/var/folders/wq/gs7vpwkj7k31lw9njy09srjw0000gn/T/ipykernel_21814/2508835345.py:3: SettingWithCopyWarning: \n",
      "A value is trying to be set on a copy of a slice from a DataFrame.\n",
      "Try using .loc[row_indexer,col_indexer] = value instead\n",
      "\n",
      "See the caveats in the documentation: https://pandas.pydata.org/pandas-docs/stable/user_guide/indexing.html#returning-a-view-versus-a-copy\n",
      "  df0['Total_Hijos_Vivos'] = np.round(df0['Total_Hijos_Vivos'])\n",
      "/var/folders/wq/gs7vpwkj7k31lw9njy09srjw0000gn/T/ipykernel_21814/2508835345.py:4: SettingWithCopyWarning: \n",
      "A value is trying to be set on a copy of a slice from a DataFrame.\n",
      "Try using .loc[row_indexer,col_indexer] = value instead\n",
      "\n",
      "See the caveats in the documentation: https://pandas.pydata.org/pandas-docs/stable/user_guide/indexing.html#returning-a-view-versus-a-copy\n",
      "  df1['Total_Hijos_Vivos'] = np.round(df1['Total_Hijos_Vivos'])\n",
      "/var/folders/wq/gs7vpwkj7k31lw9njy09srjw0000gn/T/ipykernel_21814/2508835345.py:5: SettingWithCopyWarning: \n",
      "A value is trying to be set on a copy of a slice from a DataFrame.\n",
      "Try using .loc[row_indexer,col_indexer] = value instead\n",
      "\n",
      "See the caveats in the documentation: https://pandas.pydata.org/pandas-docs/stable/user_guide/indexing.html#returning-a-view-versus-a-copy\n",
      "  df0['Total_Hijos_Vivos'] = df0['Total_Hijos_Vivos'].astype(int)\n",
      "/var/folders/wq/gs7vpwkj7k31lw9njy09srjw0000gn/T/ipykernel_21814/2508835345.py:6: SettingWithCopyWarning: \n",
      "A value is trying to be set on a copy of a slice from a DataFrame.\n",
      "Try using .loc[row_indexer,col_indexer] = value instead\n",
      "\n",
      "See the caveats in the documentation: https://pandas.pydata.org/pandas-docs/stable/user_guide/indexing.html#returning-a-view-versus-a-copy\n",
      "  df1['Total_Hijos_Vivos'] = df1['Total_Hijos_Vivos'].astype(int)\n"
     ]
    }
   ],
   "source": [
    "df0 = df[df['Causa_Defunción'] == 0]\n",
    "df1 = df[df['Causa_Defunción'] == 1]\n",
    "df0['Total_Hijos_Vivos'] = np.round(df0['Total_Hijos_Vivos'])\n",
    "df1['Total_Hijos_Vivos'] = np.round(df1['Total_Hijos_Vivos'])\n",
    "df0['Total_Hijos_Vivos'] = df0['Total_Hijos_Vivos'].astype(int)\n",
    "df1['Total_Hijos_Vivos'] = df1['Total_Hijos_Vivos'].astype(int)"
   ]
  },
  {
   "attachments": {},
   "cell_type": "markdown",
   "metadata": {},
   "source": [
    "* _La cantidad de hijos vivos resulta más relevante que la cantidad de hijos difuntos._"
   ]
  },
  {
   "cell_type": "code",
   "execution_count": 19,
   "metadata": {},
   "outputs": [
    {
     "name": "stdout",
     "output_type": "stream",
     "text": [
      "35271\n"
     ]
    },
    {
     "data": {
      "text/plain": [
       "3     16616\n",
       "1      8049\n",
       "2      4270\n",
       "4      1748\n",
       "5      1286\n",
       "0       981\n",
       "6       917\n",
       "7       570\n",
       "8       365\n",
       "9       224\n",
       "10      139\n",
       "11       69\n",
       "12       24\n",
       "13       10\n",
       "16        1\n",
       "15        1\n",
       "14        1\n",
       "Name: Total_Hijos_Vivos, dtype: int64"
      ]
     },
     "execution_count": 19,
     "metadata": {},
     "output_type": "execute_result"
    }
   ],
   "source": [
    "# Causa de defunción = 0 = Parto\n",
    "print(len(df0['Total_Hijos_Vivos']))\n",
    "df0['Total_Hijos_Vivos'].value_counts()"
   ]
  },
  {
   "cell_type": "code",
   "execution_count": 20,
   "metadata": {},
   "outputs": [
    {
     "name": "stdout",
     "output_type": "stream",
     "text": [
      "35271\n"
     ]
    },
    {
     "data": {
      "text/plain": [
       "3     14692\n",
       "1      9209\n",
       "2      5574\n",
       "4      1521\n",
       "5      1433\n",
       "6      1008\n",
       "7       538\n",
       "9       426\n",
       "8       290\n",
       "0       252\n",
       "10      200\n",
       "12       67\n",
       "11       61\n",
       "Name: Total_Hijos_Vivos, dtype: int64"
      ]
     },
     "execution_count": 20,
     "metadata": {},
     "output_type": "execute_result"
    }
   ],
   "source": [
    "# Causa de defunción = 1 = Embarazo\n",
    "print(len(df1['Total_Hijos_Vivos']))\n",
    "df1['Total_Hijos_Vivos'].value_counts()"
   ]
  },
  {
   "attachments": {},
   "cell_type": "markdown",
   "metadata": {},
   "source": [
    "* _El punto de cambio en la cantidad de hijos vivos se encuentra en 4 hijos vivos, donde se observa un cambio en la tendencia de la mortalidad._"
   ]
  },
  {
   "cell_type": "code",
   "execution_count": 21,
   "metadata": {},
   "outputs": [
    {
     "name": "stdout",
     "output_type": "stream",
     "text": [
      "---------------------------------------------------------------------------\n",
      "Causa de defunción:  Parto\n",
      "Cantidad de hijos vivos:  0 a 4\n",
      "Predicción:  [0 0 0 ... 0 0 0]\n",
      "Realidad:  [0 0 0 ... 0 0 0]\n",
      "Cambio:  4.8315789473684205 %\n",
      "---------------------------------------------------------------------------\n",
      "Causa de defunción:  Embarazo\n",
      "Cantidad de hijos vivos:  0 a 4\n",
      "Predicción:  [1 1 1 ... 1 1 1]\n",
      "Realidad:  [1 1 1 ... 1 1 1]\n",
      "Cambio:  1.1093333333333333 %\n",
      "---------------------------------------------------------------------------\n",
      "Causa de defunción:  Parto\n",
      "Cantidad de hijos vivos:  5 a 10\n",
      "Predicción:  [0 0 0 ... 0 0 0]\n",
      "Realidad:  [0 0 0 ... 0 0 0]\n",
      "Cambio:  2.47383444338725 %\n",
      "---------------------------------------------------------------------------\n",
      "Causa de defunción:  Embarazo\n",
      "Cantidad de hijos vivos:  5 a 10\n",
      "Predicción:  [1 1 1 ... 1 1 1]\n",
      "Realidad:  [1 1 1 ... 1 1 1]\n",
      "Cambio:  0.0 %\n",
      "---------------------------------------------------------------------------\n",
      "Causa de defunción:  Parto\n",
      "Cantidad de hijos vivos:  10 o más\n",
      "Predicción:  [0 0 0 0 0 0 0 0 0 0 0 0 0 0 0 0 0 0 0 0 0 0 0 0 0 0 0 0 0 0 0 0 0 0 0 0 0\n",
      " 0 0 0 0 0 0 0 0 0 0 0 0 0 0 0 0 0 0 0 0 0 0 0 0 0 0 0 0 0 0 0 0 0 0 0 0 0]\n",
      "Realidad:  [0 0 0 0 0 0 0 0 0 0 0 0 0 0 0 0 0 0 0 0 0 0 0 0 0 0 0 0 0 0 0 0 0 0 0 0 0\n",
      " 0 0 0 0 0 0 0 0 0 0 0 0 0 0 0 0 0 0 0 0 0 0 0 0 0 0 0 0 0 0 0 0 0 0 0 0 0]\n",
      "Cambio:  0.0 %\n",
      "---------------------------------------------------------------------------\n",
      "Causa de defunción:  Embarazo\n",
      "Cantidad de hijos vivos:  10 o más\n",
      "Predicción:  [1 1 1 1 1 1 1 1 1 1 1 1 1 1 1 1 1 1 1 1 1 1 1 1 1 1 1 1 1 1 1 1 1 1 1 1 1\n",
      " 1 1 1 1 1 1 1 1 1 1 1 1 1 1 1 1 1 1 1 1 1 1 1 1 1 1 1 1 1 1 1 1 1 1 1 1 1\n",
      " 1 1 1 1 1 1 1 1 1 1 1 1 1 1 1 1 1 1 1 1 1 1 1 1 1]\n",
      "Realidad:  [1 1 1 1 1 1 1 1 1 1 1 1 1 1 1 1 1 1 1 1 1 1 1 1 1 1 1 1 1 1 1 1 1 1 1 1 1\n",
      " 1 1 1 1 1 1 1 1 1 1 1 1 1 1 1 1 1 1 1 1 1 1 1 1 1 1 1 1 1 1 1 1 1 1 1 1 1\n",
      " 1 1 1 1 1 1 1 1 1 1 1 1 1 1 1 1 1 1 1 1 1 1 1 1 1]\n",
      "Cambio:  0.0 %\n"
     ]
    }
   ],
   "source": [
    "# Nivel de educación de la madre - Universidad\n",
    "from random import randint\n",
    "\n",
    "num_hijos = {\n",
    "    '0 a 4': (0, 4),\n",
    "    '5 a 10': (5, 10),\n",
    "    '10 o más': (10, 100)\n",
    "}\n",
    "\n",
    "disparidad = {}\n",
    "\n",
    "\"\"\"i = 0\n",
    "while i < 4:\n",
    "    if i < 2:\n",
    "        if '0 a 4' not in disparidad.keys():\n",
    "            disparidad['0 a 4'] = {}\n",
    "    else:\n",
    "        if '5 a 10' not in disparidad.keys():\n",
    "            disparidad['5 a 10'] = {}\n",
    "    for c in causas:\n",
    "        df_1 = df[df['Causa_Defunción'] == c] # causa de defunción\n",
    "        df_1 = df_1[columnas + ['Causa_Defunción']]\n",
    "\n",
    "        if i < 2:\n",
    "            # random upsample\n",
    "            n = randint(0, 4)\n",
    "            df_1['Total_Hijos_Vivos'] = n \n",
    "        else:\n",
    "            # random downsample\n",
    "            n = randint(5, 10)\n",
    "            df_1['Total_Hijos_Vivos'] = n\n",
    "\n",
    "        #df_1['Escolaridad_Madre'] = n # Universidad\n",
    "\n",
    "        x_train, x_test, y_train, y_test = train_test_split(df_1.drop('Causa_Defunción', axis=1), df_1['Causa_Defunción'], test_size=0.3, random_state=42)\n",
    "        y_correct = clf.predict(x_test)\n",
    "\n",
    "        print(\"---------------------------------------------------------------------------\")\n",
    "        causa = ''\n",
    "        if c == 0:\n",
    "            causa = 'Parto'\n",
    "        elif c == 1:\n",
    "            causa = 'Embarazo'\n",
    "\n",
    "\n",
    "        print(\"Causa de defunción: \", causa)\n",
    "        print(\"Cantidad de hijos vivos: \", n)\n",
    "        \n",
    "        print('Predicción: ', y_correct)\n",
    "        print('Realidad: ', y_test.values)\n",
    "        cambio = (y_correct != y_test).sum() / len(y_test) * 100\n",
    "        #print(\"Cambio: \", (y_correct != y_test).sum() / len(y_test) * 100, \"%\")\n",
    "        print(\"Cambio: \", cambio, \"%\")\n",
    "    i += 1\"\"\"\n",
    "\n",
    "for n in num_hijos.keys():\n",
    "    disparidad[n] = {}\n",
    "    ini, fin = num_hijos[n]\n",
    "    for c in causas:\n",
    "        df_1 = df[df['Causa_Defunción'] == c] # causa de defunción\n",
    "        df_1 = df_1[columnas + ['Causa_Defunción']]\n",
    "        df_1 = df_1[(df_1['Total_Hijos_Vivos'] >= ini) & (df_1['Total_Hijos_Vivos'] <= fin)]\n",
    "\n",
    "        if len(df_1) == 0:\n",
    "            continue\n",
    "\n",
    "        x_train, x_test, y_train, y_test = train_test_split(df_1.drop('Causa_Defunción', axis=1), df_1['Causa_Defunción'], test_size=0.3, random_state=42)\n",
    "\n",
    "        if len(x_train) == 0 or len(x_test) == 0:\n",
    "            continue\n",
    "\n",
    "        y_correct = clf.predict(x_test)\n",
    "\n",
    "        print(\"---------------------------------------------------------------------------\")\n",
    "        causa = ''\n",
    "        if c == 0:\n",
    "            causa = 'Parto'\n",
    "        elif c == 1:\n",
    "            causa = 'Embarazo'\n",
    "\n",
    "        print(\"Causa de defunción: \", causa)\n",
    "        print(\"Cantidad de hijos vivos: \", n)\n",
    "\n",
    "        print('Predicción: ', y_correct)\n",
    "        print('Realidad: ', y_test.values)\n",
    "        cambio = (y_correct != y_test).sum() / len(y_test) * 100\n",
    "        #print(\"Cambio: \", (y_correct != y_test).sum() / len(y_test) * 100, \"%\")\n",
    "        print(\"Cambio: \", cambio, \"%\")\n",
    "        disparidad[n][c] = cambio\n",
    "\n"
   ]
  },
  {
   "cell_type": "code",
   "execution_count": 22,
   "metadata": {},
   "outputs": [
    {
     "data": {
      "image/png": "[encoded data removed]",
      "text/plain": [
       "<Figure size 640x480 with 1 Axes>"
      ]
     },
     "metadata": {},
     "output_type": "display_data"
    }
   ],
   "source": [
    "cuantos_hijos = ['0 a 4', '5 a 10', '10 o más']\n",
    "parto_values = [disparidad['0 a 4'][0], disparidad['5 a 10'][0], disparidad['10 o más'][0]]\n",
    "embarazo_values = [disparidad['0 a 4'][1], disparidad['5 a 10'][1], disparidad['10 o más'][1]]\n",
    "\n",
    "bar_width = 0.35\n",
    "\n",
    "r1 = np.arange(len(cuantos_hijos))\n",
    "r2 = [x + bar_width for x in r1]\n",
    "\n",
    "plt.bar(r1, parto_values, color='b', width=bar_width, label='Parto')\n",
    "plt.bar(r2, embarazo_values, color='g', width=bar_width, label='Embarazo')\n",
    "\n",
    "plt.xlabel('Cantidad de hijos vivos')\n",
    "plt.ylabel('Cambio (%)')\n",
    "plt.title('Disparidad por causa de defunción y cantidad de hijos vivos')\n",
    "plt.xticks([r + bar_width / 2 for r in range(len(cuantos_hijos))], cuantos_hijos)\n",
    "plt.legend()\n",
    "plt.show()\n"
   ]
  },
  {
   "attachments": {},
   "cell_type": "markdown",
   "metadata": {},
   "source": [
    "### Estado civil de la madre"
   ]
  },
  {
   "cell_type": "code",
   "execution_count": 23,
   "metadata": {},
   "outputs": [],
   "source": [
    "df0 = df[df['Causa_Defunción'] == 0] # Parto\n",
    "df1 = df[df['Causa_Defunción'] == 1] # Embarazo"
   ]
  },
  {
   "cell_type": "code",
   "execution_count": 24,
   "metadata": {},
   "outputs": [
    {
     "data": {
      "text/plain": [
       "1     18061\n",
       "2     14216\n",
       "99     2891\n",
       "3       103\n",
       "Name: Estado_Civil_Madre, dtype: int64"
      ]
     },
     "execution_count": 24,
     "metadata": {},
     "output_type": "execute_result"
    }
   ],
   "source": [
    "df0['Estado_Civil_Madre'].value_counts()"
   ]
  },
  {
   "cell_type": "code",
   "execution_count": 25,
   "metadata": {},
   "outputs": [
    {
     "data": {
      "text/plain": [
       "1     17225\n",
       "2     16620\n",
       "99     1054\n",
       "3       372\n",
       "Name: Estado_Civil_Madre, dtype: int64"
      ]
     },
     "execution_count": 25,
     "metadata": {},
     "output_type": "execute_result"
    }
   ],
   "source": [
    "df1['Estado_Civil_Madre'].value_counts()"
   ]
  },
  {
   "cell_type": "code",
   "execution_count": 26,
   "metadata": {},
   "outputs": [
    {
     "name": "stdout",
     "output_type": "stream",
     "text": [
      "---------------------------------------------------------------------------\n",
      "Causa de defunción:  Parto\n",
      "Estado civil de la madre:  Soltera\n",
      "Predicción:  [0 0 0 ... 0 0 0]\n",
      "Realidad:  [0 0 0 ... 0 0 0]\n",
      "Cambio:  4.252504252504252 %\n",
      "---------------------------------------------------------------------------\n",
      "Causa de defunción:  Embarazo\n",
      "Estado civil de la madre:  Soltera\n",
      "Predicción:  [0 1 0 ... 1 1 1]\n",
      "Realidad:  [1 1 1 ... 1 1 1]\n",
      "Cambio:  10.272160272160272 %\n",
      "---------------------------------------------------------------------------\n",
      "Causa de defunción:  Parto\n",
      "Estado civil de la madre:  Casada\n",
      "Predicción:  [0 0 0 ... 0 0 0]\n",
      "Realidad:  [0 0 0 ... 0 0 0]\n",
      "Cambio:  5.178605178605179 %\n",
      "---------------------------------------------------------------------------\n",
      "Causa de defunción:  Embarazo\n",
      "Estado civil de la madre:  Casada\n",
      "Predicción:  [0 1 0 ... 1 1 1]\n",
      "Realidad:  [1 1 1 ... 1 1 1]\n",
      "Cambio:  6.066906066906067 %\n",
      "---------------------------------------------------------------------------\n",
      "Causa de defunción:  Parto\n",
      "Estado civil de la madre:  Unión Libre\n",
      "Predicción:  [0 0 0 ... 0 0 0]\n",
      "Realidad:  [0 0 0 ... 0 0 0]\n",
      "Cambio:  7.021357021357022 %\n",
      "---------------------------------------------------------------------------\n",
      "Causa de defunción:  Embarazo\n",
      "Estado civil de la madre:  Unión Libre\n",
      "Predicción:  [0 0 0 ... 1 1 1]\n",
      "Realidad:  [1 1 1 ... 1 1 1]\n",
      "Cambio:  25.411075411075412 %\n"
     ]
    }
   ],
   "source": [
    "# Nivel de educación de la madre - Universidad\n",
    "disparidad = {}\n",
    "\n",
    "estadoCivil = {1:'Soltera', 2:'Casada', 3:'Unión Libre'}\n",
    "\n",
    "for n in estadoCivil:\n",
    "    disparidad[n] = {}\n",
    "    for c in causas:\n",
    "        df_1 = df[df['Causa_Defunción'] == c] # causa de defunción\n",
    "        df_1 = df_1[columnas + ['Causa_Defunción']]\n",
    "\n",
    "        df_1['Estado_Civil_Madre'] = n # Universidad\n",
    "\n",
    "        x_train, x_test, y_train, y_test = train_test_split(df_1.drop('Causa_Defunción', axis=1), df_1['Causa_Defunción'], test_size=0.3, random_state=42)\n",
    "        y_correct = clf.predict(x_test)\n",
    "\n",
    "        print(\"---------------------------------------------------------------------------\")\n",
    "        causa = ''\n",
    "        if c == 0:\n",
    "            causa = 'Parto'\n",
    "        elif c == 1:\n",
    "            causa = 'Embarazo'\n",
    "\n",
    "        print(\"Causa de defunción: \", causa)\n",
    "        print(\"Estado civil de la madre: \", estadoCivil[n])\n",
    "        \n",
    "        print('Predicción: ', y_correct)\n",
    "        print('Realidad: ', y_test.values)\n",
    "        #print(\"Cambio: \", (y_correct != y_test).sum() / len(y_test) * 100, \"%\")\n",
    "        cambio = (y_correct != y_test).sum() / len(y_test) * 100\n",
    "        print(\"Cambio: \", cambio, \"%\")\n",
    "        disparidad[n][c] = cambio\n",
    "\n"
   ]
  },
  {
   "cell_type": "code",
   "execution_count": 27,
   "metadata": {},
   "outputs": [
    {
     "data": {
      "image/png": "[encoded data removed]",
      "text/plain": [
       "<Figure size 640x480 with 1 Axes>"
      ]
     },
     "metadata": {},
     "output_type": "display_data"
    }
   ],
   "source": [
    "estados = ['Soltera', 'Casada', 'Unión Libre']\n",
    "parto_values = [disparidad[1][0], disparidad[2][0], disparidad[3][0]]\n",
    "embarazo_values = [disparidad[1][1], disparidad[2][1], disparidad[3][1]]\n",
    "\n",
    "bar_width = 0.35\n",
    "\n",
    "r1 = np.arange(len(estados))\n",
    "r2 = [x + bar_width for x in r1]\n",
    "\n",
    "plt.bar(r1, parto_values, color='b', width=bar_width, label='Parto')\n",
    "plt.bar(r2, embarazo_values, color='g', width=bar_width, label='Embarazo')\n",
    "\n",
    "plt.xlabel('Estado civil de la madre')\n",
    "plt.ylabel('Cambio (%)')\n",
    "plt.title('Disparidad por causa de defunción y estado civil de la madre')\n",
    "plt.xticks([r + bar_width / 2 for r in range(len(estados))], estados)\n",
    "plt.legend()\n",
    "plt.show()"
   ]
  },
  {
   "attachments": {},
   "cell_type": "markdown",
   "metadata": {},
   "source": [
    "### Edad de la madre"
   ]
  },
  {
   "attachments": {},
   "cell_type": "markdown",
   "metadata": {},
   "source": [
    "#### Exploración de la variable de edad de la madre"
   ]
  },
  {
   "cell_type": "code",
   "execution_count": 28,
   "metadata": {},
   "outputs": [],
   "source": [
    "df0 = df[df['Causa_Defunción'] == 0]\n",
    "df1 = df[df['Causa_Defunción'] == 1]"
   ]
  },
  {
   "cell_type": "code",
   "execution_count": 30,
   "metadata": {},
   "outputs": [
    {
     "data": {
      "image/png": "[encoded data removed]",
      "text/plain": [
       "<Figure size 640x480 with 1 Axes>"
      ]
     },
     "metadata": {},
     "output_type": "display_data"
    }
   ],
   "source": [
    "import seaborn as sns\n",
    "\n",
    "df0['Edad_Madre'].value_counts()\n",
    "# diagrama de tendencia central\n",
    "sns.set(style=\"whitegrid\")\n",
    "ax = sns.boxplot(x=df0[\"Edad_Madre\"])"
   ]
  },
  {
   "cell_type": "code",
   "execution_count": 31,
   "metadata": {},
   "outputs": [
    {
     "data": {
      "image/png": "[encoded data removed]",
      "text/plain": [
       "<Figure size 640x480 with 1 Axes>"
      ]
     },
     "metadata": {},
     "output_type": "display_data"
    }
   ],
   "source": [
    "df1['Edad_Madre'].value_counts()\n",
    "# diagrama de tendencia central\n",
    "ax = sns.boxplot(x=df1[\"Edad_Madre\"])\n",
    "\n"
   ]
  },
  {
   "attachments": {},
   "cell_type": "markdown",
   "metadata": {},
   "source": [
    "#### Comparación de rangos en la edad de la madre"
   ]
  },
  {
   "cell_type": "code",
   "execution_count": 32,
   "metadata": {},
   "outputs": [
    {
     "name": "stdout",
     "output_type": "stream",
     "text": [
      "---------------------------------------------------------------------------\n",
      "Causa de defunción:  Parto\n",
      "Edad de la madre:  11-20\n",
      "Predicción:  [0 0 0 ... 0 0 0]\n",
      "Realidad:  [0 0 0 ... 0 0 0]\n",
      "Cambio:  4.73186119873817 %\n",
      "---------------------------------------------------------------------------\n",
      "Causa de defunción:  Embarazo\n",
      "Edad de la madre:  11-20\n",
      "Predicción:  [1 1 1 ... 1 1 1]\n",
      "Realidad:  [1 1 1 ... 1 1 1]\n",
      "Cambio:  0.0 %\n",
      "---------------------------------------------------------------------------\n",
      "Causa de defunción:  Parto\n",
      "Edad de la madre:  21-30\n",
      "Predicción:  [0 0 0 ... 0 0 0]\n",
      "Realidad:  [0 0 0 ... 0 0 0]\n",
      "Cambio:  5.507580118979083 %\n",
      "---------------------------------------------------------------------------\n",
      "Causa de defunción:  Embarazo\n",
      "Edad de la madre:  21-30\n",
      "Predicción:  [1 1 1 ... 1 1 1]\n",
      "Realidad:  [1 1 1 ... 1 1 1]\n",
      "Cambio:  1.9919517102615696 %\n",
      "---------------------------------------------------------------------------\n",
      "Causa de defunción:  Parto\n",
      "Edad de la madre:  31-40\n",
      "Predicción:  [0 0 0 ... 0 0 0]\n",
      "Realidad:  [0 0 0 ... 0 0 0]\n",
      "Cambio:  3.7098930481283423 %\n",
      "---------------------------------------------------------------------------\n",
      "Causa de defunción:  Embarazo\n",
      "Edad de la madre:  31-40\n",
      "Predicción:  [1 1 1 ... 1 1 1]\n",
      "Realidad:  [1 1 1 ... 1 1 1]\n",
      "Cambio:  0.0 %\n",
      "---------------------------------------------------------------------------\n",
      "Causa de defunción:  Parto\n",
      "Edad de la madre:  41-50\n",
      "Predicción:  [0 0 0 0 0 0 0 0 0 0 0 0 0 0 0 0 0 0 0 0 0 0 0 0 0 0 0 0 0 0 0 0 0 0 0 0 0\n",
      " 0 0 0 0 0 0 0 0 0 0 0 0 0 0 0 0 0 0 0 0 0 0 0 0 0 0 0 0 0 0 0 0 0 0 0 0 0\n",
      " 0 0 0 0 0 0 0 0 0 0 0 0 0 0 0 0 0 0 0 0 0 0 0 0 0 0 0 0 0 0 0 0 0 0 0 0 0\n",
      " 0 0 0 0 0 0 0 0 0 0 0 0 0 0 0 0 0 0 0 0 0 0 0 0 0 0 0 0 0 0 0 0 0 1 0 0 1\n",
      " 0 0 0 0 0 0 0 0 0 0 0 0 0 0 0 0 0 0 0 0 0 0 0 0 0 0 0 0 0 0 0 0 0 0 0 0 0\n",
      " 0 0 0 0 0 0 0 0 0 0 0 0 0 0 0 0 0 0 0 0 0 0 0 0 0 0 0 0 0 0 0 0 0 0 0 0 0\n",
      " 0 0 0 0 0 0 0 0 0 0 0 0 0 0 0 0 0 0 0 0 0 0 0 0 0 0 0 0 0 0 0 0 0 0 0 0 0\n",
      " 0 0 0 0 0 0 0 0 0 0 0 0 0 0 0 0 0 0 0 0 0 0 0 0 0 0 0 0 0 0 0 0 0 0 0 0 0\n",
      " 0 0 0 0 0 0 0 0 0 0 0 0 0 0 0 0 0 0 0 0 0 0 0 0 0 0 0 0 0 0 0 0 0 0 0 0 0\n",
      " 0 0 0 0 0 0 0 0 0 0 0 0 0 0 0 0 0 0 0 0 0 0 0 0 0 0 0 0 0 0 0 0 0 0 0 0 0\n",
      " 0 0 0 0 0 0 0 0 0 0 0 0 0 0 0 0 0 0 0 0 0 0 0 0 0 0 0 0 0 0 0 0 0 0 0 0 0\n",
      " 0 0 0 0 0 0 0 0 0 0 0 0 0 0 0 0 0 1 0 0 0 0 0 0 0 0 0 0 0 0 0 0 0 0 0 0 0\n",
      " 0 0 0 0 0 0 0 0 0 0 0 0 0 1 0 0 0 0 0 0 0 0 0 0 0 0 0 0 0 0 0 0]\n",
      "Realidad:  [0 0 0 0 0 0 0 0 0 0 0 0 0 0 0 0 0 0 0 0 0 0 0 0 0 0 0 0 0 0 0 0 0 0 0 0 0\n",
      " 0 0 0 0 0 0 0 0 0 0 0 0 0 0 0 0 0 0 0 0 0 0 0 0 0 0 0 0 0 0 0 0 0 0 0 0 0\n",
      " 0 0 0 0 0 0 0 0 0 0 0 0 0 0 0 0 0 0 0 0 0 0 0 0 0 0 0 0 0 0 0 0 0 0 0 0 0\n",
      " 0 0 0 0 0 0 0 0 0 0 0 0 0 0 0 0 0 0 0 0 0 0 0 0 0 0 0 0 0 0 0 0 0 0 0 0 0\n",
      " 0 0 0 0 0 0 0 0 0 0 0 0 0 0 0 0 0 0 0 0 0 0 0 0 0 0 0 0 0 0 0 0 0 0 0 0 0\n",
      " 0 0 0 0 0 0 0 0 0 0 0 0 0 0 0 0 0 0 0 0 0 0 0 0 0 0 0 0 0 0 0 0 0 0 0 0 0\n",
      " 0 0 0 0 0 0 0 0 0 0 0 0 0 0 0 0 0 0 0 0 0 0 0 0 0 0 0 0 0 0 0 0 0 0 0 0 0\n",
      " 0 0 0 0 0 0 0 0 0 0 0 0 0 0 0 0 0 0 0 0 0 0 0 0 0 0 0 0 0 0 0 0 0 0 0 0 0\n",
      " 0 0 0 0 0 0 0 0 0 0 0 0 0 0 0 0 0 0 0 0 0 0 0 0 0 0 0 0 0 0 0 0 0 0 0 0 0\n",
      " 0 0 0 0 0 0 0 0 0 0 0 0 0 0 0 0 0 0 0 0 0 0 0 0 0 0 0 0 0 0 0 0 0 0 0 0 0\n",
      " 0 0 0 0 0 0 0 0 0 0 0 0 0 0 0 0 0 0 0 0 0 0 0 0 0 0 0 0 0 0 0 0 0 0 0 0 0\n",
      " 0 0 0 0 0 0 0 0 0 0 0 0 0 0 0 0 0 0 0 0 0 0 0 0 0 0 0 0 0 0 0 0 0 0 0 0 0\n",
      " 0 0 0 0 0 0 0 0 0 0 0 0 0 0 0 0 0 0 0 0 0 0 0 0 0 0 0 0 0 0 0 0]\n",
      "Cambio:  0.8403361344537815 %\n",
      "---------------------------------------------------------------------------\n",
      "Causa de defunción:  Embarazo\n",
      "Edad de la madre:  41-50\n",
      "Predicción:  [1 1 1 1 1 1 1 1 1 1 1 1 1 1 1 1 1 1 1 1 1 1 1 1 1 1 1 1 1 1 1 1 1 1 1 1 1\n",
      " 1 1 1 1 1 1 1 1 1 1 1 1 1 1 1 1 1 1 1 1 1 1 1 1 1 1 1 1 1 1 1 1 1 1 1 1 1\n",
      " 1 1 1 1 1 1 1 1 1 1 1 1 1 1 1 1 1 1 1 1 1 1 1 1 1 1 1 1 1 1 1 1 1 1 1 1 1\n",
      " 1 1 1 1 1 1 1 1 1 1 1 1 1 1 1 1 1 1 1 1 1 1 1 1 1 1 1 1 1 1 1 1 1 1 1 1 1\n",
      " 1 1 1 1 1 1 1 1 1 1 1 1 1 1 1 1 1 1 1 1 1 1 1 1 1 1 1 1 1 1 1 1 1 1 1 1 1\n",
      " 1 1 1 1 1 1 1 1 1 1 1 1 1 1 1 1 1 1 1 1 1 1 1 1 1 1 1 1 1 1 1 1 1 1 1 1 1\n",
      " 1 1 1 1 1 1 1 1 1 1 1 1 1 1 1 1 1 1 1 1 1 1 1 1 1 1 1 1 1 1 1 1 1 1 1 1 1\n",
      " 1 1 1 1 1 1 1 1 1 1 1 1 1 1 1 1 1 1 1 1 1 1 1 1 1 1 1 1 1 1 1 1 1 1 1 1 1\n",
      " 1 1 1 1 1 1 1 1 1 1 1 1 1 1 1 1 1 1 1 1 1 1 1 1 1 1 1 1 1 1 1 1 1 1 1 1 1\n",
      " 1 1 1 1 1 1 1 1 1 1 1 1 1 1 1 1 1 1 1 1 1 1 1 1 1 1 1 1 1 1 1 1 1 1 1 1 1\n",
      " 1 1 1 1 1 1 1 1 1 1 1 1 1 1 1 1 1 1 1 1 1 1 1 1 1 1 1 1 1 1 1 1 1 1 1 1 1\n",
      " 1 1 1 1 1 1 1 1 1 1 1 1 1 1 1 1 1 1 1 1 1 1 1 1 1 1 1 1 1 1 1 1 1 1 1 1 1\n",
      " 1 1 1 1 1 1 1 1 1 1 1 1 1 1 1 1 1 1 1 1 1 1 1 1 1 1 1 1 1 1 1 1 1 1 1 1 1\n",
      " 1 1 1 1 1 1 1 1 1 1 1 1 1 1 1 1 1 1 1 1 1 1 1 1 1 1 1 1 1 1 1 1 1 1 1 1 1\n",
      " 1 1 1 1 1 1 1 1 1 1 1 1 1 1 1 1 1 1 1 1 1 1 1 1 1 1 1 1 1 1]\n",
      "Realidad:  [1 1 1 1 1 1 1 1 1 1 1 1 1 1 1 1 1 1 1 1 1 1 1 1 1 1 1 1 1 1 1 1 1 1 1 1 1\n",
      " 1 1 1 1 1 1 1 1 1 1 1 1 1 1 1 1 1 1 1 1 1 1 1 1 1 1 1 1 1 1 1 1 1 1 1 1 1\n",
      " 1 1 1 1 1 1 1 1 1 1 1 1 1 1 1 1 1 1 1 1 1 1 1 1 1 1 1 1 1 1 1 1 1 1 1 1 1\n",
      " 1 1 1 1 1 1 1 1 1 1 1 1 1 1 1 1 1 1 1 1 1 1 1 1 1 1 1 1 1 1 1 1 1 1 1 1 1\n",
      " 1 1 1 1 1 1 1 1 1 1 1 1 1 1 1 1 1 1 1 1 1 1 1 1 1 1 1 1 1 1 1 1 1 1 1 1 1\n",
      " 1 1 1 1 1 1 1 1 1 1 1 1 1 1 1 1 1 1 1 1 1 1 1 1 1 1 1 1 1 1 1 1 1 1 1 1 1\n",
      " 1 1 1 1 1 1 1 1 1 1 1 1 1 1 1 1 1 1 1 1 1 1 1 1 1 1 1 1 1 1 1 1 1 1 1 1 1\n",
      " 1 1 1 1 1 1 1 1 1 1 1 1 1 1 1 1 1 1 1 1 1 1 1 1 1 1 1 1 1 1 1 1 1 1 1 1 1\n",
      " 1 1 1 1 1 1 1 1 1 1 1 1 1 1 1 1 1 1 1 1 1 1 1 1 1 1 1 1 1 1 1 1 1 1 1 1 1\n",
      " 1 1 1 1 1 1 1 1 1 1 1 1 1 1 1 1 1 1 1 1 1 1 1 1 1 1 1 1 1 1 1 1 1 1 1 1 1\n",
      " 1 1 1 1 1 1 1 1 1 1 1 1 1 1 1 1 1 1 1 1 1 1 1 1 1 1 1 1 1 1 1 1 1 1 1 1 1\n",
      " 1 1 1 1 1 1 1 1 1 1 1 1 1 1 1 1 1 1 1 1 1 1 1 1 1 1 1 1 1 1 1 1 1 1 1 1 1\n",
      " 1 1 1 1 1 1 1 1 1 1 1 1 1 1 1 1 1 1 1 1 1 1 1 1 1 1 1 1 1 1 1 1 1 1 1 1 1\n",
      " 1 1 1 1 1 1 1 1 1 1 1 1 1 1 1 1 1 1 1 1 1 1 1 1 1 1 1 1 1 1 1 1 1 1 1 1 1\n",
      " 1 1 1 1 1 1 1 1 1 1 1 1 1 1 1 1 1 1 1 1 1 1 1 1 1 1 1 1 1 1]\n",
      "Cambio:  0.0 %\n",
      "---------------------------------------------------------------------------\n",
      "Causa de defunción:  Parto\n",
      "Edad de la madre:  51+\n",
      "Predicción:  [0 0 0]\n",
      "Realidad:  [0 0 0]\n",
      "Cambio:  0.0 %\n"
     ]
    }
   ],
   "source": [
    "edades = {\n",
    "    '11-20': (11, 20),\n",
    "    '21-30': (21, 30),\n",
    "    '31-40': (31, 40),\n",
    "    '41-50': (41, 50),\n",
    "    '51+': (51, float('inf'))\n",
    "}\n",
    "\n",
    "disparidad = {}\n",
    "\n",
    "for n in edades:\n",
    "    ini, fin = edades[n]\n",
    "    disparidad[n] = {}\n",
    "    for c in causas:\n",
    "        df_1 = df[df['Causa_Defunción'] == c]  # causa de defunción\n",
    "        df_1 = df_1[columnas + ['Causa_Defunción']]\n",
    "        df_1 = df_1[(df_1['Edad_Madre'] >= ini) & (df_1['Edad_Madre'] <= fin)]\n",
    "\n",
    "        if len(df_1) == 0:\n",
    "            continue  # Skip this iteration if there are no samples in the age range\n",
    "\n",
    "        x_train, x_test, y_train, y_test = train_test_split(df_1.drop('Causa_Defunción', axis=1), df_1['Causa_Defunción'], test_size=0.3, random_state=42)\n",
    "\n",
    "        if len(x_train) == 0 or len(x_test) == 0:\n",
    "            continue  # Skip this iteration if there are not enough samples for training or testing\n",
    "\n",
    "        y_correct = clf.predict(x_test)\n",
    "\n",
    "        print(\"---------------------------------------------------------------------------\")\n",
    "        causa = ''\n",
    "        if c == 0:\n",
    "            causa = 'Parto'\n",
    "        elif c == 1:\n",
    "            causa = 'Embarazo'\n",
    "\n",
    "        print(\"Causa de defunción: \", causa)\n",
    "        print(\"Edad de la madre: \", n)\n",
    "\n",
    "        print('Predicción: ', y_correct)\n",
    "        print('Realidad: ', y_test.values)\n",
    "        #print(\"Cambio: \", (y_correct != y_test).sum() / len(y_test) * 100, \"%\")\n",
    "        cambio = (y_correct != y_test).sum() / len(y_test) * 100\n",
    "        print(\"Cambio: \", cambio, \"%\")\n",
    "        disparidad[n][c] = cambio\n"
   ]
  },
  {
   "cell_type": "code",
   "execution_count": 33,
   "metadata": {},
   "outputs": [
    {
     "data": {
      "image/png": "[encoded data removed]",
      "text/plain": [
       "<Figure size 640x480 with 1 Axes>"
      ]
     },
     "metadata": {},
     "output_type": "display_data"
    }
   ],
   "source": [
    "rangos_edad = ['11-20', '21-30', '31-40', '41-50', '51+']\n",
    "parto_values = [disparidad['11-20'][0], disparidad['21-30'][0], disparidad['31-40'][0], disparidad['41-50'][0], disparidad['51+'][0]]\n",
    "embarazo_values = [disparidad['11-20'][1], disparidad['21-30'][1], disparidad['31-40'][1], disparidad['41-50'][1], 0]\n",
    "\n",
    "bar_width = 0.35\n",
    "\n",
    "r1 = np.arange(len(rangos_edad))\n",
    "r2 = [x + bar_width for x in r1]\n",
    "\n",
    "plt.bar(r1, parto_values, color='b', width=bar_width, label='Parto')\n",
    "plt.bar(r2, embarazo_values, color='g', width=bar_width, label='Embarazo')\n",
    "\n",
    "plt.xlabel('Edad de la madre')\n",
    "plt.ylabel('Cambio (%)')\n",
    "plt.title('Disparidad por causa de defunción y edad de la madre')\n",
    "plt.xticks([r + bar_width / 2 for r in range(len(rangos_edad))], rangos_edad)\n",
    "plt.legend()\n",
    "plt.show()"
   ]
  },
  {
   "attachments": {},
   "cell_type": "markdown",
   "metadata": {},
   "source": [
    "### Etnia de la madre"
   ]
  },
  {
   "cell_type": "code",
   "execution_count": 34,
   "metadata": {},
   "outputs": [],
   "source": [
    "df0 = df[df['Causa_Defunción'] == 0]\n",
    "df1 = df[df['Causa_Defunción'] == 1]"
   ]
  },
  {
   "cell_type": "code",
   "execution_count": 35,
   "metadata": {},
   "outputs": [
    {
     "data": {
      "text/plain": [
       "1     12317\n",
       "2      8797\n",
       "99     7016\n",
       "3      3674\n",
       "4      3051\n",
       "5       383\n",
       "6        19\n",
       "7        14\n",
       "Name: Grupo_Etnico_Madre, dtype: int64"
      ]
     },
     "execution_count": 35,
     "metadata": {},
     "output_type": "execute_result"
    }
   ],
   "source": [
    "df0['Grupo_Etnico_Madre'].value_counts()"
   ]
  },
  {
   "cell_type": "code",
   "execution_count": 36,
   "metadata": {},
   "outputs": [
    {
     "data": {
      "text/plain": [
       "1     11017\n",
       "2      8940\n",
       "3      5649\n",
       "99     4797\n",
       "4      4381\n",
       "5       415\n",
       "6        72\n",
       "Name: Grupo_Etnico_Madre, dtype: int64"
      ]
     },
     "execution_count": 36,
     "metadata": {},
     "output_type": "execute_result"
    }
   ],
   "source": [
    "df1['Grupo_Etnico_Madre'].value_counts()"
   ]
  },
  {
   "cell_type": "code",
   "execution_count": 37,
   "metadata": {},
   "outputs": [
    {
     "name": "stdout",
     "output_type": "stream",
     "text": [
      "---------------------------------------------------------------------------\n",
      "Causa de defunción:  Parto\n",
      "Etnia de la madre:  Maya\n",
      "Predicción:  [0 0 0 ... 0 0 0]\n",
      "Realidad:  [0 0 0 ... 0 0 0]\n",
      "Cambio:  4.507654507654508 %\n",
      "---------------------------------------------------------------------------\n",
      "Causa de defunción:  Embarazo\n",
      "Etnia de la madre:  Maya\n",
      "Predicción:  [0 1 0 ... 1 0 1]\n",
      "Realidad:  [1 1 1 ... 1 1 1]\n",
      "Cambio:  38.12133812133812 %\n",
      "---------------------------------------------------------------------------\n",
      "Causa de defunción:  Parto\n",
      "Etnia de la madre:  Ladina/Mestiza\n",
      "Predicción:  [0 0 0 ... 0 0 0]\n",
      "Realidad:  [0 0 0 ... 0 0 0]\n",
      "Cambio:  5.868455868455868 %\n",
      "---------------------------------------------------------------------------\n",
      "Causa de defunción:  Embarazo\n",
      "Etnia de la madre:  Ladina/Mestiza\n",
      "Predicción:  [0 1 0 ... 1 1 1]\n",
      "Realidad:  [1 1 1 ... 1 1 1]\n",
      "Cambio:  21.895671895671896 %\n",
      "---------------------------------------------------------------------------\n",
      "Causa de defunción:  Parto\n",
      "Etnia de la madre:  Indígena\n",
      "Predicción:  [0 0 0 ... 0 0 0]\n",
      "Realidad:  [0 0 0 ... 0 0 0]\n",
      "Cambio:  6.151956151956152 %\n",
      "---------------------------------------------------------------------------\n",
      "Causa de defunción:  Embarazo\n",
      "Etnia de la madre:  Indígena\n",
      "Predicción:  [0 0 0 ... 0 1 1]\n",
      "Realidad:  [1 1 1 ... 1 1 1]\n",
      "Cambio:  32.02608202608202 %\n",
      "---------------------------------------------------------------------------\n",
      "Causa de defunción:  Parto\n",
      "Etnia de la madre:  No Indígena\n",
      "Predicción:  [0 0 0 ... 0 0 1]\n",
      "Realidad:  [0 0 0 ... 0 0 0]\n",
      "Cambio:  5.036855036855037 %\n",
      "---------------------------------------------------------------------------\n",
      "Causa de defunción:  Embarazo\n",
      "Etnia de la madre:  No Indígena\n",
      "Predicción:  [0 0 0 ... 0 1 1]\n",
      "Realidad:  [1 1 1 ... 1 1 1]\n",
      "Cambio:  48.52579852579852 %\n",
      "---------------------------------------------------------------------------\n",
      "Causa de defunción:  Parto\n",
      "Etnia de la madre:  Otra\n",
      "Predicción:  [0 0 0 ... 0 0 1]\n",
      "Realidad:  [0 0 0 ... 0 0 0]\n",
      "Cambio:  4.139104139104139 %\n",
      "---------------------------------------------------------------------------\n",
      "Causa de defunción:  Embarazo\n",
      "Etnia de la madre:  Otra\n",
      "Predicción:  [0 0 0 ... 0 1 1]\n",
      "Realidad:  [1 1 1 ... 1 1 1]\n",
      "Cambio:  69.76941976941977 %\n",
      "---------------------------------------------------------------------------\n",
      "Causa de defunción:  Parto\n",
      "Etnia de la madre:  Garífuna\n",
      "Predicción:  [0 0 0 ... 0 0 0]\n",
      "Realidad:  [0 0 0 ... 0 0 0]\n",
      "Cambio:  3.1657531657531655 %\n",
      "---------------------------------------------------------------------------\n",
      "Causa de defunción:  Embarazo\n",
      "Etnia de la madre:  Garífuna\n",
      "Predicción:  [0 0 0 ... 0 1 0]\n",
      "Realidad:  [1 1 1 ... 1 1 1]\n",
      "Cambio:  81.70478170478171 %\n",
      "---------------------------------------------------------------------------\n",
      "Causa de defunción:  Parto\n",
      "Etnia de la madre:  Xinca\n",
      "Predicción:  [0 0 0 ... 0 0 0]\n",
      "Realidad:  [0 0 0 ... 0 0 0]\n",
      "Cambio:  1.6159516159516158 %\n",
      "---------------------------------------------------------------------------\n",
      "Causa de defunción:  Embarazo\n",
      "Etnia de la madre:  Xinca\n",
      "Predicción:  [0 0 0 ... 0 0 0]\n",
      "Realidad:  [1 1 1 ... 1 1 1]\n",
      "Cambio:  94.08429408429409 %\n"
     ]
    }
   ],
   "source": [
    "etnias = {\n",
    "    1: 'Maya',\n",
    "    2: 'Ladina/Mestiza',\n",
    "    3: 'Indígena',\n",
    "    4: 'No Indígena',\n",
    "    5: 'Otra',\n",
    "    6: 'Garífuna',\n",
    "    7: 'Xinca'\n",
    "}\n",
    "\n",
    "disparidad = {}\n",
    "\n",
    "for n in etnias:\n",
    "    disparidad[n] = {}\n",
    "    for c in causas:\n",
    "        df_1 = df[df['Causa_Defunción'] == c] # causa de defunción\n",
    "        df_1 = df_1[columnas + ['Causa_Defunción']]\n",
    "\n",
    "        df_1['Grupo_Etnico_Madre'] = n # etnia\n",
    "\n",
    "        x_train, x_test, y_train, y_test = train_test_split(df_1.drop('Causa_Defunción', axis=1), df_1['Causa_Defunción'], test_size=0.3, random_state=42)\n",
    "        y_correct = clf.predict(x_test)\n",
    "\n",
    "        print(\"---------------------------------------------------------------------------\")\n",
    "        causa = ''\n",
    "        if c == 0:\n",
    "            causa = 'Parto'\n",
    "        elif c == 1:\n",
    "            causa = 'Embarazo'\n",
    "\n",
    "        print(\"Causa de defunción: \", causa)\n",
    "        print(\"Etnia de la madre: \", etnias[n])\n",
    "        \n",
    "        print('Predicción: ', y_correct)\n",
    "        print('Realidad: ', y_test.values)\n",
    "        #print(\"Cambio: \", (y_correct != y_test).sum() / len(y_test) * 100, \"%\")\n",
    "        cambio = (y_correct != y_test).sum() / len(y_test) * 100\n",
    "        print(\"Cambio: \", cambio, \"%\")\n",
    "        disparidad[n][c] = cambio"
   ]
  },
  {
   "cell_type": "code",
   "execution_count": 38,
   "metadata": {},
   "outputs": [
    {
     "data": {
      "image/png": "[encoded data removed]",
      "text/plain": [
       "<Figure size 640x480 with 1 Axes>"
      ]
     },
     "metadata": {},
     "output_type": "display_data"
    }
   ],
   "source": [
    "etnias = ['Maya', 'Ladina/Mestiza', 'Indígena', 'No Indígena', 'Otra', 'Garífuna', 'Xinca']\n",
    "parto_values = [disparidad[1][0], disparidad[2][0], disparidad[3][0], disparidad[4][0], disparidad[5][0], disparidad[6][0], disparidad[7][0]]\n",
    "embarazo_values = [disparidad[1][1], disparidad[2][1], disparidad[3][1], disparidad[4][1], disparidad[5][1], disparidad[6][1], disparidad[7][1]]\n",
    "\n",
    "bar_width = 0.35\n",
    "\n",
    "r1 = np.arange(len(etnias))\n",
    "r2 = [x + bar_width for x in r1]\n",
    "\n",
    "plt.bar(r1, parto_values, color='b', width=bar_width, label='Parto')\n",
    "plt.bar(r2, embarazo_values, color='g', width=bar_width, label='Embarazo')\n",
    "\n",
    "plt.xlabel('Etnia de la madre')\n",
    "plt.ylabel('Cambio (%)')\n",
    "plt.title('Disparidad por causa de defunción y etnia de la madre')\n",
    "plt.xticks([r + bar_width / 2 for r in range(len(etnias))], etnias)\n",
    "plt.legend()\n",
    "plt.show()"
   ]
  }
 ],
 "metadata": {
  "kernelspec": {
   "display_name": "Python 3",
   "language": "python",
   "name": "python3"
  },
  "language_info": {
   "codemirror_mode": {
    "name": "ipython",
    "version": 3
   },
   "file_extension": ".py",
   "mimetype": "text/x-python",
   "name": "python",
   "nbconvert_exporter": "python",
   "pygments_lexer": "ipython3",
   "version": "3.9.2"
  },
  "orig_nbformat": 4
 },
 "nbformat": 4,
 "nbformat_minor": 2
}
